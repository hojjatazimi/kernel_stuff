{
 "cells": [
  {
   "cell_type": "code",
   "execution_count": 2,
   "id": "adaf9316-1b21-4cb0-bb49-b914e6d046cc",
   "metadata": {},
   "outputs": [],
   "source": [
    "import pandas as pd\n",
    "import numpy as np\n",
    "from matplotlib import pyplot as plt"
   ]
  },
  {
   "cell_type": "code",
   "execution_count": 3,
   "id": "113de44b-5de6-48fc-bd20-5b7468859181",
   "metadata": {},
   "outputs": [],
   "source": [
    "csv = pd.read_csv('./channel_sensitivity_Schaefer100_7networks.csv')"
   ]
  },
  {
   "cell_type": "code",
   "execution_count": 31,
   "id": "36c1b189-880f-43db-9c9b-2c90f2d16a9f",
   "metadata": {},
   "outputs": [
    {
     "data": {
      "text/plain": [
       "['Unnamed: 0',\n",
       " '7Networks_LH_Vis_1',\n",
       " '7Networks_LH_Vis_2',\n",
       " '7Networks_LH_Vis_3',\n",
       " '7Networks_LH_Vis_4',\n",
       " '7Networks_LH_Vis_5',\n",
       " '7Networks_LH_Vis_6',\n",
       " '7Networks_LH_Vis_7',\n",
       " '7Networks_LH_Vis_8',\n",
       " '7Networks_LH_Vis_9',\n",
       " '7Networks_LH_SomMot_1',\n",
       " '7Networks_LH_SomMot_2',\n",
       " '7Networks_LH_SomMot_3',\n",
       " '7Networks_LH_SomMot_4',\n",
       " '7Networks_LH_SomMot_5',\n",
       " '7Networks_LH_SomMot_6',\n",
       " '7Networks_LH_DorsAttn_Post_1',\n",
       " '7Networks_LH_DorsAttn_Post_2',\n",
       " '7Networks_LH_DorsAttn_Post_3',\n",
       " '7Networks_LH_DorsAttn_Post_4',\n",
       " '7Networks_LH_DorsAttn_Post_5',\n",
       " '7Networks_LH_DorsAttn_Post_6',\n",
       " '7Networks_LH_DorsAttn_PrCv_1',\n",
       " '7Networks_LH_DorsAttn_FEF_1',\n",
       " '7Networks_LH_SalVentAttn_ParOper_1',\n",
       " '7Networks_LH_SalVentAttn_FrOperIns_1',\n",
       " '7Networks_LH_SalVentAttn_FrOperIns_2',\n",
       " '7Networks_LH_SalVentAttn_PFCl_1',\n",
       " '7Networks_LH_SalVentAttn_Med_1',\n",
       " '7Networks_LH_SalVentAttn_Med_2',\n",
       " '7Networks_LH_SalVentAttn_Med_3',\n",
       " '7Networks_LH_Limbic_OFC_1',\n",
       " '7Networks_LH_Limbic_TempPole_1',\n",
       " '7Networks_LH_Limbic_TempPole_2',\n",
       " '7Networks_LH_Cont_Par_1',\n",
       " '7Networks_LH_Cont_PFCl_1',\n",
       " '7Networks_LH_Cont_pCun_1',\n",
       " '7Networks_LH_Cont_Cing_1',\n",
       " '7Networks_LH_Default_Temp_1',\n",
       " '7Networks_LH_Default_Temp_2',\n",
       " '7Networks_LH_Default_Par_1',\n",
       " '7Networks_LH_Default_Par_2',\n",
       " '7Networks_LH_Default_PFC_1',\n",
       " '7Networks_LH_Default_PFC_2',\n",
       " '7Networks_LH_Default_PFC_3',\n",
       " '7Networks_LH_Default_PFC_4',\n",
       " '7Networks_LH_Default_PFC_5',\n",
       " '7Networks_LH_Default_PFC_6',\n",
       " '7Networks_LH_Default_PFC_7',\n",
       " '7Networks_LH_Default_pCunPCC_1',\n",
       " '7Networks_LH_Default_pCunPCC_2',\n",
       " '7Networks_RH_Vis_1',\n",
       " '7Networks_RH_Vis_2',\n",
       " '7Networks_RH_Vis_3',\n",
       " '7Networks_RH_Vis_4',\n",
       " '7Networks_RH_Vis_5',\n",
       " '7Networks_RH_Vis_6',\n",
       " '7Networks_RH_Vis_7',\n",
       " '7Networks_RH_Vis_8',\n",
       " '7Networks_RH_SomMot_1',\n",
       " '7Networks_RH_SomMot_2',\n",
       " '7Networks_RH_SomMot_3',\n",
       " '7Networks_RH_SomMot_4',\n",
       " '7Networks_RH_SomMot_5',\n",
       " '7Networks_RH_SomMot_6',\n",
       " '7Networks_RH_SomMot_7',\n",
       " '7Networks_RH_SomMot_8',\n",
       " '7Networks_RH_DorsAttn_Post_1',\n",
       " '7Networks_RH_DorsAttn_Post_2',\n",
       " '7Networks_RH_DorsAttn_Post_3',\n",
       " '7Networks_RH_DorsAttn_Post_4',\n",
       " '7Networks_RH_DorsAttn_Post_5',\n",
       " '7Networks_RH_DorsAttn_PrCv_1',\n",
       " '7Networks_RH_DorsAttn_FEF_1',\n",
       " '7Networks_RH_SalVentAttn_TempOccPar_1',\n",
       " '7Networks_RH_SalVentAttn_TempOccPar_2',\n",
       " '7Networks_RH_SalVentAttn_FrOperIns_1',\n",
       " '7Networks_RH_SalVentAttn_Med_1',\n",
       " '7Networks_RH_SalVentAttn_Med_2',\n",
       " '7Networks_RH_Limbic_OFC_1',\n",
       " '7Networks_RH_Limbic_TempPole_1',\n",
       " '7Networks_RH_Cont_Par_1',\n",
       " '7Networks_RH_Cont_Par_2',\n",
       " '7Networks_RH_Cont_PFCl_1',\n",
       " '7Networks_RH_Cont_PFCl_2',\n",
       " '7Networks_RH_Cont_PFCl_3',\n",
       " '7Networks_RH_Cont_PFCl_4',\n",
       " '7Networks_RH_Cont_Cing_1',\n",
       " '7Networks_RH_Cont_PFCmp_1',\n",
       " '7Networks_RH_Cont_pCun_1',\n",
       " '7Networks_RH_Default_Par_1',\n",
       " '7Networks_RH_Default_Temp_1',\n",
       " '7Networks_RH_Default_Temp_2',\n",
       " '7Networks_RH_Default_Temp_3',\n",
       " '7Networks_RH_Default_PFCv_1',\n",
       " '7Networks_RH_Default_PFCv_2',\n",
       " '7Networks_RH_Default_PFCdPFCm_1',\n",
       " '7Networks_RH_Default_PFCdPFCm_2',\n",
       " '7Networks_RH_Default_PFCdPFCm_3',\n",
       " '7Networks_RH_Default_pCunPCC_1',\n",
       " '7Networks_RH_Default_pCunPCC_2']"
      ]
     },
     "execution_count": 31,
     "metadata": {},
     "output_type": "execute_result"
    }
   ],
   "source": [
    "[x for x in csv.columns]"
   ]
  },
  {
   "cell_type": "code",
   "execution_count": 5,
   "id": "3167805b-e38d-4f00-8013-3e4131b5d76d",
   "metadata": {},
   "outputs": [
    {
     "data": {
      "text/plain": [
       "(2206, 101)"
      ]
     },
     "execution_count": 5,
     "metadata": {},
     "output_type": "execute_result"
    }
   ],
   "source": [
    "csv.shape"
   ]
  },
  {
   "cell_type": "code",
   "execution_count": 29,
   "id": "94e51d69-d1e5-4932-9b09-75398193ae75",
   "metadata": {},
   "outputs": [
    {
     "data": {
      "text/plain": [
       "<matplotlib.image.AxesImage at 0x7fb5551b1400>"
      ]
     },
     "execution_count": 29,
     "metadata": {},
     "output_type": "execute_result"
    },
    {
     "data": {
      "image/png": "[encoded data removed]",
      "text/plain": [
       "<Figure size 3600x2160 with 1 Axes>"
      ]
     },
     "metadata": {
      "needs_background": "light"
     },
     "output_type": "display_data"
    }
   ],
   "source": [
    "# plt.imshow(csv.values[:, 1:]);\n",
    "plt.figure(figsize=(50, 30))\n",
    "plt.imshow((csv.values[:, 1:]).astype(float).T, cmap='binary')"
   ]
  },
  {
   "cell_type": "code",
   "execution_count": null,
   "id": "cb136886-42b3-46b7-9155-5549dd5f0dbe",
   "metadata": {},
   "outputs": [],
   "source": []
  }
 ],
 "metadata": {
  "kernelspec": {
   "display_name": "Python 3 (ipykernel)",
   "language": "python",
   "name": "python3"
  },
  "language_info": {
   "codemirror_mode": {
    "name": "ipython",
    "version": 3
   },
   "file_extension": ".py",
   "mimetype": "text/x-python",
   "name": "python",
   "nbconvert_exporter": "python",
   "pygments_lexer": "ipython3",
   "version": "3.8.10"
  }
 },
 "nbformat": 4,
 "nbformat_minor": 5
}
