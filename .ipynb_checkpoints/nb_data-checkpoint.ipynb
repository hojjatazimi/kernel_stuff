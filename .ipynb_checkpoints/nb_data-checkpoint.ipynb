{
 "cells": [
  {
   "cell_type": "markdown",
   "id": "f62ad418-ff99-4bc6-b7e5-2a90c0fb8254",
   "metadata": {},
   "source": [
    "# Import"
   ]
  },
  {
   "cell_type": "code",
   "execution_count": 1,
   "id": "bdce1dce-39cb-446b-95ec-33a17d3bd397",
   "metadata": {},
   "outputs": [],
   "source": [
    "import numpy as np\n",
    "import matplotlib.pyplot as plt\n",
    "from mne.io.snirf import read_raw_snirf\n",
    "from get_events_from_snirf import get_events_from_snirf\n",
    "import itertools"
   ]
  },
  {
   "cell_type": "code",
   "execution_count": 2,
   "id": "177f5623-6a08-4068-99d3-9380d2fab2bd",
   "metadata": {},
   "outputs": [],
   "source": [
    "from sklearn.linear_model import SGDClassifier\n",
    "from sklearn.preprocessing import StandardScaler\n",
    "from sklearn.pipeline import make_pipeline\n",
    "from sklearn.svm import SVC\n",
    "from sklearn.model_selection import cross_val_score\n",
    "from sklearn.neural_network import MLPClassifier"
   ]
  },
  {
   "cell_type": "code",
   "execution_count": 3,
   "id": "fc651558-b8a1-4ef6-8b48-d7a5e32ee7bf",
   "metadata": {},
   "outputs": [],
   "source": [
    "from give_channels import give_channels"
   ]
  },
  {
   "cell_type": "markdown",
   "id": "86084bbc-c3b4-4375-bf8c-5f2fa29c4775",
   "metadata": {},
   "source": [
    "# Load Data"
   ]
  },
  {
   "cell_type": "code",
   "execution_count": 4,
   "id": "1b647fc9-f8d1-4786-9a2d-7b8579ec7593",
   "metadata": {},
   "outputs": [],
   "source": [
    "path_1 = '../data_hojjat/dec_nef/1_new_full_2/test_001_S001_c7bcdc0_5.snirf'\n",
    "path_2 = \"../data_hojjat/dec_nef/2/test_001_S001_7d1123e_5.snirf\"\n",
    "path_3 = '../data_hojjat/dec_nef/3/test_001_S001_7d1123e_5.snirf'"
   ]
  },
  {
   "cell_type": "code",
   "execution_count": 5,
   "id": "e885bad8-0fad-48cf-b9be-e43c1dcc8b3a",
   "metadata": {},
   "outputs": [],
   "source": [
    "paths = [path_1, path_2, path_3]"
   ]
  },
  {
   "cell_type": "code",
   "execution_count": 6,
   "id": "539173e5-b834-4420-95f3-8117a2dedb37",
   "metadata": {},
   "outputs": [
    {
     "name": "stdout",
     "output_type": "stream",
     "text": [
      "Loading /home/kernel/Desktop/py_test/project/data_hojjat/dec_nef/1_new_full_2/test_001_S001_c7bcdc0_5.snirf\n"
     ]
    },
    {
     "name": "stderr",
     "output_type": "stream",
     "text": [
      "/home/kernel/Desktop/py_test/project/venv/lib/python3.8/site-packages/mne/externals/pymatreader/pymatreader.py:34: DeprecationWarning: Please use `get_matfile_version` from the `scipy.io.matlab` namespace, the `scipy.io.matlab.miobase` namespace is deprecated.\n",
      "  from scipy.io.matlab.miobase import get_matfile_version\n"
     ]
    },
    {
     "name": "stdout",
     "output_type": "stream",
     "text": [
      "Loading /home/kernel/Desktop/py_test/project/data_hojjat/dec_nef/2/test_001_S001_7d1123e_5.snirf\n",
      "Loading /home/kernel/Desktop/py_test/project/data_hojjat/dec_nef/3/test_001_S001_7d1123e_5.snirf\n"
     ]
    }
   ],
   "source": [
    "snirfs = [read_raw_snirf(path) for path in paths]"
   ]
  },
  {
   "cell_type": "code",
   "execution_count": 7,
   "id": "7dc4d0c1-b793-439b-872e-e1c4afbc2695",
   "metadata": {},
   "outputs": [],
   "source": [
    "datas = [snirf.get_data() for snirf in snirfs]"
   ]
  },
  {
   "cell_type": "code",
   "execution_count": 8,
   "id": "5e89f83c-ee25-43f1-9ce0-974e5b747b99",
   "metadata": {},
   "outputs": [],
   "source": [
    "event_dfs = [get_events_from_snirf(path) for path in paths]"
   ]
  },
  {
   "cell_type": "markdown",
   "id": "8a1d9d93-4463-413a-896b-ae64d6b319c1",
   "metadata": {},
   "source": [
    "# Some Functions"
   ]
  },
  {
   "cell_type": "code",
   "execution_count": 9,
   "id": "4104d111-1ed7-4a35-8dd0-2cf76656e30e",
   "metadata": {},
   "outputs": [],
   "source": [
    "def get_times(df, key):\n",
    "    times = df[df.Label == key]['Timestamp'].values;\n",
    "    return times"
   ]
  },
  {
   "cell_type": "code",
   "execution_count": 10,
   "id": "d3c4742f-35b0-435b-9baf-4ac47be90be4",
   "metadata": {},
   "outputs": [],
   "source": [
    "def get_data(data, channels, times, index, window_size, sample_rate):\n",
    "    out = np.zeros((len(times), len(channels), window_size * sample_rate))\n",
    "    for time_index, time in enumerate(times):\n",
    "        for channel_index, channel in enumerate(channels):\n",
    "            out[time_index, channel_index, :] = data[channel, int((time+index)*sample_rate): int((time+index+window_size)*sample_rate)]\n",
    "    return out\n",
    "    # lst = [data[channel, int((time+index)*sample_rate): int((time+index+window_size)*sample_rate)] for time, channel in itertools.product(times.astype(int), channels)]\n",
    "    # print(np.shape(lst))\n",
    "    # arr = np.array(lst)"
   ]
  },
  {
   "cell_type": "code",
   "execution_count": 11,
   "id": "21419a8d-d0ff-436d-a24a-db730dd0bab3",
   "metadata": {},
   "outputs": [],
   "source": [
    "def data_to_feature(data):\n",
    "    [times, channels, points] = np.shape(data)\n",
    "    # features = np.ones((times, channels * 3))\n",
    "    _mean = np.mean(data, axis = 2)\n",
    "    _min = np.min(data, axis = 2)\n",
    "    _max = np.max(data, axis = 2)\n",
    "    features = np.hstack((_mean, _min, _max))\n",
    "    # features[:, 3:] = data[:]\n",
    "    return features"
   ]
  },
  {
   "cell_type": "code",
   "execution_count": 12,
   "id": "c606c2ef-37e6-4295-b87b-22da4b89d892",
   "metadata": {},
   "outputs": [],
   "source": [
    "def make_x_y(features):\n",
    "    shape = np.shape(features)\n",
    "    X = np.vstack(features)\n",
    "    y = np.hstack([(i+1) * np.ones(shape[1]) for i in range(len(features))])\n",
    "    return X, y"
   ]
  },
  {
   "cell_type": "code",
   "execution_count": 13,
   "id": "b213f700-5931-47fa-a8a1-dab2c1e0b2ca",
   "metadata": {},
   "outputs": [],
   "source": [
    "def classify(X, y):\n",
    "    # clf = SVC(kernel='linear', C=1, random_state=42)\n",
    "    clf = MLPClassifier(random_state=1, max_iter=10000)\n",
    "    scores = cross_val_score(clf, X, y, cv=5)\n",
    "    return scores"
   ]
  },
  {
   "cell_type": "code",
   "execution_count": 14,
   "id": "63d265db-c162-414a-8df4-f330f26ff8e8",
   "metadata": {},
   "outputs": [],
   "source": [
    "def get_all_classes(events_df):\n",
    "    classes = events_df.Label.unique()[1:]\n",
    "    return classes"
   ]
  },
  {
   "cell_type": "code",
   "execution_count": 15,
   "id": "326b0e5c-1aeb-4cfd-9e98-f079432077b8",
   "metadata": {},
   "outputs": [],
   "source": [
    "def get_all_times(all_classes, events_df):\n",
    "    all_times_lst = [get_times(events_df, clas) for clas in all_classes]\n",
    "    all_times_array = np.array(all_times_lst, dtype=object)\n",
    "    return all_times_array"
   ]
  },
  {
   "cell_type": "code",
   "execution_count": 16,
   "id": "ea1b50a5-3e78-4b7e-ba5f-6189e1ccdfb9",
   "metadata": {},
   "outputs": [],
   "source": [
    "def get_all_data(data, channels, all_times, index, window_size, sample_rate):\n",
    "    all_data_lst = [get_data(data, channels, times, index, window_size, sample_rate) for times in all_times]\n",
    "    all_data_arr = np.array(all_data_lst)\n",
    "    return all_data_arr"
   ]
  },
  {
   "cell_type": "code",
   "execution_count": 17,
   "id": "50163d30-eb0a-4e6d-8822-bbb7bb3220e6",
   "metadata": {},
   "outputs": [],
   "source": [
    "def get_all_feature(all_data):\n",
    "    all_feature_lst = [data_to_feature(data) for data in all_data]\n",
    "    all_feature_arr = np.array(all_feature_lst)\n",
    "    return all_feature_arr"
   ]
  },
  {
   "cell_type": "code",
   "execution_count": 18,
   "id": "7c887e64-787c-4087-9bc7-6ef3658091a5",
   "metadata": {},
   "outputs": [],
   "source": [
    "def select_channels(snirf, good_channels):\n",
    "    channel_names = [x['ch_name'] for x in snirf.info['chs']]\n",
    "    out = []\n",
    "    for i, name in enumerate(channel_names):\n",
    "        if name[:9] in good_channels and 'HbO' in name:\n",
    "            out.append(i)\n",
    "    out = np.array(out)\n",
    "    return out"
   ]
  },
  {
   "cell_type": "markdown",
   "id": "a0a6c21c-f846-4d84-9b4f-6534edc1d6bb",
   "metadata": {},
   "source": [
    "# Run"
   ]
  },
  {
   "cell_type": "code",
   "execution_count": 19,
   "id": "96f99351-5ee3-4926-8e3a-98d2833b97fb",
   "metadata": {},
   "outputs": [],
   "source": [
    "all_classes = get_all_classes(event_dfs[0])[:]"
   ]
  },
  {
   "cell_type": "code",
   "execution_count": 20,
   "id": "992c4fa6-cb66-4041-89f5-f74698e7f30f",
   "metadata": {},
   "outputs": [],
   "source": [
    "all_times = [get_all_times(all_classes, events_df) for events_df in event_dfs]"
   ]
  },
  {
   "cell_type": "code",
   "execution_count": 21,
   "id": "befe4bf4-f81d-4135-8066-bd7bea116cc5",
   "metadata": {},
   "outputs": [],
   "source": [
    "datas = [np.nan_to_num(data) for data in datas]"
   ]
  },
  {
   "cell_type": "code",
   "execution_count": 22,
   "id": "e218da27-c226-48ec-93da-a01883657efa",
   "metadata": {},
   "outputs": [
    {
     "data": {
      "text/plain": [
       "[(4168, 4316), (4168, 4518), (4168, 4414)]"
      ]
     },
     "execution_count": 22,
     "metadata": {},
     "output_type": "execute_result"
    }
   ],
   "source": [
    "[data.shape for data in datas]"
   ]
  },
  {
   "cell_type": "code",
   "execution_count": 23,
   "id": "d83839b7-0ed9-4a8c-94fc-9a90d7e7605f",
   "metadata": {},
   "outputs": [],
   "source": [
    "good_channels = give_channels()\n",
    "channels = select_channels(snirfs[0], good_channels)\n",
    "# channels = [0], #, 3, 4, 6, 8, 16, 17, 18, 19, 20, 21, 22, 23]#, 17, 18, 19, 20, 21, 22, 23, 24, 25, 26, 27, 28, 29, 30]\n",
    "index = 0\n",
    "window_size = 1\n",
    "sample_rate=7\n",
    "# all_data = get_all_data(data, channels, all_times, index, window_size, sample_rate)"
   ]
  },
  {
   "cell_type": "code",
   "execution_count": null,
   "id": "555701b9-278c-47b7-9da7-ff1ebc8f2ea7",
   "metadata": {},
   "outputs": [],
   "source": [
    "all_events = [get_all_data(data, channels, times, index, window_size, sample_rate) for data, times in zip (datas, all_times)]"
   ]
  },
  {
   "cell_type": "code",
   "execution_count": null,
   "id": "7726959f-60f5-47aa-b024-f4fd68f48dfb",
   "metadata": {},
   "outputs": [],
   "source": [
    "all_features = [get_all_feature(event) for event in all_events]"
   ]
  },
  {
   "cell_type": "code",
   "execution_count": null,
   "id": "4895b53b-ed17-4fc3-8bc4-bbc57c6d0c40",
   "metadata": {},
   "outputs": [],
   "source": [
    "[f.shape for f in all_features]"
   ]
  },
  {
   "cell_type": "code",
   "execution_count": null,
   "id": "9ada4b16-4443-4401-93e6-5fd8d8cc8a62",
   "metadata": {},
   "outputs": [],
   "source": [
    "all_features_arr = np.hstack(all_features)"
   ]
  },
  {
   "cell_type": "code",
   "execution_count": null,
   "id": "bb57fa8d-f2bf-4445-abec-674638809272",
   "metadata": {},
   "outputs": [],
   "source": [
    "X, y = make_x_y(all_features_arr)"
   ]
  },
  {
   "cell_type": "code",
   "execution_count": null,
   "id": "619e06cb-4510-4c20-9972-d5f1dff52059",
   "metadata": {},
   "outputs": [],
   "source": [
    "X[:, np.max(X, 0) != 0].shape"
   ]
  },
  {
   "cell_type": "code",
   "execution_count": null,
   "id": "30016673-12a3-4087-8b44-af4ec030b974",
   "metadata": {},
   "outputs": [],
   "source": [
    "y.shape"
   ]
  },
  {
   "cell_type": "code",
   "execution_count": null,
   "id": "9f5fa92a-c10a-47e5-ae3a-f67fb7830ed3",
   "metadata": {},
   "outputs": [],
   "source": [
    "scores = classify(X[:, np.max(X, 0) != 0], y)"
   ]
  },
  {
   "cell_type": "code",
   "execution_count": null,
   "id": "7f862455-c7ee-43e8-9a79-518216156a52",
   "metadata": {},
   "outputs": [],
   "source": [
    "100 * (scores.mean())"
   ]
  },
  {
   "cell_type": "code",
   "execution_count": 24,
   "id": "a171cae6-31fa-4214-ae24-26a65db3fa7e",
   "metadata": {},
   "outputs": [
    {
     "name": "stdout",
     "output_type": "stream",
     "text": [
      "i w s\n",
      "0 1 3.055555555555556\n",
      "1 1 2.3333333333333335\n",
      "2 1 2.4444444444444446\n",
      "3 1 2.888888888888889\n",
      "4 1 2.222222222222222\n",
      "5 1 2.0\n",
      "6 1 3.055555555555555\n",
      "7 1 2.055555555555556\n",
      "8 1 3.2222222222222223\n",
      "9 1 2.611111111111111\n"
     ]
    }
   ],
   "source": [
    "print('i', 'w', 's')\n",
    "import warnings\n",
    "\n",
    "warnings.simplefilter('ignore')\n",
    "for index in range(10):\n",
    "    all_events = [get_all_data(data, channels, times, index, window_size, sample_rate) for data, times in zip (datas, all_times)]\n",
    "    all_features = [get_all_feature(event) for event in all_events]\n",
    "    all_features_arr = np.hstack(all_features)\n",
    "    X, y = make_x_y(all_features_arr)\n",
    "    scores = classify(X[:, np.max(X, 0) != 0], y)\n",
    "    print(index, window_size, 100 * (scores.mean()))"
   ]
  },
  {
   "cell_type": "code",
   "execution_count": null,
   "id": "e3680faa-2933-4a88-bea9-89f2edfdca2b",
   "metadata": {},
   "outputs": [],
   "source": [
    "X[:, np.max(X, 0) != 0]"
   ]
  },
  {
   "cell_type": "code",
   "execution_count": null,
   "id": "14eab8c9-a1ce-46b0-8cba-aad3c2e7691d",
   "metadata": {},
   "outputs": [],
   "source": [
    "import pandas as pd\n",
    "from matplotlib import pyplot as plt"
   ]
  },
  {
   "cell_type": "code",
   "execution_count": null,
   "id": "b860fa57-bad2-44c8-96ee-431a2202d99c",
   "metadata": {},
   "outputs": [],
   "source": [
    "tmp_df = pd.DataFrame(X)"
   ]
  },
  {
   "cell_type": "code",
   "execution_count": null,
   "id": "0391e714-5f07-48c3-890f-0e28ce2fd1b3",
   "metadata": {},
   "outputs": [],
   "source": [
    "tmp_df"
   ]
  },
  {
   "cell_type": "code",
   "execution_count": null,
   "id": "ba4cc49f-aa5e-4246-bd72-3d8067af3cb0",
   "metadata": {},
   "outputs": [],
   "source": [
    "np.sum(tmp_df.max()>0)"
   ]
  },
  {
   "cell_type": "code",
   "execution_count": null,
   "id": "462d3ffd-68a5-4806-874f-b6565d3cd83e",
   "metadata": {},
   "outputs": [],
   "source": [
    "X, y = make_x_y(all_feature)"
   ]
  },
  {
   "cell_type": "code",
   "execution_count": null,
   "id": "a499a59d-dff6-4453-9c40-09436bba9aa8",
   "metadata": {},
   "outputs": [],
   "source": [
    "classify(X, y)"
   ]
  },
  {
   "cell_type": "code",
   "execution_count": null,
   "id": "81f02a48-5acc-44c7-8c1d-b684296c0a7b",
   "metadata": {},
   "outputs": [],
   "source": [
    "X.shape"
   ]
  },
  {
   "cell_type": "code",
   "execution_count": null,
   "id": "7abc314a-b35d-48d7-9faa-e25614c4577a",
   "metadata": {},
   "outputs": [],
   "source": [
    "y"
   ]
  },
  {
   "cell_type": "code",
   "execution_count": null,
   "id": "e0a6221e-9e03-40e0-a337-bec362513c4d",
   "metadata": {},
   "outputs": [],
   "source": [
    "bee_times = get_times(events_df, 'Bee')\n",
    "key_times = get_times(events_df, 'Key')"
   ]
  },
  {
   "cell_type": "code",
   "execution_count": null,
   "id": "1e7b4a77-ffa0-42c5-a82f-654264916d4d",
   "metadata": {},
   "outputs": [],
   "source": [
    "channel_names = [x['ch_name'] for x in snirf.info['chs']]\n",
    "is_hbo = np.array([1 if channel_name.endswith(\n",
    "    'HbO') else 0 for channel_name in channel_names], dtype=bool)\n",
    "channel_locations_3d = [x['loc'][:3] for x in snirf.info['chs']]"
   ]
  },
  {
   "cell_type": "code",
   "execution_count": null,
   "id": "622eb4cb-cc07-4024-842a-46d15a0e0ddc",
   "metadata": {},
   "outputs": [],
   "source": [
    "data = snirf.get_data()"
   ]
  },
  {
   "cell_type": "code",
   "execution_count": null,
   "id": "9a0bbcf7-2738-4439-9b79-ac7d664990b8",
   "metadata": {},
   "outputs": [],
   "source": [
    "data.shape"
   ]
  },
  {
   "cell_type": "code",
   "execution_count": null,
   "id": "ea10f7bc-d06c-4b6c-a3fd-36466ae934fd",
   "metadata": {},
   "outputs": [],
   "source": [
    "ax, fig = plt.subplots(figsize=(15, 10))\n",
    "for bee in bee_times.astype(np.int):\n",
    "    fig.plot(data[0, bee*7:(bee+1)*7])\n"
   ]
  },
  {
   "cell_type": "code",
   "execution_count": null,
   "id": "92255748-6811-4aa5-8035-e6c5c6a4da5d",
   "metadata": {},
   "outputs": [],
   "source": [
    "window_size = 1\n",
    "sampling_rate = 7\n",
    "channels = [0, 1]\n",
    "index= 6\n",
    "bee_data = get_data(data, channels, bee_times, index, window_size, sampling_rate)\n",
    "key_data = get_data(data, channels, key_times, index, window_size, sampling_rate)"
   ]
  },
  {
   "cell_type": "code",
   "execution_count": null,
   "id": "68bf7e73-1469-4bdc-a640-fd6f7b753a47",
   "metadata": {},
   "outputs": [],
   "source": [
    "bee_data.shape"
   ]
  },
  {
   "cell_type": "code",
   "execution_count": null,
   "id": "cfd13358-884f-428a-bedd-7bb86a66f71d",
   "metadata": {},
   "outputs": [],
   "source": [
    "plt.plot(np.mean(bee_data, axis=0))\n",
    "plt.plot(np.mean(key_data, axis=0))"
   ]
  },
  {
   "cell_type": "code",
   "execution_count": null,
   "id": "53d57d1e-d2a6-4bfa-a88c-c120ff7b9071",
   "metadata": {},
   "outputs": [],
   "source": [
    "bee_features = data_to_feature(bee_data)\n",
    "key_features = data_to_feature(key_data)"
   ]
  },
  {
   "cell_type": "code",
   "execution_count": null,
   "id": "77fd6882-17f3-466b-922e-ec7b67d473a3",
   "metadata": {},
   "outputs": [],
   "source": [
    "bee_features.shape"
   ]
  },
  {
   "cell_type": "code",
   "execution_count": null,
   "id": "92757d7d-4a5c-40cf-af82-02540800531a",
   "metadata": {},
   "outputs": [],
   "source": [
    "key_features.shape"
   ]
  },
  {
   "cell_type": "code",
   "execution_count": null,
   "id": "8d83df1f-9b51-4228-8783-740abce85461",
   "metadata": {},
   "outputs": [],
   "source": [
    "np.hstack([i * np.ones(3) for i in range(3)])"
   ]
  },
  {
   "cell_type": "code",
   "execution_count": null,
   "id": "aec31f04-0c29-471f-bc6e-dd65ccd8f1e8",
   "metadata": {},
   "outputs": [],
   "source": []
  },
  {
   "cell_type": "code",
   "execution_count": null,
   "id": "d78a2020-8b60-486e-bc2d-c7b238aad0a4",
   "metadata": {},
   "outputs": [],
   "source": [
    "clf = SVC(kernel='linear', C=1, random_state=42)\n",
    "scores = cross_val_score(clf, X, y, cv=5)\n",
    "scores.mean()"
   ]
  },
  {
   "cell_type": "code",
   "execution_count": null,
   "id": "3a9b7cfa-4d3d-4542-91d5-4249f9dda4e6",
   "metadata": {},
   "outputs": [],
   "source": [
    "clf = make_pipeline(StandardScaler(),\n",
    "                    SVC(gamma='auto'))\n",
    "                    # SGDClassifier(max_iter=1000, tol=1e-3))\n",
    "clf.fit(X, y)"
   ]
  },
  {
   "cell_type": "code",
   "execution_count": null,
   "id": "e66c2ded-de07-4574-b3ce-e9229383f0cb",
   "metadata": {},
   "outputs": [],
   "source": [
    "clf.score(X, y)"
   ]
  },
  {
   "cell_type": "code",
   "execution_count": null,
   "id": "4d9f2505-f151-4be4-b98d-62f973670fbf",
   "metadata": {},
   "outputs": [],
   "source": [
    "len(bee_features)"
   ]
  },
  {
   "cell_type": "code",
   "execution_count": null,
   "id": "58ba19f4-bb15-43c8-b2a3-bf23e52443f9",
   "metadata": {},
   "outputs": [],
   "source": []
  }
 ],
 "metadata": {
  "kernelspec": {
   "display_name": "Python 3 (ipykernel)",
   "language": "python",
   "name": "python3"
  },
  "language_info": {
   "codemirror_mode": {
    "name": "ipython",
    "version": 3
   },
   "file_extension": ".py",
   "mimetype": "text/x-python",
   "name": "python",
   "nbconvert_exporter": "python",
   "pygments_lexer": "ipython3",
   "version": "3.8.10"
  }
 },
 "nbformat": 4,
 "nbformat_minor": 5
}
