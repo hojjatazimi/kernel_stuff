{
 "cells": [
  {
   "cell_type": "code",
   "execution_count": 1,
   "id": "1d2224e2-b28c-4078-8ae8-cbad7d18bdfa",
   "metadata": {},
   "outputs": [],
   "source": [
    "import numpy as np\n",
    "import matplotlib.pyplot as plt\n",
    "from mne.io.snirf import read_raw_snirf\n",
    "from get_events_from_snirf import get_events_from_snirf\n",
    "import itertools"
   ]
  },
  {
   "cell_type": "code",
   "execution_count": 10,
   "id": "d379f7f5-ceac-4219-8e50-5bdca687c1c2",
   "metadata": {},
   "outputs": [],
   "source": [
    "path_1 = '../data_hojjat/dec_nef/1_new_full_2/test_001_S001_c7bcdc0_3.snirf'\n",
    "path_2 = '../data_hojjat/dec_nef/2/test_001_S001_7d1123e_5.snirf'"
   ]
  },
  {
   "cell_type": "code",
   "execution_count": 11,
   "id": "667eb3a0-d5b1-41a0-8ac7-172ecd982daa",
   "metadata": {},
   "outputs": [
    {
     "name": "stdout",
     "output_type": "stream",
     "text": [
      "Loading /home/kernel/Desktop/py_test/project/data_hojjat/dec_nef/1_new_full_2/test_001_S001_c7bcdc0_3.snirf\n",
      "Loading /home/kernel/Desktop/py_test/project/data_hojjat/dec_nef/2/test_001_S001_7d1123e_5.snirf\n"
     ]
    }
   ],
   "source": [
    "snirf_1 = read_raw_snirf(path_1)\n",
    "snirf_2 = read_raw_snirf(path_2)"
   ]
  },
  {
   "cell_type": "code",
   "execution_count": 12,
   "id": "16882492-be8c-41e0-8ba2-babf867ba5a8",
   "metadata": {},
   "outputs": [],
   "source": [
    "data_1 = snirf_1.get_data()\n",
    "data_2 = snirf_2.get_data()"
   ]
  },
  {
   "cell_type": "code",
   "execution_count": 13,
   "id": "4b1f6f18-cec2-407a-80e3-cb3f7e50f809",
   "metadata": {},
   "outputs": [
    {
     "data": {
      "text/plain": [
       "(12504, 4316)"
      ]
     },
     "execution_count": 13,
     "metadata": {},
     "output_type": "execute_result"
    }
   ],
   "source": [
    "data_1.shape"
   ]
  },
  {
   "cell_type": "code",
   "execution_count": 14,
   "id": "d6aa7cc3-4756-483a-bdcb-3fdc8bf1ba9e",
   "metadata": {},
   "outputs": [
    {
     "data": {
      "text/plain": [
       "(4168, 4518)"
      ]
     },
     "execution_count": 14,
     "metadata": {},
     "output_type": "execute_result"
    }
   ],
   "source": [
    "data_2.shape"
   ]
  },
  {
   "cell_type": "code",
   "execution_count": 18,
   "id": "c2442f17-5a22-4896-9a09-aa22c1f3ecf4",
   "metadata": {},
   "outputs": [
    {
     "data": {
      "text/plain": [
       "2084.0"
      ]
     },
     "execution_count": 18,
     "metadata": {},
     "output_type": "execute_result"
    }
   ],
   "source": [
    "4168/2"
   ]
  },
  {
   "cell_type": "code",
   "execution_count": null,
   "id": "16ea6800-ddbd-41d3-9e4f-32e47e0050e6",
   "metadata": {},
   "outputs": [],
   "source": []
  }
 ],
 "metadata": {
  "kernelspec": {
   "display_name": "Python 3 (ipykernel)",
   "language": "python",
   "name": "python3"
  },
  "language_info": {
   "codemirror_mode": {
    "name": "ipython",
    "version": 3
   },
   "file_extension": ".py",
   "mimetype": "text/x-python",
   "name": "python",
   "nbconvert_exporter": "python",
   "pygments_lexer": "ipython3",
   "version": "3.8.10"
  }
 },
 "nbformat": 4,
 "nbformat_minor": 5
}
