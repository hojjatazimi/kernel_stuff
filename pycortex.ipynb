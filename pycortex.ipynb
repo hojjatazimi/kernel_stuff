{
 "cells": [
  {
   "cell_type": "code",
   "execution_count": 1,
   "id": "eb0b2799-ecba-46bb-8feb-2ddfb4cec61d",
   "metadata": {},
   "outputs": [],
   "source": [
    "import cortex"
   ]
  },
  {
   "cell_type": "code",
   "execution_count": 2,
   "id": "ccd82e99-19e4-4da2-872e-b23f90d01707",
   "metadata": {},
   "outputs": [
    {
     "name": "stdout",
     "output_type": "stream",
     "text": [
      "Generating new ctm file...\n",
      "wm\n",
      "wm\n",
      "Generating curvature surface info...\n"
     ]
    },
    {
     "name": "stderr",
     "output_type": "stream",
     "text": [
      "/home/kernel/Desktop/py_test/project/venv/lib/python3.8/site-packages/scipy/sparse/linalg/_dsolve/linsolve.py:322: SparseEfficiencyWarning: splu requires CSC matrix format\n",
      "  warn('splu requires CSC matrix format', SparseEfficiencyWarning)\n"
     ]
    },
    {
     "name": "stdout",
     "output_type": "stream",
     "text": [
      "inflated\n",
      "inflated\n",
      "Started server on port 40526\n"
     ]
    },
    {
     "data": {
      "text/plain": [
       "<JS: window.viewer>"
      ]
     },
     "execution_count": 2,
     "metadata": {},
     "output_type": "execute_result"
    },
    {
     "name": "stdout",
     "output_type": "stream",
     "text": [
      "Stopping server\n"
     ]
    }
   ],
   "source": [
    "cortex.webshow(cortex.Volume.random(\"S1\", \"fullhead\"))"
   ]
  },
  {
   "cell_type": "code",
   "execution_count": null,
   "id": "a9ff070e-0af9-46eb-9da4-8e65f5e9b4e4",
   "metadata": {},
   "outputs": [],
   "source": []
  }
 ],
 "metadata": {
  "kernelspec": {
   "display_name": "Python 3 (ipykernel)",
   "language": "python",
   "name": "python3"
  },
  "language_info": {
   "codemirror_mode": {
    "name": "ipython",
    "version": 3
   },
   "file_extension": ".py",
   "mimetype": "text/x-python",
   "name": "python",
   "nbconvert_exporter": "python",
   "pygments_lexer": "ipython3",
   "version": "3.8.10"
  }
 },
 "nbformat": 4,
 "nbformat_minor": 5
}
