{
 "cells": [
  {
   "cell_type": "code",
   "execution_count": 1,
   "id": "89d81ef4-692a-4c42-8056-3d550d607e7c",
   "metadata": {},
   "outputs": [],
   "source": [
    "import numpy as np\n",
    "import matplotlib.pyplot as plt\n",
    "from mne.io.snirf import read_raw_snirf\n",
    "from get_events_from_snirf import get_events_from_snirf\n",
    "import itertools"
   ]
  },
  {
   "cell_type": "code",
   "execution_count": 2,
   "id": "2782e461-bcc1-47f0-83f4-3d8f154a73d5",
   "metadata": {},
   "outputs": [],
   "source": [
    "path_1 = '../data_hojjat/2021_08-Finger_Tapping-Hb.snirf'\n",
    "path_2 = '../data_hojjat/arm_move/test_001_S001_3b7aaf4_5.snirf'"
   ]
  },
  {
   "cell_type": "code",
   "execution_count": 3,
   "id": "eecd252b-6d04-4f8b-b5f0-24dd0c53360d",
   "metadata": {},
   "outputs": [
    {
     "name": "stdout",
     "output_type": "stream",
     "text": [
      "Loading /home/kernel/Desktop/py_test/project/data_hojjat/2021_08-Finger_Tapping-Hb.snirf\n"
     ]
    },
    {
     "name": "stderr",
     "output_type": "stream",
     "text": [
      "/home/kernel/Desktop/py_test/project/venv/lib/python3.8/site-packages/mne/utils/check.py:91: DeprecationWarning: distutils Version classes are deprecated. Use packaging.version instead.\n",
      "  LooseVersion(library.__version__) < LooseVersion(min_version):\n",
      "/home/kernel/Desktop/py_test/project/venv/lib/python3.8/site-packages/mne/utils/check.py:91: DeprecationWarning: distutils Version classes are deprecated. Use packaging.version instead.\n",
      "  LooseVersion(library.__version__) < LooseVersion(min_version):\n",
      "/home/kernel/Desktop/py_test/project/venv/lib/python3.8/site-packages/mne/externals/pymatreader/pymatreader.py:34: DeprecationWarning: Please use `get_matfile_version` from the `scipy.io.matlab` namespace, the `scipy.io.matlab.miobase` namespace is deprecated.\n",
      "  from scipy.io.matlab.miobase import get_matfile_version\n"
     ]
    }
   ],
   "source": [
    "snirf = read_raw_snirf(path_1);"
   ]
  },
  {
   "cell_type": "code",
   "execution_count": 4,
   "id": "914d206b-47ee-48b9-830e-50f2ddb1e95e",
   "metadata": {},
   "outputs": [],
   "source": [
    "h_dict={}\n",
    "for ch in snirf.ch_names:\n",
    "    h_dict[ch] = 'fnirs_cw_amplitude'"
   ]
  },
  {
   "cell_type": "code",
   "execution_count": 5,
   "id": "b705f357-6999-4070-a4c3-36a770755b62",
   "metadata": {},
   "outputs": [
    {
     "data": {
      "text/html": [
       "\n",
       "\n",
       "<table class=\"table table-hover\">\n",
       "    <tr>\n",
       "        <th>Measurement date</th>\n",
       "        <td>August 06, 2021  04:46:11 GMT</td>\n",
       "        \n",
       "    </tr>\n",
       "    <tr>\n",
       "        <th>Experimenter</th>\n",
       "<td>Unknown</td>\n",
       "    </tr>\n",
       "        <th>Participant</th>\n",
       "        \n",
       "    </tr>\n",
       "    <tr>\n",
       "        <th>Digitized points</th>\n",
       "        <td>4415 points</td>\n",
       "    </tr>\n",
       "    <tr>\n",
       "        <th>Good channels</th>\n",
       "        <td>0 magnetometer, 0 gradiometer,\n",
       "            0 EEG channels, and 4412 fNIRS channels.</td>\n",
       "    </tr>\n",
       "    <tr>\n",
       "        <th>Bad channels</th>\n",
       "        <td></td>\n",
       "        \n",
       "    </tr>\n",
       "    <tr>\n",
       "        <th>EOG channels</th>\n",
       "        <td>Not available</td>\n",
       "    </tr>\n",
       "    <tr>\n",
       "        <th>ECG channels</th>\n",
       "        <td>Not available</td>\n",
       "    <tr>\n",
       "        <th>Sampling frequency</th>\n",
       "        <td>8.26 Hz</td>\n",
       "    </tr>\n",
       "    <tr>\n",
       "        <th>Highpass</th>\n",
       "        <td>0.00 Hz</td>\n",
       "    </tr>\n",
       "    <tr>\n",
       "        <th>Lowpass</th>\n",
       "        <td>4.13 Hz</td>\n",
       "    </tr>\n",
       "\n",
       "    <tr>\n",
       "        <th>Filenames</th>\n",
       "        <td>2021_08-Finger_Tapping-Hb.snirf</td>\n",
       "    </tr>\n",
       "    <tr>\n",
       "        <th>Duration</th>\n",
       "        <td>00:12:59 (HH:MM:SS)</td>\n",
       "    </tr>\n",
       "</table>\n"
      ],
      "text/plain": [
       "<RawSNIRF | 2021_08-Finger_Tapping-Hb.snirf, 4412 x 6436 (779.3 s), ~5.9 MB, data not loaded>"
      ]
     },
     "execution_count": 5,
     "metadata": {},
     "output_type": "execute_result"
    }
   ],
   "source": [
    "snirf.set_channel_types(h_dict)"
   ]
  },
  {
   "cell_type": "code",
   "execution_count": 6,
   "id": "b9bb844b-ea2b-464e-8043-1d3a612ffaeb",
   "metadata": {},
   "outputs": [
    {
     "data": {
      "text/plain": [
       "<DigMontage | 0 extras (headshape), 0 HPIs, 3 fiducials, 4412 channels>"
      ]
     },
     "execution_count": 6,
     "metadata": {},
     "output_type": "execute_result"
    }
   ],
   "source": [
    "snirf.get_montage()"
   ]
  },
  {
   "cell_type": "code",
   "execution_count": 7,
   "id": "5bb9354b-61d1-4ed0-89b1-b1ebb8a6e5e9",
   "metadata": {},
   "outputs": [],
   "source": [
    "import mne"
   ]
  },
  {
   "cell_type": "code",
   "execution_count": 8,
   "id": "b56e55aa-bfd7-47c9-925f-7bda782119b1",
   "metadata": {},
   "outputs": [],
   "source": [
    "# mne.viz.plot_montage(snirf.get_montage(), kind='3d');"
   ]
  },
  {
   "cell_type": "code",
   "execution_count": 9,
   "id": "117f4732-1b53-48c9-9527-95fcac6c0b62",
   "metadata": {},
   "outputs": [
    {
     "data": {
      "text/html": [
       "<div>\n",
       "<style scoped>\n",
       "    .dataframe tbody tr th:only-of-type {\n",
       "        vertical-align: middle;\n",
       "    }\n",
       "\n",
       "    .dataframe tbody tr th {\n",
       "        vertical-align: top;\n",
       "    }\n",
       "\n",
       "    .dataframe thead th {\n",
       "        text-align: right;\n",
       "    }\n",
       "</style>\n",
       "<table border=\"1\" class=\"dataframe\">\n",
       "  <thead>\n",
       "    <tr style=\"text-align: right;\">\n",
       "      <th></th>\n",
       "      <th>time</th>\n",
       "      <th>S01_D01d1 HbO</th>\n",
       "      <th>S00_D01d5 HbO</th>\n",
       "      <th>S01_D01d1 HbR</th>\n",
       "      <th>S00_D01d5 HbR</th>\n",
       "      <th>S01_D01d2 HbO</th>\n",
       "      <th>S00_D01d0 HbO</th>\n",
       "      <th>S01_D01d2 HbR</th>\n",
       "      <th>S00_D01d0 HbR</th>\n",
       "      <th>S01_D01d3 HbO</th>\n",
       "      <th>...</th>\n",
       "      <th>S51_D51d4 HbR</th>\n",
       "      <th>S50_D50d5 HbR</th>\n",
       "      <th>S51_D51d5 HbO</th>\n",
       "      <th>S50_D50d4 HbO</th>\n",
       "      <th>S51_D51d5 HbR</th>\n",
       "      <th>S50_D50d4 HbR</th>\n",
       "      <th>S00_D01d1 HbO</th>\n",
       "      <th>S50_D50d3 HbO</th>\n",
       "      <th>S00_D01d1 HbR</th>\n",
       "      <th>S50_D50d3 HbR</th>\n",
       "    </tr>\n",
       "  </thead>\n",
       "  <tbody>\n",
       "    <tr>\n",
       "      <th>0</th>\n",
       "      <td>0</td>\n",
       "      <td>-0.178151</td>\n",
       "      <td>NaN</td>\n",
       "      <td>-0.327102</td>\n",
       "      <td>NaN</td>\n",
       "      <td>-0.332968</td>\n",
       "      <td>NaN</td>\n",
       "      <td>-0.033717</td>\n",
       "      <td>NaN</td>\n",
       "      <td>0.035864</td>\n",
       "      <td>...</td>\n",
       "      <td>-0.037801</td>\n",
       "      <td>-0.476199</td>\n",
       "      <td>-0.294221</td>\n",
       "      <td>0.058416</td>\n",
       "      <td>-0.073283</td>\n",
       "      <td>-0.297475</td>\n",
       "      <td>NaN</td>\n",
       "      <td>0.064635</td>\n",
       "      <td>NaN</td>\n",
       "      <td>-0.522600</td>\n",
       "    </tr>\n",
       "    <tr>\n",
       "      <th>1</th>\n",
       "      <td>121</td>\n",
       "      <td>0.201755</td>\n",
       "      <td>NaN</td>\n",
       "      <td>-0.161628</td>\n",
       "      <td>NaN</td>\n",
       "      <td>0.048661</td>\n",
       "      <td>NaN</td>\n",
       "      <td>0.107372</td>\n",
       "      <td>NaN</td>\n",
       "      <td>-0.447351</td>\n",
       "      <td>...</td>\n",
       "      <td>0.023906</td>\n",
       "      <td>-0.319487</td>\n",
       "      <td>0.068450</td>\n",
       "      <td>0.006661</td>\n",
       "      <td>-0.070971</td>\n",
       "      <td>-0.042761</td>\n",
       "      <td>NaN</td>\n",
       "      <td>0.120120</td>\n",
       "      <td>NaN</td>\n",
       "      <td>-0.341787</td>\n",
       "    </tr>\n",
       "    <tr>\n",
       "      <th>2</th>\n",
       "      <td>242</td>\n",
       "      <td>0.130287</td>\n",
       "      <td>NaN</td>\n",
       "      <td>0.212125</td>\n",
       "      <td>NaN</td>\n",
       "      <td>0.643276</td>\n",
       "      <td>NaN</td>\n",
       "      <td>0.337075</td>\n",
       "      <td>NaN</td>\n",
       "      <td>0.030659</td>\n",
       "      <td>...</td>\n",
       "      <td>0.074454</td>\n",
       "      <td>-0.474808</td>\n",
       "      <td>0.258566</td>\n",
       "      <td>-0.034438</td>\n",
       "      <td>0.271841</td>\n",
       "      <td>-0.027833</td>\n",
       "      <td>NaN</td>\n",
       "      <td>0.252212</td>\n",
       "      <td>NaN</td>\n",
       "      <td>-0.238864</td>\n",
       "    </tr>\n",
       "    <tr>\n",
       "      <th>3</th>\n",
       "      <td>363</td>\n",
       "      <td>0.364975</td>\n",
       "      <td>NaN</td>\n",
       "      <td>-0.081260</td>\n",
       "      <td>NaN</td>\n",
       "      <td>0.791052</td>\n",
       "      <td>NaN</td>\n",
       "      <td>0.326487</td>\n",
       "      <td>NaN</td>\n",
       "      <td>0.938444</td>\n",
       "      <td>...</td>\n",
       "      <td>-0.088228</td>\n",
       "      <td>-0.572819</td>\n",
       "      <td>0.187094</td>\n",
       "      <td>-0.255659</td>\n",
       "      <td>0.011895</td>\n",
       "      <td>-0.091246</td>\n",
       "      <td>NaN</td>\n",
       "      <td>0.369100</td>\n",
       "      <td>NaN</td>\n",
       "      <td>-0.045460</td>\n",
       "    </tr>\n",
       "    <tr>\n",
       "      <th>4</th>\n",
       "      <td>484</td>\n",
       "      <td>0.212543</td>\n",
       "      <td>NaN</td>\n",
       "      <td>-0.230071</td>\n",
       "      <td>NaN</td>\n",
       "      <td>0.614283</td>\n",
       "      <td>NaN</td>\n",
       "      <td>0.227295</td>\n",
       "      <td>NaN</td>\n",
       "      <td>0.694140</td>\n",
       "      <td>...</td>\n",
       "      <td>-0.131974</td>\n",
       "      <td>-0.495026</td>\n",
       "      <td>-0.111517</td>\n",
       "      <td>0.033899</td>\n",
       "      <td>0.102685</td>\n",
       "      <td>-0.027066</td>\n",
       "      <td>NaN</td>\n",
       "      <td>0.350900</td>\n",
       "      <td>NaN</td>\n",
       "      <td>-0.492513</td>\n",
       "    </tr>\n",
       "    <tr>\n",
       "      <th>...</th>\n",
       "      <td>...</td>\n",
       "      <td>...</td>\n",
       "      <td>...</td>\n",
       "      <td>...</td>\n",
       "      <td>...</td>\n",
       "      <td>...</td>\n",
       "      <td>...</td>\n",
       "      <td>...</td>\n",
       "      <td>...</td>\n",
       "      <td>...</td>\n",
       "      <td>...</td>\n",
       "      <td>...</td>\n",
       "      <td>...</td>\n",
       "      <td>...</td>\n",
       "      <td>...</td>\n",
       "      <td>...</td>\n",
       "      <td>...</td>\n",
       "      <td>...</td>\n",
       "      <td>...</td>\n",
       "      <td>...</td>\n",
       "      <td>...</td>\n",
       "    </tr>\n",
       "    <tr>\n",
       "      <th>6431</th>\n",
       "      <td>778794</td>\n",
       "      <td>-0.090868</td>\n",
       "      <td>NaN</td>\n",
       "      <td>-0.060062</td>\n",
       "      <td>NaN</td>\n",
       "      <td>0.287273</td>\n",
       "      <td>NaN</td>\n",
       "      <td>0.092337</td>\n",
       "      <td>NaN</td>\n",
       "      <td>0.016823</td>\n",
       "      <td>...</td>\n",
       "      <td>0.151024</td>\n",
       "      <td>-0.560621</td>\n",
       "      <td>0.029816</td>\n",
       "      <td>0.222343</td>\n",
       "      <td>-0.078319</td>\n",
       "      <td>-0.111144</td>\n",
       "      <td>NaN</td>\n",
       "      <td>0.198959</td>\n",
       "      <td>NaN</td>\n",
       "      <td>-0.382540</td>\n",
       "    </tr>\n",
       "    <tr>\n",
       "      <th>6432</th>\n",
       "      <td>778915</td>\n",
       "      <td>-0.031452</td>\n",
       "      <td>NaN</td>\n",
       "      <td>-0.108140</td>\n",
       "      <td>NaN</td>\n",
       "      <td>0.053440</td>\n",
       "      <td>NaN</td>\n",
       "      <td>0.324133</td>\n",
       "      <td>NaN</td>\n",
       "      <td>-0.006867</td>\n",
       "      <td>...</td>\n",
       "      <td>-0.184947</td>\n",
       "      <td>-0.540547</td>\n",
       "      <td>-0.164479</td>\n",
       "      <td>0.183508</td>\n",
       "      <td>-0.014849</td>\n",
       "      <td>-0.141547</td>\n",
       "      <td>NaN</td>\n",
       "      <td>0.644691</td>\n",
       "      <td>NaN</td>\n",
       "      <td>-0.350467</td>\n",
       "    </tr>\n",
       "    <tr>\n",
       "      <th>6433</th>\n",
       "      <td>779036</td>\n",
       "      <td>-0.237843</td>\n",
       "      <td>NaN</td>\n",
       "      <td>-0.297068</td>\n",
       "      <td>NaN</td>\n",
       "      <td>-0.021638</td>\n",
       "      <td>NaN</td>\n",
       "      <td>-0.055223</td>\n",
       "      <td>NaN</td>\n",
       "      <td>-0.015140</td>\n",
       "      <td>...</td>\n",
       "      <td>-0.394102</td>\n",
       "      <td>-0.201754</td>\n",
       "      <td>-0.088554</td>\n",
       "      <td>-0.234830</td>\n",
       "      <td>-0.072660</td>\n",
       "      <td>-0.130237</td>\n",
       "      <td>NaN</td>\n",
       "      <td>-0.094240</td>\n",
       "      <td>NaN</td>\n",
       "      <td>-0.220698</td>\n",
       "    </tr>\n",
       "    <tr>\n",
       "      <th>6434</th>\n",
       "      <td>779157</td>\n",
       "      <td>-0.121322</td>\n",
       "      <td>NaN</td>\n",
       "      <td>-0.439646</td>\n",
       "      <td>NaN</td>\n",
       "      <td>0.134272</td>\n",
       "      <td>NaN</td>\n",
       "      <td>0.137854</td>\n",
       "      <td>NaN</td>\n",
       "      <td>0.188843</td>\n",
       "      <td>...</td>\n",
       "      <td>-0.348831</td>\n",
       "      <td>-0.677945</td>\n",
       "      <td>-0.076206</td>\n",
       "      <td>0.310123</td>\n",
       "      <td>-0.186896</td>\n",
       "      <td>-0.410460</td>\n",
       "      <td>NaN</td>\n",
       "      <td>0.464486</td>\n",
       "      <td>NaN</td>\n",
       "      <td>-0.602256</td>\n",
       "    </tr>\n",
       "    <tr>\n",
       "      <th>6435</th>\n",
       "      <td>779279</td>\n",
       "      <td>0.705162</td>\n",
       "      <td>NaN</td>\n",
       "      <td>-0.226494</td>\n",
       "      <td>NaN</td>\n",
       "      <td>0.324057</td>\n",
       "      <td>NaN</td>\n",
       "      <td>0.044484</td>\n",
       "      <td>NaN</td>\n",
       "      <td>0.909100</td>\n",
       "      <td>...</td>\n",
       "      <td>-0.110514</td>\n",
       "      <td>-0.319749</td>\n",
       "      <td>-0.165006</td>\n",
       "      <td>-0.843167</td>\n",
       "      <td>-0.112499</td>\n",
       "      <td>0.365965</td>\n",
       "      <td>NaN</td>\n",
       "      <td>-0.077933</td>\n",
       "      <td>NaN</td>\n",
       "      <td>-0.294188</td>\n",
       "    </tr>\n",
       "  </tbody>\n",
       "</table>\n",
       "<p>6436 rows × 4413 columns</p>\n",
       "</div>"
      ],
      "text/plain": [
       "        time  S01_D01d1 HbO  S00_D01d5 HbO  S01_D01d1 HbR  S00_D01d5 HbR  \\\n",
       "0          0      -0.178151            NaN      -0.327102            NaN   \n",
       "1        121       0.201755            NaN      -0.161628            NaN   \n",
       "2        242       0.130287            NaN       0.212125            NaN   \n",
       "3        363       0.364975            NaN      -0.081260            NaN   \n",
       "4        484       0.212543            NaN      -0.230071            NaN   \n",
       "...      ...            ...            ...            ...            ...   \n",
       "6431  778794      -0.090868            NaN      -0.060062            NaN   \n",
       "6432  778915      -0.031452            NaN      -0.108140            NaN   \n",
       "6433  779036      -0.237843            NaN      -0.297068            NaN   \n",
       "6434  779157      -0.121322            NaN      -0.439646            NaN   \n",
       "6435  779279       0.705162            NaN      -0.226494            NaN   \n",
       "\n",
       "      S01_D01d2 HbO  S00_D01d0 HbO  S01_D01d2 HbR  S00_D01d0 HbR  \\\n",
       "0         -0.332968            NaN      -0.033717            NaN   \n",
       "1          0.048661            NaN       0.107372            NaN   \n",
       "2          0.643276            NaN       0.337075            NaN   \n",
       "3          0.791052            NaN       0.326487            NaN   \n",
       "4          0.614283            NaN       0.227295            NaN   \n",
       "...             ...            ...            ...            ...   \n",
       "6431       0.287273            NaN       0.092337            NaN   \n",
       "6432       0.053440            NaN       0.324133            NaN   \n",
       "6433      -0.021638            NaN      -0.055223            NaN   \n",
       "6434       0.134272            NaN       0.137854            NaN   \n",
       "6435       0.324057            NaN       0.044484            NaN   \n",
       "\n",
       "      S01_D01d3 HbO  ...  S51_D51d4 HbR  S50_D50d5 HbR  S51_D51d5 HbO  \\\n",
       "0          0.035864  ...      -0.037801      -0.476199      -0.294221   \n",
       "1         -0.447351  ...       0.023906      -0.319487       0.068450   \n",
       "2          0.030659  ...       0.074454      -0.474808       0.258566   \n",
       "3          0.938444  ...      -0.088228      -0.572819       0.187094   \n",
       "4          0.694140  ...      -0.131974      -0.495026      -0.111517   \n",
       "...             ...  ...            ...            ...            ...   \n",
       "6431       0.016823  ...       0.151024      -0.560621       0.029816   \n",
       "6432      -0.006867  ...      -0.184947      -0.540547      -0.164479   \n",
       "6433      -0.015140  ...      -0.394102      -0.201754      -0.088554   \n",
       "6434       0.188843  ...      -0.348831      -0.677945      -0.076206   \n",
       "6435       0.909100  ...      -0.110514      -0.319749      -0.165006   \n",
       "\n",
       "      S50_D50d4 HbO  S51_D51d5 HbR  S50_D50d4 HbR  S00_D01d1 HbO  \\\n",
       "0          0.058416      -0.073283      -0.297475            NaN   \n",
       "1          0.006661      -0.070971      -0.042761            NaN   \n",
       "2         -0.034438       0.271841      -0.027833            NaN   \n",
       "3         -0.255659       0.011895      -0.091246            NaN   \n",
       "4          0.033899       0.102685      -0.027066            NaN   \n",
       "...             ...            ...            ...            ...   \n",
       "6431       0.222343      -0.078319      -0.111144            NaN   \n",
       "6432       0.183508      -0.014849      -0.141547            NaN   \n",
       "6433      -0.234830      -0.072660      -0.130237            NaN   \n",
       "6434       0.310123      -0.186896      -0.410460            NaN   \n",
       "6435      -0.843167      -0.112499       0.365965            NaN   \n",
       "\n",
       "      S50_D50d3 HbO  S00_D01d1 HbR  S50_D50d3 HbR  \n",
       "0          0.064635            NaN      -0.522600  \n",
       "1          0.120120            NaN      -0.341787  \n",
       "2          0.252212            NaN      -0.238864  \n",
       "3          0.369100            NaN      -0.045460  \n",
       "4          0.350900            NaN      -0.492513  \n",
       "...             ...            ...            ...  \n",
       "6431       0.198959            NaN      -0.382540  \n",
       "6432       0.644691            NaN      -0.350467  \n",
       "6433      -0.094240            NaN      -0.220698  \n",
       "6434       0.464486            NaN      -0.602256  \n",
       "6435      -0.077933            NaN      -0.294188  \n",
       "\n",
       "[6436 rows x 4413 columns]"
      ]
     },
     "execution_count": 9,
     "metadata": {},
     "output_type": "execute_result"
    }
   ],
   "source": [
    "snirf.to_data_frame()"
   ]
  },
  {
   "cell_type": "code",
   "execution_count": 10,
   "id": "cf94afb6-b54f-4eac-9cb8-3bb8b1af1e71",
   "metadata": {},
   "outputs": [],
   "source": [
    "# snirf.annotations.description"
   ]
  },
  {
   "cell_type": "code",
   "execution_count": 11,
   "id": "267cb1f6-faf4-4ca2-8f8f-f8d4830835ae",
   "metadata": {},
   "outputs": [],
   "source": [
    "%matplotlib inline\n",
    "%matplotlib widget"
   ]
  },
  {
   "cell_type": "code",
   "execution_count": 12,
   "id": "dc870dad-5d55-4be5-9021-ade822d2cbba",
   "metadata": {},
   "outputs": [],
   "source": [
    "tstart = snirf.annotations.onset[(snirf.annotations.description) == 'StartBlock']"
   ]
  },
  {
   "cell_type": "code",
   "execution_count": 13,
   "id": "844f6fa1-226a-45e4-9796-b60067d65321",
   "metadata": {},
   "outputs": [
    {
     "data": {
      "text/plain": [
       "array([ 23.326003,  61.166038,  99.898046, 136.830083, 174.594103,\n",
       "       212.130058, 250.367481, 289.066241, 325.966033, 364.581999,\n",
       "       402.71939 , 440.817997, 478.619418, 515.922064, 554.186121,\n",
       "       593.022084, 630.489995, 668.858091, 706.692123, 742.930099])"
      ]
     },
     "execution_count": 13,
     "metadata": {},
     "output_type": "execute_result"
    }
   ],
   "source": [
    "tstart"
   ]
  },
  {
   "cell_type": "code",
   "execution_count": 14,
   "id": "93f58740-5c2b-46fd-b595-6447401f6a11",
   "metadata": {},
   "outputs": [],
   "source": [
    "# snirf.plot(n_channels=len(snirf.ch_names[:2]), duration=120, show_scrollbars=False, scalings='auto', clipping=None, start=tstart);"
   ]
  },
  {
   "cell_type": "code",
   "execution_count": 15,
   "id": "c3f93a85-25d6-41f7-b183-ba47d1a81ce5",
   "metadata": {},
   "outputs": [
    {
     "name": "stdout",
     "output_type": "stream",
     "text": [
      "Used Annotations descriptions: ['StartBlock', 'StartExperiment', 'StartIti', 'StartRest', 'StartTrial']\n"
     ]
    }
   ],
   "source": [
    "events, event_dict = mne.events_from_annotations(snirf)"
   ]
  },
  {
   "cell_type": "code",
   "execution_count": 16,
   "id": "a5515b4f-dd12-40c2-9051-b2ccd712812d",
   "metadata": {},
   "outputs": [
    {
     "data": {
      "application/vnd.jupyter.widget-view+json": {
       "model_id": "1a020f791d494e33b9c3c4b5bb2f14f9",
       "version_major": 2,
       "version_minor": 0
      },
      "image/png": "[encoded data removed]",
      "text/html": [
       "\n",
       "            <div style=\"display: inline-block;\">\n",
       "                <div class=\"jupyter-widgets widget-label\" style=\"text-align: center;\">\n",
       "                    Figure\n",
       "                </div>\n",
       "                <img src='data:image/png;base64,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' width=432.0/>\n",
       "            </div>\n",
       "        "
      ],
      "text/plain": [
       "Canvas(toolbar=Toolbar(toolitems=[('Home', 'Reset original view', 'home', 'home'), ('Back', 'Back to previous …"
      ]
     },
     "metadata": {},
     "output_type": "display_data"
    }
   ],
   "source": [
    "fig = mne.viz.plot_events(events, event_id=event_dict, sfreq=snirf.info['sfreq'])\n",
    "fig.subplots_adjust(right=0.7)"
   ]
  },
  {
   "cell_type": "code",
   "execution_count": 17,
   "id": "97aa0fce-2849-47d4-b3b9-ba8524729733",
   "metadata": {},
   "outputs": [
    {
     "name": "stdout",
     "output_type": "stream",
     "text": [
      "Not setting metadata\n",
      "Multiple event values for single event times found. Creating new event value to reflect simultaneous events.\n",
      "Not setting metadata\n",
      "564 matching events found\n",
      "Applying baseline correction (mode: mean)\n",
      "0 projection items activated\n",
      "Loading data for 564 events and 290 original time points ...\n",
      "19 bad epochs dropped\n"
     ]
    }
   ],
   "source": [
    "tmin, tmax = -5, 30\n",
    "epochs = mne.Epochs(snirf, events, event_id=event_dict, tmin=tmin, tmax=tmax, proj=True, baseline=(tmin, 0), preload=True, detrend=None, verbose=True, event_repeated='merge')"
   ]
  },
  {
   "cell_type": "code",
   "execution_count": 18,
   "id": "a7155a12-f1c5-4ea6-a72a-c169e3b0a7eb",
   "metadata": {},
   "outputs": [
    {
     "data": {
      "text/html": [
       "\n",
       "<table class=\"table table-hover\">\n",
       "    <tr>\n",
       "        <th>Number of events</th>\n",
       "        <td>545</td>\n",
       "    </tr>\n",
       "    <tr>\n",
       "        <th>Events</th>\n",
       "        <td>StartBlock: 7<br>StartBlock/StartIti: 13<br>StartExperiment/StartRest: 0<br>StartIti: 254<br>StartIti/StartTrial: 4<br>StartRest: 19<br>StartTrial: 248<br></td>\n",
       "    </tr>\n",
       "    <tr>\n",
       "        <th>Time range</th>\n",
       "        <td>-4.965 – 30.033 sec</td>\n",
       "    </tr>\n",
       "    <tr>\n",
       "        <th>Baseline</th>\n",
       "        <td>-5.000 – 0.000 sec</td>\n",
       "    </tr>\n",
       "</table>\n"
      ],
      "text/plain": [
       "<Epochs |  545 events (all good), -4.9651 - 30.0328 sec, baseline -5 – 0 sec, ~5.20 GB, data loaded,\n",
       " 'StartBlock': 7\n",
       " 'StartBlock/StartIti': 13\n",
       " 'StartExperiment/StartRest': 0\n",
       " 'StartIti': 254\n",
       " 'StartIti/StartTrial': 4\n",
       " 'StartRest': 19\n",
       " 'StartTrial': 248>"
      ]
     },
     "execution_count": 18,
     "metadata": {},
     "output_type": "execute_result"
    }
   ],
   "source": [
    "epochs"
   ]
  },
  {
   "cell_type": "code",
   "execution_count": 19,
   "id": "c0878b8b-dd17-4be9-b1f6-ae057fda4837",
   "metadata": {},
   "outputs": [],
   "source": [
    "single_snirf = snirf.copy()"
   ]
  },
  {
   "cell_type": "code",
   "execution_count": 20,
   "id": "71935822-3e80-4ca8-ac77-b0360236e8ac",
   "metadata": {},
   "outputs": [],
   "source": [
    "channel_name = 'S11_D11d2'"
   ]
  },
  {
   "cell_type": "code",
   "execution_count": 21,
   "id": "c98f74ea-4f7b-4fd2-8bb1-3ce30b2b5ac9",
   "metadata": {},
   "outputs": [
    {
     "data": {
      "text/plain": [
       "<function mne.event.pick_events(events, include=None, exclude=None, step=False)>"
      ]
     },
     "execution_count": 21,
     "metadata": {},
     "output_type": "execute_result"
    }
   ],
   "source": [
    "mne.pick_events"
   ]
  },
  {
   "cell_type": "code",
   "execution_count": 22,
   "id": "12a5df86-3915-4de9-a336-3df19bd73623",
   "metadata": {},
   "outputs": [
    {
     "data": {
      "text/plain": [
       "[932, 934]"
      ]
     },
     "execution_count": 22,
     "metadata": {},
     "output_type": "execute_result"
    }
   ],
   "source": [
    "picks = mne.pick_channels_regexp(single_snirf.ch_names, regexp=channel_name)\n",
    "picks"
   ]
  },
  {
   "cell_type": "code",
   "execution_count": 23,
   "id": "ecdfd182-01db-41c4-93d5-d6502e29bcc9",
   "metadata": {},
   "outputs": [
    {
     "data": {
      "text/plain": [
       "mne.io.snirf._snirf.RawSNIRF"
      ]
     },
     "execution_count": 23,
     "metadata": {},
     "output_type": "execute_result"
    }
   ],
   "source": [
    "type(snirf)"
   ]
  },
  {
   "cell_type": "code",
   "execution_count": 24,
   "id": "ad17d01b-f8cb-48d2-9a39-db023bb9fac7",
   "metadata": {},
   "outputs": [],
   "source": [
    "# snirf.plot(order = picks, n_channels=len(picks), duration=10, show_scrollbars=True, scalings='auto', clipping=None, start=tstart, verbose=True);\n",
    "sep_ch = single_snirf.pick(picks)"
   ]
  },
  {
   "cell_type": "code",
   "execution_count": 25,
   "id": "23f619a5-4eb5-4ee7-9a89-d109e1c964f1",
   "metadata": {},
   "outputs": [
    {
     "name": "stdout",
     "output_type": "stream",
     "text": [
      "Not setting metadata\n",
      "Multiple event values for single event times found. Creating new event value to reflect simultaneous events.\n",
      "Not setting metadata\n",
      "564 matching events found\n",
      "Applying baseline correction (mode: mean)\n",
      "0 projection items activated\n",
      "Loading data for 564 events and 290 original time points ...\n",
      "19 bad epochs dropped\n"
     ]
    }
   ],
   "source": [
    "epochs_single = mne.Epochs(sep_ch, events, event_id=event_dict, tmin=tmin, tmax=tmax, proj=True, baseline=(tmin, 0), preload=True, detrend=None, verbose=True, event_repeated='merge')"
   ]
  },
  {
   "cell_type": "code",
   "execution_count": 26,
   "id": "e6ef2cf7-c04e-41c4-8491-ba832a9ae5bd",
   "metadata": {},
   "outputs": [
    {
     "data": {
      "text/plain": [
       "['S11_D11d2 HbO', 'S11_D11d2 HbR']"
      ]
     },
     "execution_count": 26,
     "metadata": {},
     "output_type": "execute_result"
    }
   ],
   "source": [
    "epochs_single.ch_names"
   ]
  },
  {
   "cell_type": "code",
   "execution_count": 27,
   "id": "23ba3b52-2136-43d7-9307-dce404772d62",
   "metadata": {},
   "outputs": [],
   "source": [
    "evoked_dict = {'O2Hb': epochs_single['StartTrial'].average(picks=channel_name+' HbO'),\n",
    "               'HHb': epochs_single['StartTrial'].average(picks=channel_name+' HbR')\n",
    "              }"
   ]
  },
  {
   "cell_type": "code",
   "execution_count": 28,
   "id": "8c1f8112-cf48-41f8-a6b0-08752997721f",
   "metadata": {},
   "outputs": [
    {
     "data": {
      "text/plain": [
       "{'O2Hb': <Evoked | '0.98 × StartTrial + 0.02 × StartIti/StartTrial' (average, N=252), -4.9651 – 30.033 sec, baseline -5 – 0 sec, 1 ch, ~1.8 MB>,\n",
       " 'HHb': <Evoked | '0.98 × StartTrial + 0.02 × StartIti/StartTrial' (average, N=252), -4.9651 – 30.033 sec, baseline -5 – 0 sec, 1 ch, ~1.8 MB>}"
      ]
     },
     "execution_count": 28,
     "metadata": {},
     "output_type": "execute_result"
    }
   ],
   "source": [
    "evoked_dict"
   ]
  },
  {
   "cell_type": "code",
   "execution_count": 29,
   "id": "860f5c72-8d5e-4e9b-a872-5fa9d70cdfea",
   "metadata": {},
   "outputs": [],
   "source": [
    "for condition in evoked_dict:\n",
    "  evoked_dict[condition].rename_channels(lambda x: x[:-4])"
   ]
  },
  {
   "cell_type": "code",
   "execution_count": 30,
   "id": "10174ede-453e-4f56-ba41-5ecff7e1e23c",
   "metadata": {},
   "outputs": [],
   "source": [
    "color_dict = dict(O2Hb='#AA3377', HHb='b')"
   ]
  },
  {
   "cell_type": "code",
   "execution_count": 31,
   "id": "fcd71432-569e-4cd1-a8ee-2158e086a847",
   "metadata": {},
   "outputs": [
    {
     "data": {
      "application/vnd.jupyter.widget-view+json": {
       "model_id": "59158509fc6c4197be2429ae4f010b2b",
       "version_major": 2,
       "version_minor": 0
      },
      "image/png": "[encoded data removed]",
      "text/html": [
       "\n",
       "            <div style=\"display: inline-block;\">\n",
       "                <div class=\"jupyter-widgets widget-label\" style=\"text-align: center;\">\n",
       "                    Figure\n",
       "                </div>\n",
       "                <img src='data:image/png;base64,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' width=576.0/>\n",
       "            </div>\n",
       "        "
      ],
      "text/plain": [
       "Canvas(toolbar=Toolbar(toolitems=[('Home', 'Reset original view', 'home', 'home'), ('Back', 'Back to previous …"
      ]
     },
     "metadata": {},
     "output_type": "display_data"
    }
   ],
   "source": [
    "mne.viz.plot_compare_evokeds(evoked_dict, ci=0.95,\n",
    "      colors=color_dict);"
   ]
  },
  {
   "cell_type": "code",
   "execution_count": 32,
   "id": "92faeb0f-5b1b-4c0d-b48f-50ce0f14b85d",
   "metadata": {},
   "outputs": [
    {
     "name": "stdout",
     "output_type": "stream",
     "text": [
      "Not setting metadata\n",
      "Not setting metadata\n",
      "20 matching events found\n",
      "No baseline correction applied\n",
      "0 projection items activated\n",
      "0 bad epochs dropped\n",
      "combining channels using \"mean\"\n"
     ]
    },
    {
     "ename": "ValueError",
     "evalue": "Some of the values  to be plotted are NaN.",
     "output_type": "error",
     "traceback": [
      "\u001b[0;31m---------------------------------------------------------------------------\u001b[0m",
      "\u001b[0;31mValueError\u001b[0m                                Traceback (most recent call last)",
      "Input \u001b[0;32mIn [32]\u001b[0m, in \u001b[0;36m<module>\u001b[0;34m\u001b[0m\n\u001b[0;32m----> 1\u001b[0m \u001b[43mepochs\u001b[49m\u001b[43m[\u001b[49m\u001b[38;5;124;43m'\u001b[39;49m\u001b[38;5;124;43mStartBlock\u001b[39;49m\u001b[38;5;124;43m'\u001b[39;49m\u001b[43m]\u001b[49m\u001b[38;5;241;43m.\u001b[39;49m\u001b[43mplot_image\u001b[49m\u001b[43m(\u001b[49m\u001b[43mcombine\u001b[49m\u001b[38;5;241;43m=\u001b[39;49m\u001b[38;5;124;43m'\u001b[39;49m\u001b[38;5;124;43mmean\u001b[39;49m\u001b[38;5;124;43m'\u001b[39;49m\u001b[43m)\u001b[49m\n",
      "File \u001b[0;32m~/Desktop/py_test/project/venv/lib/python3.8/site-packages/mne/epochs.py:1253\u001b[0m, in \u001b[0;36mBaseEpochs.plot_image\u001b[0;34m(self, picks, sigma, vmin, vmax, colorbar, order, show, units, scalings, cmap, fig, axes, overlay_times, combine, group_by, evoked, ts_args, title, clear)\u001b[0m\n\u001b[1;32m   1247\u001b[0m \u001b[38;5;129m@copy_function_doc_to_method_doc\u001b[39m(plot_epochs_image)\n\u001b[1;32m   1248\u001b[0m \u001b[38;5;28;01mdef\u001b[39;00m \u001b[38;5;21mplot_image\u001b[39m(\u001b[38;5;28mself\u001b[39m, picks\u001b[38;5;241m=\u001b[39m\u001b[38;5;28;01mNone\u001b[39;00m, sigma\u001b[38;5;241m=\u001b[39m\u001b[38;5;241m0.\u001b[39m, vmin\u001b[38;5;241m=\u001b[39m\u001b[38;5;28;01mNone\u001b[39;00m, vmax\u001b[38;5;241m=\u001b[39m\u001b[38;5;28;01mNone\u001b[39;00m,\n\u001b[1;32m   1249\u001b[0m                colorbar\u001b[38;5;241m=\u001b[39m\u001b[38;5;28;01mTrue\u001b[39;00m, order\u001b[38;5;241m=\u001b[39m\u001b[38;5;28;01mNone\u001b[39;00m, show\u001b[38;5;241m=\u001b[39m\u001b[38;5;28;01mTrue\u001b[39;00m, units\u001b[38;5;241m=\u001b[39m\u001b[38;5;28;01mNone\u001b[39;00m,\n\u001b[1;32m   1250\u001b[0m                scalings\u001b[38;5;241m=\u001b[39m\u001b[38;5;28;01mNone\u001b[39;00m, cmap\u001b[38;5;241m=\u001b[39m\u001b[38;5;28;01mNone\u001b[39;00m, fig\u001b[38;5;241m=\u001b[39m\u001b[38;5;28;01mNone\u001b[39;00m, axes\u001b[38;5;241m=\u001b[39m\u001b[38;5;28;01mNone\u001b[39;00m,\n\u001b[1;32m   1251\u001b[0m                overlay_times\u001b[38;5;241m=\u001b[39m\u001b[38;5;28;01mNone\u001b[39;00m, combine\u001b[38;5;241m=\u001b[39m\u001b[38;5;28;01mNone\u001b[39;00m, group_by\u001b[38;5;241m=\u001b[39m\u001b[38;5;28;01mNone\u001b[39;00m,\n\u001b[1;32m   1252\u001b[0m                evoked\u001b[38;5;241m=\u001b[39m\u001b[38;5;28;01mTrue\u001b[39;00m, ts_args\u001b[38;5;241m=\u001b[39m\u001b[38;5;28;01mNone\u001b[39;00m, title\u001b[38;5;241m=\u001b[39m\u001b[38;5;28;01mNone\u001b[39;00m, clear\u001b[38;5;241m=\u001b[39m\u001b[38;5;28;01mFalse\u001b[39;00m):\n\u001b[0;32m-> 1253\u001b[0m     \u001b[38;5;28;01mreturn\u001b[39;00m \u001b[43mplot_epochs_image\u001b[49m\u001b[43m(\u001b[49m\u001b[38;5;28;43mself\u001b[39;49m\u001b[43m,\u001b[49m\u001b[43m \u001b[49m\u001b[43mpicks\u001b[49m\u001b[38;5;241;43m=\u001b[39;49m\u001b[43mpicks\u001b[49m\u001b[43m,\u001b[49m\u001b[43m \u001b[49m\u001b[43msigma\u001b[49m\u001b[38;5;241;43m=\u001b[39;49m\u001b[43msigma\u001b[49m\u001b[43m,\u001b[49m\u001b[43m \u001b[49m\u001b[43mvmin\u001b[49m\u001b[38;5;241;43m=\u001b[39;49m\u001b[43mvmin\u001b[49m\u001b[43m,\u001b[49m\n\u001b[1;32m   1254\u001b[0m \u001b[43m                             \u001b[49m\u001b[43mvmax\u001b[49m\u001b[38;5;241;43m=\u001b[39;49m\u001b[43mvmax\u001b[49m\u001b[43m,\u001b[49m\u001b[43m \u001b[49m\u001b[43mcolorbar\u001b[49m\u001b[38;5;241;43m=\u001b[39;49m\u001b[43mcolorbar\u001b[49m\u001b[43m,\u001b[49m\u001b[43m \u001b[49m\u001b[43morder\u001b[49m\u001b[38;5;241;43m=\u001b[39;49m\u001b[43morder\u001b[49m\u001b[43m,\u001b[49m\n\u001b[1;32m   1255\u001b[0m \u001b[43m                             \u001b[49m\u001b[43mshow\u001b[49m\u001b[38;5;241;43m=\u001b[39;49m\u001b[43mshow\u001b[49m\u001b[43m,\u001b[49m\u001b[43m \u001b[49m\u001b[43munits\u001b[49m\u001b[38;5;241;43m=\u001b[39;49m\u001b[43munits\u001b[49m\u001b[43m,\u001b[49m\u001b[43m \u001b[49m\u001b[43mscalings\u001b[49m\u001b[38;5;241;43m=\u001b[39;49m\u001b[43mscalings\u001b[49m\u001b[43m,\u001b[49m\n\u001b[1;32m   1256\u001b[0m \u001b[43m                             \u001b[49m\u001b[43mcmap\u001b[49m\u001b[38;5;241;43m=\u001b[39;49m\u001b[43mcmap\u001b[49m\u001b[43m,\u001b[49m\u001b[43m \u001b[49m\u001b[43mfig\u001b[49m\u001b[38;5;241;43m=\u001b[39;49m\u001b[43mfig\u001b[49m\u001b[43m,\u001b[49m\u001b[43m \u001b[49m\u001b[43maxes\u001b[49m\u001b[38;5;241;43m=\u001b[39;49m\u001b[43maxes\u001b[49m\u001b[43m,\u001b[49m\n\u001b[1;32m   1257\u001b[0m \u001b[43m                             \u001b[49m\u001b[43moverlay_times\u001b[49m\u001b[38;5;241;43m=\u001b[39;49m\u001b[43moverlay_times\u001b[49m\u001b[43m,\u001b[49m\u001b[43m \u001b[49m\u001b[43mcombine\u001b[49m\u001b[38;5;241;43m=\u001b[39;49m\u001b[43mcombine\u001b[49m\u001b[43m,\u001b[49m\n\u001b[1;32m   1258\u001b[0m \u001b[43m                             \u001b[49m\u001b[43mgroup_by\u001b[49m\u001b[38;5;241;43m=\u001b[39;49m\u001b[43mgroup_by\u001b[49m\u001b[43m,\u001b[49m\u001b[43m \u001b[49m\u001b[43mevoked\u001b[49m\u001b[38;5;241;43m=\u001b[39;49m\u001b[43mevoked\u001b[49m\u001b[43m,\u001b[49m\n\u001b[1;32m   1259\u001b[0m \u001b[43m                             \u001b[49m\u001b[43mts_args\u001b[49m\u001b[38;5;241;43m=\u001b[39;49m\u001b[43mts_args\u001b[49m\u001b[43m,\u001b[49m\u001b[43m \u001b[49m\u001b[43mtitle\u001b[49m\u001b[38;5;241;43m=\u001b[39;49m\u001b[43mtitle\u001b[49m\u001b[43m,\u001b[49m\u001b[43m \u001b[49m\u001b[43mclear\u001b[49m\u001b[38;5;241;43m=\u001b[39;49m\u001b[43mclear\u001b[49m\u001b[43m)\u001b[49m\n",
      "File \u001b[0;32m~/Desktop/py_test/project/venv/lib/python3.8/site-packages/mne/viz/epochs.py:325\u001b[0m, in \u001b[0;36mplot_epochs_image\u001b[0;34m(epochs, picks, sigma, vmin, vmax, colorbar, order, show, units, scalings, cmap, fig, axes, overlay_times, combine, group_by, evoked, ts_args, title, clear)\u001b[0m\n\u001b[1;32m    322\u001b[0m         title \u001b[38;5;241m+\u001b[39m\u001b[38;5;241m=\u001b[39m \u001b[38;5;124mf\u001b[39m\u001b[38;5;124m'\u001b[39m\u001b[38;5;124m (\u001b[39m\u001b[38;5;132;01m{\u001b[39;00m_comb\u001b[38;5;132;01m}\u001b[39;00m\u001b[38;5;124m)\u001b[39m\u001b[38;5;124m'\u001b[39m\n\u001b[1;32m    324\u001b[0m \u001b[38;5;66;03m# plot the image\u001b[39;00m\n\u001b[0;32m--> 325\u001b[0m this_fig \u001b[38;5;241m=\u001b[39m \u001b[43m_plot_epochs_image\u001b[49m\u001b[43m(\u001b[49m\n\u001b[1;32m    326\u001b[0m \u001b[43m    \u001b[49m\u001b[43mthis_group_dict\u001b[49m\u001b[43m[\u001b[49m\u001b[38;5;124;43m'\u001b[39;49m\u001b[38;5;124;43mimage\u001b[39;49m\u001b[38;5;124;43m'\u001b[39;49m\u001b[43m]\u001b[49m\u001b[43m,\u001b[49m\u001b[43m \u001b[49m\u001b[43mepochs\u001b[49m\u001b[38;5;241;43m=\u001b[39;49m\u001b[43mthis_group_dict\u001b[49m\u001b[43m[\u001b[49m\u001b[38;5;124;43m'\u001b[39;49m\u001b[38;5;124;43mepochs\u001b[39;49m\u001b[38;5;124;43m'\u001b[39;49m\u001b[43m]\u001b[49m\u001b[43m,\u001b[49m\n\u001b[1;32m    327\u001b[0m \u001b[43m    \u001b[49m\u001b[43mpicks\u001b[49m\u001b[38;5;241;43m=\u001b[39;49m\u001b[43mpicks\u001b[49m\u001b[43m,\u001b[49m\u001b[43m \u001b[49m\u001b[43mcolorbar\u001b[49m\u001b[38;5;241;43m=\u001b[39;49m\u001b[43mcolorbar\u001b[49m\u001b[43m,\u001b[49m\u001b[43m \u001b[49m\u001b[43mvmin\u001b[49m\u001b[38;5;241;43m=\u001b[39;49m\u001b[43mvmin\u001b[49m\u001b[43m,\u001b[49m\u001b[43m \u001b[49m\u001b[43mvmax\u001b[49m\u001b[38;5;241;43m=\u001b[39;49m\u001b[43mvmax\u001b[49m\u001b[43m,\u001b[49m\u001b[43m \u001b[49m\u001b[43mcmap\u001b[49m\u001b[38;5;241;43m=\u001b[39;49m\u001b[43mcmap\u001b[49m\u001b[43m,\u001b[49m\n\u001b[1;32m    328\u001b[0m \u001b[43m    \u001b[49m\u001b[43mstyle_axes\u001b[49m\u001b[38;5;241;43m=\u001b[39;49m\u001b[38;5;28;43;01mTrue\u001b[39;49;00m\u001b[43m,\u001b[49m\u001b[43m \u001b[49m\u001b[43mnorm\u001b[49m\u001b[38;5;241;43m=\u001b[39;49m\u001b[43mthis_group_dict\u001b[49m\u001b[43m[\u001b[49m\u001b[38;5;124;43m'\u001b[39;49m\u001b[38;5;124;43mnorm\u001b[39;49m\u001b[38;5;124;43m'\u001b[39;49m\u001b[43m]\u001b[49m\u001b[43m,\u001b[49m\n\u001b[1;32m    329\u001b[0m \u001b[43m    \u001b[49m\u001b[43munit\u001b[49m\u001b[38;5;241;43m=\u001b[39;49m\u001b[43munits\u001b[49m\u001b[43m[\u001b[49m\u001b[43mthis_ch_type\u001b[49m\u001b[43m]\u001b[49m\u001b[43m,\u001b[49m\u001b[43m \u001b[49m\u001b[43max\u001b[49m\u001b[38;5;241;43m=\u001b[39;49m\u001b[43mthis_axes_dict\u001b[49m\u001b[43m,\u001b[49m\u001b[43m \u001b[49m\u001b[43mshow\u001b[49m\u001b[38;5;241;43m=\u001b[39;49m\u001b[38;5;28;43;01mFalse\u001b[39;49;00m\u001b[43m,\u001b[49m\n\u001b[1;32m    330\u001b[0m \u001b[43m    \u001b[49m\u001b[43mtitle\u001b[49m\u001b[38;5;241;43m=\u001b[39;49m\u001b[43mtitle\u001b[49m\u001b[43m,\u001b[49m\u001b[43m \u001b[49m\u001b[43mcombine\u001b[49m\u001b[38;5;241;43m=\u001b[39;49m\u001b[43mcombine\u001b[49m\u001b[43m,\u001b[49m\u001b[43m \u001b[49m\u001b[43mcombine_given\u001b[49m\u001b[38;5;241;43m=\u001b[39;49m\u001b[43mcombine_given\u001b[49m\u001b[43m,\u001b[49m\n\u001b[1;32m    331\u001b[0m \u001b[43m    \u001b[49m\u001b[43moverlay_times\u001b[49m\u001b[38;5;241;43m=\u001b[39;49m\u001b[43m_overlay_times\u001b[49m\u001b[43m,\u001b[49m\u001b[43m \u001b[49m\u001b[43mevoked\u001b[49m\u001b[38;5;241;43m=\u001b[39;49m\u001b[43mevoked\u001b[49m\u001b[43m,\u001b[49m\u001b[43m \u001b[49m\u001b[43mts_args\u001b[49m\u001b[38;5;241;43m=\u001b[39;49m\u001b[43mts_args\u001b[49m\u001b[43m)\u001b[49m\n\u001b[1;32m    332\u001b[0m group_by[this_group]\u001b[38;5;241m.\u001b[39mupdate(fig\u001b[38;5;241m=\u001b[39mthis_fig)\n\u001b[1;32m    334\u001b[0m \u001b[38;5;66;03m# detect ylims across figures\u001b[39;00m\n",
      "File \u001b[0;32m~/Desktop/py_test/project/venv/lib/python3.8/site-packages/mne/viz/epochs.py:535\u001b[0m, in \u001b[0;36m_plot_epochs_image\u001b[0;34m(image, style_axes, epochs, picks, vmin, vmax, colorbar, show, unit, cmap, ax, overlay_times, title, evoked, ts_args, combine, combine_given, norm)\u001b[0m\n\u001b[1;32m    533\u001b[0m pass_combine \u001b[38;5;241m=\u001b[39m (combine \u001b[38;5;28;01mif\u001b[39;00m combine_given \u001b[38;5;28;01melse\u001b[39;00m \u001b[38;5;28;01mNone\u001b[39;00m)\n\u001b[1;32m    534\u001b[0m _picks \u001b[38;5;241m=\u001b[39m [\u001b[38;5;241m0\u001b[39m] \u001b[38;5;28;01mif\u001b[39;00m \u001b[38;5;28mlen\u001b[39m(picks) \u001b[38;5;241m==\u001b[39m \u001b[38;5;241m1\u001b[39m \u001b[38;5;28;01melse\u001b[39;00m \u001b[38;5;28;01mNone\u001b[39;00m  \u001b[38;5;66;03m# prevent applying GFP\u001b[39;00m\n\u001b[0;32m--> 535\u001b[0m \u001b[43mplot_compare_evokeds\u001b[49m\u001b[43m(\u001b[49m\u001b[43m{\u001b[49m\u001b[38;5;124;43m'\u001b[39;49m\u001b[38;5;124;43mcond\u001b[39;49m\u001b[38;5;124;43m'\u001b[39;49m\u001b[43m:\u001b[49m\u001b[43m \u001b[49m\u001b[38;5;28;43mlist\u001b[39;49m\u001b[43m(\u001b[49m\u001b[43mepochs\u001b[49m\u001b[38;5;241;43m.\u001b[39;49m\u001b[43miter_evoked\u001b[49m\u001b[43m(\u001b[49m\u001b[43mcopy\u001b[49m\u001b[38;5;241;43m=\u001b[39;49m\u001b[38;5;28;43;01mFalse\u001b[39;49;00m\u001b[43m)\u001b[49m\u001b[43m)\u001b[49m\u001b[43m}\u001b[49m\u001b[43m,\u001b[49m\n\u001b[1;32m    536\u001b[0m \u001b[43m                     \u001b[49m\u001b[43mpicks\u001b[49m\u001b[38;5;241;43m=\u001b[39;49m\u001b[43m_picks\u001b[49m\u001b[43m,\u001b[49m\u001b[43m \u001b[49m\u001b[43maxes\u001b[49m\u001b[38;5;241;43m=\u001b[39;49m\u001b[43max\u001b[49m\u001b[43m[\u001b[49m\u001b[38;5;124;43m'\u001b[39;49m\u001b[38;5;124;43mevoked\u001b[39;49m\u001b[38;5;124;43m'\u001b[39;49m\u001b[43m]\u001b[49m\u001b[43m,\u001b[49m\n\u001b[1;32m    537\u001b[0m \u001b[43m                     \u001b[49m\u001b[43mcombine\u001b[49m\u001b[38;5;241;43m=\u001b[39;49m\u001b[43mpass_combine\u001b[49m\u001b[43m,\u001b[49m\u001b[43m \u001b[49m\u001b[38;5;241;43m*\u001b[39;49m\u001b[38;5;241;43m*\u001b[39;49m\u001b[43mts_args\u001b[49m\u001b[43m)\u001b[49m\n\u001b[1;32m    538\u001b[0m ax[\u001b[38;5;124m'\u001b[39m\u001b[38;5;124mevoked\u001b[39m\u001b[38;5;124m'\u001b[39m]\u001b[38;5;241m.\u001b[39mset_xlim(tmin, tmax)\n\u001b[1;32m    539\u001b[0m ax[\u001b[38;5;124m'\u001b[39m\u001b[38;5;124mevoked\u001b[39m\u001b[38;5;124m'\u001b[39m]\u001b[38;5;241m.\u001b[39mlines[\u001b[38;5;241m0\u001b[39m]\u001b[38;5;241m.\u001b[39mset_clip_on(\u001b[38;5;28;01mTrue\u001b[39;00m)\n",
      "File \u001b[0;32m~/Desktop/py_test/project/venv/lib/python3.8/site-packages/mne/viz/evoked.py:2369\u001b[0m, in \u001b[0;36mplot_compare_evokeds\u001b[0;34m(evokeds, picks, colors, linestyles, styles, cmap, vlines, ci, truncate_yaxis, truncate_xaxis, ylim, invert_y, show_sensors, legend, split_legend, axes, title, show, combine, sphere)\u001b[0m\n\u001b[1;32m   2367\u001b[0m \u001b[38;5;28;01mif\u001b[39;00m \u001b[38;5;129;01mnot\u001b[39;00m callable(ci):\n\u001b[1;32m   2368\u001b[0m     ci_fun \u001b[38;5;241m=\u001b[39m ci_fun \u001b[38;5;28;01mif\u001b[39;00m \u001b[38;5;28mlen\u001b[39m(this_evokeds) \u001b[38;5;241m>\u001b[39m \u001b[38;5;241m1\u001b[39m \u001b[38;5;28;01melse\u001b[39;00m \u001b[38;5;28;01mNone\u001b[39;00m\n\u001b[0;32m-> 2369\u001b[0m res \u001b[38;5;241m=\u001b[39m \u001b[43m_get_data_and_ci\u001b[49m\u001b[43m(\u001b[49m\u001b[43mthis_evokeds\u001b[49m\u001b[43m,\u001b[49m\u001b[43m \u001b[49m\u001b[43mcombine\u001b[49m\u001b[43m,\u001b[49m\u001b[43m \u001b[49m\u001b[43mc_func\u001b[49m\u001b[43m,\u001b[49m\u001b[43m \u001b[49m\u001b[43mpicks\u001b[49m\u001b[38;5;241;43m=\u001b[39;49m\u001b[43m_picks\u001b[49m\u001b[43m,\u001b[49m\n\u001b[1;32m   2370\u001b[0m \u001b[43m                       \u001b[49m\u001b[43mscaling\u001b[49m\u001b[38;5;241;43m=\u001b[39;49m\u001b[43mscalings\u001b[49m\u001b[43m,\u001b[49m\u001b[43m \u001b[49m\u001b[43mci_fun\u001b[49m\u001b[38;5;241;43m=\u001b[39;49m\u001b[43mci_fun\u001b[49m\u001b[43m)\u001b[49m\n\u001b[1;32m   2371\u001b[0m data_dict[cond] \u001b[38;5;241m=\u001b[39m res[\u001b[38;5;241m0\u001b[39m]\n\u001b[1;32m   2372\u001b[0m \u001b[38;5;28;01mif\u001b[39;00m ci_fun \u001b[38;5;129;01mis\u001b[39;00m \u001b[38;5;129;01mnot\u001b[39;00m \u001b[38;5;28;01mNone\u001b[39;00m:\n",
      "File \u001b[0;32m~/Desktop/py_test/project/venv/lib/python3.8/site-packages/mne/viz/evoked.py:1892\u001b[0m, in \u001b[0;36m_get_data_and_ci\u001b[0;34m(evoked, combine, combine_func, picks, scaling, ci_fun)\u001b[0m\n\u001b[1;32m   1890\u001b[0m \u001b[38;5;66;03m# get grand mean across evokeds\u001b[39;00m\n\u001b[1;32m   1891\u001b[0m data \u001b[38;5;241m=\u001b[39m np\u001b[38;5;241m.\u001b[39mmean(data, axis\u001b[38;5;241m=\u001b[39m\u001b[38;5;241m0\u001b[39m)\n\u001b[0;32m-> 1892\u001b[0m \u001b[43m_check_if_nan\u001b[49m\u001b[43m(\u001b[49m\u001b[43mdata\u001b[49m\u001b[43m)\u001b[49m\n\u001b[1;32m   1893\u001b[0m \u001b[38;5;28;01mreturn\u001b[39;00m (data,) \u001b[38;5;28;01mif\u001b[39;00m ci_fun \u001b[38;5;129;01mis\u001b[39;00m \u001b[38;5;28;01mNone\u001b[39;00m \u001b[38;5;28;01melse\u001b[39;00m (data, ci)\n",
      "File \u001b[0;32m~/Desktop/py_test/project/venv/lib/python3.8/site-packages/mne/utils/check.py:445\u001b[0m, in \u001b[0;36m_check_if_nan\u001b[0;34m(data, msg)\u001b[0m\n\u001b[1;32m    443\u001b[0m \u001b[38;5;124;03m\"\"\"Raise if any of the values are NaN.\"\"\"\u001b[39;00m\n\u001b[1;32m    444\u001b[0m \u001b[38;5;28;01mif\u001b[39;00m \u001b[38;5;129;01mnot\u001b[39;00m np\u001b[38;5;241m.\u001b[39misfinite(data)\u001b[38;5;241m.\u001b[39mall():\n\u001b[0;32m--> 445\u001b[0m     \u001b[38;5;28;01mraise\u001b[39;00m \u001b[38;5;167;01mValueError\u001b[39;00m(\u001b[38;5;124m\"\u001b[39m\u001b[38;5;124mSome of the values \u001b[39m\u001b[38;5;132;01m{}\u001b[39;00m\u001b[38;5;124m are NaN.\u001b[39m\u001b[38;5;124m\"\u001b[39m\u001b[38;5;241m.\u001b[39mformat(msg))\n",
      "\u001b[0;31mValueError\u001b[0m: Some of the values  to be plotted are NaN."
     ]
    },
    {
     "data": {
      "application/vnd.jupyter.widget-view+json": {
       "model_id": "e8230b4282ad4f6faca48c616aa6f752",
       "version_major": 2,
       "version_minor": 0
      },
      "image/png": "[encoded data removed]",
      "text/html": [
       "\n",
       "            <div style=\"display: inline-block;\">\n",
       "                <div class=\"jupyter-widgets widget-label\" style=\"text-align: center;\">\n",
       "                    fnirs_cw_amplitude\n",
       "                </div>\n",
       "                <img src='data:image/png;base64,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' width=432.0/>\n",
       "            </div>\n",
       "        "
      ],
      "text/plain": [
       "Canvas(toolbar=Toolbar(toolitems=[('Home', 'Reset original view', 'home', 'home'), ('Back', 'Back to previous …"
      ]
     },
     "metadata": {},
     "output_type": "display_data"
    }
   ],
   "source": [
    "epochs['StartBlock'].plot_image(combine='mean')"
   ]
  },
  {
   "cell_type": "code",
   "execution_count": 34,
   "id": "070d4b46-0935-4956-8ec8-78bd8219fce4",
   "metadata": {},
   "outputs": [
    {
     "ename": "NameError",
     "evalue": "name 'epochs_session1' is not defined",
     "output_type": "error",
     "traceback": [
      "\u001b[0;31m---------------------------------------------------------------------------\u001b[0m",
      "\u001b[0;31mNameError\u001b[0m                                 Traceback (most recent call last)",
      "Input \u001b[0;32mIn [34]\u001b[0m, in \u001b[0;36m<module>\u001b[0;34m\u001b[0m\n\u001b[0;32m----> 1\u001b[0m sessions_dict \u001b[38;5;241m=\u001b[39m {\u001b[38;5;124m'\u001b[39m\u001b[38;5;124mO2Hb\u001b[39m\u001b[38;5;124m'\u001b[39m: \u001b[43mepochs_session1\u001b[49m[\u001b[38;5;124m'\u001b[39m\u001b[38;5;124mStartBlock\u001b[39m\u001b[38;5;124m'\u001b[39m]\u001b[38;5;241m.\u001b[39maverage(picks\u001b[38;5;241m=\u001b[39m\u001b[38;5;124m'\u001b[39m\u001b[38;5;124mhbo\u001b[39m\u001b[38;5;124m'\u001b[39m),\n\u001b[1;32m      2\u001b[0m    \u001b[38;5;124m'\u001b[39m\u001b[38;5;124mO2Hb\u001b[39m\u001b[38;5;124m'\u001b[39m: epochs_session2[\u001b[38;5;124m'\u001b[39m\u001b[38;5;124mStartBlock\u001b[39m\u001b[38;5;124m'\u001b[39m]\u001b[38;5;241m.\u001b[39maverage(picks\u001b[38;5;241m=\u001b[39m\u001b[38;5;124m'\u001b[39m\u001b[38;5;124mhbo\u001b[39m\u001b[38;5;124m'\u001b[39m),\n\u001b[1;32m      3\u001b[0m    \u001b[38;5;124m'\u001b[39m\u001b[38;5;124mO2Hb\u001b[39m\u001b[38;5;124m'\u001b[39m: epochs_session3[\u001b[38;5;124m'\u001b[39m\u001b[38;5;124mStartBlock\u001b[39m\u001b[38;5;124m'\u001b[39m]\u001b[38;5;241m.\u001b[39maverage(picks\u001b[38;5;241m=\u001b[39m\u001b[38;5;124m'\u001b[39m\u001b[38;5;124mhbo\u001b[39m\u001b[38;5;124m'\u001b[39m),\n\u001b[1;32m      4\u001b[0m    \u001b[38;5;124m'\u001b[39m\u001b[38;5;124mHHb\u001b[39m\u001b[38;5;124m'\u001b[39m: epochs_session1[\u001b[38;5;124m'\u001b[39m\u001b[38;5;124mStartBlock\u001b[39m\u001b[38;5;124m'\u001b[39m]\u001b[38;5;241m.\u001b[39maverage(picks\u001b[38;5;241m=\u001b[39m\u001b[38;5;124m'\u001b[39m\u001b[38;5;124mhbr\u001b[39m\u001b[38;5;124m'\u001b[39m),\n\u001b[1;32m      5\u001b[0m    \u001b[38;5;124m'\u001b[39m\u001b[38;5;124mHHb\u001b[39m\u001b[38;5;124m'\u001b[39m: epochs_session2[\u001b[38;5;124m'\u001b[39m\u001b[38;5;124mStartBlock\u001b[39m\u001b[38;5;124m'\u001b[39m]\u001b[38;5;241m.\u001b[39maverage(picks\u001b[38;5;241m=\u001b[39m\u001b[38;5;124m'\u001b[39m\u001b[38;5;124mhbr\u001b[39m\u001b[38;5;124m'\u001b[39m),\n\u001b[1;32m      6\u001b[0m    \u001b[38;5;124m'\u001b[39m\u001b[38;5;124mHHb\u001b[39m\u001b[38;5;124m'\u001b[39m: epochs_session3[\u001b[38;5;124m'\u001b[39m\u001b[38;5;124mStartBlock\u001b[39m\u001b[38;5;124m'\u001b[39m]\u001b[38;5;241m.\u001b[39maverage(picks\u001b[38;5;241m=\u001b[39m\u001b[38;5;124m'\u001b[39m\u001b[38;5;124mhbr\u001b[39m\u001b[38;5;124m'\u001b[39m)\n\u001b[1;32m      7\u001b[0m   }\n\u001b[1;32m      9\u001b[0m \u001b[38;5;66;03m# Rename channels until the encoding of frequency in ch_name is fixed\u001b[39;00m\n\u001b[1;32m     10\u001b[0m \u001b[38;5;28;01mfor\u001b[39;00m condition \u001b[38;5;129;01min\u001b[39;00m sessions_dict:\n",
      "\u001b[0;31mNameError\u001b[0m: name 'epochs_session1' is not defined"
     ]
    }
   ],
   "source": [
    "sessions_dict = {'O2Hb': epochs_session1['StartBlock'].average(picks='hbo'),\n",
    "   'O2Hb': epochs_session2['StartBlock'].average(picks='hbo'),\n",
    "   'O2Hb': epochs_session3['StartBlock'].average(picks='hbo'),\n",
    "   'HHb': epochs_session1['StartBlock'].average(picks='hbr'),\n",
    "   'HHb': epochs_session2['StartBlock'].average(picks='hbr'),\n",
    "   'HHb': epochs_session3['StartBlock'].average(picks='hbr')\n",
    "  }\n",
    "\n",
    "# Rename channels until the encoding of frequency in ch_name is fixed\n",
    "for condition in sessions_dict:\n",
    "   sessions_dict[condition].rename_channels(lambda x: x[:-4])\n",
    "    \n",
    "color_dict = dict(O2Hb='#AA3377', HHb='b')\n",
    "\n",
    "mne.viz.plot_compare_evokeds(sessions_dict, ci=0.95,\n",
    "   colors=color_dict, combine='mean');"
   ]
  },
  {
   "cell_type": "code",
   "execution_count": null,
   "id": "500590eb-cb61-412d-bd76-b98454ee47a9",
   "metadata": {},
   "outputs": [],
   "source": []
  },
  {
   "cell_type": "code",
   "execution_count": null,
   "id": "42b5c699-b85a-424b-9d01-1423ced971bc",
   "metadata": {},
   "outputs": [],
   "source": []
  },
  {
   "cell_type": "code",
   "execution_count": null,
   "id": "a665be0f-03f9-4a4c-a587-a6f1e15d19ab",
   "metadata": {},
   "outputs": [],
   "source": []
  },
  {
   "cell_type": "code",
   "execution_count": null,
   "id": "d1eb4f2f-eeb1-4332-804b-863df1872d94",
   "metadata": {},
   "outputs": [],
   "source": []
  },
  {
   "cell_type": "code",
   "execution_count": null,
   "id": "21b73450-3ce6-40c8-8782-0a7632f3a0de",
   "metadata": {},
   "outputs": [],
   "source": [
    "from give_channels import give_channels\n",
    "give_channels()"
   ]
  },
  {
   "cell_type": "code",
   "execution_count": null,
   "id": "e3c97357-0394-44aa-af38-3877a3dce2fb",
   "metadata": {},
   "outputs": [],
   "source": []
  },
  {
   "cell_type": "code",
   "execution_count": null,
   "id": "059de599-a890-436d-a775-6495e7eb62ea",
   "metadata": {},
   "outputs": [],
   "source": []
  },
  {
   "cell_type": "code",
   "execution_count": null,
   "id": "a0159097-bae4-4584-b8c5-0451d791c826",
   "metadata": {},
   "outputs": [],
   "source": []
  },
  {
   "cell_type": "code",
   "execution_count": null,
   "id": "bf2e06a7-f36b-43db-8e30-edf63d860784",
   "metadata": {},
   "outputs": [],
   "source": [
    "import os.path as op\n",
    "from itertools import compress "
   ]
  },
  {
   "cell_type": "code",
   "execution_count": null,
   "id": "2ad27f0a-658f-4552-ae24-f4ea634053f3",
   "metadata": {},
   "outputs": [],
   "source": [
    "fnirs_data_folder = mne.datasets.fnirs_motor.data_path()"
   ]
  },
  {
   "cell_type": "code",
   "execution_count": null,
   "id": "6d6c92f4-d87a-4d25-be44-70ba82e1d910",
   "metadata": {},
   "outputs": [],
   "source": [
    "fnirs_cw_amplitude_dir = op.join(fnirs_data_folder, 'Participant-1')"
   ]
  },
  {
   "cell_type": "code",
   "execution_count": null,
   "id": "3dbfe312-e072-4cb6-b5f0-6ec019ad6ecf",
   "metadata": {},
   "outputs": [],
   "source": [
    "raw_intensity = mne.io.read_raw_nirx(fnirs_cw_amplitude_dir, verbose=True)"
   ]
  },
  {
   "cell_type": "code",
   "execution_count": null,
   "id": "d41d3dbd-316b-4ffb-8a8a-620bb93cbc21",
   "metadata": {},
   "outputs": [],
   "source": [
    "(raw_intensity.get_channel_types())"
   ]
  },
  {
   "cell_type": "code",
   "execution_count": null,
   "id": "d61d8b91-598a-4645-b0f7-552b5fa263b3",
   "metadata": {},
   "outputs": [],
   "source": [
    "len(['fnirs_cw_amplitude' for _ in range(len(snirf.ch_names))])"
   ]
  },
  {
   "cell_type": "code",
   "execution_count": null,
   "id": "42f33957-68c2-4cea-b26b-67de55348eac",
   "metadata": {},
   "outputs": [],
   "source": []
  },
  {
   "cell_type": "code",
   "execution_count": null,
   "id": "363cc468-95e0-46d4-aed0-788bb570d380",
   "metadata": {},
   "outputs": [],
   "source": [
    "h_dict={}\n",
    "for ch in snirf.ch_names:\n",
    "    h_dict[ch] = 'fnirs_cw_amplitude'"
   ]
  },
  {
   "cell_type": "code",
   "execution_count": null,
   "id": "db91cbbf-8167-44ec-8361-252878f0fac6",
   "metadata": {},
   "outputs": [],
   "source": [
    "snirf.set_channel_types(h_dict)"
   ]
  },
  {
   "cell_type": "code",
   "execution_count": null,
   "id": "21ce8154-21c0-4ff2-9bce-79e8efc0e2fd",
   "metadata": {},
   "outputs": [],
   "source": [
    "raw_intensity.load_data()"
   ]
  },
  {
   "cell_type": "code",
   "execution_count": null,
   "id": "dacc11c1-b1f4-4445-8219-ba02e138d8c9",
   "metadata": {},
   "outputs": [],
   "source": [
    "raw_intensity.plot(n_channels=2)"
   ]
  },
  {
   "cell_type": "code",
   "execution_count": null,
   "id": "6b8b3a1c-079e-43a4-9b9d-54a155ffdca2",
   "metadata": {},
   "outputs": [],
   "source": []
  }
 ],
 "metadata": {
  "kernelspec": {
   "display_name": "Python 3 (ipykernel)",
   "language": "python",
   "name": "python3"
  },
  "language_info": {
   "codemirror_mode": {
    "name": "ipython",
    "version": 3
   },
   "file_extension": ".py",
   "mimetype": "text/x-python",
   "name": "python",
   "nbconvert_exporter": "python",
   "pygments_lexer": "ipython3",
   "version": "3.8.10"
  }
 },
 "nbformat": 4,
 "nbformat_minor": 5
}
