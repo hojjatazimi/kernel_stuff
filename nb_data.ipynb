{
 "cells": [
  {
   "cell_type": "markdown",
   "id": "f62ad418-ff99-4bc6-b7e5-2a90c0fb8254",
   "metadata": {},
   "source": [
    "# Import"
   ]
  },
  {
   "cell_type": "code",
   "execution_count": 1,
   "id": "bdce1dce-39cb-446b-95ec-33a17d3bd397",
   "metadata": {},
   "outputs": [],
   "source": [
    "import numpy as np\n",
    "import matplotlib.pyplot as plt\n",
    "from mne.io.snirf import read_raw_snirf\n",
    "from get_events_from_snirf import get_events_from_snirf\n",
    "import itertools"
   ]
  },
  {
   "cell_type": "code",
   "execution_count": 2,
   "id": "177f5623-6a08-4068-99d3-9380d2fab2bd",
   "metadata": {},
   "outputs": [],
   "source": [
    "from sklearn.linear_model import SGDClassifier\n",
    "from sklearn.preprocessing import StandardScaler\n",
    "from sklearn.pipeline import make_pipeline\n",
    "from sklearn.svm import SVC\n",
    "from sklearn.model_selection import cross_val_score\n",
    "from sklearn.neural_network import MLPClassifier\n",
    "from sklearn.multiclass import OneVsRestClassifier"
   ]
  },
  {
   "cell_type": "code",
   "execution_count": 3,
   "id": "fc651558-b8a1-4ef6-8b48-d7a5e32ee7bf",
   "metadata": {},
   "outputs": [],
   "source": [
    "from give_channels import give_channels"
   ]
  },
  {
   "cell_type": "code",
   "execution_count": null,
   "id": "907327c3-b4c7-49fa-8110-478f41b5ffa2",
   "metadata": {},
   "outputs": [],
   "source": [
    "give_channels()"
   ]
  },
  {
   "cell_type": "markdown",
   "id": "86084bbc-c3b4-4375-bf8c-5f2fa29c4775",
   "metadata": {},
   "source": [
    "# Load Data"
   ]
  },
  {
   "cell_type": "code",
   "execution_count": 4,
   "id": "1b647fc9-f8d1-4786-9a2d-7b8579ec7593",
   "metadata": {},
   "outputs": [],
   "source": [
    "path_1 = '../data_hojjat/dec_nef/1_new_full_2/test_001_S001_c7bcdc0_5.snirf'\n",
    "path_2 = \"../data_hojjat/dec_nef/2/test_001_S001_7d1123e_5.snirf\"\n",
    "path_3 = '../data_hojjat/dec_nef/3/test_001_S001_7d1123e_5.snirf'"
   ]
  },
  {
   "cell_type": "code",
   "execution_count": 6,
   "id": "e885bad8-0fad-48cf-b9be-e43c1dcc8b3a",
   "metadata": {},
   "outputs": [],
   "source": [
    "paths = [path_1, path_2, path_3]"
   ]
  },
  {
   "cell_type": "code",
   "execution_count": null,
   "id": "539173e5-b834-4420-95f3-8117a2dedb37",
   "metadata": {},
   "outputs": [],
   "source": [
    "snirfs = [read_raw_snirf(path) for path in paths]"
   ]
  },
  {
   "cell_type": "code",
   "execution_count": null,
   "id": "7dc4d0c1-b793-439b-872e-e1c4afbc2695",
   "metadata": {},
   "outputs": [],
   "source": [
    "datas = [snirf.get_data() for snirf in snirfs]"
   ]
  },
  {
   "cell_type": "code",
   "execution_count": 7,
   "id": "5e89f83c-ee25-43f1-9ce0-974e5b747b99",
   "metadata": {},
   "outputs": [],
   "source": [
    "event_dfs = [get_events_from_snirf(path) for path in paths]"
   ]
  },
  {
   "cell_type": "code",
   "execution_count": 8,
   "id": "459991b5-b933-4847-ab75-c1ac4aaf8118",
   "metadata": {},
   "outputs": [
    {
     "data": {
      "text/html": [
       "<div>\n",
       "<style scoped>\n",
       "    .dataframe tbody tr th:only-of-type {\n",
       "        vertical-align: middle;\n",
       "    }\n",
       "\n",
       "    .dataframe tbody tr th {\n",
       "        vertical-align: top;\n",
       "    }\n",
       "\n",
       "    .dataframe thead th {\n",
       "        text-align: right;\n",
       "    }\n",
       "</style>\n",
       "<table border=\"1\" class=\"dataframe\">\n",
       "  <thead>\n",
       "    <tr style=\"text-align: right;\">\n",
       "      <th></th>\n",
       "      <th>Timestamp</th>\n",
       "      <th>Event</th>\n",
       "      <th>Duration</th>\n",
       "      <th>Value</th>\n",
       "      <th>Experiment</th>\n",
       "      <th>Stim</th>\n",
       "      <th>Label</th>\n",
       "      <th>File</th>\n",
       "      <th>Counts</th>\n",
       "      <th>Block</th>\n",
       "    </tr>\n",
       "  </thead>\n",
       "  <tbody>\n",
       "    <tr>\n",
       "      <th>0</th>\n",
       "      <td>22.644750</td>\n",
       "      <td>StartExperiment</td>\n",
       "      <td>575.932999</td>\n",
       "      <td>1.0</td>\n",
       "      <td>1.0</td>\n",
       "      <td>NaN</td>\n",
       "      <td>na</td>\n",
       "      <td>nan</td>\n",
       "      <td>0.0</td>\n",
       "      <td>False</td>\n",
       "    </tr>\n",
       "    <tr>\n",
       "      <th>1</th>\n",
       "      <td>22.691047</td>\n",
       "      <td>Stim</td>\n",
       "      <td>0.000000</td>\n",
       "      <td>1.0</td>\n",
       "      <td>1.0</td>\n",
       "      <td>Bee-7-1-5.Png</td>\n",
       "      <td>Bee</td>\n",
       "      <td>7_1_5.Png</td>\n",
       "      <td>3.0</td>\n",
       "      <td>True</td>\n",
       "    </tr>\n",
       "    <tr>\n",
       "      <th>2</th>\n",
       "      <td>23.657696</td>\n",
       "      <td>Stim</td>\n",
       "      <td>0.000000</td>\n",
       "      <td>1.0</td>\n",
       "      <td>1.0</td>\n",
       "      <td>Bee-7-1-8.Png</td>\n",
       "      <td>Bee</td>\n",
       "      <td>7_1_8.Png</td>\n",
       "      <td>2.0</td>\n",
       "      <td>False</td>\n",
       "    </tr>\n",
       "    <tr>\n",
       "      <th>3</th>\n",
       "      <td>24.591449</td>\n",
       "      <td>Stim</td>\n",
       "      <td>0.000000</td>\n",
       "      <td>1.0</td>\n",
       "      <td>1.0</td>\n",
       "      <td>Bee-7-1-2.Png</td>\n",
       "      <td>Bee</td>\n",
       "      <td>7_1_2.Png</td>\n",
       "      <td>1.0</td>\n",
       "      <td>False</td>\n",
       "    </tr>\n",
       "    <tr>\n",
       "      <th>4</th>\n",
       "      <td>25.542362</td>\n",
       "      <td>Stim</td>\n",
       "      <td>0.000000</td>\n",
       "      <td>1.0</td>\n",
       "      <td>1.0</td>\n",
       "      <td>Bee-7-1-12.Png</td>\n",
       "      <td>Bee</td>\n",
       "      <td>7_1_12.Png</td>\n",
       "      <td>0.0</td>\n",
       "      <td>False</td>\n",
       "    </tr>\n",
       "    <tr>\n",
       "      <th>...</th>\n",
       "      <td>...</td>\n",
       "      <td>...</td>\n",
       "      <td>...</td>\n",
       "      <td>...</td>\n",
       "      <td>...</td>\n",
       "      <td>...</td>\n",
       "      <td>...</td>\n",
       "      <td>...</td>\n",
       "      <td>...</td>\n",
       "      <td>...</td>\n",
       "    </tr>\n",
       "    <tr>\n",
       "      <th>596</th>\n",
       "      <td>593.856994</td>\n",
       "      <td>Stim</td>\n",
       "      <td>0.000000</td>\n",
       "      <td>1.0</td>\n",
       "      <td>1.0</td>\n",
       "      <td>GuineaPig-25-1-15.Png</td>\n",
       "      <td>GuineaPig</td>\n",
       "      <td>25_1_15.Png</td>\n",
       "      <td>0.0</td>\n",
       "      <td>False</td>\n",
       "    </tr>\n",
       "    <tr>\n",
       "      <th>597</th>\n",
       "      <td>594.807750</td>\n",
       "      <td>Stim</td>\n",
       "      <td>0.000000</td>\n",
       "      <td>1.0</td>\n",
       "      <td>1.0</td>\n",
       "      <td>Frog-2-1-12.Png</td>\n",
       "      <td>Frog</td>\n",
       "      <td>2_1_12.Png</td>\n",
       "      <td>3.0</td>\n",
       "      <td>True</td>\n",
       "    </tr>\n",
       "    <tr>\n",
       "      <th>598</th>\n",
       "      <td>595.758414</td>\n",
       "      <td>Stim</td>\n",
       "      <td>0.000000</td>\n",
       "      <td>1.0</td>\n",
       "      <td>1.0</td>\n",
       "      <td>Frog-2-1-13.Png</td>\n",
       "      <td>Frog</td>\n",
       "      <td>2_1_13.Png</td>\n",
       "      <td>2.0</td>\n",
       "      <td>False</td>\n",
       "    </tr>\n",
       "    <tr>\n",
       "      <th>599</th>\n",
       "      <td>596.709954</td>\n",
       "      <td>Stim</td>\n",
       "      <td>0.000000</td>\n",
       "      <td>1.0</td>\n",
       "      <td>1.0</td>\n",
       "      <td>Frog-2-1-14.Png</td>\n",
       "      <td>Frog</td>\n",
       "      <td>2_1_14.Png</td>\n",
       "      <td>1.0</td>\n",
       "      <td>False</td>\n",
       "    </tr>\n",
       "    <tr>\n",
       "      <th>600</th>\n",
       "      <td>597.659994</td>\n",
       "      <td>Stim</td>\n",
       "      <td>0.000000</td>\n",
       "      <td>1.0</td>\n",
       "      <td>1.0</td>\n",
       "      <td>Frog-2-1-15.Png</td>\n",
       "      <td>Frog</td>\n",
       "      <td>2_1_15.Png</td>\n",
       "      <td>0.0</td>\n",
       "      <td>False</td>\n",
       "    </tr>\n",
       "  </tbody>\n",
       "</table>\n",
       "<p>601 rows × 10 columns</p>\n",
       "</div>"
      ],
      "text/plain": [
       "      Timestamp            Event    Duration  Value  Experiment  \\\n",
       "0     22.644750  StartExperiment  575.932999    1.0         1.0   \n",
       "1     22.691047             Stim    0.000000    1.0         1.0   \n",
       "2     23.657696             Stim    0.000000    1.0         1.0   \n",
       "3     24.591449             Stim    0.000000    1.0         1.0   \n",
       "4     25.542362             Stim    0.000000    1.0         1.0   \n",
       "..          ...              ...         ...    ...         ...   \n",
       "596  593.856994             Stim    0.000000    1.0         1.0   \n",
       "597  594.807750             Stim    0.000000    1.0         1.0   \n",
       "598  595.758414             Stim    0.000000    1.0         1.0   \n",
       "599  596.709954             Stim    0.000000    1.0         1.0   \n",
       "600  597.659994             Stim    0.000000    1.0         1.0   \n",
       "\n",
       "                      Stim      Label         File  Counts  Block  \n",
       "0                      NaN         na          nan     0.0  False  \n",
       "1            Bee-7-1-5.Png        Bee    7_1_5.Png     3.0   True  \n",
       "2            Bee-7-1-8.Png        Bee    7_1_8.Png     2.0  False  \n",
       "3            Bee-7-1-2.Png        Bee    7_1_2.Png     1.0  False  \n",
       "4           Bee-7-1-12.Png        Bee   7_1_12.Png     0.0  False  \n",
       "..                     ...        ...          ...     ...    ...  \n",
       "596  GuineaPig-25-1-15.Png  GuineaPig  25_1_15.Png     0.0  False  \n",
       "597        Frog-2-1-12.Png       Frog   2_1_12.Png     3.0   True  \n",
       "598        Frog-2-1-13.Png       Frog   2_1_13.Png     2.0  False  \n",
       "599        Frog-2-1-14.Png       Frog   2_1_14.Png     1.0  False  \n",
       "600        Frog-2-1-15.Png       Frog   2_1_15.Png     0.0  False  \n",
       "\n",
       "[601 rows x 10 columns]"
      ]
     },
     "execution_count": 8,
     "metadata": {},
     "output_type": "execute_result"
    }
   ],
   "source": [
    "event_dfs[0]"
   ]
  },
  {
   "cell_type": "code",
   "execution_count": null,
   "id": "390923fa-7dc6-4c30-a3ca-63c131625a9b",
   "metadata": {},
   "outputs": [],
   "source": [
    "df = event_dfs[0].copy()"
   ]
  },
  {
   "cell_type": "code",
   "execution_count": null,
   "id": "95ca0b6f-fc4f-4908-9cff-7670eb1ac975",
   "metadata": {},
   "outputs": [],
   "source": [
    "labels = df['Label']\n",
    "counts = np.zeros(np.shape(labels))\n",
    "for i, label in enumerate(labels):\n",
    "    cntr = 0\n",
    "    j = i + 1\n",
    "    while j < len(labels) and labels[j] == label:\n",
    "        j += 1\n",
    "        cntr += 1\n",
    "    counts[i] = cntr"
   ]
  },
  {
   "cell_type": "code",
   "execution_count": null,
   "id": "acbf891c-1d85-4eb4-b95e-d37e648e5fa5",
   "metadata": {},
   "outputs": [],
   "source": [
    "df['Counts'] = counts"
   ]
  },
  {
   "cell_type": "code",
   "execution_count": null,
   "id": "c29c47f5-a5be-41a7-b52d-9b581d5de108",
   "metadata": {},
   "outputs": [],
   "source": [
    "counts_min = np.zeros(np.shape(counts))\n",
    "for i, count in enumerate(counts):\n",
    "    counts_min[i] = count -counts[i-1]"
   ]
  },
  {
   "cell_type": "code",
   "execution_count": null,
   "id": "0357f86a-303e-43be-ad3d-ec5543df9d19",
   "metadata": {},
   "outputs": [],
   "source": [
    "counts_min[counts_min > 0]"
   ]
  },
  {
   "cell_type": "markdown",
   "id": "8a1d9d93-4463-413a-896b-ae64d6b319c1",
   "metadata": {},
   "source": [
    "# Some Functions"
   ]
  },
  {
   "cell_type": "code",
   "execution_count": null,
   "id": "4104d111-1ed7-4a35-8dd0-2cf76656e30e",
   "metadata": {},
   "outputs": [],
   "source": [
    "def get_times(df, key):\n",
    "    times = df[df.Label == key]['Timestamp'].values;\n",
    "    return times"
   ]
  },
  {
   "cell_type": "code",
   "execution_count": null,
   "id": "d3c4742f-35b0-435b-9baf-4ac47be90be4",
   "metadata": {},
   "outputs": [],
   "source": [
    "def get_data(data, channels, times, index, window_size, sample_rate):\n",
    "    out = np.zeros((len(times), len(channels), window_size * sample_rate))\n",
    "    for time_index, time in enumerate(times):\n",
    "        for channel_index, channel in enumerate(channels):\n",
    "            out[time_index, channel_index, :] = data[channel, int((time+index)*sample_rate): int((time+index+window_size)*sample_rate)]\n",
    "    return out"
   ]
  },
  {
   "cell_type": "code",
   "execution_count": null,
   "id": "21419a8d-d0ff-436d-a24a-db730dd0bab3",
   "metadata": {},
   "outputs": [],
   "source": [
    "def data_to_feature(data):\n",
    "    [times, channels, points] = np.shape(data)\n",
    "    # features = np.ones((times, channels * 3))\n",
    "    _mean = np.mean(data, axis = 2)\n",
    "    _min = np.min(data, axis = 2)\n",
    "    _max = np.max(data, axis = 2)\n",
    "    features = np.hstack((_mean, _min, _max))\n",
    "    # features[:, 3:] = data[:]\n",
    "    return features"
   ]
  },
  {
   "cell_type": "code",
   "execution_count": null,
   "id": "c606c2ef-37e6-4295-b87b-22da4b89d892",
   "metadata": {},
   "outputs": [],
   "source": [
    "def make_x_y(features):\n",
    "    shape = np.shape(features)\n",
    "    X = np.vstack(features)\n",
    "    y = np.hstack([(i+1) * np.ones(shape[1]) for i in range(len(features))])\n",
    "    return X, y"
   ]
  },
  {
   "cell_type": "code",
   "execution_count": null,
   "id": "b213f700-5931-47fa-a8a1-dab2c1e0b2ca",
   "metadata": {},
   "outputs": [],
   "source": [
    "def classify(X, y):\n",
    "    # clf = SVC(kernel='linear', C=1, random_state=42)\n",
    "    # clf = MLPClassifier(random_state=1, max_iter=10000)\n",
    "    clf = OneVsRestClassifier(SVC())#.fit(X, y)\n",
    "    scores = cross_val_score(clf, X, y, cv=5)\n",
    "    return scores"
   ]
  },
  {
   "cell_type": "code",
   "execution_count": null,
   "id": "63d265db-c162-414a-8df4-f330f26ff8e8",
   "metadata": {},
   "outputs": [],
   "source": [
    "def get_all_classes(events_df):\n",
    "    classes = events_df.Label.unique()[1:]\n",
    "    return classes"
   ]
  },
  {
   "cell_type": "code",
   "execution_count": null,
   "id": "326b0e5c-1aeb-4cfd-9e98-f079432077b8",
   "metadata": {},
   "outputs": [],
   "source": [
    "def get_all_times(all_classes, events_df):\n",
    "    all_times_lst = [get_times(events_df, clas) for clas in all_classes]\n",
    "    all_times_array = np.array(all_times_lst, dtype=object)\n",
    "    return all_times_array"
   ]
  },
  {
   "cell_type": "code",
   "execution_count": null,
   "id": "ea1b50a5-3e78-4b7e-ba5f-6189e1ccdfb9",
   "metadata": {},
   "outputs": [],
   "source": [
    "def get_all_data(data, channels, all_times, index, window_size, sample_rate):\n",
    "    all_data_lst = [get_data(data, channels, times, index, window_size, sample_rate) for times in all_times]\n",
    "    all_data_arr = np.array(all_data_lst)\n",
    "    return all_data_arr"
   ]
  },
  {
   "cell_type": "code",
   "execution_count": null,
   "id": "50163d30-eb0a-4e6d-8822-bbb7bb3220e6",
   "metadata": {},
   "outputs": [],
   "source": [
    "def get_all_feature(all_data):\n",
    "    all_feature_lst = [data_to_feature(data) for data in all_data]\n",
    "    all_feature_arr = np.array(all_feature_lst)\n",
    "    return all_feature_arr"
   ]
  },
  {
   "cell_type": "code",
   "execution_count": null,
   "id": "7c887e64-787c-4087-9bc7-6ef3658091a5",
   "metadata": {},
   "outputs": [],
   "source": [
    "def select_channels(snirf, good_channels, hbo = 'HbO'):\n",
    "    channel_names = [x['ch_name'] for x in snirf.info['chs']]\n",
    "    out = []\n",
    "    for i, name in enumerate(channel_names):\n",
    "        if name[:9] in good_channels and hbo in name:\n",
    "            out.append(i)\n",
    "    out = np.array(out)\n",
    "    return out"
   ]
  },
  {
   "cell_type": "markdown",
   "id": "a0a6c21c-f846-4d84-9b4f-6534edc1d6bb",
   "metadata": {},
   "source": [
    "# Run"
   ]
  },
  {
   "cell_type": "code",
   "execution_count": null,
   "id": "96f99351-5ee3-4926-8e3a-98d2833b97fb",
   "metadata": {},
   "outputs": [],
   "source": [
    "all_classes = get_all_classes(event_dfs[0])[:]"
   ]
  },
  {
   "cell_type": "code",
   "execution_count": null,
   "id": "992c4fa6-cb66-4041-89f5-f74698e7f30f",
   "metadata": {},
   "outputs": [],
   "source": [
    "all_times = [get_all_times(all_classes, events_df) for events_df in event_dfs]"
   ]
  },
  {
   "cell_type": "code",
   "execution_count": null,
   "id": "befe4bf4-f81d-4135-8066-bd7bea116cc5",
   "metadata": {},
   "outputs": [],
   "source": [
    "datas = [np.nan_to_num(data) for data in datas]"
   ]
  },
  {
   "cell_type": "code",
   "execution_count": null,
   "id": "e218da27-c226-48ec-93da-a01883657efa",
   "metadata": {},
   "outputs": [],
   "source": [
    "[data.shape for data in datas]"
   ]
  },
  {
   "cell_type": "code",
   "execution_count": null,
   "id": "d83839b7-0ed9-4a8c-94fc-9a90d7e7605f",
   "metadata": {},
   "outputs": [],
   "source": [
    "good_channels = give_channels()\n",
    "channels = select_channels(snirfs[0], good_channels)\n",
    "# channels = [0], #, 3, 4, 6, 8, 16, 17, 18, 19, 20, 21, 22, 23]#, 17, 18, 19, 20, 21, 22, 23, 24, 25, 26, 27, 28, 29, 30]\n",
    "index = 0\n",
    "window_size = 1\n",
    "sample_rate=7\n",
    "# all_data = get_all_data(data, channels, all_times, index, window_size, sample_rate)"
   ]
  },
  {
   "cell_type": "code",
   "execution_count": null,
   "id": "555701b9-278c-47b7-9da7-ff1ebc8f2ea7",
   "metadata": {},
   "outputs": [],
   "source": [
    "all_events = [get_all_data(data, channels, times, index, window_size, sample_rate) for data, times in zip (datas, all_times)]"
   ]
  },
  {
   "cell_type": "code",
   "execution_count": null,
   "id": "7726959f-60f5-47aa-b024-f4fd68f48dfb",
   "metadata": {},
   "outputs": [],
   "source": [
    "all_features = [get_all_feature(event) for event in all_events]"
   ]
  },
  {
   "cell_type": "code",
   "execution_count": null,
   "id": "4895b53b-ed17-4fc3-8bc4-bbc57c6d0c40",
   "metadata": {},
   "outputs": [],
   "source": [
    "[f.shape for f in all_features]"
   ]
  },
  {
   "cell_type": "code",
   "execution_count": null,
   "id": "9ada4b16-4443-4401-93e6-5fd8d8cc8a62",
   "metadata": {},
   "outputs": [],
   "source": [
    "all_features_arr = np.hstack(all_features)"
   ]
  },
  {
   "cell_type": "code",
   "execution_count": null,
   "id": "bb57fa8d-f2bf-4445-abec-674638809272",
   "metadata": {},
   "outputs": [],
   "source": [
    "X, y = make_x_y(all_features_arr)"
   ]
  },
  {
   "cell_type": "code",
   "execution_count": null,
   "id": "619e06cb-4510-4c20-9972-d5f1dff52059",
   "metadata": {},
   "outputs": [],
   "source": [
    "X[:, np.max(X, 0) != 0].shape"
   ]
  },
  {
   "cell_type": "code",
   "execution_count": null,
   "id": "30016673-12a3-4087-8b44-af4ec030b974",
   "metadata": {},
   "outputs": [],
   "source": [
    "y"
   ]
  },
  {
   "cell_type": "code",
   "execution_count": null,
   "id": "26df863f-0efe-4e7e-b1ac-e2c2c3044473",
   "metadata": {},
   "outputs": [],
   "source": [
    " clf = OneVsRestClassifier(SVC()).fit(X, y)"
   ]
  },
  {
   "cell_type": "code",
   "execution_count": null,
   "id": "263fd8f9-174b-413d-9981-a6562bdeee45",
   "metadata": {},
   "outputs": [],
   "source": [
    "clf.predict(X[:2, :])"
   ]
  },
  {
   "cell_type": "code",
   "execution_count": null,
   "id": "11febb4f-ce75-46c8-98c3-6fd0cea10cde",
   "metadata": {},
   "outputs": [],
   "source": [
    "clf.score(X, y) * 100"
   ]
  },
  {
   "cell_type": "code",
   "execution_count": null,
   "id": "9f5fa92a-c10a-47e5-ae3a-f67fb7830ed3",
   "metadata": {},
   "outputs": [],
   "source": [
    "scores = classify(X[:, np.max(X, 0) != 0], y)"
   ]
  },
  {
   "cell_type": "code",
   "execution_count": null,
   "id": "45455c5f-0b2e-4f17-9b1a-c1799eeae648",
   "metadata": {},
   "outputs": [],
   "source": [
    "scores"
   ]
  },
  {
   "cell_type": "code",
   "execution_count": null,
   "id": "7f862455-c7ee-43e8-9a79-518216156a52",
   "metadata": {},
   "outputs": [],
   "source": [
    "100 * (scores.mean())"
   ]
  },
  {
   "cell_type": "code",
   "execution_count": null,
   "id": "a171cae6-31fa-4214-ae24-26a65db3fa7e",
   "metadata": {},
   "outputs": [],
   "source": [
    "print('i', 'w', 's')\n",
    "import warnings\n",
    "\n",
    "warnings.simplefilter('ignore')\n",
    "for index in range(10):\n",
    "    all_events = [get_all_data(data, channels, times, index, window_size, sample_rate) for data, times in zip (datas, all_times)]\n",
    "    all_features = [get_all_feature(event) for event in all_events]\n",
    "    all_features_arr = np.hstack(all_features)\n",
    "    X, y = make_x_y(all_features_arr)\n",
    "    scores = classify(X[:, np.max(X, 0) != 0], y)\n",
    "    print(index, window_size, 100 * (scores.mean()))"
   ]
  },
  {
   "cell_type": "code",
   "execution_count": null,
   "id": "e3680faa-2933-4a88-bea9-89f2edfdca2b",
   "metadata": {},
   "outputs": [],
   "source": [
    "X[:, np.max(X, 0) != 0]"
   ]
  },
  {
   "cell_type": "code",
   "execution_count": null,
   "id": "14eab8c9-a1ce-46b0-8cba-aad3c2e7691d",
   "metadata": {},
   "outputs": [],
   "source": [
    "import pandas as pd\n",
    "from matplotlib import pyplot as plt"
   ]
  },
  {
   "cell_type": "code",
   "execution_count": null,
   "id": "b860fa57-bad2-44c8-96ee-431a2202d99c",
   "metadata": {},
   "outputs": [],
   "source": [
    "tmp_df = pd.DataFrame(X)"
   ]
  },
  {
   "cell_type": "code",
   "execution_count": null,
   "id": "0391e714-5f07-48c3-890f-0e28ce2fd1b3",
   "metadata": {},
   "outputs": [],
   "source": [
    "tmp_df"
   ]
  },
  {
   "cell_type": "code",
   "execution_count": null,
   "id": "ba4cc49f-aa5e-4246-bd72-3d8067af3cb0",
   "metadata": {},
   "outputs": [],
   "source": [
    "np.sum(tmp_df.max()>0)"
   ]
  },
  {
   "cell_type": "code",
   "execution_count": null,
   "id": "462d3ffd-68a5-4806-874f-b6565d3cd83e",
   "metadata": {},
   "outputs": [],
   "source": [
    "X, y = make_x_y(all_feature)"
   ]
  },
  {
   "cell_type": "code",
   "execution_count": null,
   "id": "a499a59d-dff6-4453-9c40-09436bba9aa8",
   "metadata": {},
   "outputs": [],
   "source": [
    "classify(X, y)"
   ]
  },
  {
   "cell_type": "code",
   "execution_count": null,
   "id": "81f02a48-5acc-44c7-8c1d-b684296c0a7b",
   "metadata": {},
   "outputs": [],
   "source": [
    "X.shape"
   ]
  },
  {
   "cell_type": "code",
   "execution_count": null,
   "id": "7abc314a-b35d-48d7-9faa-e25614c4577a",
   "metadata": {},
   "outputs": [],
   "source": [
    "y"
   ]
  },
  {
   "cell_type": "code",
   "execution_count": null,
   "id": "e0a6221e-9e03-40e0-a337-bec362513c4d",
   "metadata": {},
   "outputs": [],
   "source": [
    "bee_times = get_times(events_df, 'Bee')\n",
    "key_times = get_times(events_df, 'Key')"
   ]
  },
  {
   "cell_type": "code",
   "execution_count": null,
   "id": "1e7b4a77-ffa0-42c5-a82f-654264916d4d",
   "metadata": {},
   "outputs": [],
   "source": [
    "channel_names = [x['ch_name'] for x in snirf.info['chs']]\n",
    "is_hbo = np.array([1 if channel_name.endswith(\n",
    "    'HbO') else 0 for channel_name in channel_names], dtype=bool)\n",
    "channel_locations_3d = [x['loc'][:3] for x in snirf.info['chs']]"
   ]
  },
  {
   "cell_type": "code",
   "execution_count": null,
   "id": "622eb4cb-cc07-4024-842a-46d15a0e0ddc",
   "metadata": {},
   "outputs": [],
   "source": [
    "data = snirf.get_data()"
   ]
  },
  {
   "cell_type": "code",
   "execution_count": null,
   "id": "9a0bbcf7-2738-4439-9b79-ac7d664990b8",
   "metadata": {},
   "outputs": [],
   "source": [
    "data.shape"
   ]
  },
  {
   "cell_type": "code",
   "execution_count": null,
   "id": "ea10f7bc-d06c-4b6c-a3fd-36466ae934fd",
   "metadata": {},
   "outputs": [],
   "source": [
    "ax, fig = plt.subplots(figsize=(15, 10))\n",
    "for bee in bee_times.astype(np.int):\n",
    "    fig.plot(data[0, bee*7:(bee+1)*7])\n"
   ]
  },
  {
   "cell_type": "code",
   "execution_count": null,
   "id": "92255748-6811-4aa5-8035-e6c5c6a4da5d",
   "metadata": {},
   "outputs": [],
   "source": [
    "window_size = 1\n",
    "sampling_rate = 7\n",
    "channels = [0, 1]\n",
    "index= 6\n",
    "bee_data = get_data(data, channels, bee_times, index, window_size, sampling_rate)\n",
    "key_data = get_data(data, channels, key_times, index, window_size, sampling_rate)"
   ]
  },
  {
   "cell_type": "code",
   "execution_count": null,
   "id": "68bf7e73-1469-4bdc-a640-fd6f7b753a47",
   "metadata": {},
   "outputs": [],
   "source": [
    "bee_data.shape"
   ]
  },
  {
   "cell_type": "code",
   "execution_count": null,
   "id": "cfd13358-884f-428a-bedd-7bb86a66f71d",
   "metadata": {},
   "outputs": [],
   "source": [
    "plt.plot(np.mean(bee_data, axis=0))\n",
    "plt.plot(np.mean(key_data, axis=0))"
   ]
  },
  {
   "cell_type": "code",
   "execution_count": null,
   "id": "53d57d1e-d2a6-4bfa-a88c-c120ff7b9071",
   "metadata": {},
   "outputs": [],
   "source": [
    "bee_features = data_to_feature(bee_data)\n",
    "key_features = data_to_feature(key_data)"
   ]
  },
  {
   "cell_type": "code",
   "execution_count": null,
   "id": "77fd6882-17f3-466b-922e-ec7b67d473a3",
   "metadata": {},
   "outputs": [],
   "source": [
    "bee_features.shape"
   ]
  },
  {
   "cell_type": "code",
   "execution_count": null,
   "id": "92757d7d-4a5c-40cf-af82-02540800531a",
   "metadata": {},
   "outputs": [],
   "source": [
    "key_features.shape"
   ]
  },
  {
   "cell_type": "code",
   "execution_count": null,
   "id": "8d83df1f-9b51-4228-8783-740abce85461",
   "metadata": {},
   "outputs": [],
   "source": [
    "np.hstack([i * np.ones(3) for i in range(3)])"
   ]
  },
  {
   "cell_type": "code",
   "execution_count": null,
   "id": "aec31f04-0c29-471f-bc6e-dd65ccd8f1e8",
   "metadata": {},
   "outputs": [],
   "source": []
  },
  {
   "cell_type": "code",
   "execution_count": null,
   "id": "d78a2020-8b60-486e-bc2d-c7b238aad0a4",
   "metadata": {},
   "outputs": [],
   "source": [
    "clf = SVC(kernel='linear', C=1, random_state=42)\n",
    "scores = cross_val_score(clf, X, y, cv=5)\n",
    "scores.mean()"
   ]
  },
  {
   "cell_type": "code",
   "execution_count": null,
   "id": "3a9b7cfa-4d3d-4542-91d5-4249f9dda4e6",
   "metadata": {},
   "outputs": [],
   "source": [
    "clf = make_pipeline(StandardScaler(),\n",
    "                    SVC(gamma='auto'))\n",
    "                    # SGDClassifier(max_iter=1000, tol=1e-3))\n",
    "clf.fit(X, y)"
   ]
  },
  {
   "cell_type": "code",
   "execution_count": null,
   "id": "e66c2ded-de07-4574-b3ce-e9229383f0cb",
   "metadata": {},
   "outputs": [],
   "source": [
    "clf.score(X, y)"
   ]
  },
  {
   "cell_type": "code",
   "execution_count": null,
   "id": "4d9f2505-f151-4be4-b98d-62f973670fbf",
   "metadata": {},
   "outputs": [],
   "source": [
    "len(bee_features)"
   ]
  },
  {
   "cell_type": "code",
   "execution_count": null,
   "id": "58ba19f4-bb15-43c8-b2a3-bf23e52443f9",
   "metadata": {},
   "outputs": [],
   "source": []
  }
 ],
 "metadata": {
  "kernelspec": {
   "display_name": "Python 3 (ipykernel)",
   "language": "python",
   "name": "python3"
  },
  "language_info": {
   "codemirror_mode": {
    "name": "ipython",
    "version": 3
   },
   "file_extension": ".py",
   "mimetype": "text/x-python",
   "name": "python",
   "nbconvert_exporter": "python",
   "pygments_lexer": "ipython3",
   "version": "3.8.10"
  }
 },
 "nbformat": 4,
 "nbformat_minor": 5
}
