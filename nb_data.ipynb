{
 "cells": [
  {
   "cell_type": "markdown",
   "id": "f62ad418-ff99-4bc6-b7e5-2a90c0fb8254",
   "metadata": {},
   "source": [
    "# Import"
   ]
  },
  {
   "cell_type": "code",
   "execution_count": 1,
   "id": "bdce1dce-39cb-446b-95ec-33a17d3bd397",
   "metadata": {},
   "outputs": [],
   "source": [
    "import numpy as np\n",
    "import matplotlib.pyplot as plt\n",
    "from mne.io.snirf import read_raw_snirf\n",
    "from get_events_from_snirf import get_events_from_snirf\n",
    "import itertools"
   ]
  },
  {
   "cell_type": "code",
   "execution_count": 2,
   "id": "177f5623-6a08-4068-99d3-9380d2fab2bd",
   "metadata": {},
   "outputs": [],
   "source": [
    "from sklearn.linear_model import SGDClassifier\n",
    "from sklearn.preprocessing import StandardScaler\n",
    "from sklearn.pipeline import make_pipeline\n",
    "from sklearn.svm import SVC\n",
    "from sklearn.model_selection import cross_val_score\n",
    "from sklearn.neural_network import MLPClassifier"
   ]
  },
  {
   "cell_type": "code",
   "execution_count": 45,
   "id": "fc651558-b8a1-4ef6-8b48-d7a5e32ee7bf",
   "metadata": {},
   "outputs": [],
   "source": [
    "from give_channels import give_channels"
   ]
  },
  {
   "cell_type": "markdown",
   "id": "86084bbc-c3b4-4375-bf8c-5f2fa29c4775",
   "metadata": {},
   "source": [
    "# Load Data"
   ]
  },
  {
   "cell_type": "code",
   "execution_count": 3,
   "id": "1b647fc9-f8d1-4786-9a2d-7b8579ec7593",
   "metadata": {},
   "outputs": [
    {
     "name": "stdout",
     "output_type": "stream",
     "text": [
      "Loading /home/kernel/Desktop/py_test/project/data_hojjat/dec_nef/2/test_001_S001_7d1123e_5.snirf\n"
     ]
    },
    {
     "name": "stderr",
     "output_type": "stream",
     "text": [
      "/home/kernel/Desktop/py_test/project/venv/lib/python3.8/site-packages/mne/externals/pymatreader/pymatreader.py:34: DeprecationWarning: Please use `get_matfile_version` from the `scipy.io.matlab` namespace, the `scipy.io.matlab.miobase` namespace is deprecated.\n",
      "  from scipy.io.matlab.miobase import get_matfile_version\n"
     ]
    }
   ],
   "source": [
    "path_to_snirf = \"../data_hojjat/dec_nef/2/test_001_S001_7d1123e_5.snirf\"\n",
    "snirf = read_raw_snirf(path_to_snirf)"
   ]
  },
  {
   "cell_type": "code",
   "execution_count": 4,
   "id": "7dc4d0c1-b793-439b-872e-e1c4afbc2695",
   "metadata": {},
   "outputs": [
    {
     "data": {
      "text/plain": [
       "(4168, 4518)"
      ]
     },
     "execution_count": 4,
     "metadata": {},
     "output_type": "execute_result"
    }
   ],
   "source": [
    "snirf.get_data().shape"
   ]
  },
  {
   "cell_type": "code",
   "execution_count": 5,
   "id": "39f06e17-371d-4713-a535-68646a53b94e",
   "metadata": {},
   "outputs": [
    {
     "data": {
      "text/html": [
       "\n",
       "\n",
       "<table class=\"table table-hover\">\n",
       "    <tr>\n",
       "        <th>Measurement date</th>\n",
       "        <td>April 13, 2022  23:35:58 GMT</td>\n",
       "        \n",
       "    </tr>\n",
       "    <tr>\n",
       "        <th>Experimenter</th>\n",
       "<td>Unknown</td>\n",
       "    </tr>\n",
       "        <th>Participant</th>\n",
       "        \n",
       "    </tr>\n",
       "    <tr>\n",
       "        <th>Digitized points</th>\n",
       "        <td>4171 points</td>\n",
       "    </tr>\n",
       "    <tr>\n",
       "        <th>Good channels</th>\n",
       "        <td>0 magnetometer, 0 gradiometer,\n",
       "            0 EEG channels, and 4168 fNIRS channels.</td>\n",
       "    </tr>\n",
       "    <tr>\n",
       "        <th>Bad channels</th>\n",
       "        <td></td>\n",
       "        \n",
       "    </tr>\n",
       "    <tr>\n",
       "        <th>EOG channels</th>\n",
       "        <td>Not available</td>\n",
       "    </tr>\n",
       "    <tr>\n",
       "        <th>ECG channels</th>\n",
       "        <td>Not available</td>\n",
       "    <tr>\n",
       "        <th>Sampling frequency</th>\n",
       "        <td>7.14 Hz</td>\n",
       "    </tr>\n",
       "    <tr>\n",
       "        <th>Highpass</th>\n",
       "        <td>0.00 Hz</td>\n",
       "    </tr>\n",
       "    <tr>\n",
       "        <th>Lowpass</th>\n",
       "        <td>3.57 Hz</td>\n",
       "    </tr>\n",
       "\n",
       "    <tr>\n",
       "        <th>Filenames</th>\n",
       "        <td>test_001_S001_7d1123e_5.snirf</td>\n",
       "    </tr>\n",
       "    <tr>\n",
       "        <th>Duration</th>\n",
       "        <td>00:10:32 (HH:MM:SS)</td>\n",
       "    </tr>\n",
       "</table>\n"
      ],
      "text/plain": [
       "<RawSNIRF | test_001_S001_7d1123e_5.snirf, 4168 x 4518 (632.8 s), ~5.6 MB, data not loaded>"
      ]
     },
     "execution_count": 5,
     "metadata": {},
     "output_type": "execute_result"
    }
   ],
   "source": [
    "snirf"
   ]
  },
  {
   "cell_type": "code",
   "execution_count": 6,
   "id": "b75961d7",
   "metadata": {
    "collapsed": false,
    "jupyter": {
     "outputs_hidden": false
    },
    "pycharm": {
     "name": "#%%\n"
    }
   },
   "outputs": [],
   "source": [
    "data = snirf.get_data()"
   ]
  },
  {
   "cell_type": "code",
   "execution_count": 7,
   "id": "5e89f83c-ee25-43f1-9ce0-974e5b747b99",
   "metadata": {},
   "outputs": [
    {
     "data": {
      "text/html": [
       "<div>\n",
       "<style scoped>\n",
       "    .dataframe tbody tr th:only-of-type {\n",
       "        vertical-align: middle;\n",
       "    }\n",
       "\n",
       "    .dataframe tbody tr th {\n",
       "        vertical-align: top;\n",
       "    }\n",
       "\n",
       "    .dataframe thead th {\n",
       "        text-align: right;\n",
       "    }\n",
       "</style>\n",
       "<table border=\"1\" class=\"dataframe\">\n",
       "  <thead>\n",
       "    <tr style=\"text-align: right;\">\n",
       "      <th></th>\n",
       "      <th>Timestamp</th>\n",
       "      <th>Event</th>\n",
       "      <th>Duration</th>\n",
       "      <th>Value</th>\n",
       "      <th>Experiment</th>\n",
       "      <th>Stim</th>\n",
       "      <th>Label</th>\n",
       "      <th>File</th>\n",
       "    </tr>\n",
       "  </thead>\n",
       "  <tbody>\n",
       "    <tr>\n",
       "      <th>0</th>\n",
       "      <td>44.671425</td>\n",
       "      <td>StartExperiment</td>\n",
       "      <td>571.234335</td>\n",
       "      <td>1.0</td>\n",
       "      <td>1.0</td>\n",
       "      <td>NaN</td>\n",
       "      <td>na</td>\n",
       "      <td>nan</td>\n",
       "    </tr>\n",
       "    <tr>\n",
       "      <th>1</th>\n",
       "      <td>44.721467</td>\n",
       "      <td>Stim</td>\n",
       "      <td>0.000000</td>\n",
       "      <td>1.0</td>\n",
       "      <td>1.0</td>\n",
       "      <td>Horse-15-3-1.Png</td>\n",
       "      <td>Horse</td>\n",
       "      <td>15_3_1.Png</td>\n",
       "    </tr>\n",
       "    <tr>\n",
       "      <th>2</th>\n",
       "      <td>45.672347</td>\n",
       "      <td>Stim</td>\n",
       "      <td>0.000000</td>\n",
       "      <td>1.0</td>\n",
       "      <td>1.0</td>\n",
       "      <td>Horse-15-3-2.Png</td>\n",
       "      <td>Horse</td>\n",
       "      <td>15_3_2.Png</td>\n",
       "    </tr>\n",
       "    <tr>\n",
       "      <th>3</th>\n",
       "      <td>46.623058</td>\n",
       "      <td>Stim</td>\n",
       "      <td>0.000000</td>\n",
       "      <td>1.0</td>\n",
       "      <td>1.0</td>\n",
       "      <td>Horse-15-3-3.Png</td>\n",
       "      <td>Horse</td>\n",
       "      <td>15_3_3.Png</td>\n",
       "    </tr>\n",
       "    <tr>\n",
       "      <th>4</th>\n",
       "      <td>47.573675</td>\n",
       "      <td>Stim</td>\n",
       "      <td>0.000000</td>\n",
       "      <td>1.0</td>\n",
       "      <td>1.0</td>\n",
       "      <td>Bicycle-33-3-1.Png</td>\n",
       "      <td>Bicycle</td>\n",
       "      <td>33_3_1.Png</td>\n",
       "    </tr>\n",
       "    <tr>\n",
       "      <th>5</th>\n",
       "      <td>48.507729</td>\n",
       "      <td>Stim</td>\n",
       "      <td>0.000000</td>\n",
       "      <td>1.0</td>\n",
       "      <td>1.0</td>\n",
       "      <td>Bicycle-33-3-2.Png</td>\n",
       "      <td>Bicycle</td>\n",
       "      <td>33_3_2.Png</td>\n",
       "    </tr>\n",
       "    <tr>\n",
       "      <th>6</th>\n",
       "      <td>49.458677</td>\n",
       "      <td>Stim</td>\n",
       "      <td>0.000000</td>\n",
       "      <td>1.0</td>\n",
       "      <td>1.0</td>\n",
       "      <td>Spider-5-3-1.Png</td>\n",
       "      <td>Spider</td>\n",
       "      <td>5_3_1.Png</td>\n",
       "    </tr>\n",
       "    <tr>\n",
       "      <th>7</th>\n",
       "      <td>50.426131</td>\n",
       "      <td>Stim</td>\n",
       "      <td>0.000000</td>\n",
       "      <td>1.0</td>\n",
       "      <td>1.0</td>\n",
       "      <td>Spider-5-3-2.Png</td>\n",
       "      <td>Spider</td>\n",
       "      <td>5_3_2.Png</td>\n",
       "    </tr>\n",
       "    <tr>\n",
       "      <th>8</th>\n",
       "      <td>51.376710</td>\n",
       "      <td>Stim</td>\n",
       "      <td>0.000000</td>\n",
       "      <td>1.0</td>\n",
       "      <td>1.0</td>\n",
       "      <td>Spider-5-3-3.Png</td>\n",
       "      <td>Spider</td>\n",
       "      <td>5_3_3.Png</td>\n",
       "    </tr>\n",
       "    <tr>\n",
       "      <th>9</th>\n",
       "      <td>52.327817</td>\n",
       "      <td>Stim</td>\n",
       "      <td>0.000000</td>\n",
       "      <td>1.0</td>\n",
       "      <td>1.0</td>\n",
       "      <td>Shark-16-3-1.Png</td>\n",
       "      <td>Shark</td>\n",
       "      <td>16_3_1.Png</td>\n",
       "    </tr>\n",
       "    <tr>\n",
       "      <th>10</th>\n",
       "      <td>53.261660</td>\n",
       "      <td>Stim</td>\n",
       "      <td>0.000000</td>\n",
       "      <td>1.0</td>\n",
       "      <td>1.0</td>\n",
       "      <td>Shark-16-3-2.Png</td>\n",
       "      <td>Shark</td>\n",
       "      <td>16_3_2.Png</td>\n",
       "    </tr>\n",
       "    <tr>\n",
       "      <th>11</th>\n",
       "      <td>54.212289</td>\n",
       "      <td>Stim</td>\n",
       "      <td>0.000000</td>\n",
       "      <td>1.0</td>\n",
       "      <td>1.0</td>\n",
       "      <td>Shark-16-3-3.Png</td>\n",
       "      <td>Shark</td>\n",
       "      <td>16_3_3.Png</td>\n",
       "    </tr>\n",
       "    <tr>\n",
       "      <th>12</th>\n",
       "      <td>55.179767</td>\n",
       "      <td>Stim</td>\n",
       "      <td>0.000000</td>\n",
       "      <td>1.0</td>\n",
       "      <td>1.0</td>\n",
       "      <td>Shark-16-3-4.Png</td>\n",
       "      <td>Shark</td>\n",
       "      <td>16_3_4.Png</td>\n",
       "    </tr>\n",
       "    <tr>\n",
       "      <th>13</th>\n",
       "      <td>56.131628</td>\n",
       "      <td>Stim</td>\n",
       "      <td>0.000000</td>\n",
       "      <td>1.0</td>\n",
       "      <td>1.0</td>\n",
       "      <td>Shark-16-3-5.Png</td>\n",
       "      <td>Shark</td>\n",
       "      <td>16_3_5.Png</td>\n",
       "    </tr>\n",
       "    <tr>\n",
       "      <th>14</th>\n",
       "      <td>57.064571</td>\n",
       "      <td>Stim</td>\n",
       "      <td>0.000000</td>\n",
       "      <td>1.0</td>\n",
       "      <td>1.0</td>\n",
       "      <td>Shark-16-3-6.Png</td>\n",
       "      <td>Shark</td>\n",
       "      <td>16_3_6.Png</td>\n",
       "    </tr>\n",
       "  </tbody>\n",
       "</table>\n",
       "</div>"
      ],
      "text/plain": [
       "    Timestamp            Event    Duration  Value  Experiment  \\\n",
       "0   44.671425  StartExperiment  571.234335    1.0         1.0   \n",
       "1   44.721467             Stim    0.000000    1.0         1.0   \n",
       "2   45.672347             Stim    0.000000    1.0         1.0   \n",
       "3   46.623058             Stim    0.000000    1.0         1.0   \n",
       "4   47.573675             Stim    0.000000    1.0         1.0   \n",
       "5   48.507729             Stim    0.000000    1.0         1.0   \n",
       "6   49.458677             Stim    0.000000    1.0         1.0   \n",
       "7   50.426131             Stim    0.000000    1.0         1.0   \n",
       "8   51.376710             Stim    0.000000    1.0         1.0   \n",
       "9   52.327817             Stim    0.000000    1.0         1.0   \n",
       "10  53.261660             Stim    0.000000    1.0         1.0   \n",
       "11  54.212289             Stim    0.000000    1.0         1.0   \n",
       "12  55.179767             Stim    0.000000    1.0         1.0   \n",
       "13  56.131628             Stim    0.000000    1.0         1.0   \n",
       "14  57.064571             Stim    0.000000    1.0         1.0   \n",
       "\n",
       "                  Stim    Label        File  \n",
       "0                  NaN       na         nan  \n",
       "1     Horse-15-3-1.Png    Horse  15_3_1.Png  \n",
       "2     Horse-15-3-2.Png    Horse  15_3_2.Png  \n",
       "3     Horse-15-3-3.Png    Horse  15_3_3.Png  \n",
       "4   Bicycle-33-3-1.Png  Bicycle  33_3_1.Png  \n",
       "5   Bicycle-33-3-2.Png  Bicycle  33_3_2.Png  \n",
       "6     Spider-5-3-1.Png   Spider   5_3_1.Png  \n",
       "7     Spider-5-3-2.Png   Spider   5_3_2.Png  \n",
       "8     Spider-5-3-3.Png   Spider   5_3_3.Png  \n",
       "9     Shark-16-3-1.Png    Shark  16_3_1.Png  \n",
       "10    Shark-16-3-2.Png    Shark  16_3_2.Png  \n",
       "11    Shark-16-3-3.Png    Shark  16_3_3.Png  \n",
       "12    Shark-16-3-4.Png    Shark  16_3_4.Png  \n",
       "13    Shark-16-3-5.Png    Shark  16_3_5.Png  \n",
       "14    Shark-16-3-6.Png    Shark  16_3_6.Png  "
      ]
     },
     "execution_count": 7,
     "metadata": {},
     "output_type": "execute_result"
    }
   ],
   "source": [
    "events_df = get_events_from_snirf(path_to_snirf);\n",
    "events_df.head(15)"
   ]
  },
  {
   "cell_type": "markdown",
   "id": "8a1d9d93-4463-413a-896b-ae64d6b319c1",
   "metadata": {},
   "source": [
    "# Some Functions"
   ]
  },
  {
   "cell_type": "code",
   "execution_count": 8,
   "id": "4104d111-1ed7-4a35-8dd0-2cf76656e30e",
   "metadata": {},
   "outputs": [],
   "source": [
    "def get_times(df, key):\n",
    "    times = df[df.Label == key]['Timestamp'].values;\n",
    "    return times"
   ]
  },
  {
   "cell_type": "code",
   "execution_count": 9,
   "id": "73c967d8-3c0b-45e9-84bb-f34d10922289",
   "metadata": {},
   "outputs": [
    {
     "name": "stdout",
     "output_type": "stream",
     "text": [
      "0\n",
      "1\n"
     ]
    }
   ],
   "source": [
    "for a, b in enumerate(['a', 'b']):\n",
    "    print(a)"
   ]
  },
  {
   "cell_type": "code",
   "execution_count": 10,
   "id": "d3c4742f-35b0-435b-9baf-4ac47be90be4",
   "metadata": {},
   "outputs": [],
   "source": [
    "def get_data(data, channels, times, index, window_size, sample_rate):\n",
    "    out = np.zeros((len(times), len(channels), window_size * sample_rate))\n",
    "    for time_index, time in enumerate(times):\n",
    "        for channel_index, channel in enumerate(channels):\n",
    "            out[time_index, channel_index, :] = data[channel, int((time+index)*sample_rate): int((time+index+window_size)*sample_rate)]\n",
    "    return out\n",
    "    # lst = [data[channel, int((time+index)*sample_rate): int((time+index+window_size)*sample_rate)] for time, channel in itertools.product(times.astype(int), channels)]\n",
    "    # print(np.shape(lst))\n",
    "    # arr = np.array(lst)"
   ]
  },
  {
   "cell_type": "code",
   "execution_count": 11,
   "id": "21419a8d-d0ff-436d-a24a-db730dd0bab3",
   "metadata": {},
   "outputs": [],
   "source": [
    "def data_to_feature(data):\n",
    "    [times, channels, points] = np.shape(data)\n",
    "    # features = np.ones((times, channels * 3))\n",
    "    _mean = np.mean(data, axis = 2)\n",
    "    _min = np.min(data, axis = 2)\n",
    "    _max = np.max(data, axis = 2)\n",
    "    features = np.hstack((_mean, _min, _max))\n",
    "    # features[:, 3:] = data[:]\n",
    "    return features"
   ]
  },
  {
   "cell_type": "code",
   "execution_count": 12,
   "id": "c606c2ef-37e6-4295-b87b-22da4b89d892",
   "metadata": {},
   "outputs": [],
   "source": [
    "def make_x_y(features):\n",
    "    shape = np.shape(features)\n",
    "    X = np.vstack(features)\n",
    "    y = np.hstack([(i+1) * np.ones(shape[1]) for i in range(len(features))])\n",
    "    return X, y"
   ]
  },
  {
   "cell_type": "code",
   "execution_count": 13,
   "id": "b213f700-5931-47fa-a8a1-dab2c1e0b2ca",
   "metadata": {},
   "outputs": [],
   "source": [
    "def classify(X, y):\n",
    "    clf = SVC(kernel='linear', C=1, random_state=42)\n",
    "    # clf = MLPClassifier(random_state=1, max_iter=1000)\n",
    "    scores = cross_val_score(clf, X, y, cv=5)\n",
    "    return scores"
   ]
  },
  {
   "cell_type": "code",
   "execution_count": 14,
   "id": "63d265db-c162-414a-8df4-f330f26ff8e8",
   "metadata": {},
   "outputs": [],
   "source": [
    "def get_all_classes(events_df):\n",
    "    classes = events_df.Label.unique()[1:]\n",
    "    return classes"
   ]
  },
  {
   "cell_type": "code",
   "execution_count": 15,
   "id": "326b0e5c-1aeb-4cfd-9e98-f079432077b8",
   "metadata": {},
   "outputs": [],
   "source": [
    "def get_all_times(all_classes, events_df):\n",
    "    all_times_lst = [get_times(events_df, clas) for clas in all_classes]\n",
    "    all_times_array = np.array(all_times_lst, dtype=object)\n",
    "    return all_times_array"
   ]
  },
  {
   "cell_type": "code",
   "execution_count": 16,
   "id": "ea1b50a5-3e78-4b7e-ba5f-6189e1ccdfb9",
   "metadata": {},
   "outputs": [],
   "source": [
    "def get_all_data(data, channels, all_times, index, window_size, sample_rate):\n",
    "    all_data_lst = [get_data(data, channels, times, index, window_size, sample_rate) for times in all_times]\n",
    "    all_data_arr = np.array(all_data_lst)\n",
    "    return all_data_arr"
   ]
  },
  {
   "cell_type": "code",
   "execution_count": 17,
   "id": "50163d30-eb0a-4e6d-8822-bbb7bb3220e6",
   "metadata": {},
   "outputs": [],
   "source": [
    "def get_all_feature(data):\n",
    "    all_feature_lst = [data_to_feature(data) for data in all_data]\n",
    "    all_feature_arr = np.array(all_feature_lst)\n",
    "    return all_feature_arr"
   ]
  },
  {
   "cell_type": "markdown",
   "id": "a0a6c21c-f846-4d84-9b4f-6534edc1d6bb",
   "metadata": {},
   "source": [
    "# Run"
   ]
  },
  {
   "cell_type": "code",
   "execution_count": 36,
   "id": "96f99351-5ee3-4926-8e3a-98d2833b97fb",
   "metadata": {},
   "outputs": [],
   "source": [
    "all_classes = get_all_classes(events_df)[:2]\n",
    "all_times = get_all_times(all_classes, events_df)"
   ]
  },
  {
   "cell_type": "code",
   "execution_count": 37,
   "id": "befe4bf4-f81d-4135-8066-bd7bea116cc5",
   "metadata": {},
   "outputs": [
    {
     "data": {
      "text/plain": [
       "(4168, 4518)"
      ]
     },
     "execution_count": 37,
     "metadata": {},
     "output_type": "execute_result"
    }
   ],
   "source": [
    "snirf.get_data().shape"
   ]
  },
  {
   "cell_type": "code",
   "execution_count": 38,
   "id": "62300ad6-1cf1-40b6-b75d-e488a3a8b23c",
   "metadata": {},
   "outputs": [
    {
     "data": {
      "text/plain": [
       "array(['Horse', 'Bicycle'], dtype=object)"
      ]
     },
     "execution_count": 38,
     "metadata": {},
     "output_type": "execute_result"
    }
   ],
   "source": [
    "all_classes"
   ]
  },
  {
   "cell_type": "code",
   "execution_count": 39,
   "id": "d83839b7-0ed9-4a8c-94fc-9a90d7e7605f",
   "metadata": {},
   "outputs": [],
   "source": [
    "channels = [0], #, 3, 4, 6, 8, 16, 17, 18, 19, 20, 21, 22, 23]#, 17, 18, 19, 20, 21, 22, 23, 24, 25, 26, 27, 28, 29, 30]\n",
    "index = 0\n",
    "window_size = 1\n",
    "sample_rate=7\n",
    "all_data = get_all_data(data, channels, all_times, index, window_size, sample_rate)"
   ]
  },
  {
   "cell_type": "code",
   "execution_count": 40,
   "id": "d6147350-bf4f-492c-8f11-0c38f806ef16",
   "metadata": {},
   "outputs": [],
   "source": [
    "all_feature = get_all_feature(all_data)"
   ]
  },
  {
   "cell_type": "code",
   "execution_count": 41,
   "id": "a0ce5b71-bd14-4389-862a-27b2166b1c29",
   "metadata": {},
   "outputs": [
    {
     "data": {
      "text/plain": [
       "(2, 15, 1, 7)"
      ]
     },
     "execution_count": 41,
     "metadata": {},
     "output_type": "execute_result"
    }
   ],
   "source": [
    "all_data.shape"
   ]
  },
  {
   "cell_type": "code",
   "execution_count": 42,
   "id": "44da3655-62a4-4943-91ae-cc795ee81981",
   "metadata": {},
   "outputs": [
    {
     "data": {
      "text/plain": [
       "(2, 15, 3)"
      ]
     },
     "execution_count": 42,
     "metadata": {},
     "output_type": "execute_result"
    }
   ],
   "source": [
    "all_feature.shape"
   ]
  },
  {
   "cell_type": "code",
   "execution_count": 44,
   "id": "3d5c48fd-ffe6-4d7c-9fd3-0081233dc823",
   "metadata": {},
   "outputs": [
    {
     "data": {
      "text/plain": [
       "(30, 3)"
      ]
     },
     "execution_count": 44,
     "metadata": {},
     "output_type": "execute_result"
    }
   ],
   "source": [
    "X.shape"
   ]
  },
  {
   "cell_type": "code",
   "execution_count": 43,
   "id": "a171cae6-31fa-4214-ae24-26a65db3fa7e",
   "metadata": {},
   "outputs": [
    {
     "name": "stdout",
     "output_type": "stream",
     "text": [
      "i w s\n",
      "0 1 66.66666666666667\n",
      "1 1 63.33333333333333\n",
      "2 1 56.666666666666664\n",
      "3 1 53.333333333333336\n",
      "4 1 53.333333333333336\n",
      "5 1 43.33333333333333\n",
      "6 1 46.666666666666664\n",
      "7 1 49.999999999999986\n",
      "8 1 53.333333333333336\n",
      "9 1 50.0\n"
     ]
    }
   ],
   "source": [
    "print('i', 'w', 's')\n",
    "import warnings\n",
    "\n",
    "warnings.simplefilter('ignore')\n",
    "for index in range(10):\n",
    "    all_data = get_all_data(data, channels, all_times, index, window_size, sample_rate)\n",
    "    all_feature = get_all_feature(all_data)\n",
    "    X, y = make_x_y(all_feature)\n",
    "    scores = classify(X, y)\n",
    "    print(index, window_size, 100 * (scores.mean()))"
   ]
  },
  {
   "cell_type": "code",
   "execution_count": null,
   "id": "14eab8c9-a1ce-46b0-8cba-aad3c2e7691d",
   "metadata": {},
   "outputs": [],
   "source": []
  },
  {
   "cell_type": "code",
   "execution_count": null,
   "id": "0391e714-5f07-48c3-890f-0e28ce2fd1b3",
   "metadata": {},
   "outputs": [],
   "source": []
  },
  {
   "cell_type": "code",
   "execution_count": null,
   "id": "462d3ffd-68a5-4806-874f-b6565d3cd83e",
   "metadata": {},
   "outputs": [],
   "source": [
    "X, y = make_x_y(all_feature)"
   ]
  },
  {
   "cell_type": "code",
   "execution_count": null,
   "id": "a499a59d-dff6-4453-9c40-09436bba9aa8",
   "metadata": {},
   "outputs": [],
   "source": [
    "classify(X, y)"
   ]
  },
  {
   "cell_type": "code",
   "execution_count": null,
   "id": "81f02a48-5acc-44c7-8c1d-b684296c0a7b",
   "metadata": {},
   "outputs": [],
   "source": [
    "X.shape"
   ]
  },
  {
   "cell_type": "code",
   "execution_count": null,
   "id": "7abc314a-b35d-48d7-9faa-e25614c4577a",
   "metadata": {},
   "outputs": [],
   "source": [
    "y"
   ]
  },
  {
   "cell_type": "code",
   "execution_count": null,
   "id": "e0a6221e-9e03-40e0-a337-bec362513c4d",
   "metadata": {},
   "outputs": [],
   "source": [
    "bee_times = get_times(events_df, 'Bee')\n",
    "key_times = get_times(events_df, 'Key')"
   ]
  },
  {
   "cell_type": "code",
   "execution_count": null,
   "id": "1e7b4a77-ffa0-42c5-a82f-654264916d4d",
   "metadata": {},
   "outputs": [],
   "source": [
    "channel_names = [x['ch_name'] for x in snirf.info['chs']]\n",
    "is_hbo = np.array([1 if channel_name.endswith(\n",
    "    'HbO') else 0 for channel_name in channel_names], dtype=bool)\n",
    "channel_locations_3d = [x['loc'][:3] for x in snirf.info['chs']]"
   ]
  },
  {
   "cell_type": "code",
   "execution_count": null,
   "id": "622eb4cb-cc07-4024-842a-46d15a0e0ddc",
   "metadata": {},
   "outputs": [],
   "source": [
    "data = snirf.get_data()"
   ]
  },
  {
   "cell_type": "code",
   "execution_count": null,
   "id": "9a0bbcf7-2738-4439-9b79-ac7d664990b8",
   "metadata": {},
   "outputs": [],
   "source": [
    "data.shape"
   ]
  },
  {
   "cell_type": "code",
   "execution_count": null,
   "id": "ea10f7bc-d06c-4b6c-a3fd-36466ae934fd",
   "metadata": {},
   "outputs": [],
   "source": [
    "ax, fig = plt.subplots(figsize=(15, 10))\n",
    "for bee in bee_times.astype(np.int):\n",
    "    fig.plot(data[0, bee*7:(bee+1)*7])\n"
   ]
  },
  {
   "cell_type": "code",
   "execution_count": null,
   "id": "92255748-6811-4aa5-8035-e6c5c6a4da5d",
   "metadata": {},
   "outputs": [],
   "source": [
    "window_size = 1\n",
    "sampling_rate = 7\n",
    "channels = [0, 1]\n",
    "index= 6\n",
    "bee_data = get_data(data, channels, bee_times, index, window_size, sampling_rate)\n",
    "key_data = get_data(data, channels, key_times, index, window_size, sampling_rate)"
   ]
  },
  {
   "cell_type": "code",
   "execution_count": null,
   "id": "68bf7e73-1469-4bdc-a640-fd6f7b753a47",
   "metadata": {},
   "outputs": [],
   "source": [
    "bee_data.shape"
   ]
  },
  {
   "cell_type": "code",
   "execution_count": null,
   "id": "cfd13358-884f-428a-bedd-7bb86a66f71d",
   "metadata": {},
   "outputs": [],
   "source": [
    "plt.plot(np.mean(bee_data, axis=0))\n",
    "plt.plot(np.mean(key_data, axis=0))"
   ]
  },
  {
   "cell_type": "code",
   "execution_count": null,
   "id": "53d57d1e-d2a6-4bfa-a88c-c120ff7b9071",
   "metadata": {},
   "outputs": [],
   "source": [
    "bee_features = data_to_feature(bee_data)\n",
    "key_features = data_to_feature(key_data)"
   ]
  },
  {
   "cell_type": "code",
   "execution_count": null,
   "id": "77fd6882-17f3-466b-922e-ec7b67d473a3",
   "metadata": {},
   "outputs": [],
   "source": [
    "bee_features.shape"
   ]
  },
  {
   "cell_type": "code",
   "execution_count": null,
   "id": "92757d7d-4a5c-40cf-af82-02540800531a",
   "metadata": {},
   "outputs": [],
   "source": [
    "key_features.shape"
   ]
  },
  {
   "cell_type": "code",
   "execution_count": null,
   "id": "8d83df1f-9b51-4228-8783-740abce85461",
   "metadata": {},
   "outputs": [],
   "source": [
    "np.hstack([i * np.ones(3) for i in range(3)])"
   ]
  },
  {
   "cell_type": "code",
   "execution_count": null,
   "id": "aec31f04-0c29-471f-bc6e-dd65ccd8f1e8",
   "metadata": {},
   "outputs": [],
   "source": []
  },
  {
   "cell_type": "code",
   "execution_count": null,
   "id": "d78a2020-8b60-486e-bc2d-c7b238aad0a4",
   "metadata": {},
   "outputs": [],
   "source": [
    "clf = SVC(kernel='linear', C=1, random_state=42)\n",
    "scores = cross_val_score(clf, X, y, cv=5)\n",
    "scores.mean()"
   ]
  },
  {
   "cell_type": "code",
   "execution_count": null,
   "id": "3a9b7cfa-4d3d-4542-91d5-4249f9dda4e6",
   "metadata": {},
   "outputs": [],
   "source": [
    "clf = make_pipeline(StandardScaler(),\n",
    "                    SVC(gamma='auto'))\n",
    "                    # SGDClassifier(max_iter=1000, tol=1e-3))\n",
    "clf.fit(X, y)"
   ]
  },
  {
   "cell_type": "code",
   "execution_count": null,
   "id": "e66c2ded-de07-4574-b3ce-e9229383f0cb",
   "metadata": {},
   "outputs": [],
   "source": [
    "clf.score(X, y)"
   ]
  },
  {
   "cell_type": "code",
   "execution_count": null,
   "id": "4d9f2505-f151-4be4-b98d-62f973670fbf",
   "metadata": {},
   "outputs": [],
   "source": [
    "len(bee_features)"
   ]
  },
  {
   "cell_type": "code",
   "execution_count": null,
   "id": "58ba19f4-bb15-43c8-b2a3-bf23e52443f9",
   "metadata": {},
   "outputs": [],
   "source": []
  }
 ],
 "metadata": {
  "kernelspec": {
   "display_name": "Python 3 (ipykernel)",
   "language": "python",
   "name": "python3"
  },
  "language_info": {
   "codemirror_mode": {
    "name": "ipython",
    "version": 3
   },
   "file_extension": ".py",
   "mimetype": "text/x-python",
   "name": "python",
   "nbconvert_exporter": "python",
   "pygments_lexer": "ipython3",
   "version": "3.8.10"
  }
 },
 "nbformat": 4,
 "nbformat_minor": 5
}
