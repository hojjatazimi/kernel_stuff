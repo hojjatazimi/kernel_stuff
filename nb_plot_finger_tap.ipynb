{
 "cells": [
  {
   "cell_type": "markdown",
   "id": "5f55d46a-3f7a-4994-a5c1-477f542bfda8",
   "metadata": {},
   "source": [
    "# Import"
   ]
  },
  {
   "cell_type": "code",
   "execution_count": 1,
   "id": "f40ff57e-b613-462e-8cb2-a6e439f6ba27",
   "metadata": {},
   "outputs": [],
   "source": [
    "from mne.io.snirf import read_raw_snirf\n",
    "from get_events_from_snirf import get_events_from_snirf\n",
    "from matplotlib import pyplot as plt\n",
    "import numpy as np\n",
    "from scipy.ndimage import gaussian_filter1d\n",
    "import mne\n",
    "import mne_nirs\n",
    "from sklearn.linear_model import SGDClassifier\n",
    "from sklearn.preprocessing import StandardScaler\n",
    "from sklearn.pipeline import make_pipeline\n",
    "from sklearn.svm import SVC\n",
    "from sklearn.model_selection import cross_val_score\n",
    "from sklearn.neural_network import MLPClassifier\n",
    "from sklearn.multiclass import OneVsRestClassifier"
   ]
  },
  {
   "cell_type": "code",
   "execution_count": 2,
   "id": "aaf2e4b5-9c4d-42e8-9c6f-180040e4cbd8",
   "metadata": {},
   "outputs": [],
   "source": [
    "from give_channels import give_channels"
   ]
  },
  {
   "cell_type": "code",
   "execution_count": 3,
   "id": "0e9fc7f4-c108-4f92-a362-e3ad9573c3b1",
   "metadata": {},
   "outputs": [],
   "source": [
    "from mne_nirs.channels import (get_long_channels, get_short_channels, picks_pair_to_idx)"
   ]
  },
  {
   "cell_type": "markdown",
   "id": "9a3c0509-49f7-4a52-8c5c-a3fc9f11367b",
   "metadata": {
    "tags": []
   },
   "source": [
    "# Class"
   ]
  },
  {
   "cell_type": "code",
   "execution_count": 4,
   "id": "d9978fef-6176-4e83-8f15-c8cd8809f2de",
   "metadata": {},
   "outputs": [],
   "source": [
    "class SNRF:\n",
    "    def __init__(self, path, hojjat = False):\n",
    "        self.path = path\n",
    "        self.snirf = read_raw_snirf(path)\n",
    "        self.sfreq = self.snirf.info['sfreq']\n",
    "        self.events = get_events_from_snirf(path, hojjat)\n",
    "        self.data = self.snirf.get_data()\n",
    "        self.clean()\n",
    "        self.filt()\n",
    "        self.data_right, self.data_avg_right = self.plot(self.filtered_data, self.events, 'Right')\n",
    "        self.data_left, self.data_avg_left = self.plot(self.filtered_data, self.events, 'Left')\n",
    "        # self.data_rest, self.data_avg_rest = self.plot(self.filtered_data, self.events, 'Rest')\n",
    "        \n",
    "    def clean(self):\n",
    "        nans = np.isnan(self.data)\n",
    "        nans_sum = np.sum(nans, axis=1)\n",
    "        nans_ids = nans_sum > 0\n",
    "        self.clean_data = self.data[~nans_ids, :]\n",
    "        self.clean_channels = np.array(self.snirf.ch_names)[~nans_ids]\n",
    "        \n",
    "    def get_duration(self, events):\n",
    "        duration = events[events['Duration'].round() >0].Duration.min().round().astype(int)\n",
    "        return duration\n",
    "    \n",
    "    def get_start_indexes(self, events):\n",
    "        start_indexes = ((events.Timestamp.values - 5) * self.sfreq).round().astype(int)\n",
    "        return start_indexes\n",
    "    def get_events_start_block(self, events, label):\n",
    "        if label == 'Rest':\n",
    "            events = events[(events.Duration > 2) & (events.Event == 'StartRest')]\n",
    "        else:\n",
    "            events = events[(events.BlockType == label) & (events.Event == 'StartBlock')]\n",
    "        return events\n",
    "    \n",
    "    def get_data(self, all_data, start_indexes, duration):\n",
    "        tmp = [all_data[:, start_index:start_index + int(duration*self.sfreq)] for start_index in start_indexes]\n",
    "        # print([np.shape(t) for t in tmp])\n",
    "        data = np.array(tmp)\n",
    "        return data\n",
    "    \n",
    "    def get_data_avg(self, data):\n",
    "        data_avg = np.mean(data, axis=0)\n",
    "        return data_avg\n",
    "    \n",
    "    def plot(self,all_data, all_events, label):\n",
    "        events = self.get_events_start_block(all_events, label)\n",
    "        duration = self.get_duration(events) + (0 if label == 'Rest' else 20 )\n",
    "        start_indexes = self.get_start_indexes(events)\n",
    "        data = self.get_data(all_data, start_indexes, duration)\n",
    "        data_avg = self.get_data_avg(data)\n",
    "        # plt.pcolor( data_avg, shading='auto', cmap='binary')\n",
    "        # _plot(snirf, data_avg, duration)\n",
    "        return data, data_avg\n",
    "    \n",
    "    def filt(self):\n",
    "        self.filtered_data = gaussian_filter1d(self.clean_data, 5, axis=1)\n",
    "        \n",
    "    def find_channels(self, start, channels, o2):\n",
    "        out = [ch for ch in channels if ch.startswith(start) and ch.endswith(o2) ]\n",
    "        out = np.array(out)\n",
    "        return out\n",
    "\n",
    "    def find_channel_indexes(self, channels, filt):\n",
    "        out = [i for i, ch in enumerate(channels) if ch in filt]\n",
    "        out = np.array(out)\n",
    "        return out\n",
    "    \n",
    "    def pick(self, start, o2):\n",
    "        tmp = self.find_channels(start,self.clean_channels, o2)\n",
    "        indexes = self.find_channel_indexes(self.clean_channels, tmp)\n",
    "        return indexes    "
   ]
  },
  {
   "cell_type": "markdown",
   "id": "9b6fe02c-5625-4abd-ac18-15265201c0d4",
   "metadata": {},
   "source": [
    "# Load File"
   ]
  },
  {
   "cell_type": "code",
   "execution_count": 5,
   "id": "f269770e-a2e7-40dd-911f-3d8eea020750",
   "metadata": {},
   "outputs": [],
   "source": [
    "path_1 = '../data_hojjat/finger_tap/40.snirf'\n",
    "# path_1 = '../data_hojjat/arm_move/s01/01/test_001_S001_3b7aaf4_5.snirf'\n",
    "path_2 = '../data_hojjat/arm_move/s01/02/test_001_S001_752891f_5.snirf'\n",
    "path_3 = '../data_hojjat/finger_tap/test_001_S001_b285d1f_5.snirf'\n",
    "path_4 = '../data_hojjat/2021_08-Finger_Tapping-Hb.snirf'"
   ]
  },
  {
   "cell_type": "code",
   "execution_count": 6,
   "id": "c3471ce2-35e9-45fe-ac81-5935abf9b31d",
   "metadata": {},
   "outputs": [
    {
     "name": "stdout",
     "output_type": "stream",
     "text": [
      "Loading /home/kernel/Desktop/py_test/project/kernel_stuff/../data_hojjat/2021_08-Finger_Tapping-Hb.snirf\n"
     ]
    }
   ],
   "source": [
    "snirf_1 = SNRF(path_4)\n",
    "# snirf_2 = SNRF(path_2)\n",
    "# snirf"
   ]
  },
  {
   "cell_type": "code",
   "execution_count": 7,
   "id": "ca9bc9a1-f1ca-45cb-86b0-68f75251166d",
   "metadata": {},
   "outputs": [
    {
     "name": "stdout",
     "output_type": "stream",
     "text": [
      "Loading /home/kernel/Desktop/py_test/project/kernel_stuff/../data_hojjat/2021_08-Finger_Tapping-Hb.snirf\n",
      "Reading 0 ... 6435  =      0.000 ...   779.279 secs...\n"
     ]
    },
    {
     "data": {
      "text/plain": [
       "4412"
      ]
     },
     "execution_count": 7,
     "metadata": {},
     "output_type": "execute_result"
    }
   ],
   "source": [
    "raw = read_raw_snirf(path_4, preload=True)\n",
    "len(raw.ch_names)"
   ]
  },
  {
   "cell_type": "code",
   "execution_count": null,
   "id": "768f87f4-b9c6-4e17-adc5-fd6681308037",
   "metadata": {},
   "outputs": [],
   "source": [
    "get_long_channels(raw, min_dist=.04).plot_sensors();"
   ]
  },
  {
   "cell_type": "code",
   "execution_count": null,
   "id": "555e026c-169d-4813-aea2-6d7af18d9159",
   "metadata": {},
   "outputs": [],
   "source": [
    "raw.plot_sensors();"
   ]
  },
  {
   "cell_type": "code",
   "execution_count": 8,
   "id": "be34ca5f-6b77-4601-b192-643e88819d21",
   "metadata": {},
   "outputs": [],
   "source": [
    "short_chs = get_short_channels(raw);\n",
    "raw  = get_long_channels(raw, min_dist=.04);"
   ]
  },
  {
   "cell_type": "code",
   "execution_count": 9,
   "id": "c8c1d06a-94c9-44a1-93b6-cc84ee0f0a8e",
   "metadata": {},
   "outputs": [
    {
     "data": {
      "image/png": "[encoded data removed]",
      "text/plain": [
       "<Figure size 432x432 with 1 Axes>"
      ]
     },
     "metadata": {
      "needs_background": "light"
     },
     "output_type": "display_data"
    }
   ],
   "source": [
    "raw.plot_sensors();"
   ]
  },
  {
   "cell_type": "code",
   "execution_count": null,
   "id": "c3e5b79e-d903-4c5f-9f66-28d52c48f300",
   "metadata": {},
   "outputs": [],
   "source": [
    "len(short_chs)"
   ]
  },
  {
   "cell_type": "code",
   "execution_count": null,
   "id": "b02a3106-a423-4ebb-bddc-749697dc861e",
   "metadata": {},
   "outputs": [],
   "source": [
    "len(raw.ch_names)"
   ]
  },
  {
   "cell_type": "code",
   "execution_count": null,
   "id": "88423824-a27a-43dd-915e-513ca6e9c8de",
   "metadata": {},
   "outputs": [],
   "source": [
    "raw.info"
   ]
  },
  {
   "cell_type": "code",
   "execution_count": null,
   "id": "20938aa1-2478-46dd-96b2-acfda254ede2",
   "metadata": {},
   "outputs": [],
   "source": [
    "raw_backup = raw.copy()"
   ]
  },
  {
   "cell_type": "code",
   "execution_count": null,
   "id": "713cba9d-fbde-4daf-ac7b-0b75137f28f0",
   "metadata": {},
   "outputs": [],
   "source": [
    "short_backup = short_chs.copy()"
   ]
  },
  {
   "cell_type": "code",
   "execution_count": null,
   "id": "283d4f9d-4156-49bf-86ba-4d8abbced18a",
   "metadata": {},
   "outputs": [],
   "source": [
    "raw = raw_backup.copy()"
   ]
  },
  {
   "cell_type": "code",
   "execution_count": null,
   "id": "de5f1f94-61af-49f4-a5b0-0b942b149c00",
   "metadata": {},
   "outputs": [],
   "source": [
    "short_chs = short_backup.copy()"
   ]
  },
  {
   "cell_type": "code",
   "execution_count": null,
   "id": "a666cac9-d000-40fe-8c80-d132afd541f2",
   "metadata": {},
   "outputs": [],
   "source": [
    "motors_right = ['S11','S13', 'S9', 'S7', 'S5']\n",
    "motors_left = ['S12','S14', '']\n",
    "#   , 'S13', 'S14', 'S15', 'S16', 'S21', 'S22', 'S23', 'S24', 'S29', 'S30', 'S31', 'S32', 'S37', 'S38',"
   ]
  },
  {
   "cell_type": "code",
   "execution_count": 10,
   "id": "97570ac9-62a4-41bf-98be-8e363c3eb59a",
   "metadata": {},
   "outputs": [
    {
     "name": "stderr",
     "output_type": "stream",
     "text": [
      "/tmp/ipykernel_46581/2921288417.py:1: RuntimeWarning: Channel(s) ['S2_D8 hbo', 'S2_D8 hbr', 'S2_D9 hbo', 'S2_D9 hbr', 'S2_D10 hbo', 'S2_D10 hbr', 'S2_D11 hbo', 'S2_D11 hbr', 'S2_D12 hbo', 'S2_D12 hbr', 'S2_D7 hbo', 'S2_D7 hbr', 'S2_D24 hbo', 'S2_D24 hbr', 'S2_D19 hbo', 'S2_D19 hbr', 'S2_D21 hbo', 'S2_D21 hbr', 'S2_D22 hbo', 'S2_D22 hbr', 'S2_D23 hbo', 'S2_D23 hbr', 'S2_D32 hbo', 'S2_D32 hbr', 'S2_D33 hbo', 'S2_D33 hbr', 'S2_D34 hbo', 'S2_D34 hbr', 'S2_D36 hbo', 'S2_D36 hbr', 'S2_D31 hbo', 'S2_D31 hbr', 'S4_D8 hbo', 'S4_D8 hbr', 'S4_D9 hbo', 'S4_D9 hbr', 'S4_D10 hbo', 'S4_D10 hbr', 'S4_D11 hbo', 'S4_D11 hbr', 'S4_D12 hbo', 'S4_D12 hbr', 'S4_D24 hbo', 'S4_D24 hbr', 'S4_D19 hbo', 'S4_D19 hbr', 'S4_D20 hbo', 'S4_D20 hbr', 'S4_D21 hbo', 'S4_D21 hbr', 'S4_D22 hbo', 'S4_D22 hbr', 'S4_D23 hbo', 'S4_D23 hbr', 'S4_D32 hbo', 'S4_D32 hbr', 'S4_D33 hbo', 'S4_D33 hbr', 'S4_D34 hbo', 'S4_D34 hbr', 'S4_D35 hbo', 'S4_D35 hbr', 'S4_D31 hbo', 'S4_D31 hbr', 'S4_D48 hbo', 'S4_D48 hbr', 'S4_D43 hbo', 'S4_D43 hbr', 'S4_D44 hbo', 'S4_D44 hbr', 'S4_D47 hbo', 'S4_D47 hbr', 'S4_D117 hbo', 'S4_D117 hbr', 'S4_D120 hbo', 'S4_D120 hbr', 'S4_D115 hbo', 'S4_D115 hbr', 'S4_D116 hbo', 'S4_D116 hbr', 'S6_D9 hbo', 'S6_D9 hbr', 'S6_D10 hbo', 'S6_D10 hbr', 'S6_D11 hbo', 'S6_D11 hbr', 'S6_D12 hbo', 'S6_D12 hbr', 'S6_D7 hbo', 'S6_D7 hbr', 'S6_D21 hbo', 'S6_D21 hbr', 'S6_D22 hbo', 'S6_D22 hbr', 'S6_D23 hbo', 'S6_D23 hbr', 'S6_D32 hbo', 'S6_D32 hbr', 'S6_D33 hbo', 'S6_D33 hbr', 'S6_D34 hbo', 'S6_D34 hbr', 'S6_D35 hbo', 'S6_D35 hbr', 'S6_D36 hbo', 'S6_D36 hbr', 'S6_D31 hbo', 'S6_D31 hbr', 'S6_D48 hbo', 'S6_D48 hbr', 'S6_D46 hbo', 'S6_D46 hbr', 'S6_D47 hbo', 'S6_D47 hbr', 'S6_D57 hbo', 'S6_D57 hbr', 'S6_D58 hbo', 'S6_D58 hbr', 'S6_D59 hbo', 'S6_D59 hbr', 'S6_D56 hbo', 'S6_D56 hbr', 'S6_D70 hbo', 'S6_D70 hbr', 'S6_D71 hbo', 'S6_D71 hbr', 'S6_D69 hbo', 'S6_D69 hbr', 'S8_D20 hbo', 'S8_D20 hbr', 'S8_D21 hbo', 'S8_D21 hbr', 'S8_D22 hbo', 'S8_D22 hbr', 'S8_D32 hbo', 'S8_D32 hbr', 'S8_D33 hbo', 'S8_D33 hbr', 'S8_D34 hbo', 'S8_D34 hbr', 'S8_D35 hbo', 'S8_D35 hbr', 'S8_D48 hbo', 'S8_D48 hbr', 'S8_D43 hbo', 'S8_D43 hbr', 'S8_D44 hbo', 'S8_D44 hbr', 'S8_D45 hbo', 'S8_D45 hbr', 'S8_D46 hbo', 'S8_D46 hbr', 'S8_D47 hbo', 'S8_D47 hbr', 'S8_D70 hbo', 'S8_D70 hbr', 'S8_D71 hbo', 'S8_D71 hbr', 'S8_D103 hbo', 'S8_D103 hbr', 'S8_D117 hbo', 'S8_D117 hbr', 'S8_D118 hbo', 'S8_D118 hbr', 'S8_D115 hbo', 'S8_D115 hbr', 'S8_D116 hbo', 'S8_D116 hbr', 'S10_D35 hbo', 'S10_D35 hbr', 'S10_D36 hbo', 'S10_D36 hbr', 'S10_D31 hbo', 'S10_D31 hbr', 'S10_D57 hbo', 'S10_D57 hbr', 'S10_D58 hbo', 'S10_D58 hbr', 'S10_D59 hbo', 'S10_D59 hbr', 'S10_D60 hbo', 'S10_D60 hbr', 'S10_D55 hbo', 'S10_D55 hbr', 'S10_D56 hbo', 'S10_D56 hbr', 'S10_D70 hbo', 'S10_D70 hbr', 'S10_D68 hbo', 'S10_D68 hbr', 'S10_D69 hbo', 'S10_D69 hbr', 'S10_D50 hbo', 'S10_D50 hbr', 'S12_D20 hbo', 'S12_D20 hbr', 'S12_D21 hbo', 'S12_D21 hbr', 'S12_D34 hbo', 'S12_D34 hbr', 'S12_D35 hbo', 'S12_D35 hbr', 'S12_D48 hbo', 'S12_D48 hbr', 'S12_D44 hbo', 'S12_D44 hbr', 'S12_D45 hbo', 'S12_D45 hbr', 'S12_D46 hbo', 'S12_D46 hbr', 'S12_D47 hbo', 'S12_D47 hbr', 'S12_D59 hbo', 'S12_D59 hbr', 'S12_D70 hbo', 'S12_D70 hbr', 'S12_D71 hbo', 'S12_D71 hbr', 'S12_D67 hbo', 'S12_D67 hbr', 'S12_D68 hbo', 'S12_D68 hbr', 'S12_D69 hbo', 'S12_D69 hbr', 'S12_D103 hbo', 'S12_D103 hbr', 'S12_D104 hbo', 'S12_D104 hbr', 'S12_D108 hbo', 'S12_D108 hbr', 'S12_D117 hbo', 'S12_D117 hbr', 'S12_D116 hbo', 'S12_D116 hbr', 'S14_D80 hbo', 'S14_D80 hbr', 'S14_D81 hbo', 'S14_D81 hbr', 'S14_D82 hbo', 'S14_D82 hbr', 'S14_D83 hbo', 'S14_D83 hbr', 'S14_D84 hbo', 'S14_D84 hbr', 'S14_D79 hbo', 'S14_D79 hbr', 'S14_D91 hbo', 'S14_D91 hbr', 'S14_D95 hbo', 'S14_D95 hbr', 'S14_D96 hbo', 'S14_D96 hbr', 'S14_D128 hbo', 'S14_D128 hbr', 'S16_D81 hbo', 'S16_D81 hbr', 'S16_D82 hbo', 'S16_D82 hbr', 'S16_D83 hbo', 'S16_D83 hbr', 'S16_D91 hbo', 'S16_D91 hbr', 'S16_D92 hbo', 'S16_D92 hbr', 'S16_D93 hbo', 'S16_D93 hbr', 'S16_D94 hbo', 'S16_D94 hbr', 'S16_D95 hbo', 'S16_D95 hbr', 'S16_D96 hbo', 'S16_D96 hbr', 'S16_D128 hbo', 'S16_D128 hbr', 'S16_D129 hbo', 'S16_D129 hbr', 'S16_D130 hbo', 'S16_D130 hbr', 'S16_D140 hbo', 'S16_D140 hbr', 'S16_D141 hbo', 'S16_D141 hbr', 'S16_D139 hbo', 'S16_D139 hbr', 'S22_D83 hbo', 'S22_D83 hbr', 'S22_D94 hbo', 'S22_D94 hbr', 'S22_D95 hbo', 'S22_D95 hbr', 'S22_D96 hbo', 'S22_D96 hbr', 'S22_D128 hbo', 'S22_D128 hbr', 'S22_D129 hbo', 'S22_D129 hbr', 'S22_D130 hbo', 'S22_D130 hbr', 'S22_D131 hbo', 'S22_D131 hbr', 'S22_D132 hbo', 'S22_D132 hbr', 'S22_D127 hbo', 'S22_D127 hbr', 'S22_D140 hbo', 'S22_D140 hbr', 'S22_D144 hbo', 'S22_D144 hbr', 'S22_D139 hbo', 'S22_D139 hbr', 'S22_D176 hbo', 'S22_D176 hbr', 'S22_D177 hbo', 'S22_D177 hbr', 'S22_D175 hbo', 'S22_D175 hbr', 'S24_D94 hbo', 'S24_D94 hbr', 'S24_D130 hbo', 'S24_D130 hbr', 'S24_D131 hbo', 'S24_D131 hbr', 'S24_D140 hbo', 'S24_D140 hbr', 'S24_D141 hbo', 'S24_D141 hbr', 'S24_D142 hbo', 'S24_D142 hbr', 'S24_D143 hbo', 'S24_D143 hbr', 'S24_D144 hbo', 'S24_D144 hbr', 'S24_D139 hbo', 'S24_D139 hbr', 'S24_D176 hbo', 'S24_D176 hbr', 'S24_D177 hbo', 'S24_D177 hbr', 'S24_D178 hbo', 'S24_D178 hbr', 'S24_D189 hbo', 'S24_D189 hbr', 'S24_D190 hbo', 'S24_D190 hbr', 'S24_D188 hbo', 'S24_D188 hbr', 'S30_D130 hbo', 'S30_D130 hbr', 'S30_D131 hbo', 'S30_D131 hbr', 'S30_D132 hbo', 'S30_D132 hbr', 'S30_D143 hbo', 'S30_D143 hbr', 'S30_D144 hbo', 'S30_D144 hbr', 'S30_D139 hbo', 'S30_D139 hbr', 'S30_D176 hbo', 'S30_D176 hbr', 'S30_D177 hbo', 'S30_D177 hbr', 'S30_D178 hbo', 'S30_D178 hbr', 'S30_D179 hbo', 'S30_D179 hbr', 'S30_D180 hbo', 'S30_D180 hbr', 'S30_D175 hbo', 'S30_D175 hbr', 'S30_D188 hbo', 'S30_D188 hbr', 'S30_D224 hbo', 'S30_D224 hbr', 'S30_D225 hbo', 'S30_D225 hbr', 'S30_D223 hbo', 'S30_D223 hbr', 'S30_D172 hbo', 'S30_D172 hbr', 'S32_D142 hbo', 'S32_D142 hbr', 'S32_D143 hbo', 'S32_D143 hbr', 'S32_D144 hbo', 'S32_D144 hbr', 'S32_D178 hbo', 'S32_D178 hbr', 'S32_D189 hbo', 'S32_D189 hbr', 'S32_D190 hbo', 'S32_D190 hbr', 'S32_D191 hbo', 'S32_D191 hbr', 'S32_D192 hbo', 'S32_D192 hbr', 'S32_D187 hbo', 'S32_D187 hbr', 'S32_D188 hbo', 'S32_D188 hbr', 'S32_D224 hbo', 'S32_D224 hbr', 'S32_D225 hbo', 'S32_D225 hbr', 'S32_D226 hbo', 'S32_D226 hbr', 'S38_D178 hbo', 'S38_D178 hbr', 'S38_D179 hbo', 'S38_D179 hbr', 'S38_D180 hbo', 'S38_D180 hbr', 'S38_D192 hbo', 'S38_D192 hbr', 'S38_D187 hbo', 'S38_D187 hbr', 'S38_D188 hbo', 'S38_D188 hbr', 'S38_D224 hbo', 'S38_D224 hbr', 'S38_D225 hbo', 'S38_D225 hbr', 'S38_D226 hbo', 'S38_D226 hbr', 'S38_D227 hbo', 'S38_D227 hbr', 'S38_D228 hbo', 'S38_D228 hbr', 'S38_D223 hbo', 'S38_D223 hbr', 'S38_D220 hbo', 'S38_D220 hbr', 'S38_D219 hbo', 'S38_D219 hbr', 'S18_D48 hbo', 'S18_D48 hbr', 'S18_D44 hbo', 'S18_D44 hbr', 'S18_D45 hbo', 'S18_D45 hbr', 'S18_D47 hbo', 'S18_D47 hbr', 'S18_D103 hbo', 'S18_D103 hbr', 'S18_D104 hbo', 'S18_D104 hbr', 'S18_D105 hbo', 'S18_D105 hbr', 'S18_D106 hbo', 'S18_D106 hbr', 'S18_D107 hbo', 'S18_D107 hbr', 'S18_D108 hbo', 'S18_D108 hbr', 'S18_D117 hbo', 'S18_D117 hbr', 'S18_D120 hbo', 'S18_D120 hbr', 'S18_D115 hbo', 'S18_D115 hbr', 'S18_D116 hbo', 'S18_D116 hbr', 'S18_D153 hbo', 'S18_D153 hbr', 'S18_D154 hbo', 'S18_D154 hbr', 'S18_D152 hbo', 'S18_D152 hbr', 'S18_D166 hbo', 'S18_D166 hbr', 'S18_D167 hbo', 'S18_D167 hbr', 'S18_D164 hbo', 'S18_D164 hbr', 'S18_D165 hbo', 'S18_D165 hbr', 'S20_D19 hbo', 'S20_D19 hbr', 'S20_D20 hbo', 'S20_D20 hbr', 'S20_D34 hbo', 'S20_D34 hbr', 'S20_D48 hbo', 'S20_D48 hbr', 'S20_D43 hbo', 'S20_D43 hbr', 'S20_D44 hbo', 'S20_D44 hbr', 'S20_D45 hbo', 'S20_D45 hbr', 'S20_D46 hbo', 'S20_D46 hbr', 'S20_D47 hbo', 'S20_D47 hbr', 'S20_D71 hbo', 'S20_D71 hbr', 'S20_D103 hbo', 'S20_D103 hbr', 'S20_D104 hbo', 'S20_D104 hbr', 'S20_D105 hbo', 'S20_D105 hbr', 'S20_D106 hbo', 'S20_D106 hbr', 'S20_D108 hbo', 'S20_D108 hbr', 'S20_D117 hbo', 'S20_D117 hbr', 'S20_D118 hbo', 'S20_D118 hbr', 'S20_D120 hbo', 'S20_D120 hbr', 'S20_D115 hbo', 'S20_D115 hbr', 'S20_D116 hbo', 'S20_D116 hbr', 'S20_D154 hbo', 'S20_D154 hbr', 'S20_D166 hbo', 'S20_D166 hbr', 'S20_D167 hbo', 'S20_D167 hbr', 'S20_D168 hbo', 'S20_D168 hbr', 'S20_D164 hbo', 'S20_D164 hbr', 'S20_D165 hbo', 'S20_D165 hbr', 'S20_D214 hbo', 'S20_D214 hbr', 'S26_D105 hbo', 'S26_D105 hbr', 'S26_D106 hbo', 'S26_D106 hbr', 'S26_D107 hbo', 'S26_D107 hbr', 'S26_D153 hbo', 'S26_D153 hbr', 'S26_D154 hbo', 'S26_D154 hbr', 'S26_D155 hbo', 'S26_D155 hbr', 'S26_D156 hbo', 'S26_D156 hbr', 'S26_D151 hbo', 'S26_D151 hbr', 'S26_D152 hbo', 'S26_D152 hbr', 'S26_D163 hbo', 'S26_D163 hbr', 'S26_D164 hbo', 'S26_D164 hbr', 'S26_D165 hbo', 'S26_D165 hbr', 'S26_D203 hbo', 'S26_D203 hbr', 'S26_D204 hbo', 'S26_D204 hbr', 'S26_D202 hbo', 'S26_D202 hbr', 'S26_D214 hbo', 'S26_D214 hbr', 'S26_D212 hbo', 'S26_D212 hbr', 'S26_D213 hbo', 'S26_D213 hbr', 'S28_D43 hbo', 'S28_D43 hbr', 'S28_D103 hbo', 'S28_D103 hbr', 'S28_D104 hbo', 'S28_D104 hbr', 'S28_D105 hbo', 'S28_D105 hbr', 'S28_D106 hbo', 'S28_D106 hbr', 'S28_D107 hbo', 'S28_D107 hbr', 'S28_D118 hbo', 'S28_D118 hbr', 'S28_D120 hbo', 'S28_D120 hbr', 'S28_D115 hbo', 'S28_D115 hbr', 'S28_D116 hbo', 'S28_D116 hbr', 'S28_D153 hbo', 'S28_D153 hbr', 'S28_D154 hbo', 'S28_D154 hbr', 'S28_D155 hbo', 'S28_D155 hbr', 'S28_D166 hbo', 'S28_D166 hbr', 'S28_D167 hbo', 'S28_D167 hbr', 'S28_D168 hbo', 'S28_D168 hbr', 'S28_D163 hbo', 'S28_D163 hbr', 'S28_D164 hbo', 'S28_D164 hbr', 'S28_D165 hbo', 'S28_D165 hbr', 'S28_D214 hbo', 'S28_D214 hbr', 'S28_D215 hbo', 'S28_D215 hbr', 'S28_D216 hbo', 'S28_D216 hbr', 'S28_D212 hbo', 'S28_D212 hbr', 'S28_D213 hbo', 'S28_D213 hbr', 'S34_D155 hbo', 'S34_D155 hbr', 'S34_D156 hbo', 'S34_D156 hbr', 'S34_D151 hbo', 'S34_D151 hbr', 'S34_D203 hbo', 'S34_D203 hbr', 'S34_D204 hbo', 'S34_D204 hbr', 'S34_D199 hbo', 'S34_D199 hbr', 'S34_D200 hbo', 'S34_D200 hbr', 'S34_D201 hbo', 'S34_D201 hbr', 'S34_D202 hbo', 'S34_D202 hbr', 'S34_D211 hbo', 'S34_D211 hbr', 'S34_D212 hbo', 'S34_D212 hbr', 'S34_D213 hbo', 'S34_D213 hbr', 'S34_D240 hbo', 'S34_D240 hbr', 'S34_D238 hbo', 'S34_D238 hbr', 'S34_D239 hbo', 'S34_D239 hbr', 'S36_D120 hbo', 'S36_D120 hbr', 'S36_D154 hbo', 'S36_D154 hbr', 'S36_D155 hbo', 'S36_D155 hbr', 'S36_D156 hbo', 'S36_D156 hbr', 'S36_D167 hbo', 'S36_D167 hbr', 'S36_D168 hbo', 'S36_D168 hbr', 'S36_D163 hbo', 'S36_D163 hbr', 'S36_D164 hbo', 'S36_D164 hbr', 'S36_D165 hbo', 'S36_D165 hbr', 'S36_D203 hbo', 'S36_D203 hbr', 'S36_D204 hbo', 'S36_D204 hbr', 'S36_D199 hbo', 'S36_D199 hbr', 'S36_D214 hbo', 'S36_D214 hbr', 'S36_D215 hbo', 'S36_D215 hbr', 'S36_D216 hbo', 'S36_D216 hbr', 'S36_D211 hbo', 'S36_D211 hbr', 'S36_D212 hbo', 'S36_D212 hbr', 'S36_D213 hbo', 'S36_D213 hbr', 'S36_D235 hbo', 'S36_D235 hbr', 'S36_D238 hbo', 'S36_D238 hbr', 'S36_D239 hbo', 'S36_D239 hbr', 'S40_D204 hbo', 'S40_D204 hbr', 'S40_D199 hbo', 'S40_D199 hbr', 'S40_D200 hbo', 'S40_D200 hbr', 'S40_D215 hbo', 'S40_D215 hbr', 'S40_D216 hbo', 'S40_D216 hbr', 'S40_D211 hbo', 'S40_D211 hbr', 'S40_D212 hbo', 'S40_D212 hbr', 'S40_D240 hbo', 'S40_D240 hbr', 'S40_D235 hbo', 'S40_D235 hbr', 'S40_D236 hbo', 'S40_D236 hbr', 'S40_D237 hbo', 'S40_D237 hbr', 'S40_D238 hbo', 'S40_D238 hbr', 'S40_D239 hbo', 'S40_D239 hbr', 'S42_D247 hbo', 'S42_D247 hbr', 'S42_D248 hbo', 'S42_D248 hbr', 'S42_D249 hbo', 'S42_D249 hbr', 'S42_D250 hbo', 'S42_D250 hbr', 'S42_D251 hbo', 'S42_D251 hbr', 'S42_D252 hbo', 'S42_D252 hbr', 'S42_D264 hbo', 'S42_D264 hbr', 'S42_D259 hbo', 'S42_D259 hbr', 'S42_D260 hbo', 'S42_D260 hbr', 'S42_D276 hbo', 'S42_D276 hbr', 'S42_D274 hbo', 'S42_D274 hbr', 'S42_D275 hbo', 'S42_D275 hbr', 'S42_D286 hbo', 'S42_D286 hbr', 'S42_D287 hbo', 'S42_D287 hbr', 'S42_D288 hbo', 'S42_D288 hbr', 'S44_D247 hbo', 'S44_D247 hbr', 'S44_D248 hbo', 'S44_D248 hbr', 'S44_D249 hbo', 'S44_D249 hbr', 'S44_D262 hbo', 'S44_D262 hbr', 'S44_D263 hbo', 'S44_D263 hbr', 'S44_D264 hbo', 'S44_D264 hbr', 'S44_D259 hbo', 'S44_D259 hbr', 'S44_D260 hbo', 'S44_D260 hbr', 'S44_D261 hbo', 'S44_D261 hbr', 'S44_D283 hbo', 'S44_D283 hbr', 'S44_D287 hbo', 'S44_D287 hbr', 'S44_D288 hbo', 'S44_D288 hbr', 'S46_D249 hbo', 'S46_D249 hbr', 'S46_D250 hbo', 'S46_D250 hbr', 'S46_D276 hbo', 'S46_D276 hbr', 'S46_D271 hbo', 'S46_D271 hbr', 'S46_D272 hbo', 'S46_D272 hbr', 'S46_D273 hbo', 'S46_D273 hbr', 'S46_D274 hbo', 'S46_D274 hbr', 'S46_D275 hbo', 'S46_D275 hbr', 'S46_D285 hbo', 'S46_D285 hbr', 'S46_D286 hbo', 'S46_D286 hbr', 'S46_D287 hbo', 'S46_D287 hbr', 'S46_D297 hbo', 'S46_D297 hbr', 'S46_D298 hbo', 'S46_D298 hbr', 'S46_D299 hbo', 'S46_D299 hbr', 'S46_D266 hbo', 'S46_D266 hbr', 'S46_D265 hbo', 'S46_D265 hbr', 'S46_D270 hbo', 'S46_D270 hbr', 'S48_D249 hbo', 'S48_D249 hbr', 'S48_D264 hbo', 'S48_D264 hbr', 'S48_D276 hbo', 'S48_D276 hbr', 'S48_D271 hbo', 'S48_D271 hbr', 'S48_D275 hbo', 'S48_D275 hbr', 'S48_D283 hbo', 'S48_D283 hbr', 'S48_D284 hbo', 'S48_D284 hbr', 'S48_D285 hbo', 'S48_D285 hbr', 'S48_D286 hbo', 'S48_D286 hbr', 'S48_D287 hbo', 'S48_D287 hbr', 'S48_D288 hbo', 'S48_D288 hbr', 'S48_D298 hbo', 'S48_D298 hbr', 'S48_D299 hbo', 'S48_D299 hbr', 'S48_D311 hbo', 'S48_D311 hbr', 'S50_D276 hbo', 'S50_D276 hbr', 'S50_D271 hbo', 'S50_D271 hbr', 'S50_D272 hbo', 'S50_D272 hbr', 'S50_D284 hbo', 'S50_D284 hbr', 'S50_D285 hbo', 'S50_D285 hbr', 'S50_D286 hbo', 'S50_D286 hbr', 'S50_D300 hbo', 'S50_D300 hbr', 'S50_D295 hbo', 'S50_D295 hbr', 'S50_D296 hbo', 'S50_D296 hbr', 'S50_D297 hbo', 'S50_D297 hbr', 'S50_D298 hbo', 'S50_D298 hbr', 'S50_D299 hbo', 'S50_D299 hbr', 'S50_D309 hbo', 'S50_D309 hbr', 'S50_D310 hbo', 'S50_D310 hbr', 'S50_D311 hbo', 'S50_D311 hbr', 'S52_D284 hbo', 'S52_D284 hbr', 'S52_D300 hbo', 'S52_D300 hbr', 'S52_D295 hbo', 'S52_D295 hbr', 'S52_D299 hbo', 'S52_D299 hbr', 'S52_D307 hbo', 'S52_D307 hbr', 'S52_D308 hbo', 'S52_D308 hbr', 'S52_D309 hbo', 'S52_D309 hbr', 'S52_D310 hbo', 'S52_D310 hbr', 'S52_D311 hbo', 'S52_D311 hbr', 'S52_D312 hbo', 'S52_D312 hbr', 'S1_D2 hbo', 'S1_D2 hbr', 'S1_D1 hbo', 'S1_D1 hbr', 'S1_D6 hbo', 'S1_D6 hbr', 'S1_D5 hbo', 'S1_D5 hbr', 'S1_D4 hbo', 'S1_D4 hbr', 'S1_D3 hbo', 'S1_D3 hbr', 'S1_D16 hbo', 'S1_D16 hbr', 'S1_D15 hbo', 'S1_D15 hbr', 'S1_D13 hbo', 'S1_D13 hbr', 'S1_D18 hbo', 'S1_D18 hbr', 'S1_D17 hbo', 'S1_D17 hbr', 'S1_D26 hbo', 'S1_D26 hbr', 'S1_D25 hbo', 'S1_D25 hbr', 'S1_D30 hbo', 'S1_D30 hbr', 'S1_D28 hbo', 'S1_D28 hbr', 'S1_D27 hbo', 'S1_D27 hbr', 'S3_D2 hbo', 'S3_D2 hbr', 'S3_D1 hbo', 'S3_D1 hbr', 'S3_D6 hbo', 'S3_D6 hbr', 'S3_D5 hbo', 'S3_D5 hbr', 'S3_D4 hbo', 'S3_D4 hbr', 'S3_D16 hbo', 'S3_D16 hbr', 'S3_D15 hbo', 'S3_D15 hbr', 'S3_D14 hbo', 'S3_D14 hbr', 'S3_D13 hbo', 'S3_D13 hbr', 'S3_D18 hbo', 'S3_D18 hbr', 'S3_D17 hbo', 'S3_D17 hbr', 'S3_D26 hbo', 'S3_D26 hbr', 'S3_D25 hbo', 'S3_D25 hbr', 'S3_D30 hbo', 'S3_D30 hbr', 'S3_D29 hbo', 'S3_D29 hbr', 'S3_D27 hbo', 'S3_D27 hbr', 'S3_D40 hbo', 'S3_D40 hbr', 'S3_D39 hbo', 'S3_D39 hbr', 'S3_D38 hbo', 'S3_D38 hbr', 'S3_D41 hbo', 'S3_D41 hbr', 'S3_D64 hbo', 'S3_D64 hbr', 'S3_D109 hbo', 'S3_D109 hbr', 'S3_D113 hbo', 'S3_D113 hbr', 'S3_D112 hbo', 'S3_D112 hbr', 'S3_D111 hbo', 'S3_D111 hbr', 'S3_D110 hbo', 'S3_D110 hbr', 'S5_D1 hbo', 'S5_D1 hbr', 'S5_D6 hbo', 'S5_D6 hbr', 'S5_D5 hbo', 'S5_D5 hbr', 'S5_D4 hbo', 'S5_D4 hbr', 'S5_D3 hbo', 'S5_D3 hbr', 'S5_D16 hbo', 'S5_D16 hbr', 'S5_D13 hbo', 'S5_D13 hbr', 'S5_D18 hbo', 'S5_D18 hbr', 'S5_D17 hbo', 'S5_D17 hbr', 'S5_D26 hbo', 'S5_D26 hbr', 'S5_D25 hbo', 'S5_D25 hbr', 'S5_D30 hbo', 'S5_D30 hbr', 'S5_D29 hbo', 'S5_D29 hbr', 'S5_D28 hbo', 'S5_D28 hbr', 'S5_D27 hbo', 'S5_D27 hbr', 'S5_D40 hbo', 'S5_D40 hbr', 'S5_D39 hbo', 'S5_D39 hbr', 'S5_D37 hbo', 'S5_D37 hbr', 'S5_D42 hbo', 'S5_D42 hbr', 'S5_D41 hbo', 'S5_D41 hbr', 'S5_D49 hbo', 'S5_D49 hbr', 'S5_D54 hbo', 'S5_D54 hbr', 'S5_D53 hbo', 'S5_D53 hbr', 'S5_D50 hbo', 'S5_D50 hbr', 'S5_D66 hbo', 'S5_D66 hbr', 'S5_D65 hbo', 'S5_D65 hbr', 'S5_D61 hbo', 'S5_D61 hbr', 'S5_D109 hbo', 'S5_D109 hbr', 'S5_D110 hbo', 'S5_D110 hbr', 'S7_D15 hbo', 'S7_D15 hbr', 'S7_D14 hbo', 'S7_D14 hbr', 'S7_D13 hbo', 'S7_D13 hbr', 'S7_D18 hbo', 'S7_D18 hbr', 'S7_D17 hbo', 'S7_D17 hbr', 'S7_D26 hbo', 'S7_D26 hbr', 'S7_D25 hbo', 'S7_D25 hbr', 'S7_D30 hbo', 'S7_D30 hbr', 'S7_D29 hbo', 'S7_D29 hbr', 'S7_D28 hbo', 'S7_D28 hbr', 'S7_D40 hbo', 'S7_D40 hbr', 'S7_D39 hbo', 'S7_D39 hbr', 'S7_D38 hbo', 'S7_D38 hbr', 'S7_D37 hbo', 'S7_D37 hbr', 'S7_D42 hbo', 'S7_D42 hbr', 'S7_D41 hbo', 'S7_D41 hbr', 'S7_D66 hbo', 'S7_D66 hbr', 'S7_D65 hbo', 'S7_D65 hbr', 'S7_D64 hbo', 'S7_D64 hbr', 'S7_D99 hbo', 'S7_D99 hbr', 'S7_D98 hbo', 'S7_D98 hbr', 'S7_D109 hbo', 'S7_D109 hbr', 'S7_D114 hbo', 'S7_D114 hbr', 'S7_D111 hbo', 'S7_D111 hbr', 'S7_D110 hbo', 'S7_D110 hbr', 'S9_D56 hbo', 'S9_D56 hbr', 'S9_D29 hbo', 'S9_D29 hbr', 'S9_D28 hbo', 'S9_D28 hbr', 'S9_D27 hbo', 'S9_D27 hbr', 'S9_D49 hbo', 'S9_D49 hbr', 'S9_D54 hbo', 'S9_D54 hbr', 'S9_D53 hbo', 'S9_D53 hbr', 'S9_D52 hbo', 'S9_D52 hbr', 'S9_D51 hbo', 'S9_D51 hbr', 'S9_D50 hbo', 'S9_D50 hbr', 'S9_D66 hbo', 'S9_D66 hbr', 'S9_D62 hbo', 'S9_D62 hbr', 'S9_D61 hbo', 'S9_D61 hbr', 'S11_D30 hbo', 'S11_D30 hbr', 'S11_D29 hbo', 'S11_D29 hbr', 'S11_D28 hbo', 'S11_D28 hbr', 'S11_D37 hbo', 'S11_D37 hbr', 'S11_D42 hbo', 'S11_D42 hbr', 'S11_D41 hbo', 'S11_D41 hbr', 'S11_D54 hbo', 'S11_D54 hbr', 'S11_D53 hbo', 'S11_D53 hbr', 'S11_D52 hbo', 'S11_D52 hbr', 'S11_D66 hbo', 'S11_D66 hbr', 'S11_D65 hbo', 'S11_D65 hbr', 'S11_D64 hbo', 'S11_D64 hbr', 'S11_D63 hbo', 'S11_D63 hbr', 'S11_D62 hbo', 'S11_D62 hbr', 'S11_D61 hbo', 'S11_D61 hbr', 'S11_D73 hbo', 'S11_D73 hbr', 'S13_D74 hbo', 'S13_D74 hbr', 'S13_D73 hbo', 'S13_D73 hbr', 'S13_D78 hbo', 'S13_D78 hbr', 'S13_D77 hbo', 'S13_D77 hbr', 'S13_D76 hbo', 'S13_D76 hbr', 'S13_D75 hbo', 'S13_D75 hbr', 'S13_D87 hbo', 'S13_D87 hbr', 'S13_D88 hbo', 'S13_D88 hbr', 'S13_D122 hbo', 'S13_D122 hbr', 'S13_D123 hbo', 'S13_D123 hbr', 'S15_D73 hbo', 'S15_D73 hbr', 'S15_D78 hbo', 'S15_D78 hbr', 'S15_D77 hbo', 'S15_D77 hbr', 'S15_D87 hbo', 'S15_D87 hbr', 'S15_D86 hbo', 'S15_D86 hbr', 'S15_D85 hbo', 'S15_D85 hbr', 'S15_D90 hbo', 'S15_D90 hbr', 'S15_D89 hbo', 'S15_D89 hbr', 'S15_D88 hbo', 'S15_D88 hbr', 'S15_D122 hbo', 'S15_D122 hbr', 'S15_D121 hbo', 'S15_D121 hbr', 'S15_D134 hbo', 'S15_D134 hbr', 'S15_D133 hbo', 'S15_D133 hbr', 'S15_D135 hbo', 'S15_D135 hbr', 'S21_D77 hbo', 'S21_D77 hbr', 'S21_D76 hbo', 'S21_D76 hbr', 'S21_D90 hbo', 'S21_D90 hbr', 'S21_D89 hbo', 'S21_D89 hbr', 'S21_D88 hbo', 'S21_D88 hbr', 'S21_D122 hbo', 'S21_D122 hbr', 'S21_D121 hbo', 'S21_D121 hbr', 'S21_D126 hbo', 'S21_D126 hbr', 'S21_D125 hbo', 'S21_D125 hbr', 'S21_D124 hbo', 'S21_D124 hbr', 'S21_D123 hbo', 'S21_D123 hbr', 'S21_D134 hbo', 'S21_D134 hbr', 'S21_D136 hbo', 'S21_D136 hbr', 'S21_D135 hbo', 'S21_D135 hbr', 'S21_D170 hbo', 'S21_D170 hbr', 'S21_D169 hbo', 'S21_D169 hbr', 'S21_D171 hbo', 'S21_D171 hbr', 'S23_D85 hbo', 'S23_D85 hbr', 'S23_D90 hbo', 'S23_D90 hbr', 'S23_D126 hbo', 'S23_D126 hbr', 'S23_D125 hbo', 'S23_D125 hbr', 'S23_D134 hbo', 'S23_D134 hbr', 'S23_D133 hbo', 'S23_D133 hbr', 'S23_D138 hbo', 'S23_D138 hbr', 'S23_D137 hbo', 'S23_D137 hbr', 'S23_D136 hbo', 'S23_D136 hbr', 'S23_D135 hbo', 'S23_D135 hbr', 'S23_D170 hbo', 'S23_D170 hbr', 'S23_D169 hbo', 'S23_D169 hbr', 'S23_D174 hbo', 'S23_D174 hbr', 'S23_D181 hbo', 'S23_D181 hbr', 'S23_D182 hbo', 'S23_D182 hbr', 'S29_D180 hbo', 'S29_D180 hbr', 'S29_D175 hbo', 'S29_D175 hbr', 'S29_D126 hbo', 'S29_D126 hbr', 'S29_D125 hbo', 'S29_D125 hbr', 'S29_D124 hbo', 'S29_D124 hbr', 'S29_D137 hbo', 'S29_D137 hbr', 'S29_D136 hbo', 'S29_D136 hbr', 'S29_D135 hbo', 'S29_D135 hbr', 'S29_D170 hbo', 'S29_D170 hbr', 'S29_D169 hbo', 'S29_D169 hbr', 'S29_D174 hbo', 'S29_D174 hbr', 'S29_D173 hbo', 'S29_D173 hbr', 'S29_D172 hbo', 'S29_D172 hbr', 'S29_D171 hbo', 'S29_D171 hbr', 'S29_D183 hbo', 'S29_D183 hbr', 'S29_D182 hbo', 'S29_D182 hbr', 'S29_D218 hbo', 'S29_D218 hbr', 'S29_D217 hbo', 'S29_D217 hbr', 'S29_D219 hbo', 'S29_D219 hbr', 'S31_D137 hbo', 'S31_D137 hbr', 'S31_D174 hbo', 'S31_D174 hbr', 'S31_D181 hbo', 'S31_D181 hbr', 'S31_D186 hbo', 'S31_D186 hbr', 'S31_D185 hbo', 'S31_D185 hbr', 'S31_D184 hbo', 'S31_D184 hbr', 'S31_D183 hbo', 'S31_D183 hbr', 'S31_D182 hbo', 'S31_D182 hbr', 'S31_D217 hbo', 'S31_D217 hbr', 'S31_D222 hbo', 'S31_D222 hbr', 'S37_D228 hbo', 'S37_D228 hbr', 'S37_D223 hbo', 'S37_D223 hbr', 'S37_D174 hbo', 'S37_D174 hbr', 'S37_D173 hbo', 'S37_D173 hbr', 'S37_D172 hbo', 'S37_D172 hbr', 'S37_D184 hbo', 'S37_D184 hbr', 'S37_D183 hbo', 'S37_D183 hbr', 'S37_D182 hbo', 'S37_D182 hbr', 'S37_D218 hbo', 'S37_D218 hbr', 'S37_D217 hbo', 'S37_D217 hbr', 'S37_D222 hbo', 'S37_D222 hbr', 'S37_D221 hbo', 'S37_D221 hbr', 'S37_D220 hbo', 'S37_D220 hbr', 'S37_D219 hbo', 'S37_D219 hbr', 'S17_D40 hbo', 'S17_D40 hbr', 'S17_D38 hbo', 'S17_D38 hbr', 'S17_D37 hbo', 'S17_D37 hbr', 'S17_D42 hbo', 'S17_D42 hbr', 'S17_D41 hbo', 'S17_D41 hbr', 'S17_D65 hbo', 'S17_D65 hbr', 'S17_D99 hbo', 'S17_D99 hbr', 'S17_D98 hbo', 'S17_D98 hbr', 'S17_D97 hbo', 'S17_D97 hbr', 'S17_D102 hbo', 'S17_D102 hbr', 'S17_D101 hbo', 'S17_D101 hbr', 'S17_D100 hbo', 'S17_D100 hbr', 'S17_D109 hbo', 'S17_D109 hbr', 'S17_D113 hbo', 'S17_D113 hbr', 'S17_D112 hbo', 'S17_D112 hbr', 'S17_D111 hbo', 'S17_D111 hbr', 'S17_D110 hbo', 'S17_D110 hbr', 'S17_D145 hbo', 'S17_D145 hbr', 'S17_D150 hbo', 'S17_D150 hbr', 'S17_D146 hbo', 'S17_D146 hbr', 'S17_D162 hbo', 'S17_D162 hbr', 'S17_D159 hbo', 'S17_D159 hbr', 'S17_D158 hbo', 'S17_D158 hbr', 'S17_D157 hbo', 'S17_D157 hbr', 'S19_D16 hbo', 'S19_D16 hbr', 'S19_D15 hbo', 'S19_D15 hbr', 'S19_D14 hbo', 'S19_D14 hbr', 'S19_D18 hbo', 'S19_D18 hbr', 'S19_D17 hbo', 'S19_D17 hbr', 'S19_D25 hbo', 'S19_D25 hbr', 'S19_D30 hbo', 'S19_D30 hbr', 'S19_D40 hbo', 'S19_D40 hbr', 'S19_D39 hbo', 'S19_D39 hbr', 'S19_D38 hbo', 'S19_D38 hbr', 'S19_D37 hbo', 'S19_D37 hbr', 'S19_D41 hbo', 'S19_D41 hbr', 'S19_D64 hbo', 'S19_D64 hbr', 'S19_D99 hbo', 'S19_D99 hbr', 'S19_D98 hbo', 'S19_D98 hbr', 'S19_D97 hbo', 'S19_D97 hbr', 'S19_D102 hbo', 'S19_D102 hbr', 'S19_D100 hbo', 'S19_D100 hbr', 'S19_D109 hbo', 'S19_D109 hbr', 'S19_D114 hbo', 'S19_D114 hbr', 'S19_D113 hbo', 'S19_D113 hbr', 'S19_D112 hbo', 'S19_D112 hbr', 'S19_D111 hbo', 'S19_D111 hbr', 'S19_D110 hbo', 'S19_D110 hbr', 'S19_D145 hbo', 'S19_D145 hbr', 'S19_D150 hbo', 'S19_D150 hbr', 'S19_D162 hbo', 'S19_D162 hbr', 'S19_D160 hbo', 'S19_D160 hbr', 'S19_D158 hbo', 'S19_D158 hbr', 'S19_D157 hbo', 'S19_D157 hbr', 'S19_D210 hbo', 'S19_D210 hbr', 'S25_D97 hbo', 'S25_D97 hbr', 'S25_D102 hbo', 'S25_D102 hbr', 'S25_D101 hbo', 'S25_D101 hbr', 'S25_D145 hbo', 'S25_D145 hbr', 'S25_D150 hbo', 'S25_D150 hbr', 'S25_D149 hbo', 'S25_D149 hbr', 'S25_D148 hbo', 'S25_D148 hbr', 'S25_D147 hbo', 'S25_D147 hbr', 'S25_D146 hbo', 'S25_D146 hbr', 'S25_D159 hbo', 'S25_D159 hbr', 'S25_D158 hbo', 'S25_D158 hbr', 'S25_D157 hbo', 'S25_D157 hbr', 'S25_D197 hbo', 'S25_D197 hbr', 'S25_D196 hbo', 'S25_D196 hbr', 'S25_D198 hbo', 'S25_D198 hbr', 'S25_D210 hbo', 'S25_D210 hbr', 'S25_D206 hbo', 'S25_D206 hbr', 'S25_D205 hbo', 'S25_D205 hbr', 'S27_D39 hbo', 'S27_D39 hbr', 'S27_D38 hbo', 'S27_D38 hbr', 'S27_D99 hbo', 'S27_D99 hbr', 'S27_D98 hbo', 'S27_D98 hbr', 'S27_D97 hbo', 'S27_D97 hbr', 'S27_D102 hbo', 'S27_D102 hbr', 'S27_D101 hbo', 'S27_D101 hbr', 'S27_D114 hbo', 'S27_D114 hbr', 'S27_D113 hbo', 'S27_D113 hbr', 'S27_D112 hbo', 'S27_D112 hbr', 'S27_D111 hbo', 'S27_D111 hbr', 'S27_D110 hbo', 'S27_D110 hbr', 'S27_D145 hbo', 'S27_D145 hbr', 'S27_D150 hbo', 'S27_D150 hbr', 'S27_D149 hbo', 'S27_D149 hbr', 'S27_D162 hbo', 'S27_D162 hbr', 'S27_D160 hbo', 'S27_D160 hbr', 'S27_D159 hbo', 'S27_D159 hbr', 'S27_D158 hbo', 'S27_D158 hbr', 'S27_D157 hbo', 'S27_D157 hbr', 'S27_D210 hbo', 'S27_D210 hbr', 'S27_D209 hbo', 'S27_D209 hbr', 'S27_D208 hbo', 'S27_D208 hbr', 'S27_D206 hbo', 'S27_D206 hbr', 'S27_D205 hbo', 'S27_D205 hbr', 'S33_D149 hbo', 'S33_D149 hbr', 'S33_D148 hbo', 'S33_D148 hbr', 'S33_D147 hbo', 'S33_D147 hbr', 'S33_D197 hbo', 'S33_D197 hbr', 'S33_D196 hbo', 'S33_D196 hbr', 'S33_D195 hbo', 'S33_D195 hbr', 'S33_D194 hbo', 'S33_D194 hbr', 'S33_D193 hbo', 'S33_D193 hbr', 'S33_D198 hbo', 'S33_D198 hbr', 'S33_D207 hbo', 'S33_D207 hbr', 'S33_D206 hbo', 'S33_D206 hbr', 'S33_D205 hbo', 'S33_D205 hbr', 'S33_D232 hbo', 'S33_D232 hbr', 'S33_D234 hbo', 'S33_D234 hbr', 'S33_D233 hbo', 'S33_D233 hbr', 'S33_D256 hbo', 'S33_D256 hbr', 'S33_D255 hbo', 'S33_D255 hbr', 'S33_D254 hbo', 'S33_D254 hbr', 'S35_D97 hbo', 'S35_D97 hbr', 'S35_D145 hbo', 'S35_D145 hbr', 'S35_D150 hbo', 'S35_D150 hbr', 'S35_D149 hbo', 'S35_D149 hbr', 'S35_D148 hbo', 'S35_D148 hbr', 'S35_D160 hbo', 'S35_D160 hbr', 'S35_D159 hbo', 'S35_D159 hbr', 'S35_D158 hbo', 'S35_D158 hbr', 'S35_D157 hbo', 'S35_D157 hbr', 'S35_D197 hbo', 'S35_D197 hbr', 'S35_D196 hbo', 'S35_D196 hbr', 'S35_D195 hbo', 'S35_D195 hbr', 'S35_D210 hbo', 'S35_D210 hbr', 'S35_D209 hbo', 'S35_D209 hbr', 'S35_D208 hbo', 'S35_D208 hbr', 'S35_D207 hbo', 'S35_D207 hbr', 'S35_D206 hbo', 'S35_D206 hbr', 'S35_D205 hbo', 'S35_D205 hbr', 'S35_D232 hbo', 'S35_D232 hbr', 'S35_D230 hbo', 'S35_D230 hbr', 'S35_D233 hbo', 'S35_D233 hbr', 'S39_D196 hbo', 'S39_D196 hbr', 'S39_D195 hbo', 'S39_D195 hbr', 'S39_D194 hbo', 'S39_D194 hbr', 'S39_D206 hbo', 'S39_D206 hbr', 'S39_D205 hbo', 'S39_D205 hbr', 'S39_D232 hbo', 'S39_D232 hbr', 'S39_D231 hbo', 'S39_D231 hbr', 'S39_D230 hbo', 'S39_D230 hbr', 'S39_D229 hbo', 'S39_D229 hbr', 'S39_D234 hbo', 'S39_D234 hbr', 'S39_D233 hbo', 'S39_D233 hbr', 'S39_D242 hbo', 'S39_D242 hbr', 'S39_D258 hbo', 'S39_D258 hbr', 'S39_D257 hbo', 'S39_D257 hbr', 'S39_D256 hbo', 'S39_D256 hbr', 'S39_D255 hbo', 'S39_D255 hbr', 'S39_D254 hbo', 'S39_D254 hbr', 'S39_D279 hbo', 'S39_D279 hbr', 'S39_D281 hbo', 'S39_D281 hbr', 'S41_D243 hbo', 'S41_D243 hbr', 'S41_D242 hbo', 'S41_D242 hbr', 'S41_D241 hbo', 'S41_D241 hbr', 'S41_D246 hbo', 'S41_D246 hbr', 'S41_D245 hbo', 'S41_D245 hbr', 'S41_D244 hbo', 'S41_D244 hbr', 'S41_D256 hbo', 'S41_D256 hbr', 'S41_D255 hbo', 'S41_D255 hbr', 'S41_D254 hbo', 'S41_D254 hbr', 'S41_D268 hbo', 'S41_D268 hbr', 'S41_D270 hbo', 'S41_D270 hbr', 'S41_D269 hbo', 'S41_D269 hbr', 'S41_D282 hbo', 'S41_D282 hbr', 'S41_D281 hbo', 'S41_D281 hbr', 'S41_D280 hbo', 'S41_D280 hbr', 'S43_D196 hbo', 'S43_D196 hbr', 'S43_D194 hbo', 'S43_D194 hbr', 'S43_D232 hbo', 'S43_D232 hbr', 'S43_D231 hbo', 'S43_D231 hbr', 'S43_D229 hbo', 'S43_D229 hbr', 'S43_D234 hbo', 'S43_D234 hbr', 'S43_D233 hbo', 'S43_D233 hbr', 'S43_D243 hbo', 'S43_D243 hbr', 'S43_D242 hbo', 'S43_D242 hbr', 'S43_D241 hbo', 'S43_D241 hbr', 'S43_D258 hbo', 'S43_D258 hbr', 'S43_D257 hbo', 'S43_D257 hbr', 'S43_D256 hbo', 'S43_D256 hbr', 'S43_D255 hbo', 'S43_D255 hbr', 'S43_D254 hbo', 'S43_D254 hbr', 'S43_D253 hbo', 'S43_D253 hbr', 'S43_D279 hbo', 'S43_D279 hbr', 'S43_D281 hbo', 'S43_D281 hbr', 'S43_D280 hbo', 'S43_D280 hbr', 'S45_D272 hbo', 'S45_D272 hbr', 'S45_D273 hbo', 'S45_D273 hbr', 'S45_D274 hbo', 'S45_D274 hbr', 'S45_D241 hbo', 'S45_D241 hbr', 'S45_D246 hbo', 'S45_D246 hbr', 'S45_D245 hbo', 'S45_D245 hbr', 'S45_D268 hbo', 'S45_D268 hbr', 'S45_D267 hbo', 'S45_D267 hbr', 'S45_D266 hbo', 'S45_D266 hbr', 'S45_D265 hbo', 'S45_D265 hbr', 'S45_D270 hbo', 'S45_D270 hbr', 'S45_D269 hbo', 'S45_D269 hbr', 'S45_D277 hbo', 'S45_D277 hbr', 'S45_D282 hbo', 'S45_D282 hbr', 'S45_D281 hbo', 'S45_D281 hbr', 'S45_D289 hbo', 'S45_D289 hbr', 'S45_D294 hbo', 'S45_D294 hbr', 'S45_D293 hbo', 'S45_D293 hbr', 'S47_D242 hbo', 'S47_D242 hbr', 'S47_D241 hbo', 'S47_D241 hbr', 'S47_D246 hbo', 'S47_D246 hbr', 'S47_D257 hbo', 'S47_D257 hbr', 'S47_D256 hbo', 'S47_D256 hbr', 'S47_D255 hbo', 'S47_D255 hbr', 'S47_D268 hbo', 'S47_D268 hbr', 'S47_D267 hbo', 'S47_D267 hbr', 'S47_D269 hbo', 'S47_D269 hbr', 'S47_D279 hbo', 'S47_D279 hbr', 'S47_D278 hbo', 'S47_D278 hbr', 'S47_D277 hbo', 'S47_D277 hbr', 'S47_D282 hbo', 'S47_D282 hbr', 'S47_D281 hbo', 'S47_D281 hbr', 'S47_D280 hbo', 'S47_D280 hbr', 'S47_D294 hbo', 'S47_D294 hbr', 'S47_D293 hbo', 'S47_D293 hbr', 'S47_D306 hbo', 'S47_D306 hbr', 'S47_D305 hbo', 'S47_D305 hbr', 'S47_D304 hbo', 'S47_D304 hbr', 'S49_D268 hbo', 'S49_D268 hbr', 'S49_D267 hbo', 'S49_D267 hbr', 'S49_D266 hbo', 'S49_D266 hbr', 'S49_D277 hbo', 'S49_D277 hbr', 'S49_D292 hbo', 'S49_D292 hbr', 'S49_D291 hbo', 'S49_D291 hbr', 'S49_D290 hbo', 'S49_D290 hbr', 'S49_D289 hbo', 'S49_D289 hbr', 'S49_D294 hbo', 'S49_D294 hbr', 'S49_D293 hbo', 'S49_D293 hbr', 'S49_D301 hbo', 'S49_D301 hbr', 'S49_D306 hbo', 'S49_D306 hbr', 'S49_D305 hbo', 'S49_D305 hbr', 'S51_D278 hbo', 'S51_D278 hbr', 'S51_D277 hbo', 'S51_D277 hbr', 'S51_D292 hbo', 'S51_D292 hbr', 'S51_D291 hbo', 'S51_D291 hbr', 'S51_D293 hbo', 'S51_D293 hbr', 'S51_D303 hbo', 'S51_D303 hbr', 'S51_D302 hbo', 'S51_D302 hbr', 'S51_D301 hbo', 'S51_D301 hbr', 'S51_D306 hbo', 'S51_D306 hbr', 'S51_D305 hbo', 'S51_D305 hbr', 'S51_D304 hbo', 'S51_D304 hbr'] could not be picked, because they are not present in the info instance.\n",
      "  raw.pick(snirf_1.clean_channels).plot_sensors();\n"
     ]
    },
    {
     "data": {
      "image/png": "[encoded data removed]",
      "text/plain": [
       "<Figure size 432x432 with 1 Axes>"
      ]
     },
     "metadata": {
      "needs_background": "light"
     },
     "output_type": "display_data"
    }
   ],
   "source": [
    "raw.pick(snirf_1.clean_channels).plot_sensors();"
   ]
  },
  {
   "cell_type": "code",
   "execution_count": 11,
   "id": "fbff97e0-a007-471b-ab4f-70fbbaa2f96e",
   "metadata": {},
   "outputs": [
    {
     "data": {
      "text/plain": [
       "70"
      ]
     },
     "execution_count": 11,
     "metadata": {},
     "output_type": "execute_result"
    }
   ],
   "source": [
    "len(raw.ch_names)"
   ]
  },
  {
   "cell_type": "code",
   "execution_count": null,
   "id": "6d84d27e-adf8-4c33-a8b7-aad0c5c9b5b6",
   "metadata": {},
   "outputs": [],
   "source": [
    "raw.copy().pick(snirf_1.clean_channels[[True if any([ch.startswith(motor) for motor in motors_right]) else False for ch in snirf_1.clean_channels]]).plot_sensors();"
   ]
  },
  {
   "cell_type": "code",
   "execution_count": null,
   "id": "1511841b-0549-4aac-8ddd-2eeb4f846a5c",
   "metadata": {},
   "outputs": [],
   "source": [
    "raw_right =raw.copy().pick(snirf_1.clean_channels[[True if any([ch.startswith(motor) for motor in motors_right]) else False for ch in snirf_1.clean_channels]])\n",
    "raw_left =raw.copy().pick(snirf_1.clean_channels[[True if any([ch.startswith(motor) for motor in motors_left]) else False for ch in snirf_1.clean_channels]])"
   ]
  },
  {
   "cell_type": "code",
   "execution_count": null,
   "id": "9ebc7d0c-e9ab-481a-89be-98a6dd3540d2",
   "metadata": {},
   "outputs": [],
   "source": [
    "raw_right.plot_sensors();"
   ]
  },
  {
   "cell_type": "code",
   "execution_count": null,
   "id": "43bff1de-d0b5-4266-98bb-4309b9417b9b",
   "metadata": {},
   "outputs": [],
   "source": [
    "raw_left.plot_sensors();"
   ]
  },
  {
   "cell_type": "code",
   "execution_count": null,
   "id": "78c88f95-be1f-4737-8dd2-6d0b912f811f",
   "metadata": {},
   "outputs": [],
   "source": []
  },
  {
   "cell_type": "code",
   "execution_count": null,
   "id": "adcf42a3-8db8-43b2-9f1e-70154d04f139",
   "metadata": {},
   "outputs": [],
   "source": [
    "raw_right.ch_names"
   ]
  },
  {
   "cell_type": "code",
   "execution_count": null,
   "id": "a2c02c1a-2dde-42f8-b5ee-6e8e44f29d98",
   "metadata": {},
   "outputs": [],
   "source": [
    "# raw.pick(snirf_1.clean_channels)\n",
    "raw.copy().pick(snirf_1.clean_channels[[True if any([ch.startswith(motor) for motor in motors]) else False for ch in snirf_1.clean_channels]]).plot_sensors();"
   ]
  },
  {
   "cell_type": "code",
   "execution_count": null,
   "id": "a9b4e31e-00d6-49b1-b60a-6196af4e7f39",
   "metadata": {},
   "outputs": [],
   "source": [
    "raw.pick(snirf_1.clean_channels[[True if any([ch.startswith(motor) for motor in motors]) else False for ch in snirf_1.clean_channels]])\n",
    "short_chs.pick(snirf_1.clean_channels[[True if any([ch.startswith(motor) for motor in motors]) else False for ch in snirf_1.clean_channels]])"
   ]
  },
  {
   "cell_type": "markdown",
   "id": "1b738b2d-0a63-4d7f-aeae-0afb1d7e775a",
   "metadata": {},
   "source": [
    "# Stats"
   ]
  },
  {
   "cell_type": "code",
   "execution_count": null,
   "id": "4cb590a5-da7e-4b31-ace1-3c11ea93ddf6",
   "metadata": {},
   "outputs": [],
   "source": [
    "from scipy import stats"
   ]
  },
  {
   "cell_type": "code",
   "execution_count": null,
   "id": "68a14536-fd53-4588-b78e-88293790f48b",
   "metadata": {},
   "outputs": [],
   "source": [
    "def get_window(data, t1, t2, sfreq):\n",
    "    t1 = int(t1*sfreq)\n",
    "    t2 = int(t2*sfreq)\n",
    "    return data[:, :, t1:t2]"
   ]
  },
  {
   "cell_type": "code",
   "execution_count": null,
   "id": "dd35d84e-88c6-4caf-b306-db5cb9e7410d",
   "metadata": {},
   "outputs": [],
   "source": [
    "def get_normalized_window(data, baseline_start, baseline_end, window_start, window_end, sfreq):\n",
    "    baselines = get_window(data, baseline_start, baseline_end, sfreq)\n",
    "    windows = get_window(data, window_start, window_end, sfreq)\n",
    "\n",
    "    baseline_avg = np.mean(baselines, axis=2)\n",
    "    baseline_std = np.std(baselines, axis=2)\n",
    "\n",
    "    baseline_avg_rep = np.repeat(baseline_avg[:, :, np.newaxis], windows.shape[2], axis=2)\n",
    "    baseline_std_rep = np.repeat(baseline_std[:, :, np.newaxis], windows.shape[2], axis=2)\n",
    "\n",
    "    windows = (windows - baseline_avg_rep) / baseline_std_rep\n",
    "\n",
    "    return windows"
   ]
  },
  {
   "cell_type": "code",
   "execution_count": null,
   "id": "ce091b01-16f3-40b4-801e-f2dfe0797472",
   "metadata": {},
   "outputs": [],
   "source": [
    "right_windows = get_normalized_window(snirf_1.data_right, 0, 5, 7, 14, snirf_1.sfreq)\n",
    "left_windows = get_normalized_window(snirf_1.data_left, 0, 5, 7, 14, snirf_1.sfreq)\n",
    "rest_windows = get_window(snirf_1.data_rest, 2, 7, snirf_1.sfreq)"
   ]
  },
  {
   "cell_type": "code",
   "execution_count": null,
   "id": "b3990280-e70b-4379-8442-13a3f1afa264",
   "metadata": {},
   "outputs": [],
   "source": [
    "right_window_means = np.mean(right_windows, axis = 2)\n",
    "left_window_means = np.mean(left_windows, axis = 2)\n",
    "rest_window_means = np.mean(rest_windows, axis = 2)"
   ]
  },
  {
   "cell_type": "code",
   "execution_count": null,
   "id": "161d1053-8d86-4ba3-a303-eac2657da140",
   "metadata": {},
   "outputs": [],
   "source": [
    "right_window_means.shape"
   ]
  },
  {
   "cell_type": "code",
   "execution_count": null,
   "id": "06174a05-6f09-40d8-8c5d-280cf5a705bc",
   "metadata": {},
   "outputs": [],
   "source": [
    "sta, ps = stats.ttest_ind( right_window_means, left_window_means, alternative='greater')"
   ]
  },
  {
   "cell_type": "code",
   "execution_count": null,
   "id": "c0106319-7cdc-44a1-9dfd-160904bf05c2",
   "metadata": {},
   "outputs": [],
   "source": [
    "np.sum(ps < 0.05)"
   ]
  },
  {
   "cell_type": "code",
   "execution_count": null,
   "id": "2f459344-0e23-4f69-9dcc-7afeab639c39",
   "metadata": {},
   "outputs": [],
   "source": [
    "len(snirf_1.clean_channels)"
   ]
  },
  {
   "cell_type": "code",
   "execution_count": null,
   "id": "a1f7902f-f854-491a-a0c1-4f3f2b5da5af",
   "metadata": {},
   "outputs": [],
   "source": [
    "raw.copy().pick(snirf_1.clean_channels[ps < 0.005]).plot_sensors();"
   ]
  },
  {
   "cell_type": "code",
   "execution_count": null,
   "id": "10fdf549-3775-4fab-87f1-90abda659510",
   "metadata": {},
   "outputs": [],
   "source": []
  },
  {
   "cell_type": "code",
   "execution_count": null,
   "id": "4a936fb0-7293-4abd-aa06-5ab0cb2c53e4",
   "metadata": {},
   "outputs": [],
   "source": []
  },
  {
   "cell_type": "code",
   "execution_count": null,
   "id": "63e9418a-a794-46af-905b-5449c1eeab62",
   "metadata": {
    "tags": []
   },
   "outputs": [],
   "source": []
  },
  {
   "cell_type": "code",
   "execution_count": null,
   "id": "a0d6c8b7-e303-437b-846a-728c44b7c060",
   "metadata": {},
   "outputs": [],
   "source": []
  },
  {
   "cell_type": "code",
   "execution_count": null,
   "id": "55c03766-6190-4567-aa31-a266de2bb6c4",
   "metadata": {},
   "outputs": [],
   "source": []
  },
  {
   "cell_type": "code",
   "execution_count": null,
   "id": "8756553b-f1e7-4ac0-b4fa-f7baf9fee767",
   "metadata": {},
   "outputs": [],
   "source": [
    "rvs1.shape"
   ]
  },
  {
   "cell_type": "code",
   "execution_count": null,
   "id": "07611c03-07c0-4cd8-a9aa-65d2d33a7566",
   "metadata": {},
   "outputs": [],
   "source": [
    "sta, ps = stats.ttest_ind(rvs1, rvs2, axis=1)"
   ]
  },
  {
   "cell_type": "code",
   "execution_count": null,
   "id": "b781eb8d-b4d3-4eea-9ef2-da523a9ec4d6",
   "metadata": {},
   "outputs": [],
   "source": [
    "sta.shape"
   ]
  },
  {
   "cell_type": "code",
   "execution_count": null,
   "id": "6a5f8c7b-9dcf-40a3-b5dd-5dee8fd85def",
   "metadata": {},
   "outputs": [],
   "source": [
    "ps.shape"
   ]
  },
  {
   "cell_type": "code",
   "execution_count": null,
   "id": "25ff32d1-9eb6-4dd8-9fe3-a5c779c15455",
   "metadata": {},
   "outputs": [],
   "source": []
  },
  {
   "cell_type": "code",
   "execution_count": null,
   "id": "75526eda-ed92-4284-be8c-0cfabde32383",
   "metadata": {},
   "outputs": [],
   "source": [
    "print(len(snirf_1.clean_channels))\n",
    "len(raw.ch_names)"
   ]
  },
  {
   "cell_type": "code",
   "execution_count": null,
   "id": "829006d7-e694-4ea5-a6db-b6688a6b43de",
   "metadata": {},
   "outputs": [],
   "source": [
    "raw.plot_psd(average=False);"
   ]
  },
  {
   "cell_type": "code",
   "execution_count": null,
   "id": "c15b08b1-09a4-4ca4-b841-1de526703fdd",
   "metadata": {},
   "outputs": [],
   "source": [
    "short_chs.plot_psd(average=False);"
   ]
  },
  {
   "cell_type": "code",
   "execution_count": null,
   "id": "305b830a-c0e8-4a7e-84b0-7e2a8d275c78",
   "metadata": {},
   "outputs": [],
   "source": [
    "raw.plot_psd(average=True);"
   ]
  },
  {
   "cell_type": "code",
   "execution_count": null,
   "id": "b1df1494-44c0-401c-bdf3-8499f8ca24d9",
   "metadata": {},
   "outputs": [],
   "source": [
    "short_chs.plot_psd(average=True);"
   ]
  },
  {
   "cell_type": "code",
   "execution_count": null,
   "id": "d998c1b1-8456-44a8-a222-4b274e8e2f00",
   "metadata": {},
   "outputs": [],
   "source": [
    "raw_left = raw_left.filter(0.0, 0.05, h_trans_bandwidth=0.2, l_trans_bandwidth=0.02);\n",
    "raw_right = raw_right.filter(0.0, 0.05, h_trans_bandwidth=0.2, l_trans_bandwidth=0.02);"
   ]
  },
  {
   "cell_type": "code",
   "execution_count": 12,
   "id": "3dcbec61-fea5-4332-8070-8178ea3d1a19",
   "metadata": {},
   "outputs": [
    {
     "name": "stdout",
     "output_type": "stream",
     "text": [
      "Filtering raw data in 1 contiguous segment\n",
      "Setting up low-pass filter at 0.05 Hz\n",
      "\n",
      "FIR filter parameters\n",
      "---------------------\n",
      "Designing a one-pass, zero-phase, non-causal lowpass filter:\n",
      "- Windowed time-domain design (firwin) method\n",
      "- Hamming window with 0.0194 passband ripple and 53 dB stopband attenuation\n",
      "- Upper passband edge: 0.05 Hz\n",
      "- Upper transition bandwidth: 0.20 Hz (-6 dB cutoff frequency: 0.15 Hz)\n",
      "- Filter length: 137 samples (16.591 sec)\n",
      "\n",
      "Filtering raw data in 1 contiguous segment\n",
      "Setting up band-pass filter from 0.05 - 0.07 Hz\n",
      "\n",
      "FIR filter parameters\n",
      "---------------------\n",
      "Designing a one-pass, zero-phase, non-causal bandpass filter:\n",
      "- Windowed time-domain design (firwin) method\n",
      "- Hamming window with 0.0194 passband ripple and 53 dB stopband attenuation\n",
      "- Lower passband edge: 0.05\n",
      "- Lower transition bandwidth: 0.02 Hz (-6 dB cutoff frequency: 0.04 Hz)\n",
      "- Upper passband edge: 0.07 Hz\n",
      "- Upper transition bandwidth: 0.20 Hz (-6 dB cutoff frequency: 0.17 Hz)\n",
      "- Filter length: 1363 samples (165.059 sec)\n",
      "\n"
     ]
    }
   ],
   "source": [
    "raw = raw.filter(0.0, 0.05, h_trans_bandwidth=0.2, l_trans_bandwidth=0.02);\n",
    "short_chs = short_chs.filter(0.05, 0.07, h_trans_bandwidth=0.2, l_trans_bandwidth=0.02);"
   ]
  },
  {
   "cell_type": "code",
   "execution_count": null,
   "id": "411d921a-bc40-4580-b7b2-fb7dc0c8a4a1",
   "metadata": {},
   "outputs": [],
   "source": [
    "np.sum(np.isnan(raw_right.get_data()))"
   ]
  },
  {
   "cell_type": "code",
   "execution_count": null,
   "id": "a01c4b69-d7a7-4899-ab7e-39faa2ea5bb2",
   "metadata": {},
   "outputs": [],
   "source": [
    "raw.plot_psd(average=True);"
   ]
  },
  {
   "cell_type": "code",
   "execution_count": null,
   "id": "1a469ed8-da3e-4479-943b-8d32170a5599",
   "metadata": {},
   "outputs": [],
   "source": [
    "short_chs.plot_psd(average=True);"
   ]
  },
  {
   "cell_type": "code",
   "execution_count": null,
   "id": "4587fc59-603d-40de-8b6e-1ae6b2085e9c",
   "metadata": {},
   "outputs": [],
   "source": [
    "raw.plot_psd(average=False);"
   ]
  },
  {
   "cell_type": "code",
   "execution_count": null,
   "id": "d84143c7-32f2-4c81-96b3-0160a042f634",
   "metadata": {},
   "outputs": [],
   "source": [
    "short_chs.plot_psd(average=False);"
   ]
  },
  {
   "cell_type": "code",
   "execution_count": null,
   "id": "db1057e3-0ac4-4ba7-aee0-202bd5387417",
   "metadata": {},
   "outputs": [],
   "source": [
    "events, events_id = mne.events_from_annotations(raw)"
   ]
  },
  {
   "cell_type": "code",
   "execution_count": null,
   "id": "9213c96b-3ae8-46fd-9ea1-2c395611abd6",
   "metadata": {},
   "outputs": [],
   "source": [
    "def plot_events(snrf):\n",
    "    events, events_id = mne.events_from_annotations(snrf)\n",
    "    reject__criteria = dict(hbo=80e-6)\n",
    "    tmin, tmax = -5, 55\n",
    "\n",
    "    epochs = mne.Epochs(raw, events, event_id=events_id,\n",
    "                       tmin=tmin, tmax=tmax, preload=True,\n",
    "                       reject_by_annotation=True, event_repeated='merge', verbose=False)\n",
    "    epochs['StartBlock'].average().plot();"
   ]
  },
  {
   "cell_type": "code",
   "execution_count": null,
   "id": "fb06c3a6-729b-41ff-90a8-d90dde37e1c3",
   "metadata": {},
   "outputs": [],
   "source": [
    "plot_events(raw_right)"
   ]
  },
  {
   "cell_type": "code",
   "execution_count": null,
   "id": "2286162c-426f-463d-9258-b470251d411f",
   "metadata": {},
   "outputs": [],
   "source": [
    "plot_events(short_chs)"
   ]
  },
  {
   "cell_type": "code",
   "execution_count": null,
   "id": "1a312103-9fe8-491d-8b10-83b1b6c90bbb",
   "metadata": {},
   "outputs": [],
   "source": [
    "reject__criteria = dict(hbo=80e-6)\n",
    "tmin, tmax = -5, 15\n",
    "\n",
    "epochs = mne.Epochs(raw, events, event_id=events_id,\n",
    "                   tmin=tmin, tmax=tmax, preload=True,\n",
    "                   reject_by_annotation=True, event_repeated='merge', verbose=False)"
   ]
  },
  {
   "cell_type": "code",
   "execution_count": null,
   "id": "d710b2d3-ed6a-41b4-824b-69ef543d1825",
   "metadata": {},
   "outputs": [],
   "source": [
    "epochs.plot_drop_log();"
   ]
  },
  {
   "cell_type": "code",
   "execution_count": null,
   "id": "7145b6c9-327f-49cf-8da8-7f1d608b9609",
   "metadata": {},
   "outputs": [],
   "source": [
    "# for i in np.arange(0, 57, 2):\n",
    "#     ch_hbo = epochs.ch_names[i]\n",
    "#     ch_hbr = epochs.ch_names[i + 1]\n",
    "#     epochs['StartTrial'].average().pick([ch_hbo, ch_hbr]).plot();\n",
    "epochs['StartBlock'].average().plot();"
   ]
  },
  {
   "cell_type": "code",
   "execution_count": null,
   "id": "8908d336-6609-4852-9a9f-cc7e9487d9b4",
   "metadata": {},
   "outputs": [],
   "source": [
    "events_id"
   ]
  },
  {
   "cell_type": "code",
   "execution_count": null,
   "id": "2aeb6375-5ce1-4bc0-9f99-1b66267b3442",
   "metadata": {},
   "outputs": [],
   "source": [
    "len(raw.ch_names)"
   ]
  },
  {
   "cell_type": "code",
   "execution_count": null,
   "id": "a1179f8b-aa29-4d8a-924b-2d9e89511c70",
   "metadata": {},
   "outputs": [],
   "source": [
    "block_times = events[events[:, 2] == 1][:, 0]"
   ]
  },
  {
   "cell_type": "code",
   "execution_count": null,
   "id": "7a65e007-6ed6-4bb7-ba06-cb8add13ec4b",
   "metadata": {},
   "outputs": [],
   "source": [
    "block_times"
   ]
  },
  {
   "cell_type": "code",
   "execution_count": null,
   "id": "b14e2a2d-1761-48fc-9113-972115566808",
   "metadata": {},
   "outputs": [],
   "source": [
    "events_id"
   ]
  },
  {
   "cell_type": "code",
   "execution_count": null,
   "id": "2eed3f5f-38ce-4d94-8e48-76fe17060118",
   "metadata": {},
   "outputs": [],
   "source": [
    "data_right = raw_right.get_data()\n",
    "data_left = raw_left.get_data()"
   ]
  },
  {
   "cell_type": "code",
   "execution_count": 13,
   "id": "01c3cf1b-806d-469f-993d-f500fb3dc0dd",
   "metadata": {},
   "outputs": [
    {
     "data": {
      "text/html": [
       "<div>\n",
       "<style scoped>\n",
       "    .dataframe tbody tr th:only-of-type {\n",
       "        vertical-align: middle;\n",
       "    }\n",
       "\n",
       "    .dataframe tbody tr th {\n",
       "        vertical-align: top;\n",
       "    }\n",
       "\n",
       "    .dataframe thead th {\n",
       "        text-align: right;\n",
       "    }\n",
       "</style>\n",
       "<table border=\"1\" class=\"dataframe\">\n",
       "  <thead>\n",
       "    <tr style=\"text-align: right;\">\n",
       "      <th></th>\n",
       "      <th>Timestamp</th>\n",
       "      <th>Event</th>\n",
       "      <th>Duration</th>\n",
       "      <th>Value</th>\n",
       "      <th>Block</th>\n",
       "      <th>Trial</th>\n",
       "      <th>ExperimentType</th>\n",
       "      <th>TrialType</th>\n",
       "      <th>BlockType</th>\n",
       "    </tr>\n",
       "  </thead>\n",
       "  <tbody>\n",
       "    <tr>\n",
       "      <th>0</th>\n",
       "      <td>3.217344</td>\n",
       "      <td>StartExperiment</td>\n",
       "      <td>777.508700</td>\n",
       "      <td>1.0</td>\n",
       "      <td>NaN</td>\n",
       "      <td>NaN</td>\n",
       "      <td>FingerTapping</td>\n",
       "      <td>NaN</td>\n",
       "      <td>NaN</td>\n",
       "    </tr>\n",
       "    <tr>\n",
       "      <th>1</th>\n",
       "      <td>3.307724</td>\n",
       "      <td>StartRest</td>\n",
       "      <td>20.018198</td>\n",
       "      <td>1.0</td>\n",
       "      <td>NaN</td>\n",
       "      <td>NaN</td>\n",
       "      <td>FingerTapping</td>\n",
       "      <td>NaN</td>\n",
       "      <td>NaN</td>\n",
       "    </tr>\n",
       "    <tr>\n",
       "      <th>2</th>\n",
       "      <td>23.326003</td>\n",
       "      <td>StartBlock</td>\n",
       "      <td>17.731031</td>\n",
       "      <td>1.0</td>\n",
       "      <td>1.0</td>\n",
       "      <td>NaN</td>\n",
       "      <td>FingerTapping</td>\n",
       "      <td>NaN</td>\n",
       "      <td>Right</td>\n",
       "    </tr>\n",
       "    <tr>\n",
       "      <th>3</th>\n",
       "      <td>23.374841</td>\n",
       "      <td>StartIti</td>\n",
       "      <td>0.262291</td>\n",
       "      <td>1.0</td>\n",
       "      <td>1.0</td>\n",
       "      <td>NaN</td>\n",
       "      <td>FingerTapping</td>\n",
       "      <td>NaN</td>\n",
       "      <td>Right</td>\n",
       "    </tr>\n",
       "    <tr>\n",
       "      <th>4</th>\n",
       "      <td>23.637193</td>\n",
       "      <td>StartTrial</td>\n",
       "      <td>0.790963</td>\n",
       "      <td>1.0</td>\n",
       "      <td>1.0</td>\n",
       "      <td>1.0</td>\n",
       "      <td>FingerTapping</td>\n",
       "      <td>Pinky</td>\n",
       "      <td>Right</td>\n",
       "    </tr>\n",
       "    <tr>\n",
       "      <th>...</th>\n",
       "      <td>...</td>\n",
       "      <td>...</td>\n",
       "      <td>...</td>\n",
       "      <td>...</td>\n",
       "      <td>...</td>\n",
       "      <td>...</td>\n",
       "      <td>...</td>\n",
       "      <td>...</td>\n",
       "      <td>...</td>\n",
       "    </tr>\n",
       "    <tr>\n",
       "      <th>577</th>\n",
       "      <td>757.754821</td>\n",
       "      <td>StartTrial</td>\n",
       "      <td>0.805964</td>\n",
       "      <td>1.0</td>\n",
       "      <td>20.0</td>\n",
       "      <td>259.0</td>\n",
       "      <td>FingerTapping</td>\n",
       "      <td>Middle</td>\n",
       "      <td>Left</td>\n",
       "    </tr>\n",
       "    <tr>\n",
       "      <th>578</th>\n",
       "      <td>758.607495</td>\n",
       "      <td>StartIti</td>\n",
       "      <td>0.605608</td>\n",
       "      <td>1.0</td>\n",
       "      <td>20.0</td>\n",
       "      <td>NaN</td>\n",
       "      <td>FingerTapping</td>\n",
       "      <td>NaN</td>\n",
       "      <td>Left</td>\n",
       "    </tr>\n",
       "    <tr>\n",
       "      <th>579</th>\n",
       "      <td>759.213161</td>\n",
       "      <td>StartTrial</td>\n",
       "      <td>0.778275</td>\n",
       "      <td>1.0</td>\n",
       "      <td>20.0</td>\n",
       "      <td>260.0</td>\n",
       "      <td>FingerTapping</td>\n",
       "      <td>Ring</td>\n",
       "      <td>Left</td>\n",
       "    </tr>\n",
       "    <tr>\n",
       "      <th>580</th>\n",
       "      <td>760.040823</td>\n",
       "      <td>StartIti</td>\n",
       "      <td>0.585636</td>\n",
       "      <td>1.0</td>\n",
       "      <td>20.0</td>\n",
       "      <td>NaN</td>\n",
       "      <td>FingerTapping</td>\n",
       "      <td>NaN</td>\n",
       "      <td>Left</td>\n",
       "    </tr>\n",
       "    <tr>\n",
       "      <th>581</th>\n",
       "      <td>760.707564</td>\n",
       "      <td>StartRest</td>\n",
       "      <td>20.018397</td>\n",
       "      <td>1.0</td>\n",
       "      <td>NaN</td>\n",
       "      <td>NaN</td>\n",
       "      <td>FingerTapping</td>\n",
       "      <td>NaN</td>\n",
       "      <td>NaN</td>\n",
       "    </tr>\n",
       "  </tbody>\n",
       "</table>\n",
       "<p>582 rows × 9 columns</p>\n",
       "</div>"
      ],
      "text/plain": [
       "      Timestamp            Event    Duration  Value  Block  Trial  \\\n",
       "0      3.217344  StartExperiment  777.508700    1.0    NaN    NaN   \n",
       "1      3.307724        StartRest   20.018198    1.0    NaN    NaN   \n",
       "2     23.326003       StartBlock   17.731031    1.0    1.0    NaN   \n",
       "3     23.374841         StartIti    0.262291    1.0    1.0    NaN   \n",
       "4     23.637193       StartTrial    0.790963    1.0    1.0    1.0   \n",
       "..          ...              ...         ...    ...    ...    ...   \n",
       "577  757.754821       StartTrial    0.805964    1.0   20.0  259.0   \n",
       "578  758.607495         StartIti    0.605608    1.0   20.0    NaN   \n",
       "579  759.213161       StartTrial    0.778275    1.0   20.0  260.0   \n",
       "580  760.040823         StartIti    0.585636    1.0   20.0    NaN   \n",
       "581  760.707564        StartRest   20.018397    1.0    NaN    NaN   \n",
       "\n",
       "    ExperimentType TrialType BlockType  \n",
       "0    FingerTapping       NaN       NaN  \n",
       "1    FingerTapping       NaN       NaN  \n",
       "2    FingerTapping       NaN     Right  \n",
       "3    FingerTapping       NaN     Right  \n",
       "4    FingerTapping     Pinky     Right  \n",
       "..             ...       ...       ...  \n",
       "577  FingerTapping    Middle      Left  \n",
       "578  FingerTapping       NaN      Left  \n",
       "579  FingerTapping      Ring      Left  \n",
       "580  FingerTapping       NaN      Left  \n",
       "581  FingerTapping       NaN       NaN  \n",
       "\n",
       "[582 rows x 9 columns]"
      ]
     },
     "execution_count": 13,
     "metadata": {},
     "output_type": "execute_result"
    }
   ],
   "source": [
    "df = snirf_1.events\n",
    "df"
   ]
  },
  {
   "cell_type": "code",
   "execution_count": 14,
   "id": "4e33f6cd-37e9-437d-b55f-002da87e2a05",
   "metadata": {},
   "outputs": [],
   "source": [
    "df_block_left = df[(df['Event'] == 'StartBlock') & (df['BlockType'] == 'Left')]\n",
    "df_block_right = df[(df['Event'] == 'StartBlock') & (df['BlockType'] == 'Right')]"
   ]
  },
  {
   "cell_type": "code",
   "execution_count": 15,
   "id": "44e33f24-22c5-46ce-a3b0-1b0bc0b59905",
   "metadata": {},
   "outputs": [],
   "source": [
    "left_block_indexes = (df_block_left['Timestamp'].values * snirf_1.sfreq).astype(int)\n",
    "right_block_indexes = (df_block_right['Timestamp'].values * snirf_1.sfreq).astype(int)"
   ]
  },
  {
   "cell_type": "code",
   "execution_count": 16,
   "id": "fc5eb67d-e286-4cd8-aa1f-32c4d059531f",
   "metadata": {},
   "outputs": [],
   "source": [
    "def get_bases(data, times, channel):\n",
    "    bases = np.zeros((len(times), int(5 * snirf_1.sfreq)))\n",
    "    for i, time in enumerate(times):\n",
    "        base_l = time - int(5 * snirf_1.sfreq) \n",
    "        base_r = time\n",
    "        base = data[channel, base_l:base_r]\n",
    "        bases[i] = base\n",
    "    return bases"
   ]
  },
  {
   "cell_type": "code",
   "execution_count": 17,
   "id": "eade32c1-1df2-4393-a140-da56369d91ce",
   "metadata": {},
   "outputs": [],
   "source": [
    "def get_bases_mean(bases, new_shape):\n",
    "    avg = np.mean(bases, axis=1)\n",
    "    mean = np.repeat(avg[:, np.newaxis], new_shape, axis=1)\n",
    "    # mean = np.mean(avg)\n",
    "    return mean"
   ]
  },
  {
   "cell_type": "code",
   "execution_count": 18,
   "id": "755d1942-43b5-44ef-9505-53d7e1f0ff78",
   "metadata": {},
   "outputs": [],
   "source": [
    "def get_epochs(data, times, channel):\n",
    "    epochs = np.zeros((len(times), int(35 * snirf_1.sfreq)))\n",
    "    for i, time in enumerate(times):\n",
    "        start = time - int(5 * snirf_1.sfreq) \n",
    "        end = time + int(30 * snirf_1.sfreq)\n",
    "        epoch = data[channel, start:end+1]\n",
    "        epochs[i] = epoch\n",
    "    return epochs    "
   ]
  },
  {
   "cell_type": "code",
   "execution_count": 19,
   "id": "733bd106-d5f5-4263-91fd-030f22fc838b",
   "metadata": {},
   "outputs": [],
   "source": [
    "def get_epochs_avg(epochs):\n",
    "    epochs_avg = np.mean(epochs, axis=0)\n",
    "    return epochs_avg"
   ]
  },
  {
   "cell_type": "code",
   "execution_count": 20,
   "id": "8ab85c73-7eea-417f-9cc4-c62f978cd860",
   "metadata": {},
   "outputs": [],
   "source": [
    "def plot(data, indexes, channel, label, color):\n",
    "    epochs = get_epochs(data, indexes, channel)\n",
    "    \n",
    "    bases = get_bases(data, indexes, channel)\n",
    "    base_means = get_bases_mean(bases, np.shape(epochs)[1])\n",
    "    \n",
    "    epochs_avg = get_epochs_avg(epochs - base_means)\n",
    "    \n",
    "    # print(epochs.shape, epochs_avg.shape)\n",
    "    # print(bases.shape, base_means.shape)\n",
    "    \n",
    "    normalized = epochs_avg #- base_means\n",
    "    # print(normalized.shape)\n",
    "    # print('********')\n",
    "    # return normalized\n",
    "    plt.xticks(np.linspace(0, len(normalized), 10), (np.linspace(0, len(normalized), 10)/ snirf_1.sfreq ).round().astype(int) - 5)\n",
    "    plt.plot(normalized, label=label, color = color, linewidth=.5)"
   ]
  },
  {
   "cell_type": "code",
   "execution_count": 28,
   "id": "a937e3f1-65ef-407b-8a4c-3521a02e6a2b",
   "metadata": {},
   "outputs": [],
   "source": [
    "def plot_epochs(data, indexes):\n",
    "    cntr = 0\n",
    "    hbos = []\n",
    "    hbrs = []\n",
    "    for ch in np.arange(0, len(data) - 2, 2):\n",
    "        cntr += 1\n",
    "        # hbos.append(plot(data, indexes, ch, '', ''))\n",
    "        # hbrs.append(plot(data, indexes, ch+1, '', ''))\n",
    "        plt.subplot(int(len(data)/4), 2, cntr)\n",
    "        plot(data, indexes, ch, 'HbO', 'Red')\n",
    "        plot(data, indexes, ch+1, 'HbR', 'Blue')\n",
    "\n",
    "        plt.axvline(x=int(5*snirf_1.sfreq))\n",
    "        plt.axhline(y=0)\n",
    "    # plt.legend()\n",
    "        # plt.show()\n",
    "#     hbos = np.array(hbos)\n",
    "#     hbrs = np.array(hbrs)\n",
    "    \n",
    "#     hbos_mean = np.mean(hbos, axis=0)\n",
    "#     hbrs_mean = np.mean(hbrs, axis=0)\n",
    "    \n",
    "#     hbos_std = np.std(hbos, axis=0)\n",
    "#     hbrs_std = np.std(hbrs, axis=0)\n",
    "    \n",
    "#     plt.plot(hbos_mean, color='red')\n",
    "#     plt.plot(hbrs_mean, color='blue')\n",
    "    \n",
    "#     plt.fill_between(x = range(len(hbos_mean)), y1=hbos_mean-hbos_std, y2=hbos_mean+hbos_std, color='red', alpha=.3)\n",
    "#     plt.fill_between(x = range(len(hbos_mean)), y1=hbrs_mean-hbrs_std, y2=hbrs_mean+hbrs_std, color='blue', alpha=.3)"
   ]
  },
  {
   "cell_type": "code",
   "execution_count": 33,
   "id": "6ed97eae-af44-47b4-b69d-2f5cb1f29042",
   "metadata": {},
   "outputs": [
    {
     "data": {
      "image/png": "[encoded data removed]",
      "text/plain": [
       "<Figure size 360x1800 with 34 Axes>"
      ]
     },
     "metadata": {
      "needs_background": "light"
     },
     "output_type": "display_data"
    }
   ],
   "source": [
    "plt.figure(figsize=(5, 25))\n",
    "plot_epochs(raw.get_data(), right_block_indexes)"
   ]
  },
  {
   "cell_type": "code",
   "execution_count": 34,
   "id": "233230a6-5b6d-4292-b764-dea90a44bb55",
   "metadata": {},
   "outputs": [
    {
     "data": {
      "image/png": "[encoded data removed]",
      "text/plain": [
       "<Figure size 360x1800 with 34 Axes>"
      ]
     },
     "metadata": {
      "needs_background": "light"
     },
     "output_type": "display_data"
    }
   ],
   "source": [
    "plt.figure(figsize=(5, 25))\n",
    "plot_epochs(raw.get_data(), left_block_indexes)"
   ]
  },
  {
   "cell_type": "code",
   "execution_count": null,
   "id": "01f2396f-11aa-4b85-b996-c95f3184d70c",
   "metadata": {},
   "outputs": [],
   "source": [
    "plt.figure(figsize=(10, 5))\n",
    "plot_epochs(data_left, right_block_indexes)"
   ]
  },
  {
   "cell_type": "code",
   "execution_count": null,
   "id": "88fe49f2-b7c1-4170-b962-3eb9b942841a",
   "metadata": {},
   "outputs": [],
   "source": [
    "plt.figure(figsize=(10, 20))\n",
    "plot_epochs(data_right, left_block_indexes)"
   ]
  },
  {
   "cell_type": "code",
   "execution_count": null,
   "id": "ff57212c-9820-4d99-b7a3-a297f6471ae2",
   "metadata": {},
   "outputs": [],
   "source": [
    "plt.figure(figsize=(10, 20))\n",
    "plot_epochs(data_left, right_block_indexes)"
   ]
  },
  {
   "cell_type": "markdown",
   "id": "761c2ae9-9be7-491b-879f-7cb767065ec8",
   "metadata": {},
   "source": [
    "# Lasso"
   ]
  },
  {
   "cell_type": "code",
   "execution_count": null,
   "id": "e6af131b-0118-4351-9b79-9f67fa9ca70a",
   "metadata": {},
   "outputs": [],
   "source": [
    "def get_normalized_epochs(data, indexes, channel):\n",
    "    epochs = get_epochs(data, indexes, channel)\n",
    "    epochs_avg = get_epochs_avg(epochs)\n",
    "\n",
    "    bases = get_bases(data, indexes, channel)\n",
    "    base_means = get_bases_mean(bases)\n",
    "\n",
    "    normalized = epochs - base_means\n",
    "    return normalized"
   ]
  },
  {
   "cell_type": "code",
   "execution_count": null,
   "id": "1f2bd72e-b805-4566-a35d-9240468c99d2",
   "metadata": {},
   "outputs": [],
   "source": [
    "def get_all_normalized_epochs(data, indexes):\n",
    "    ch_counts = len(data) \n",
    "    epoch_l = np.shape(get_normalized_epochs(data, indexes, 0))[1]\n",
    "    epochs_count = len(indexes)\n",
    "    out = np.zeros((ch_counts, epochs_count, epoch_l))\n",
    "    for ch in range(ch_counts):\n",
    "        epoch = get_normalized_epochs(data, indexes, ch)\n",
    "        out[ch] = epoch\n",
    "    return out"
   ]
  },
  {
   "cell_type": "code",
   "execution_count": null,
   "id": "58193c68-87e0-41ba-9f39-ba02b4f50d06",
   "metadata": {},
   "outputs": [],
   "source": [
    "get_all_normalized_epochs(data_right, left_block_indexes).shape"
   ]
  },
  {
   "cell_type": "code",
   "execution_count": null,
   "id": "77496156-0c39-4588-9ef3-ab7d5b6a067e",
   "metadata": {},
   "outputs": [],
   "source": []
  },
  {
   "cell_type": "code",
   "execution_count": null,
   "id": "614c2af2-ab0a-442c-a6f3-b261bf3cd8f6",
   "metadata": {},
   "outputs": [],
   "source": [
    "def get_target_window(epochs, start, end, sfreq):\n",
    "    start = int(start * sfreq)\n",
    "    end = int(end * sfreq)\n",
    "    windows = epochs[:, start: end]\n",
    "    return windows"
   ]
  },
  {
   "cell_type": "code",
   "execution_count": null,
   "id": "109848ab-0320-4a1b-92c2-1cea9a9cf01f",
   "metadata": {},
   "outputs": [],
   "source": [
    "def window_to_feature(windows):\n",
    "    means = np.mean(windows, axis=1)\n",
    "    return means"
   ]
  },
  {
   "cell_type": "code",
   "execution_count": null,
   "id": "6814b94e-de44-414b-b6d6-87f376cbe835",
   "metadata": {},
   "outputs": [],
   "source": [
    "all_right_epochs = get_all_normalized_epochs(data_right, left_block_indexes)"
   ]
  },
  {
   "cell_type": "code",
   "execution_count": null,
   "id": "a4a3a9fe-37f1-42c4-84ca-338018e6644e",
   "metadata": {},
   "outputs": [],
   "source": [
    "all_right_windows = get_target_window(all_right_epochs, 7, 12, snirf_1.sfreq)"
   ]
  },
  {
   "cell_type": "code",
   "execution_count": null,
   "id": "8d26f532-fb5e-45c8-9a28-da39ace39f8d",
   "metadata": {},
   "outputs": [],
   "source": [
    "window_to_feature(all_right_windows).shape"
   ]
  },
  {
   "cell_type": "code",
   "execution_count": null,
   "id": "7b6e8059-d1cb-45fd-a618-e51d33759df3",
   "metadata": {},
   "outputs": [],
   "source": [
    "window_to_feature(get_target_window(get_epochs(data_right, left_block_indexes, 0), 2, 7, snirf_1.sfreq)).shape"
   ]
  },
  {
   "cell_type": "code",
   "execution_count": null,
   "id": "f9f7de4e-f862-4f13-8807-d1f16e96e5ca",
   "metadata": {},
   "outputs": [],
   "source": [
    "def get_all_channels_epochs(data,times, epoch_len, sfreq):\n",
    "    epoch_len = int(epoch_len * sfreq)\n",
    "    epochs_count = len(times)\n",
    "    l = len(data)\n",
    "    epochs = np.zeros((l * epochs_count, epoch_len))\n",
    "    for i in range(l):\n",
    "        epochs_ = get_epochs(data, times, i)\n",
    "        epochs[(i * epochs_count) : ((i+1) * epochs_count), :] = epochs_\n",
    "    return epochs"
   ]
  },
  {
   "cell_type": "code",
   "execution_count": null,
   "id": "f1aa7ca8-90f8-41f5-82ec-a27d7c7d4c13",
   "metadata": {},
   "outputs": [],
   "source": [
    "all_right_epochs =  get_all_channels_epochs(data_left, right_block_indexes, 35, snirf_1.sfreq)"
   ]
  },
  {
   "cell_type": "code",
   "execution_count": null,
   "id": "fa448154-8601-4fed-8d64-0099017851e7",
   "metadata": {},
   "outputs": [],
   "source": [
    "all_right_target_windows = get_target_window(all_right_epochs, 7, 12, snirf_1.sfreq)"
   ]
  },
  {
   "cell_type": "code",
   "execution_count": null,
   "id": "94541b0a-5927-48eb-9247-cbab20ff61d9",
   "metadata": {},
   "outputs": [],
   "source": [
    "window_to_feature(all_right_target_windows).shape"
   ]
  },
  {
   "cell_type": "code",
   "execution_count": null,
   "id": "5a10c709-f155-45f9-9479-b19f6841f46a",
   "metadata": {},
   "outputs": [],
   "source": [
    "get_epo\n",
    "all_right_epochs.shape"
   ]
  },
  {
   "cell_type": "code",
   "execution_count": null,
   "id": "3382e3ba-b112-4026-93f9-9a843b2b93f2",
   "metadata": {},
   "outputs": [],
   "source": []
  },
  {
   "cell_type": "code",
   "execution_count": null,
   "id": "848bae2a-0d04-45cb-9500-044f111b455c",
   "metadata": {},
   "outputs": [],
   "source": [
    "plot_epochs(right_block_indexes)"
   ]
  },
  {
   "cell_type": "code",
   "execution_count": null,
   "id": "46a95aac-4caa-4c61-9ded-a7855b562939",
   "metadata": {},
   "outputs": [],
   "source": []
  },
  {
   "cell_type": "code",
   "execution_count": null,
   "id": "d8134db2-8517-4b45-abed-2ec9d276a0c6",
   "metadata": {},
   "outputs": [],
   "source": [
    "for i in np.arange(0, len(raw.ch_names)-2, 2):\n",
    "    l_index = \n",
    "    print(i)"
   ]
  },
  {
   "cell_type": "code",
   "execution_count": null,
   "id": "c01eae83-f62f-4c16-9ca9-29331976e6e7",
   "metadata": {},
   "outputs": [],
   "source": []
  },
  {
   "cell_type": "code",
   "execution_count": null,
   "id": "4c0e2b71-bdff-4f5e-bbb2-d4822e6b4bcf",
   "metadata": {},
   "outputs": [],
   "source": []
  },
  {
   "cell_type": "code",
   "execution_count": null,
   "id": "6678fcd8-8167-4b37-9f8d-b3f0b102adec",
   "metadata": {},
   "outputs": [],
   "source": []
  },
  {
   "cell_type": "code",
   "execution_count": null,
   "id": "a3d4356c-4ffd-4de2-9912-ca8856a68d2d",
   "metadata": {},
   "outputs": [],
   "source": []
  },
  {
   "cell_type": "code",
   "execution_count": null,
   "id": "e9c326b1-49c9-44cc-a6ef-b3719c62662c",
   "metadata": {},
   "outputs": [],
   "source": [
    "sfreq = raw.info['sfreq']\n",
    "blocks = [data[:, time - int(5 * sfreq) : time + int(35 * sfreq)] for time in block_times]\n",
    "blocks = np.array(blocks[:-20])\n",
    "blocks.shape"
   ]
  },
  {
   "cell_type": "code",
   "execution_count": null,
   "id": "6df959e2-3a9c-4a2d-abc6-2e7d37f2a42f",
   "metadata": {},
   "outputs": [],
   "source": [
    "blocks_base = blocks[:, :, :int(sfreq * 5)]"
   ]
  },
  {
   "cell_type": "code",
   "execution_count": null,
   "id": "d20ff3b1-d415-4b2c-9083-8e6979f73870",
   "metadata": {},
   "outputs": [],
   "source": [
    "blocks_base_mean = np.mean(blocks_base, axis=2)"
   ]
  },
  {
   "cell_type": "code",
   "execution_count": null,
   "id": "b9478e58-7b3c-4065-bff4-9264b9acd25f",
   "metadata": {},
   "outputs": [],
   "source": [
    "blocks_base_mean_rep = np.repeat(blocks_base_mean[:, :, np.newaxis], blocks.shape[2], axis=2)\n",
    "blocks_base_mean_rep.shape"
   ]
  },
  {
   "cell_type": "code",
   "execution_count": null,
   "id": "53aa0f97-520c-4386-b7ca-c47b0df45416",
   "metadata": {},
   "outputs": [],
   "source": [
    "blocks_corrected = blocks - blocks_base_mean_rep"
   ]
  },
  {
   "cell_type": "code",
   "execution_count": null,
   "id": "b8faae66-5970-4485-962f-9ca7d954563d",
   "metadata": {},
   "outputs": [],
   "source": [
    "blocks_avg = np.mean(blocks_corrected, axis=0)"
   ]
  },
  {
   "cell_type": "code",
   "execution_count": null,
   "id": "d90ac1ba-c4a8-4da5-a5f4-1055c1aa3f65",
   "metadata": {},
   "outputs": [],
   "source": [
    "blocks_avg  = np.mean(blocks, axis=0)\n",
    "blocks_avg.shape"
   ]
  },
  {
   "cell_type": "code",
   "execution_count": null,
   "id": "9673a210-a444-432f-b4ca-de53ec66c02f",
   "metadata": {},
   "outputs": [],
   "source": [
    "for i in np.arange(0, 64, 2):\n",
    "    plt.figure(figsize=(15, 5))\n",
    "    plt.plot(blocks_avg[i],'red' )\n",
    "    plt.plot(blocks_avg[i + 1], 'blue')\n",
    "    plt.xticks(np.linspace(0, len(blocks_avg[0]), 10), (np.linspace(0, len(blocks_avg[0]), 10)/7.14).round().astype(int) - 5)\n",
    "    plt.axvline(x=int(5*raw.info['sfreq']), c='black')\n",
    "    plt.axhline(y=0, c='black')\n",
    "    plt.show()"
   ]
  },
  {
   "cell_type": "code",
   "execution_count": null,
   "id": "5d72f475-ffb3-481e-b06c-f992ddd10fa0",
   "metadata": {},
   "outputs": [],
   "source": [
    "print(data.shape)"
   ]
  },
  {
   "cell_type": "code",
   "execution_count": null,
   "id": "1f491fd1-7603-464c-8005-bbf30fc5c8ab",
   "metadata": {},
   "outputs": [],
   "source": [
    "plt.plot(data[0, 100:220]);"
   ]
  },
  {
   "cell_type": "code",
   "execution_count": null,
   "id": "0410edba-56b4-42b9-bc15-1da802ca912b",
   "metadata": {},
   "outputs": [],
   "source": []
  },
  {
   "cell_type": "code",
   "execution_count": null,
   "id": "b68ca2f0-d541-4567-9b97-e2aafc18b415",
   "metadata": {},
   "outputs": [],
   "source": []
  },
  {
   "cell_type": "code",
   "execution_count": null,
   "id": "0ca2c2c7-fc17-4c7a-97c4-e57774721d59",
   "metadata": {},
   "outputs": [],
   "source": []
  },
  {
   "cell_type": "code",
   "execution_count": null,
   "id": "bcc72c41-246b-44f0-baaf-2b8a60da7581",
   "metadata": {},
   "outputs": [],
   "source": [
    "raw.plot_psd(average=True);"
   ]
  },
  {
   "cell_type": "code",
   "execution_count": null,
   "id": "50368a16-e6eb-4931-877c-589d35b86a2a",
   "metadata": {},
   "outputs": [],
   "source": []
  },
  {
   "cell_type": "code",
   "execution_count": null,
   "id": "da958f63-8552-42cd-9d16-c4862f4297d7",
   "metadata": {},
   "outputs": [],
   "source": [
    "snirf_1.clean_channels"
   ]
  },
  {
   "cell_type": "code",
   "execution_count": null,
   "id": "ce24783d-069c-4e49-9d58-be1cd381a09b",
   "metadata": {},
   "outputs": [],
   "source": [
    "picks_1 = snirf_1.pick('S20_', 'o')\n",
    "picks_1_R = snirf_1.pick('S20_', 'r')\n",
    "# picks_2 = snirf_2.pick('S21', 'O')\n",
    "# picks_2_R = snirf_2.pick('S21', 'R')"
   ]
  },
  {
   "cell_type": "code",
   "execution_count": null,
   "id": "d2f45784-1a01-4f97-ba6c-21cbc241f879",
   "metadata": {},
   "outputs": [],
   "source": [
    "picks_1"
   ]
  },
  {
   "cell_type": "code",
   "execution_count": null,
   "id": "680b9f96-39f4-4fbd-b484-7cb240055781",
   "metadata": {},
   "outputs": [],
   "source": [
    "picks_1_00 = snirf_1.pick('S00', 'O')"
   ]
  },
  {
   "cell_type": "code",
   "execution_count": null,
   "id": "cb2c0c30-3407-4ec2-bd62-761c28cc0989",
   "metadata": {},
   "outputs": [],
   "source": [
    "picks_1_00"
   ]
  },
  {
   "cell_type": "code",
   "execution_count": null,
   "id": "1bd06d84-dec1-4184-8b09-73820665da16",
   "metadata": {},
   "outputs": [],
   "source": [
    "picks_1_12 = snirf_1.pick('S12_', 'o')\n",
    "picks_1_14 = snirf_1.pick('S14_', 'o')\n",
    "picks_1_20 = snirf_1.pick('S20_', 'o')\n",
    "picks_1_22 = snirf_1.pick('S22_', 'o')\n",
    "picks_1_28 = snirf_1.pick('S28_', 'o')\n",
    "picks_1_30 = snirf_1.pick('S30_', 'o')\n",
    "picks_1_36 = snirf_1.pick('S36_', 'o')"
   ]
  },
  {
   "cell_type": "code",
   "execution_count": null,
   "id": "3b11ea0f-e229-44a0-a81d-9120512f8134",
   "metadata": {},
   "outputs": [],
   "source": [
    "picks_1_13 = snirf_1.pick('S13', 'o')\n",
    "picks_1_15 = snirf_1.pick('S15', 'o')\n",
    "picks_1_21 = snirf_1.pick('S21', 'o')\n",
    "picks_1_23 = snirf_1.pick('S23', 'o')\n",
    "picks_1_29 = snirf_1.pick('S29', 'o')\n",
    "picks_1_31 = snirf_1.pick('S31', 'o')\n",
    "picks_1_37 = snirf_1.pick('S37', 'o')"
   ]
  },
  {
   "cell_type": "code",
   "execution_count": null,
   "id": "9834b624-0bdd-437a-b7b5-cbf65b329237",
   "metadata": {},
   "outputs": [],
   "source": [
    "picks_1_motor = [snirf_1.pick(motor, 'o').tolist() for motor in motors]"
   ]
  },
  {
   "cell_type": "code",
   "execution_count": null,
   "id": "75b9fbb5-9768-4eba-b2fd-d96f9391c735",
   "metadata": {},
   "outputs": [],
   "source": [
    "picks_1_motor = [item for sublist in picks_1_motor for item in sublist]"
   ]
  },
  {
   "cell_type": "code",
   "execution_count": null,
   "id": "19485f12-8e9a-441e-bc93-6f5cb20bbf1e",
   "metadata": {},
   "outputs": [],
   "source": [
    "picks_1_motor = np.unique(np.array(picks_1_motor))"
   ]
  },
  {
   "cell_type": "code",
   "execution_count": null,
   "id": "00973e20-e0de-4886-a5d3-e1481e0df72f",
   "metadata": {},
   "outputs": [],
   "source": [
    "picks_1_motor.shape"
   ]
  },
  {
   "cell_type": "code",
   "execution_count": null,
   "id": "08d330a3-b9d2-4d00-adff-12f4746b7914",
   "metadata": {},
   "outputs": [],
   "source": []
  },
  {
   "cell_type": "code",
   "execution_count": null,
   "id": "59a3e41a-5d9d-44f2-be8a-5fc325460c39",
   "metadata": {},
   "outputs": [],
   "source": []
  },
  {
   "cell_type": "code",
   "execution_count": null,
   "id": "47f0e5f1-e351-415d-8e14-def952d2c39d",
   "metadata": {},
   "outputs": [],
   "source": []
  },
  {
   "cell_type": "code",
   "execution_count": null,
   "id": "12d5481b-4491-4a37-a515-c11e9d4a8b3f",
   "metadata": {},
   "outputs": [],
   "source": [
    "picks_1_37_37d0 = snirf_1.pick('S37_D37d0', 'O')"
   ]
  },
  {
   "cell_type": "code",
   "execution_count": null,
   "id": "3f9c5c71-985b-4bda-83d2-c4e393f4119a",
   "metadata": {},
   "outputs": [],
   "source": [
    "snirf_1.data_avg_left[0].shape"
   ]
  },
  {
   "cell_type": "code",
   "execution_count": null,
   "id": "3953965a-f9f0-4359-93e5-32d2f7326a8d",
   "metadata": {},
   "outputs": [],
   "source": [
    "snirf_1.data_avg_left.shape"
   ]
  },
  {
   "cell_type": "code",
   "execution_count": null,
   "id": "7b681330-f738-4251-a8c7-a1765dfc0e5d",
   "metadata": {},
   "outputs": [],
   "source": [
    "tmp = np.mean(snirf_2.data_avg_left[picks_2], axis=0)\n",
    "base_time = int(5*snirf_1.sfreq)\n",
    "tmp_base = tmp[: base_time]\n",
    "# tmp_avg = np.mean(tmp [: int(5*snirf_1.sfreq)])\n",
    "base_avg = np.mean(tmp_base) \n",
    "base_std = np.std(tmp_base)\n",
    "tmp = (tmp - base_avg) / base_std"
   ]
  },
  {
   "cell_type": "code",
   "execution_count": null,
   "id": "e83e6839-95a1-4279-81c0-dfc93a28ab23",
   "metadata": {},
   "outputs": [],
   "source": [
    "def plot_signal(signal, label, sigma = 5):\n",
    "    signal_filtered = gaussian_filter1d(signal, sigma)\n",
    "    plt.plot(signal_filtered, label=label)\n",
    "    plt.xticks(np.linspace(0, len(signal), 10), (np.linspace(0, len(signal), 10)/7.14).round().astype(int) - 5)\n",
    "    plt.axvline(x=int(5*7.14))\n",
    "    plt.axhline(y=0)\n",
    "    plt.fill_betweenx(y=np.linspace(np.min(signal), np.max(signal), 100), x1=int(5*7.14), x2=int(20*7.14), alpha=.5, color='skyblue')\n",
    "    plt.legend()"
   ]
  },
  {
   "cell_type": "code",
   "execution_count": null,
   "id": "04885bc5-3cc4-4c1d-8707-c8afddc3b2da",
   "metadata": {},
   "outputs": [],
   "source": [
    "def plot_base(signal, sfreq, label):\n",
    "    tmp = np.mean(signal, axis=0)\n",
    "    base_time = int(5*sfreq)\n",
    "    tmp_base = tmp[: base_time]\n",
    "    # tmp_avg = np.mean(tmp [: int(5*snirf_1.sfreq)])\n",
    "    base_avg = np.mean(tmp_base) \n",
    "    base_std = np.std(tmp_base)\n",
    "    tmp = (tmp - base_avg) / base_std\n",
    "    plot_signal(tmp, label, 10)"
   ]
  },
  {
   "cell_type": "code",
   "execution_count": null,
   "id": "1e974a2b-1291-4d86-8059-fb5a40d78418",
   "metadata": {},
   "outputs": [],
   "source": [
    "snirf_1.data_avg_left[picks_1_motor].shape"
   ]
  },
  {
   "cell_type": "code",
   "execution_count": null,
   "id": "6711dcdc-f930-4d8f-9960-85f56fe3086f",
   "metadata": {},
   "outputs": [],
   "source": [
    "plt.figure(figsize=(25, 10))\n",
    "for pick in picks_1_22:\n",
    "    plot_base([snirf_1.data_avg_left[pick]], snirf_1.sfreq, snirf_1.clean_channels[pick])"
   ]
  },
  {
   "cell_type": "code",
   "execution_count": null,
   "id": "f6dc210e-7081-425e-b8f8-89a861e86c6f",
   "metadata": {},
   "outputs": [],
   "source": [
    "all = []\n",
    "for pick in picks_1_motor:\n",
    "    all.append(snirf_1.data_avg_left[pick])\n",
    "all = np.array(all)"
   ]
  },
  {
   "cell_type": "code",
   "execution_count": null,
   "id": "9c0f9191-a57c-48a9-bd54-61057dcc3490",
   "metadata": {},
   "outputs": [],
   "source": [
    "plt.figure(figsize=(25, 10))\n",
    "plot_base(all, snirf_1.sfreq, 'AVG');"
   ]
  },
  {
   "cell_type": "code",
   "execution_count": null,
   "id": "3cd32755-cbad-4c25-a5f6-483b80793910",
   "metadata": {},
   "outputs": [],
   "source": [
    "plt.figure(figsize=(25, 10))\n",
    "for pick in picks_1_14:\n",
    "    plot_base([snirf_1.data_avg_left[pick]], snirf_1.sfreq, snirf_1.clean_channels[pick])"
   ]
  },
  {
   "cell_type": "code",
   "execution_count": null,
   "id": "3a64f48d-067b-45a6-9547-17f45bd08658",
   "metadata": {},
   "outputs": [],
   "source": [
    "plt.figure(figsize=(25, 10))\n",
    "plot_base(snirf_1.data_avg_right[picks_1_14], snirf_1.sfreq, snirf_1.clean_channels[pick])"
   ]
  },
  {
   "cell_type": "code",
   "execution_count": null,
   "id": "3c79628b-7219-41fb-ac04-708afe7eace4",
   "metadata": {},
   "outputs": [],
   "source": [
    "plot_base(snirf_1.data_avg_right[picks_1_12], snirf_1.sfreq, 'Right')\n",
    "plot_base(snirf_1.data_avg_left[picks_1_12], snirf_1.sfreq, 'Left')"
   ]
  },
  {
   "cell_type": "code",
   "execution_count": null,
   "id": "a0c1bcc5-b737-484c-b8d7-9299017e77c9",
   "metadata": {},
   "outputs": [],
   "source": [
    "plot_base(snirf_1.data_avg_right[picks_1_13], snirf_1.sfreq, 'Right')\n",
    "plot_base(snirf_1.data_avg_left[picks_1_13], snirf_1.sfreq, 'Left')"
   ]
  },
  {
   "cell_type": "code",
   "execution_count": null,
   "id": "dcf9e2a4-0b0a-4256-a1d5-569cfca295e6",
   "metadata": {},
   "outputs": [],
   "source": [
    "plot_base(snirf_1.data_avg_right[picks_1_14], snirf_1.sfreq, 'Right')\n",
    "plot_base(snirf_1.data_avg_left[picks_1_14], snirf_1.sfreq, 'Left')"
   ]
  },
  {
   "cell_type": "code",
   "execution_count": null,
   "id": "9de4041f-73dd-4f59-870a-ec69b32388a8",
   "metadata": {},
   "outputs": [],
   "source": [
    "plot_base(snirf_1.data_avg_right[picks_1_15], snirf_1.sfreq, 'Right')\n",
    "plot_base(snirf_1.data_avg_left[picks_1_15], snirf_1.sfreq, 'Left')"
   ]
  },
  {
   "cell_type": "code",
   "execution_count": null,
   "id": "df1dafe1-7dfe-44ac-93ff-e506a726a614",
   "metadata": {},
   "outputs": [],
   "source": [
    "plot_base(snirf_1.data_avg_right[picks_1_20], snirf_1.sfreq, 'Right')\n",
    "plot_base(snirf_1.data_avg_left[picks_1_20], snirf_1.sfreq, 'Left')"
   ]
  },
  {
   "cell_type": "code",
   "execution_count": null,
   "id": "84467fbb-a79f-4ff1-9e97-cd555d4cfd86",
   "metadata": {},
   "outputs": [],
   "source": [
    "plot_base(snirf_1.data_avg_right[picks_1_21], snirf_1.sfreq, 'Right')\n",
    "plot_base(snirf_1.data_avg_left[picks_1_21], snirf_1.sfreq, 'Left')"
   ]
  },
  {
   "cell_type": "code",
   "execution_count": null,
   "id": "805aa8d0-d915-41d9-b74e-791141015200",
   "metadata": {},
   "outputs": [],
   "source": [
    "plot_base(snirf_1.data_avg_right[picks_1_22], snirf_1.sfreq, 'Right')\n",
    "plot_base(snirf_1.data_avg_left[picks_1_22], snirf_1.sfreq, 'Left')"
   ]
  },
  {
   "cell_type": "code",
   "execution_count": null,
   "id": "b3f8921f-cdaa-4c88-b55a-468f5ca6cc9f",
   "metadata": {},
   "outputs": [],
   "source": [
    "plot_base(snirf_1.data_avg_right[picks_1_23], snirf_1.sfreq, 'Right')\n",
    "plot_base(snirf_1.data_avg_left[picks_1_23], snirf_1.sfreq, 'Left')"
   ]
  },
  {
   "cell_type": "code",
   "execution_count": null,
   "id": "efae5141-f0d6-4a51-a098-959c81187282",
   "metadata": {},
   "outputs": [],
   "source": [
    "raw.copy().pick('S23')"
   ]
  },
  {
   "cell_type": "code",
   "execution_count": null,
   "id": "f573727e-df5d-419c-87b9-fbf9cdc264ab",
   "metadata": {},
   "outputs": [],
   "source": [
    "plot_base(snirf_1.data_avg_right[picks_1_28], snirf_1.sfreq, 'Right')\n",
    "plot_base(snirf_1.data_avg_left[picks_1_28], snirf_1.sfreq, 'Left')"
   ]
  },
  {
   "cell_type": "code",
   "execution_count": null,
   "id": "00225067-fb64-4820-a6d4-555ba90e118d",
   "metadata": {},
   "outputs": [],
   "source": [
    "plot_base(snirf_1.data_avg_right[picks_1_29], snirf_1.sfreq, 'Right')\n",
    "plot_base(snirf_1.data_avg_left[picks_1_29], snirf_1.sfreq, 'Left')"
   ]
  },
  {
   "cell_type": "code",
   "execution_count": null,
   "id": "fc6b1677-8aed-4695-beb0-133820a883dd",
   "metadata": {},
   "outputs": [],
   "source": [
    "plot_base(snirf_1.data_avg_right[picks_1_30], snirf_1.sfreq, 'Right')\n",
    "plot_base(snirf_1.data_avg_left[picks_1_30], snirf_1.sfreq, 'Left')"
   ]
  },
  {
   "cell_type": "code",
   "execution_count": null,
   "id": "c7d64b9e-dc4f-478c-b1a8-da6f5272f151",
   "metadata": {},
   "outputs": [],
   "source": [
    "plot_base(snirf_1.data_avg_right[picks_1_31], snirf_1.sfreq, 'Right')\n",
    "plot_base(snirf_1.data_avg_left[picks_1_31], snirf_1.sfreq, 'Left')"
   ]
  },
  {
   "cell_type": "code",
   "execution_count": null,
   "id": "b7c7dc90-1842-412a-b3cc-d3e00931a2e7",
   "metadata": {},
   "outputs": [],
   "source": [
    "plot_base(snirf_1.data_avg_right[picks_1_36], snirf_1.sfreq, 'Right')\n",
    "plot_base(snirf_1.data_avg_left[picks_1_36], snirf_1.sfreq, 'Left')"
   ]
  },
  {
   "cell_type": "code",
   "execution_count": null,
   "id": "2e32b8a4-7805-4eef-ac60-6562e15ed98e",
   "metadata": {},
   "outputs": [],
   "source": [
    "plot_base(snirf_1.data_avg_right[picks_1_37], snirf_1.sfreq, 'Right')\n",
    "plot_base(snirf_1.data_avg_left[picks_1_37], snirf_1.sfreq, 'Left')"
   ]
  },
  {
   "cell_type": "code",
   "execution_count": null,
   "id": "2dd2862e-3e91-4626-8ff6-e327a3a2c463",
   "metadata": {},
   "outputs": [],
   "source": [
    "plot_base(snirf_1.data_avg_right[picks_1_12], snirf_1.sfreq, '12')\n",
    "plot_base(snirf_1.data_avg_right[picks_1_14], snirf_1.sfreq, '14')\n",
    "plot_base(snirf_1.data_avg_right[picks_1_20], snirf_1.sfreq, '20')\n",
    "plot_base(snirf_1.data_avg_right[picks_1_22], snirf_1.sfreq, '22')\n",
    "plot_base(snirf_1.data_avg_right[picks_1_28], snirf_1.sfreq, '28')\n",
    "plot_base(snirf_1.data_avg_right[picks_1_30], snirf_1.sfreq, '30')\n",
    "plot_base(snirf_1.data_avg_right[picks_1_36], snirf_1.sfreq, '36')"
   ]
  },
  {
   "cell_type": "code",
   "execution_count": null,
   "id": "f66aa713-78fa-49e6-a30c-9ee38032340d",
   "metadata": {},
   "outputs": [],
   "source": [
    "plot_base(snirf_1.data_avg_left[picks_1_12], snirf_1.sfreq, '12')\n",
    "plot_base(snirf_1.data_avg_left[picks_1_14], snirf_1.sfreq, '14')\n",
    "plot_base(snirf_1.data_avg_left[picks_1_20], snirf_1.sfreq, '20')\n",
    "plot_base(snirf_1.data_avg_left[picks_1_22], snirf_1.sfreq, '22')\n",
    "plot_base(snirf_1.data_avg_left[picks_1_28], snirf_1.sfreq, '28')\n",
    "plot_base(snirf_1.data_avg_left[picks_1_30], snirf_1.sfreq, '30')\n",
    "plot_base(snirf_1.data_avg_left[picks_1_36], snirf_1.sfreq, '36')"
   ]
  },
  {
   "cell_type": "code",
   "execution_count": null,
   "id": "a57ab5f3-3ed0-4df6-b756-40e614915ef4",
   "metadata": {},
   "outputs": [],
   "source": [
    "# plot_base(snirf_1.data_avg_rest[picks_1_12], snirf_1.sfreq, '12')\n",
    "# plot_base(snirf_1.data_avg_rest[picks_1_14], snirf_1.sfreq, '14')\n",
    "# plot_base(snirf_1.data_avg_rest[picks_1_20], snirf_1.sfreq, '20')\n",
    "# plot_base(snirf_1.data_avg_rest[picks_1_22], snirf_1.sfreq, '22')\n",
    "# plot_base(snirf_1.data_avg_rest[picks_1_28], snirf_1.sfreq, '28')\n",
    "# plot_base(snirf_1.data_avg_rest[picks_1_30], snirf_1.sfreq, '30')\n",
    "# plot_base(snirf_1.data_avg_rest[picks_1_36], snirf_1.sfreq, '36')"
   ]
  },
  {
   "cell_type": "code",
   "execution_count": null,
   "id": "997287ea-f22b-4883-b312-3c5d62397872",
   "metadata": {},
   "outputs": [],
   "source": [
    "plot_base(snirf_1.data_avg_right[picks_1], snirf_1.sfreq, 'O')\n",
    "plot_base(snirf_1.data_avg_right[picks_1_R], snirf_1.sfreq, 'R')"
   ]
  },
  {
   "cell_type": "code",
   "execution_count": null,
   "id": "1eb6e798-9e60-4506-977e-3ea839902629",
   "metadata": {},
   "outputs": [],
   "source": [
    "plot_base(snirf_1.data_avg_left[picks_1], snirf_1.sfreq, 'O')\n",
    "plot_base(snirf_1.data_avg_left[picks_1_R], snirf_1.sfreq, 'R')"
   ]
  },
  {
   "cell_type": "code",
   "execution_count": null,
   "id": "81472c00-7501-49b7-9261-997d865fe685",
   "metadata": {},
   "outputs": [],
   "source": [
    "plot_base(snirf_1.data_avg_right[picks_2], snirf_1.sfreq, 'O')\n",
    "plot_base(snirf_1.data_avg_right[picks_2_R], snirf_1.sfreq, 'R')"
   ]
  },
  {
   "cell_type": "code",
   "execution_count": null,
   "id": "0cea2f73-e834-49e0-9980-517798a81a85",
   "metadata": {},
   "outputs": [],
   "source": [
    "plot_base(snirf_1.data_avg_left[picks_2], snirf_1.sfreq, 'O')\n",
    "plot_base(snirf_1.data_avg_left[picks_2_R], snirf_1.sfreq, 'R')"
   ]
  },
  {
   "cell_type": "code",
   "execution_count": null,
   "id": "9a1adf03-d6ca-4931-a5ee-06d50f9391dc",
   "metadata": {},
   "outputs": [],
   "source": [
    "plt.plot(tmp)"
   ]
  },
  {
   "cell_type": "code",
   "execution_count": null,
   "id": "278818a2-f78d-4155-b8bd-6bf8ee7e3e49",
   "metadata": {},
   "outputs": [],
   "source": [
    "plot_signal(np.mean(snirf_1.data_avg_left[picks_1], axis=0), 'O')\n",
    "plot_signal(np.mean(snirf_1.data_avg_left[picks_1_R], axis=0), 'R')"
   ]
  },
  {
   "cell_type": "code",
   "execution_count": null,
   "id": "f938cfa7-d32b-43f6-bdd8-0c07c997a7ee",
   "metadata": {},
   "outputs": [],
   "source": [
    "plot_signal(tmp, 'mammad', 7)"
   ]
  },
  {
   "cell_type": "code",
   "execution_count": null,
   "id": "dcae3dd9-c731-436a-a771-64c7a125de82",
   "metadata": {},
   "outputs": [],
   "source": [
    "snirf_1.data_avg_rest.shape"
   ]
  },
  {
   "cell_type": "code",
   "execution_count": null,
   "id": "3d250dac-3df3-478b-bbe0-be9a153545a6",
   "metadata": {},
   "outputs": [],
   "source": [
    "print((picks_1))\n",
    "print((picks_2))"
   ]
  },
  {
   "cell_type": "code",
   "execution_count": null,
   "id": "10812ce9-bea8-438d-a319-5843929e4095",
   "metadata": {},
   "outputs": [],
   "source": [
    "print(snirf_1.clean_channels[picks_1])\n",
    "print(snirf_2.clean_channels[picks_2])"
   ]
  },
  {
   "cell_type": "code",
   "execution_count": null,
   "id": "3e56d496-e0b1-4023-a303-45c0f78337d5",
   "metadata": {},
   "outputs": [],
   "source": [
    "tog = np.vstack((snirf_1.data_left[:,picks_1,:], snirf_2.data_left[:,picks_2,:]))"
   ]
  },
  {
   "cell_type": "code",
   "execution_count": null,
   "id": "f182809e-40bf-4dc8-8f85-b4d3746ee55a",
   "metadata": {},
   "outputs": [],
   "source": [
    "plot_signal(signal=np.mean(np.mean(tog, axis= 0), axis=0), label='asd')"
   ]
  },
  {
   "cell_type": "code",
   "execution_count": null,
   "id": "c96799e9-f834-425e-93de-744860caad09",
   "metadata": {},
   "outputs": [],
   "source": [
    "plt.plot(np.mean(np.mean(tog, axis= 0), axis=0))"
   ]
  },
  {
   "cell_type": "code",
   "execution_count": null,
   "id": "f1d636a0-cf13-4adf-a28a-e7ca778bb892",
   "metadata": {},
   "outputs": [],
   "source": [
    "snirf_2.data_right.shape"
   ]
  },
  {
   "cell_type": "code",
   "execution_count": null,
   "id": "0d130d2d-c564-43c5-aa17-5771f5119f4e",
   "metadata": {},
   "outputs": [],
   "source": [
    "snirf_1.data_right.shape"
   ]
  },
  {
   "cell_type": "markdown",
   "id": "b96f0540-285a-472b-99cc-6b506c7340b7",
   "metadata": {},
   "source": [
    "# Events"
   ]
  },
  {
   "cell_type": "code",
   "execution_count": null,
   "id": "a64169a5-6b52-4a2e-90cf-b470debe426d",
   "metadata": {},
   "outputs": [],
   "source": [
    "events = get_events_from_snirf(path, False)"
   ]
  },
  {
   "cell_type": "code",
   "execution_count": null,
   "id": "32b20bd0-9fda-483b-a2ae-06d3ff8efabe",
   "metadata": {},
   "outputs": [],
   "source": [
    "events"
   ]
  },
  {
   "cell_type": "markdown",
   "id": "0e4d2ceb-3e15-4125-9ec1-29d6ef1632da",
   "metadata": {},
   "source": [
    "# Data"
   ]
  },
  {
   "cell_type": "code",
   "execution_count": null,
   "id": "9f6f5a36-be2f-4a67-8502-07751aa41e8f",
   "metadata": {},
   "outputs": [],
   "source": [
    "data = snirf.get_data()"
   ]
  },
  {
   "cell_type": "code",
   "execution_count": null,
   "id": "3209fe6a-987e-454b-b2dd-461429c03185",
   "metadata": {},
   "outputs": [],
   "source": [
    "nans = np.isnan(data)\n",
    "nans_sum = np.sum(nans, axis=1)\n",
    "nans_ids = nans_sum > 0"
   ]
  },
  {
   "cell_type": "code",
   "execution_count": null,
   "id": "eb1ed03d-4544-44c8-aac2-c06788de9ed5",
   "metadata": {},
   "outputs": [],
   "source": [
    "print(nans_ids.shape)\n",
    "print(data.shape)\n",
    "len(snirf.ch_names)"
   ]
  },
  {
   "cell_type": "code",
   "execution_count": null,
   "id": "fe657222-9e8d-4187-be52-4ae2958a5b64",
   "metadata": {},
   "outputs": [],
   "source": [
    "clean_data = data[~nans_ids, :]\n",
    "clean_channels = np.array(snirf.ch_names)[~nans_ids]"
   ]
  },
  {
   "cell_type": "code",
   "execution_count": null,
   "id": "9cd2c4d0-30ea-4a2a-af4a-99d19f2275fb",
   "metadata": {},
   "outputs": [],
   "source": [
    "print(clean_data.shape)\n",
    "clean_channels.shape"
   ]
  },
  {
   "cell_type": "markdown",
   "id": "5965347f-2873-44a7-a456-558d0644be34",
   "metadata": {},
   "source": [
    "# Channels\n"
   ]
  },
  {
   "cell_type": "raw",
   "id": "6b5aac7d-30c7-4e7b-b0d6-0c66753b0f52",
   "metadata": {},
   "source": [
    "def select_channels(snirf, good_channels, hbo = 'HbO'):\n",
    "    channel_names = [x['ch_name'] for x in snirf.info['chs']]\n",
    "    out = []\n",
    "    for i, name in enumerate(channel_names):\n",
    "        if name[:9] in good_channels and hbo in name:\n",
    "            out.append(i)\n",
    "    out = np.array(out)\n",
    "    return out"
   ]
  },
  {
   "cell_type": "raw",
   "id": "de4ed2a8-d9d6-4cb0-ba0a-4eea0eae3e7d",
   "metadata": {},
   "source": [
    "motor_nodes_right = give_channels()\n",
    "motor_channels_right = select_channels(snirf, motor_nodes_right)"
   ]
  },
  {
   "cell_type": "raw",
   "id": "534da71b-7778-4a64-a1f8-1d4a0ac9d7a0",
   "metadata": {},
   "source": [
    "motor_channels_right.shape"
   ]
  },
  {
   "cell_type": "raw",
   "id": "9e7932a2-fc73-421c-906d-8a9068466b03",
   "metadata": {},
   "source": [
    "data = data[motor_channels_right]"
   ]
  },
  {
   "cell_type": "raw",
   "id": "4923aad9-848f-4b4b-abcb-56a3e0f2f872",
   "metadata": {},
   "source": [
    "data.shape"
   ]
  },
  {
   "attachments": {
    "72a7e821-2fb5-4a74-b226-cef95ad651c9.png": {
     "image/png": "[encoded data removed]"
    }
   },
   "cell_type": "raw",
   "id": "ece505c0-43f6-425d-b5d7-e933d32e3d5f",
   "metadata": {},
   "source": [
    "![download.png](attachment:72a7e821-2fb5-4a74-b226-cef95ad651c9.png)# Butterfly"
   ]
  },
  {
   "cell_type": "raw",
   "id": "44f22ae6-a81a-4705-8342-72fa77bbd164",
   "metadata": {},
   "source": [
    "plt.plot(data[:]);"
   ]
  },
  {
   "cell_type": "raw",
   "id": "cd55b94e-8746-4421-9fe9-da41acf2b178",
   "metadata": {},
   "source": [
    "clean_data = data[np.sum(np.isnan(data), axis=1) == 0]"
   ]
  },
  {
   "cell_type": "raw",
   "id": "111c6a5a-5e3e-43f3-81ca-3b2f2f5cbc7e",
   "metadata": {},
   "source": [
    "clean_data.shape"
   ]
  },
  {
   "cell_type": "markdown",
   "id": "e010a202-e2ad-4488-86cc-6b2aa9c13296",
   "metadata": {},
   "source": [
    "# Plot"
   ]
  },
  {
   "cell_type": "code",
   "execution_count": null,
   "id": "8e207962-172d-4389-b26a-43f22336bb86",
   "metadata": {},
   "outputs": [],
   "source": []
  },
  {
   "cell_type": "code",
   "execution_count": null,
   "id": "55feffe8-67ee-4a21-9e75-2fbbdba2ecd0",
   "metadata": {},
   "outputs": [],
   "source": [
    "def get_duration(events):\n",
    "    duration = events[events['Duration'].round() >0].Duration.min().round().astype(int)\n",
    "    return duration"
   ]
  },
  {
   "cell_type": "code",
   "execution_count": null,
   "id": "7be392d1-9886-4a2a-853a-a3cf9eb3da91",
   "metadata": {},
   "outputs": [],
   "source": [
    "def get_start_indexes(events, sampling_rate):\n",
    "    start_indexes = (events.Timestamp.values*sampling_rate).round().astype(int)\n",
    "    return start_indexes"
   ]
  },
  {
   "cell_type": "code",
   "execution_count": null,
   "id": "1d2b385a-225b-4972-ac91-d56bd6fa9511",
   "metadata": {},
   "outputs": [],
   "source": [
    "def get_events_start_block(events, label):\n",
    "    if label == 'Rest':\n",
    "        events = events[(events.Duration > 2) & (events.Event == 'StartRest')]\n",
    "    else:\n",
    "        events = events[(events.BlockType == label) & (events.Event == 'StartBlock')]\n",
    "    return events"
   ]
  },
  {
   "cell_type": "code",
   "execution_count": null,
   "id": "4c180b5f-711e-4ef4-abd2-d25ff66fdb14",
   "metadata": {},
   "outputs": [],
   "source": [
    "def get_data(all_data, start_indexes, duration):\n",
    "    tmp = [all_data[:, start_index:start_index + (duration*sampling_rate).round().astype(int)] for start_index in start_indexes]\n",
    "    # print([np.shape(t) for t in tmp])\n",
    "    data = np.array(tmp)\n",
    "    return data"
   ]
  },
  {
   "cell_type": "code",
   "execution_count": null,
   "id": "236f15e4-9aaa-4590-8317-ce5be46f94c9",
   "metadata": {},
   "outputs": [],
   "source": [
    "def get_data_avg(data):\n",
    "    data_avg = np.mean(data, axis=0)\n",
    "    return data_avg"
   ]
  },
  {
   "cell_type": "code",
   "execution_count": null,
   "id": "bd9afd28-a000-486c-9e34-2f46edc05d0f",
   "metadata": {},
   "outputs": [],
   "source": [
    "def _plot(snirf, data, duration):\n",
    "    times = range(duration)\n",
    "    channel_names = [x['ch_name'] for x in snirf.info['chs']]\n",
    "    is_hbo = np.array([1 if channel_name.endswith(\n",
    "       'HbO') else 0 for channel_name in channel_names], dtype=bool)\n",
    "    channel_locations_3d = [x['loc'][:3] for x in snirf.info['chs']]\n",
    "\n",
    "    _, ax = plt.subplots(ncols=2, figsize=(10, 5))\n",
    "    ax[0].pcolor(times, np.arange(np.sum(is_hbo)), data[is_hbo, :], shading='nearest')\n",
    "    ax[0].set_title('HbO')\n",
    "    ax[0].set_xlabel('Time [s]')\n",
    "    ax[0].set_ylabel('Channel number')\n",
    "    ax[1].pcolor(times, np.arange(np.sum(~is_hbo)),\n",
    "                data[~is_hbo, :], shading='nearest')\n",
    "    ax[1].set_title('HbR')\n",
    "    ax[1].set_xlabel('Time [s]')\n",
    "    # plt.show() "
   ]
  },
  {
   "cell_type": "code",
   "execution_count": null,
   "id": "d7ce8001-6044-4fc8-a949-95b4f8a66aa1",
   "metadata": {},
   "outputs": [],
   "source": [
    "def plot(snirf, all_data, all_events, sampling_rate, label):\n",
    "    events = get_events_start_block(all_events, label)\n",
    "    duration = get_duration(events) \n",
    "    start_indexes = get_start_indexes(events, sampling_rate)\n",
    "    data = get_data(all_data, start_indexes, duration)\n",
    "    data_avg = get_data_avg(data)\n",
    "    plt.pcolor( data_avg, shading='auto', cmap='binary')\n",
    "    # _plot(snirf, data_avg, duration)\n",
    "    return data, data_avg"
   ]
  },
  {
   "cell_type": "code",
   "execution_count": null,
   "id": "bcc40eb1-caf7-4ed1-9d43-0fb3306bfa4c",
   "metadata": {},
   "outputs": [],
   "source": [
    "np.linspace(0, 10, 20)"
   ]
  },
  {
   "cell_type": "code",
   "execution_count": null,
   "id": "d323cc6d-f68b-44a2-9ab2-e94313d66426",
   "metadata": {},
   "outputs": [],
   "source": [
    "sampling_rate = snirf.info['sfreq']  #7.14 #8.26 #7.14"
   ]
  },
  {
   "cell_type": "code",
   "execution_count": null,
   "id": "4fc8ec66-a770-45bd-8320-fe83e09aba84",
   "metadata": {},
   "outputs": [],
   "source": [
    "data_right, data_avg_right = plot(snirf, clean_data, events, sampling_rate, 'Right')"
   ]
  },
  {
   "cell_type": "code",
   "execution_count": null,
   "id": "977acaea-461e-4d14-b20e-d46383954d3c",
   "metadata": {},
   "outputs": [],
   "source": [
    "data_left, data_avg_left = plot(snirf, clean_data, events, sampling_rate, 'Left')"
   ]
  },
  {
   "cell_type": "code",
   "execution_count": null,
   "id": "caea6cb0-0fe6-42ec-8c23-4fecb06e61cf",
   "metadata": {},
   "outputs": [],
   "source": [
    "data_rest, data_avg_rest = plot(snirf, clean_data, events, sampling_rate, 'Rest')"
   ]
  },
  {
   "cell_type": "code",
   "execution_count": null,
   "id": "1692ff74-e791-4e9a-adb0-931ee7cadd86",
   "metadata": {},
   "outputs": [],
   "source": [
    "clean_channels[:10]"
   ]
  },
  {
   "cell_type": "code",
   "execution_count": null,
   "id": "7cec2177-1c8f-4e79-8e0e-19abfb60cb95",
   "metadata": {},
   "outputs": [],
   "source": [
    "def find_channels(start, channels, o2):\n",
    "    out = [ch for ch in channels if ch.startswith(start) and ch.endswith(o2) ]\n",
    "    out = np.array(out)\n",
    "    return out\n",
    "def find_channel_indexes(channels, filt):\n",
    "    out = [i for i, ch in enumerate(channels) if ch in filt]\n",
    "    out = np.array(out)\n",
    "    return out\n",
    "def pick(start, channels, o2):\n",
    "    tmp = find_channels(start,channels, o2)\n",
    "    indexes = find_channel_indexes(channels, tmp)\n",
    "    return indexes"
   ]
  },
  {
   "cell_type": "code",
   "execution_count": null,
   "id": "397b37f4-0ff0-47ec-81a0-19c90ca47dc1",
   "metadata": {},
   "outputs": [],
   "source": [
    "def find_channels(start, channels, o2):\n",
    "    out = [ch for ch in channels if ch.startswith(start) and ch.endswith(o2) ]\n",
    "    out = np.array(out)\n",
    "    return out"
   ]
  },
  {
   "cell_type": "code",
   "execution_count": null,
   "id": "81c1a325-4317-4304-b35f-c1a2714c3002",
   "metadata": {},
   "outputs": [],
   "source": [
    "def find_channel_indexes(channels, filt):\n",
    "    out = [i for i, ch in enumerate(channels) if ch in filt]\n",
    "    out = np.array(out)\n",
    "    return out"
   ]
  },
  {
   "cell_type": "code",
   "execution_count": null,
   "id": "8227845a-5fca-46a8-bc11-c5987fbf0aee",
   "metadata": {},
   "outputs": [],
   "source": [
    "def pick(start, channels, o2):\n",
    "    tmp = find_channels(start,channels, o2)\n",
    "    indexes = find_channel_indexes(channels, tmp)\n",
    "    return indexes"
   ]
  },
  {
   "cell_type": "code",
   "execution_count": null,
   "id": "ba65f227-d938-4d04-a9b5-76626c0cccda",
   "metadata": {},
   "outputs": [],
   "source": [
    "def pick_data(data, picks):\n",
    "    data_pick = data[picks, :]\n",
    "    return data_pick"
   ]
  },
  {
   "cell_type": "code",
   "execution_count": null,
   "id": "ce2b9b0d-d50e-4c9e-8f7b-31e48df49860",
   "metadata": {},
   "outputs": [],
   "source": [
    "def plot_signal(signal, label, sigma = 5):\n",
    "    signal_filtered = gaussian_filter1d(signal, sigma)\n",
    "    plt.plot(signal_filtered, label=label)\n",
    "    plt.xticks(np.linspace(0, len(signal), 10), (np.linspace(0, len(signal), 10)/7.14).round().astype(int) - 5)\n",
    "    plt.axvline(x=int(5*7.14))\n",
    "    plt.axhline(y=0)\n",
    "    plt.fill_betweenx(y=np.linspace(np.min(signal), np.max(signal), 100), x1=int(5*7.14), x2=int(20*7.14), alpha=.5)\n",
    "    plt.legend()"
   ]
  },
  {
   "cell_type": "code",
   "execution_count": null,
   "id": "07270a94-dd7b-42b4-99b4-ee2720f6c1f7",
   "metadata": {},
   "outputs": [],
   "source": [
    "np.linspace(-1, 1, 10)"
   ]
  },
  {
   "cell_type": "code",
   "execution_count": null,
   "id": "093178a3-aa14-4711-bd2e-ed44f42d2831",
   "metadata": {},
   "outputs": [],
   "source": [
    "def plot_signal_pick(data, picks, label):\n",
    "    data_pick = data[picks, :]\n",
    "    data_avg = np.mean(data_pick, axis=0)\n",
    "    plot_signal(data_avg, label)"
   ]
  },
  {
   "cell_type": "code",
   "execution_count": null,
   "id": "59d56cdb-be4f-4cc3-80aa-dfb9c42135b5",
   "metadata": {},
   "outputs": [],
   "source": [
    "np.vstack((snirf_1.data_avg_right, snirf_2.data_avg_right)).shape"
   ]
  },
  {
   "cell_type": "code",
   "execution_count": null,
   "id": "35a3fc6a-55ed-4a54-a6f3-8e5787770e41",
   "metadata": {},
   "outputs": [],
   "source": [
    "pick_o = pick('S21', clean_channels, 'HbO')\n",
    "pick_r = pick('S21', clean_channels, 'HbR')\n",
    "pick_00 = pick('S00', clean_channels, 'HbO')"
   ]
  },
  {
   "cell_type": "code",
   "execution_count": null,
   "id": "0efd35d1-da51-4bba-9bf0-59091aa9cce5",
   "metadata": {},
   "outputs": [],
   "source": [
    "pick_o_20 = pick('S20', clean_channels, 'HbO')"
   ]
  },
  {
   "cell_type": "code",
   "execution_count": null,
   "id": "cb995e95-8f1f-4d97-a0f1-1c22f5bb1fcc",
   "metadata": {},
   "outputs": [],
   "source": [
    "snirf_1.data"
   ]
  },
  {
   "cell_type": "code",
   "execution_count": null,
   "id": "399c1500-6784-4dc5-9d24-ba6282ad4f06",
   "metadata": {},
   "outputs": [],
   "source": [
    "data_pick_right = pick_data(data_avg_right, pick_o)\n",
    "data_pick_right_r = pick_data(data_avg_right, pick_r)\n",
    "data_pick_left = pick_data(data_avg_left, pick_o)\n",
    "data_pick_left_r = pick_data(data_avg_left, pick_r)\n",
    "data_pick_rest = pick_data(data_avg_rest, pick_o)"
   ]
  },
  {
   "cell_type": "code",
   "execution_count": null,
   "id": "641dbe23-1fbe-484f-b5a3-1a018ae23bab",
   "metadata": {},
   "outputs": [],
   "source": [
    "plot_signal_pick(data_avg_left, pick_00, 'left')\n",
    "plot_signal_pick(data_avg_rest, pick_00, 'rest')\n",
    "plot_signal_pick(data_avg_right, pick_00, 'right')"
   ]
  },
  {
   "cell_type": "code",
   "execution_count": null,
   "id": "c8e7069d-526f-4128-a61c-bf717f27893f",
   "metadata": {},
   "outputs": [],
   "source": [
    "plot_signal_pick(data_avg_left, pick_o, 'left')\n",
    "plot_signal_pick(data_avg_rest, pick_o, 'rest')\n",
    "plot_signal_pick(data_avg_right, pick_o, 'right')"
   ]
  },
  {
   "cell_type": "code",
   "execution_count": null,
   "id": "a638ae7a-2759-49a9-88ab-ba562f5cbefc",
   "metadata": {},
   "outputs": [],
   "source": [
    "plot_signal_pick(data_avg_right, pick_o_20, '20')\n",
    "plot_signal_pick(data_avg_right, pick_o, '21')"
   ]
  },
  {
   "cell_type": "code",
   "execution_count": null,
   "id": "a803b313-388f-4d31-aaa2-57bec171aff6",
   "metadata": {},
   "outputs": [],
   "source": [
    "plot_signal_pick(data_avg_left, pick_o_20, '20')\n",
    "plot_signal_pick(data_avg_left, pick_o, '21')"
   ]
  },
  {
   "cell_type": "code",
   "execution_count": null,
   "id": "4fb0d9bc-2a6f-40ac-95a3-ac017a63965f",
   "metadata": {},
   "outputs": [],
   "source": [
    "plot_signal_pick(data_avg_right, pick_o, 'o')\n",
    "plot_signal_pick(data_avg_right, pick_r, 'r')"
   ]
  },
  {
   "cell_type": "code",
   "execution_count": null,
   "id": "b4a4b787-896d-4ddd-95f6-870063931ce0",
   "metadata": {},
   "outputs": [],
   "source": [
    "plot_signal_pick(data_avg_left, pick_o, 'o')\n",
    "plot_signal_pick(data_avg_left, pick_r, 'r')"
   ]
  },
  {
   "cell_type": "code",
   "execution_count": null,
   "id": "b6fa34ee-2968-4bd1-949c-1815e493c3c8",
   "metadata": {},
   "outputs": [],
   "source": [
    "plot_signal_pick(data_avg_right, pick_o, 'o')\n",
    "plot_signal_pick(data_avg_right, pick_r, 'r')"
   ]
  },
  {
   "cell_type": "code",
   "execution_count": null,
   "id": "b53caa19-4e8d-4549-a6db-01ce14799989",
   "metadata": {},
   "outputs": [],
   "source": [
    "plot_signal_pick(data_avg_right, pick_o, 'right')\n",
    "plot_signal_pick(data_avg_left, pick_o, 'left')"
   ]
  },
  {
   "cell_type": "code",
   "execution_count": null,
   "id": "aaea7771-370a-4a33-baee-10bbd9d45062",
   "metadata": {},
   "outputs": [],
   "source": [
    "plot_signal_pick(data_avg_left - data_avg_rest[:, :107] , pick_o, 'left')\n",
    "plot_signal_pick(data_avg_right - data_avg_rest[:, :np.shape(data_avg_right)[1]], pick_o, 'right')\n",
    "# plot_signal_pick(data_avg_rest[:, :107], pick_o, 'rest')"
   ]
  },
  {
   "cell_type": "code",
   "execution_count": null,
   "id": "1aa117ad-9acc-4256-bb25-affcf844a83a",
   "metadata": {},
   "outputs": [],
   "source": [
    "from scipy.stats import ttest_ind"
   ]
  },
  {
   "cell_type": "code",
   "execution_count": null,
   "id": "31fdaef2-6db0-412a-ae72-daff0607a9f8",
   "metadata": {},
   "outputs": [],
   "source": [
    "np.array([[1, 2, 3], [3, 4, 5]]).shape"
   ]
  },
  {
   "cell_type": "code",
   "execution_count": null,
   "id": "9c8abfde-a571-46a1-af8f-b9f040abac5a",
   "metadata": {},
   "outputs": [],
   "source": [
    "stats, p_values = ttest_ind(data_pick_left[:, :107], data_pick_right[:, :107], axis=1)"
   ]
  },
  {
   "cell_type": "code",
   "execution_count": null,
   "id": "e620450b-aabb-452c-a143-b7dd66885bab",
   "metadata": {},
   "outputs": [],
   "source": [
    "plt.bar(clean_channels[pick_o],  p_values)\n",
    "plt.xticks(rotation = -89)\n",
    "plt.show()"
   ]
  },
  {
   "cell_type": "code",
   "execution_count": null,
   "id": "c156a519-4845-4326-8449-15c5314c993b",
   "metadata": {},
   "outputs": [],
   "source": [
    "# plot_signal(np.mean(data_avg_left[indexes], axis=0), 'meh')"
   ]
  },
  {
   "cell_type": "code",
   "execution_count": null,
   "id": "e4dd6ab8-ad3f-432a-9938-3cf43ff9dfbe",
   "metadata": {},
   "outputs": [],
   "source": [
    "plt.plot(data_avg_right[0, :])\n",
    "plt.plot(data_avg_right[2, :])\n",
    "plt.xticks(np.linspace(0, len(data_avg_right[0, :]), 10), (np.linspace(0, len(data_avg_right[0, :]), 10)/sampling_rate).round().astype(int))\n",
    "plt.show()"
   ]
  },
  {
   "cell_type": "code",
   "execution_count": null,
   "id": "db9b8edd-6fe1-488c-930d-e2c71b65a37e",
   "metadata": {},
   "outputs": [],
   "source": [
    "print(data_right.shape)\n",
    "print(data_avg_right.shape)"
   ]
  },
  {
   "cell_type": "code",
   "execution_count": null,
   "id": "2ce4636f-4eaf-453b-8bf8-59d5dd905fce",
   "metadata": {},
   "outputs": [],
   "source": [
    "print(data_left.shape)\n",
    "print(data_avg_left.shape)"
   ]
  },
  {
   "cell_type": "code",
   "execution_count": null,
   "id": "15ec2dc3-7eca-4ee3-9039-dfcc0b86b872",
   "metadata": {},
   "outputs": [],
   "source": [
    "signal_right = np.mean(data_avg_right, axis = 0)\n",
    "signal_left = np.mean(data_avg_left, axis = 0)\n",
    "# signal_rest = np.mean(data_avg_rest, axis = 0)"
   ]
  },
  {
   "cell_type": "code",
   "execution_count": null,
   "id": "9306ecaf-df08-494b-844d-2c64f891d3b2",
   "metadata": {},
   "outputs": [],
   "source": [
    "plt.figure(figsize=(25, 10))\n",
    "plot_signal(signal_right, 'right')\n",
    "plot_signal(signal_left, 'left')\n",
    "# plot_signal(signal_rest, 'rest')\n",
    "# plt.legend()\n",
    "plt.show()"
   ]
  },
  {
   "cell_type": "code",
   "execution_count": null,
   "id": "974ea240-b035-4a24-bbb9-78b10d1cc331",
   "metadata": {},
   "outputs": [],
   "source": [
    "np.linspace(0, 10, 2)"
   ]
  },
  {
   "cell_type": "markdown",
   "id": "f4e256eb-8c92-44b4-bff3-7162372362bd",
   "metadata": {},
   "source": [
    "# Filter"
   ]
  },
  {
   "cell_type": "code",
   "execution_count": null,
   "id": "92ca9bd8-1483-4407-9299-59034569d105",
   "metadata": {},
   "outputs": [],
   "source": [
    "filtered_data = gaussian_filter1d(clean_data, 5, axis=1)"
   ]
  },
  {
   "cell_type": "code",
   "execution_count": null,
   "id": "bb046aad-7c48-41bb-bfc8-b1c7c12abe9d",
   "metadata": {},
   "outputs": [],
   "source": [
    "filtered_data.shape"
   ]
  },
  {
   "cell_type": "code",
   "execution_count": null,
   "id": "b986c00c-f66f-4a80-9117-51e175ec06f5",
   "metadata": {},
   "outputs": [],
   "source": []
  },
  {
   "cell_type": "code",
   "execution_count": null,
   "id": "edf83d13-535b-4618-9637-4e9042a303ef",
   "metadata": {},
   "outputs": [],
   "source": []
  },
  {
   "cell_type": "code",
   "execution_count": null,
   "id": "a69af66e-548e-4716-a26c-0f1275fe8711",
   "metadata": {},
   "outputs": [],
   "source": []
  },
  {
   "cell_type": "markdown",
   "id": "ed8662fb-519a-44cb-a8a1-b95709c6d5e2",
   "metadata": {},
   "source": [
    "# Classify"
   ]
  },
  {
   "cell_type": "code",
   "execution_count": null,
   "id": "a43e3ccb-a6a7-4d7c-a03a-3deeec08e3ef",
   "metadata": {},
   "outputs": [],
   "source": [
    "data_right_filt, data_avg_right_filt = plot(snirf, filtered_data, events, sampling_rate, 'Right')\n",
    "data_left_filt, data_avg_left_filt = plot(snirf, filtered_data, events, sampling_rate, 'Left')"
   ]
  },
  {
   "cell_type": "code",
   "execution_count": null,
   "id": "24115908-49f6-4f93-8fc7-427995e5438f",
   "metadata": {},
   "outputs": [],
   "source": [
    "data_right_filt.shape"
   ]
  },
  {
   "cell_type": "code",
   "execution_count": null,
   "id": "2446eed0-8551-40d8-a7fa-47bf75d52fa7",
   "metadata": {},
   "outputs": [],
   "source": [
    "def make_window(data, index, window_length):\n",
    "    wind = data[:, :, index: index+window_length]\n",
    "    return wind"
   ]
  },
  {
   "cell_type": "code",
   "execution_count": null,
   "id": "7d8d8e85-bed5-4c51-a1d1-8dd5648b02bf",
   "metadata": {},
   "outputs": [],
   "source": [
    "def window_to_feature(window):\n",
    "    [times, channels, points] = np.shape(window)\n",
    "    # features = np.ones((times, channels * 3))\n",
    "    _mean = np.mean(window, axis = 2)\n",
    "    _min = np.min(window, axis = 2)\n",
    "    _max = np.max(window, axis = 2)\n",
    "    features = np.hstack((_mean, _min, _max))\n",
    "    # features[:, 3:] = data[:]\n",
    "    return features"
   ]
  },
  {
   "cell_type": "code",
   "execution_count": null,
   "id": "ebeb276c-0766-4c52-8d9d-7fdfb8a54ba0",
   "metadata": {},
   "outputs": [],
   "source": [
    "def make_x_y(features):\n",
    "    shape = np.shape(features)\n",
    "    X = np.vstack(features)\n",
    "    y = np.hstack([(i+1) * np.ones(shape[1]) for i in range(len(features))])\n",
    "    return X, y"
   ]
  },
  {
   "cell_type": "code",
   "execution_count": null,
   "id": "d6054d7a-4760-4971-bc0a-121f7254fd4a",
   "metadata": {},
   "outputs": [],
   "source": [
    "def classify(X, y):\n",
    "    # clf = SVC(kernel='linear', C=1, random_state=42)\n",
    "    clf = MLPClassifier(random_state=1, max_iter=10000)\n",
    "    # clf = OneVsRestClassifier(SVC())#.fit(X, y)\n",
    "    scores = cross_val_score(clf, X, y, cv=5)\n",
    "    return scores"
   ]
  },
  {
   "cell_type": "code",
   "execution_count": null,
   "id": "dc14bfa9-79fa-4a71-a184-a65fef2f005a",
   "metadata": {},
   "outputs": [],
   "source": [
    "s_freq = snirf.info['sfreq']\n",
    "window_length = int(1 * s_freq)\n",
    "max_index = int(10 * s_freq)\n",
    "scores_all = np.zeros((max_index))\n",
    "picks_21 = pick('S21', clean_channels, 'HbO')\n",
    "picks_20 = pick('S20', clean_channels, 'HbO')\n",
    "picks_22 = pick('S22', clean_channels, 'HbO')\n",
    "picks = np.hstack(( picks_22))\n",
    "for i in range(max_index):\n",
    "    window_left = make_window(data_left_filt[:, picks, :], i, window_length)\n",
    "    window_right = make_window(data_right_filt[:, picks, :], i, window_length)\n",
    "    feature_left = window_to_feature(window_left)\n",
    "    feature_right = window_to_feature(window_right)\n",
    "    X, y = make_x_y([feature_left, feature_right])\n",
    "    scores = classify(X, y)\n",
    "    scores_all [i] = scores.mean()"
   ]
  },
  {
   "cell_type": "code",
   "execution_count": null,
   "id": "7ad0b27b-fd32-4cf8-b028-f123c6cc0574",
   "metadata": {},
   "outputs": [],
   "source": [
    "plot_signal(scores_all, 'accuracy')"
   ]
  },
  {
   "cell_type": "code",
   "execution_count": null,
   "id": "f02375af-41f4-4be4-b7d2-3b9afe4d0fa1",
   "metadata": {},
   "outputs": [],
   "source": [
    "y"
   ]
  },
  {
   "cell_type": "code",
   "execution_count": null,
   "id": "195f19fb-a021-42f4-b9b9-44287e6c4bb6",
   "metadata": {},
   "outputs": [],
   "source": []
  },
  {
   "cell_type": "markdown",
   "id": "d07e9241-b0c5-4e4e-aa43-f359999c0018",
   "metadata": {},
   "source": [
    "# T Test"
   ]
  },
  {
   "cell_type": "code",
   "execution_count": null,
   "id": "036eb6ae-4eaa-4dcb-9755-19a3e1f1a219",
   "metadata": {},
   "outputs": [],
   "source": [
    "np.nanmean(data_right, axis= 2)"
   ]
  },
  {
   "cell_type": "code",
   "execution_count": null,
   "id": "eaf1b67b-00a9-479f-95cf-a41283f63273",
   "metadata": {},
   "outputs": [],
   "source": [
    "mean_time_right = np.nanmean(( data_right), axis = 2)\n",
    "mean_time_left = np.nanmean((data_left), axis = 2)"
   ]
  },
  {
   "cell_type": "code",
   "execution_count": null,
   "id": "75e854ad-a01d-4b87-99ce-87e2413b143b",
   "metadata": {},
   "outputs": [],
   "source": [
    "mean_time_right"
   ]
  },
  {
   "cell_type": "code",
   "execution_count": null,
   "id": "3ee0ed14-b030-487a-b312-f81d60ee530d",
   "metadata": {},
   "outputs": [],
   "source": [
    "mean_time_right = drop_nan(mean_time_right)\n",
    "mean_time_left = drop_nan(mean_time_left)"
   ]
  },
  {
   "cell_type": "code",
   "execution_count": null,
   "id": "7bb64b38-1d0a-4cc7-ba90-1d22b0af4554",
   "metadata": {},
   "outputs": [],
   "source": [
    "mean_time_left"
   ]
  },
  {
   "cell_type": "code",
   "execution_count": null,
   "id": "03f0a74f-b87c-4fe2-b81b-43e9fef8b138",
   "metadata": {},
   "outputs": [],
   "source": [
    "mean_chan_right = np.mean(mean_time_right, axis= 1)\n",
    "mean_chan_left = np.mean(mean_time_left, axis= 1)"
   ]
  },
  {
   "cell_type": "code",
   "execution_count": null,
   "id": "61af80a0-05f8-4bfa-863f-b2db4747d3df",
   "metadata": {},
   "outputs": [],
   "source": [
    "mean_chan_left"
   ]
  },
  {
   "cell_type": "code",
   "execution_count": null,
   "id": "5694b921-f49c-4275-82f1-d986b6da4960",
   "metadata": {},
   "outputs": [],
   "source": [
    "from scipy.stats import ttest_ind"
   ]
  },
  {
   "cell_type": "code",
   "execution_count": null,
   "id": "83a8849b-52f3-4bff-90cb-48db25ceca23",
   "metadata": {},
   "outputs": [],
   "source": [
    "ttest_ind(mean_chan_right, mean_chan_left)"
   ]
  },
  {
   "cell_type": "code",
   "execution_count": null,
   "id": "25a5aa47-97f6-4646-80c9-50fed2b1c615",
   "metadata": {},
   "outputs": [],
   "source": [
    "mean_chan_left.shape"
   ]
  },
  {
   "cell_type": "code",
   "execution_count": null,
   "id": "487d64c6-112e-4063-b4db-33838a014b2f",
   "metadata": {},
   "outputs": [],
   "source": [
    "def drop_nan(data):\n",
    "    clean = data[np.sum(np.isnan(data), axis=1) == 0]\n",
    "    return clean"
   ]
  },
  {
   "cell_type": "code",
   "execution_count": null,
   "id": "9d75f166-bbef-4db0-b062-84ab5722b54f",
   "metadata": {},
   "outputs": [],
   "source": [
    "tmp = np.mean(drop_nan(data_avg_rest), axis = 0)"
   ]
  },
  {
   "cell_type": "code",
   "execution_count": null,
   "id": "43cb3688-fb83-4f2f-b6e4-6c6576f1eaf9",
   "metadata": {},
   "outputs": [],
   "source": [
    "plt.plot((np.mean(drop_nan(data_avg_left), axis=0) ), label='Left')\n",
    "plt.plot((np.mean(drop_nan(data_avg_right), axis= 0)), label='Right')\n",
    "plt.plot(np.mean(drop_nan(data_avg_rest), axis = 0) , label='Rest')\n",
    "plt.legend()\n",
    "plt.title('Both')\n",
    "plt.show()"
   ]
  },
  {
   "cell_type": "code",
   "execution_count": null,
   "id": "9b9efe82-fb92-4600-8b43-7b1b5550c702",
   "metadata": {},
   "outputs": [],
   "source": [
    "channel_names = [x['ch_name'] for x in snirf.info['chs']]\n",
    "is_hbo = np.array([1 if channel_name.endswith(\n",
    "       'HbO') else 0 for channel_name in channel_names], dtype=bool)"
   ]
  },
  {
   "cell_type": "code",
   "execution_count": null,
   "id": "4acbb846-a38d-4c47-80db-0a69fbe46d75",
   "metadata": {},
   "outputs": [],
   "source": [
    "plt.plot(np.mean(drop_nan(data_avg_left[is_hbo]), axis=0), label='Left')\n",
    "plt.plot(np.mean(drop_nan(data_avg_right[is_hbo]), axis= 0), label='Right')\n",
    "plt.plot(np.mean(drop_nan(data_avg_rest[is_hbo]), axis = 0), label='Rest')\n",
    "plt.legend()\n",
    "plt.title('HBO')\n",
    "plt.show()"
   ]
  },
  {
   "cell_type": "code",
   "execution_count": null,
   "id": "0d911419-810d-4308-96a5-11f5eae910ef",
   "metadata": {},
   "outputs": [],
   "source": [
    "plt.plot(np.mean(drop_nan(data_avg_left[~is_hbo]), axis=0), label='Left')\n",
    "plt.plot(np.mean(drop_nan(data_avg_right[~is_hbo]), axis= 0), label='Right')\n",
    "plt.plot(np.mean(drop_nan(data_avg_rest[~is_hbo]), axis = 0), label='Rest')\n",
    "plt.legend()\n",
    "plt.title('HBR')\n",
    "plt.show()"
   ]
  },
  {
   "cell_type": "code",
   "execution_count": null,
   "id": "fe4e331d-b9f1-49c1-b1f1-1b8be2778cc2",
   "metadata": {},
   "outputs": [],
   "source": [
    "np.mean(data_avg_left, axis=0)"
   ]
  },
  {
   "cell_type": "code",
   "execution_count": null,
   "id": "6566dbcd-1c46-4327-ada1-6ae15e02c382",
   "metadata": {},
   "outputs": [],
   "source": [
    "duration_right = get_duration(events_right)\n",
    "start_index_right = get_start_indexes(events_right, 8.26)"
   ]
  },
  {
   "cell_type": "code",
   "execution_count": null,
   "id": "21e5e567-656f-41d6-b707-78867dba64e1",
   "metadata": {},
   "outputs": [],
   "source": [
    "data_right = np.array([data[:, start_index:start_index + duration_right] for start_index in start_index_right])"
   ]
  },
  {
   "cell_type": "code",
   "execution_count": null,
   "id": "c3cbb430-f50c-4456-8f9f-54f36949c8fd",
   "metadata": {},
   "outputs": [],
   "source": [
    "data_right_avg = np.mean(data_right, axis=0)"
   ]
  },
  {
   "cell_type": "code",
   "execution_count": null,
   "id": "0d0384fc-ecab-44b0-8d6c-c7e459c3d324",
   "metadata": {},
   "outputs": [],
   "source": [
    "plot(snirf, data_right_avg, duration_right)"
   ]
  },
  {
   "cell_type": "code",
   "execution_count": null,
   "id": "71c729c2-28a1-4906-bfc6-80d087153ee2",
   "metadata": {},
   "outputs": [],
   "source": []
  }
 ],
 "metadata": {
  "kernelspec": {
   "display_name": "Python 3 (ipykernel)",
   "language": "python",
   "name": "python3"
  },
  "language_info": {
   "codemirror_mode": {
    "name": "ipython",
    "version": 3
   },
   "file_extension": ".py",
   "mimetype": "text/x-python",
   "name": "python",
   "nbconvert_exporter": "python",
   "pygments_lexer": "ipython3",
   "version": "3.8.10"
  }
 },
 "nbformat": 4,
 "nbformat_minor": 5
}
