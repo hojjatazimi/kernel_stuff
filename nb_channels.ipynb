{
 "cells": [
  {
   "cell_type": "code",
   "execution_count": 1,
   "id": "5520ab00-b6d6-4752-899a-0f4253219b7d",
   "metadata": {},
   "outputs": [],
   "source": [
    "import numpy as np\n",
    "import pandas as pd\n",
    "from mne.io.snirf import read_raw_snirf\n",
    "from matplotlib import pyplot as plt"
   ]
  },
  {
   "cell_type": "code",
   "execution_count": 2,
   "id": "10b03341-12ad-47d2-9445-f06349c2db7d",
   "metadata": {},
   "outputs": [],
   "source": [
    "path_to_snirf = '../data_hojjat/dec_nef/2/test_001_S001_7d1123e_5.snirf'"
   ]
  },
  {
   "cell_type": "code",
   "execution_count": 3,
   "id": "3d1845fa-f3d0-4aa5-9b16-9f17acab863f",
   "metadata": {},
   "outputs": [
    {
     "name": "stdout",
     "output_type": "stream",
     "text": [
      "Loading /home/kernel/Desktop/py_test/project/data_hojjat/dec_nef/2/test_001_S001_7d1123e_5.snirf\n"
     ]
    },
    {
     "name": "stderr",
     "output_type": "stream",
     "text": [
      "/home/kernel/Desktop/py_test/project/venv/lib/python3.8/site-packages/mne/utils/check.py:91: DeprecationWarning: distutils Version classes are deprecated. Use packaging.version instead.\n",
      "  LooseVersion(library.__version__) < LooseVersion(min_version):\n",
      "/home/kernel/Desktop/py_test/project/venv/lib/python3.8/site-packages/mne/utils/check.py:91: DeprecationWarning: distutils Version classes are deprecated. Use packaging.version instead.\n",
      "  LooseVersion(library.__version__) < LooseVersion(min_version):\n",
      "/home/kernel/Desktop/py_test/project/venv/lib/python3.8/site-packages/mne/externals/pymatreader/pymatreader.py:34: DeprecationWarning: Please use `get_matfile_version` from the `scipy.io.matlab` namespace, the `scipy.io.matlab.miobase` namespace is deprecated.\n",
      "  from scipy.io.matlab.miobase import get_matfile_version\n"
     ]
    }
   ],
   "source": [
    "snirf = read_raw_snirf(path_to_snirf)"
   ]
  },
  {
   "cell_type": "code",
   "execution_count": null,
   "id": "328e1c7e-1dcd-4ac8-8be0-bbed791f715b",
   "metadata": {},
   "outputs": [],
   "source": [
    "print(type(snirf))\n",
    "snirf"
   ]
  },
  {
   "cell_type": "code",
   "execution_count": 4,
   "id": "a9908553-2f47-4edf-bafb-87fbf7e28649",
   "metadata": {},
   "outputs": [
    {
     "data": {
      "text/plain": [
       "{'loc': array([0.02949148, 0.08186915, 0.01805891, 0.02865886, 0.08452124,\n",
       "        0.00474675, 0.03032409, 0.07921707, 0.03137108, 1.        ,\n",
       "               nan,        nan]),\n",
       " 'unit_mul': 0 (FIFF_UNITM_NONE),\n",
       " 'range': 1.0,\n",
       " 'cal': 1.0,\n",
       " 'kind': 1100 (FIFFV_FNIRS_CH),\n",
       " 'coil_type': 308 (FIFFV_COIL_FNIRS_PROCESSED),\n",
       " 'unit': 107 (FIFF_UNIT_V),\n",
       " 'coord_frame': 0 (FIFFV_COORD_UNKNOWN),\n",
       " 'ch_name': 'S00_D04d2 HbO',\n",
       " 'scanno': 35,\n",
       " 'logno': 35}"
      ]
     },
     "execution_count": 4,
     "metadata": {},
     "output_type": "execute_result"
    }
   ],
   "source": [
    "snirf.info['chs'][68]"
   ]
  },
  {
   "cell_type": "code",
   "execution_count": null,
   "id": "796cfbd4-4aa9-4465-b0bb-f844ce989fd0",
   "metadata": {},
   "outputs": [],
   "source": [
    "channel_names = [x['ch_name'] for x in snirf.info['chs']]"
   ]
  },
  {
   "cell_type": "code",
   "execution_count": null,
   "id": "317f1d3a-71b4-4e22-92ca-3a5567b24fad",
   "metadata": {},
   "outputs": [],
   "source": [
    "len(np.array(channel_names))"
   ]
  },
  {
   "cell_type": "code",
   "execution_count": null,
   "id": "54825999-9560-40e8-ba5c-f80da6cf210b",
   "metadata": {},
   "outputs": [],
   "source": [
    "channels_df = pd.DataFrame(columns=['sender', 'receiver', 'wave_length', 'moment'])"
   ]
  },
  {
   "cell_type": "code",
   "execution_count": null,
   "id": "006c7484-b44f-451c-b577-267e72d9116b",
   "metadata": {},
   "outputs": [],
   "source": [
    "senders = [x[:3] for x in channel_names]\n",
    "receivers = [x[4:9] for x in channel_names]\n",
    "wave_lengths = [x[10:13] for x in channel_names]\n",
    "moments = [x[14:] for x in channel_names]"
   ]
  },
  {
   "cell_type": "code",
   "execution_count": null,
   "id": "3b933ea1-1728-47ba-b2ac-2a389c91f4bd",
   "metadata": {},
   "outputs": [],
   "source": [
    "channels_df['sender'] = senders\n",
    "channels_df['receiver'] = receivers\n",
    "channels_df['wave_length'] = wave_lengths\n",
    "channels_df['moment'] = moments"
   ]
  },
  {
   "cell_type": "code",
   "execution_count": null,
   "id": "aa3a4a3f-5179-41c5-8f01-20c4f417f7ef",
   "metadata": {},
   "outputs": [],
   "source": [
    "channels_df.head()"
   ]
  },
  {
   "cell_type": "code",
   "execution_count": null,
   "id": "50f60de6-d2d7-4536-9204-2a9e6088bedc",
   "metadata": {},
   "outputs": [],
   "source": [
    "plt.hist(channels_df.groupby('sender')['receiver'].count())\n",
    "plt.show()"
   ]
  },
  {
   "cell_type": "code",
   "execution_count": null,
   "id": "0f5e4425-2241-47cf-9a49-723ec76cba31",
   "metadata": {},
   "outputs": [],
   "source": [
    "plt.hist([len(x) for x in (channels_df.groupby('sender')['wave_length'].unique())])\n",
    "plt.show()"
   ]
  },
  {
   "cell_type": "code",
   "execution_count": null,
   "id": "75b7969b-83d4-4402-9a34-2041e6e13132",
   "metadata": {},
   "outputs": [],
   "source": [
    "plt.hist([len(x) for x in (channels_df.groupby('sender')['moment'].unique())])\n",
    "plt.show()"
   ]
  },
  {
   "cell_type": "code",
   "execution_count": null,
   "id": "b73bd372-c8f5-456e-93ee-25eb40badd02",
   "metadata": {},
   "outputs": [],
   "source": []
  }
 ],
 "metadata": {
  "kernelspec": {
   "display_name": "Python 3 (ipykernel)",
   "language": "python",
   "name": "python3"
  },
  "language_info": {
   "codemirror_mode": {
    "name": "ipython",
    "version": 3
   },
   "file_extension": ".py",
   "mimetype": "text/x-python",
   "name": "python",
   "nbconvert_exporter": "python",
   "pygments_lexer": "ipython3",
   "version": "3.8.10"
  }
 },
 "nbformat": 4,
 "nbformat_minor": 5
}
