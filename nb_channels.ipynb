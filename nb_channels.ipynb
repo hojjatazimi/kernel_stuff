{
 "cells": [
  {
   "cell_type": "code",
   "execution_count": null,
   "id": "5520ab00-b6d6-4752-899a-0f4253219b7d",
   "metadata": {},
   "outputs": [],
   "source": [
    "import numpy as np\n",
    "import pandas as pd\n",
    "from mne.io.snirf import read_raw_snirf\n",
    "from matplotlib import pyplot as plt"
   ]
  },
  {
   "cell_type": "code",
   "execution_count": null,
   "id": "10b03341-12ad-47d2-9445-f06349c2db7d",
   "metadata": {},
   "outputs": [],
   "source": [
    "path_to_snirf = './data_hojjat/dec_nef/test_001_S001_4e1faca_3.snirf'"
   ]
  },
  {
   "cell_type": "code",
   "execution_count": null,
   "id": "3d1845fa-f3d0-4aa5-9b16-9f17acab863f",
   "metadata": {},
   "outputs": [
    {
     "name": "stdout",
     "output_type": "stream",
     "text": [
      "Loading /home/kernel/Desktop/py_test/project/data_hojjat/dec_nef/test_001_S001_4e1faca_5.snirf\n"
     ]
    },
    {
     "name": "stderr",
     "output_type": "stream",
     "text": [
      "/tmp/ipykernel_6457/1192344701.py:1: RuntimeWarning: Omitted 489 annotation(s) that were outside data range.\n",
      "  snirf = read_raw_snirf(path_to_snirf)\n",
      "/tmp/ipykernel_6457/1192344701.py:1: RuntimeWarning: Limited 1 annotation(s) that were expanding outside the data range.\n",
      "  snirf = read_raw_snirf(path_to_snirf)\n"
     ]
    }
   ],
   "source": [
    "snirf = read_raw_snirf(path_to_snirf)"
   ]
  },
  {
   "cell_type": "code",
   "execution_count": null,
   "id": "328e1c7e-1dcd-4ac8-8be0-bbed791f715b",
   "metadata": {},
   "outputs": [
    {
     "name": "stdout",
     "output_type": "stream",
     "text": [
      "<class 'mne.io.snirf._snirf.RawSNIRF'>\n"
     ]
    },
    {
     "data": {
      "text/html": [
       "\n",
       "\n",
       "<table class=\"table table-hover\">\n",
       "    <tr>\n",
       "        <th>Measurement date</th>\n",
       "        <td>February 18, 2022  01:53:34 GMT</td>\n",
       "        \n",
       "    </tr>\n",
       "    <tr>\n",
       "        <th>Experimenter</th>\n",
       "<td>Unknown</td>\n",
       "    </tr>\n",
       "        <th>Participant</th>\n",
       "        \n",
       "    </tr>\n",
       "    <tr>\n",
       "        <th>Digitized points</th>\n",
       "        <td>4415 points</td>\n",
       "    </tr>\n",
       "    <tr>\n",
       "        <th>Good channels</th>\n",
       "        <td>0 magnetometer, 0 gradiometer,\n",
       "            0 EEG channels, and 4412 fNIRS channels.</td>\n",
       "    </tr>\n",
       "    <tr>\n",
       "        <th>Bad channels</th>\n",
       "        <td></td>\n",
       "        \n",
       "    </tr>\n",
       "    <tr>\n",
       "        <th>EOG channels</th>\n",
       "        <td>Not available</td>\n",
       "    </tr>\n",
       "    <tr>\n",
       "        <th>ECG channels</th>\n",
       "        <td>Not available</td>\n",
       "    <tr>\n",
       "        <th>Sampling frequency</th>\n",
       "        <td>7.14 Hz</td>\n",
       "    </tr>\n",
       "    <tr>\n",
       "        <th>Highpass</th>\n",
       "        <td>0.00 Hz</td>\n",
       "    </tr>\n",
       "    <tr>\n",
       "        <th>Lowpass</th>\n",
       "        <td>3.57 Hz</td>\n",
       "    </tr>\n",
       "\n",
       "    <tr>\n",
       "        <th>Filenames</th>\n",
       "        <td>test_001_S001_4e1faca_5.snirf</td>\n",
       "    </tr>\n",
       "    <tr>\n",
       "        <th>Duration</th>\n",
       "        <td>00:02:24 (HH:MM:SS)</td>\n",
       "    </tr>\n",
       "</table>\n"
      ],
      "text/plain": [
       "<RawSNIRF | test_001_S001_4e1faca_5.snirf, 4412 x 1029 (144.0 s), ~5.9 MB, data not loaded>"
      ]
     },
     "execution_count": 17,
     "metadata": {},
     "output_type": "execute_result"
    }
   ],
   "source": [
    "print(type(snirf))\n",
    "snirf"
   ]
  },
  {
   "cell_type": "code",
   "execution_count": null,
   "id": "a9908553-2f47-4edf-bafb-87fbf7e28649",
   "metadata": {},
   "outputs": [
    {
     "data": {
      "text/plain": [
       "{'loc': array([ 3.14212976e-02,  8.41843657e-02,  6.62487267e-04,  2.86588627e-02,\n",
       "         8.45212371e-02,  4.74674661e-03,  3.41837326e-02,  8.38474944e-02,\n",
       "        -3.42177208e-03,  1.00000000e+00,             nan,             nan]),\n",
       " 'unit_mul': 0 (FIFF_UNITM_NONE),\n",
       " 'range': 1.0,\n",
       " 'cal': 1.0,\n",
       " 'kind': 1100 (FIFFV_FNIRS_CH),\n",
       " 'coil_type': 308 (FIFFV_COIL_FNIRS_PROCESSED),\n",
       " 'unit': 107 (FIFF_UNIT_V),\n",
       " 'coord_frame': 0 (FIFFV_COORD_UNKNOWN),\n",
       " 'ch_name': 'S00_D00d0 HbO',\n",
       " 'scanno': 1,\n",
       " 'logno': 1}"
      ]
     },
     "execution_count": 18,
     "metadata": {},
     "output_type": "execute_result"
    }
   ],
   "source": [
    "snirf.info['chs'][0]"
   ]
  },
  {
   "cell_type": "code",
   "execution_count": null,
   "id": "796cfbd4-4aa9-4465-b0bb-f844ce989fd0",
   "metadata": {},
   "outputs": [],
   "source": [
    "channel_names = [x['ch_name'] for x in snirf.info['chs']]"
   ]
  },
  {
   "cell_type": "code",
   "execution_count": null,
   "id": "317f1d3a-71b4-4e22-92ca-3a5567b24fad",
   "metadata": {},
   "outputs": [
    {
     "data": {
      "text/plain": [
       "array(['S00_D00d0 690 moment0', 'S00_D00d0 690 moment1',\n",
       "       'S00_D00d0 690 moment2', ..., 'S51_D51d5 850 moment0',\n",
       "       'S51_D51d5 850 moment1', 'S51_D51d5 850 moment2'], dtype='<U21')"
      ]
     },
     "execution_count": 7,
     "metadata": {},
     "output_type": "execute_result"
    }
   ],
   "source": [
    "np.array(channel_names)"
   ]
  },
  {
   "cell_type": "code",
   "execution_count": null,
   "id": "54825999-9560-40e8-ba5c-f80da6cf210b",
   "metadata": {},
   "outputs": [],
   "source": [
    "channels_df = pd.DataFrame(columns=['sender', 'receiver', 'wave_length', 'moment'])"
   ]
  },
  {
   "cell_type": "code",
   "execution_count": null,
   "id": "006c7484-b44f-451c-b577-267e72d9116b",
   "metadata": {},
   "outputs": [],
   "source": [
    "senders = [x[:3] for x in channel_names]\n",
    "receivers = [x[4:9] for x in channel_names]\n",
    "wave_lengths = [x[10:13] for x in channel_names]\n",
    "moments = [x[14:] for x in channel_names]"
   ]
  },
  {
   "cell_type": "code",
   "execution_count": null,
   "id": "3b933ea1-1728-47ba-b2ac-2a389c91f4bd",
   "metadata": {},
   "outputs": [],
   "source": [
    "channels_df['sender'] = senders\n",
    "channels_df['receiver'] = receivers\n",
    "channels_df['wave_length'] = wave_lengths\n",
    "channels_df['moment'] = moments"
   ]
  },
  {
   "cell_type": "code",
   "execution_count": null,
   "id": "aa3a4a3f-5179-41c5-8f01-20c4f417f7ef",
   "metadata": {},
   "outputs": [
    {
     "data": {
      "text/html": [
       "<div>\n",
       "<style scoped>\n",
       "    .dataframe tbody tr th:only-of-type {\n",
       "        vertical-align: middle;\n",
       "    }\n",
       "\n",
       "    .dataframe tbody tr th {\n",
       "        vertical-align: top;\n",
       "    }\n",
       "\n",
       "    .dataframe thead th {\n",
       "        text-align: right;\n",
       "    }\n",
       "</style>\n",
       "<table border=\"1\" class=\"dataframe\">\n",
       "  <thead>\n",
       "    <tr style=\"text-align: right;\">\n",
       "      <th></th>\n",
       "      <th>sender</th>\n",
       "      <th>receiver</th>\n",
       "      <th>wave_length</th>\n",
       "      <th>moment</th>\n",
       "    </tr>\n",
       "  </thead>\n",
       "  <tbody>\n",
       "    <tr>\n",
       "      <th>0</th>\n",
       "      <td>S00</td>\n",
       "      <td>D00d0</td>\n",
       "      <td>690</td>\n",
       "      <td>moment0</td>\n",
       "    </tr>\n",
       "    <tr>\n",
       "      <th>1</th>\n",
       "      <td>S00</td>\n",
       "      <td>D00d0</td>\n",
       "      <td>690</td>\n",
       "      <td>moment1</td>\n",
       "    </tr>\n",
       "    <tr>\n",
       "      <th>2</th>\n",
       "      <td>S00</td>\n",
       "      <td>D00d0</td>\n",
       "      <td>690</td>\n",
       "      <td>moment2</td>\n",
       "    </tr>\n",
       "    <tr>\n",
       "      <th>3</th>\n",
       "      <td>S00</td>\n",
       "      <td>D00d0</td>\n",
       "      <td>850</td>\n",
       "      <td>moment0</td>\n",
       "    </tr>\n",
       "    <tr>\n",
       "      <th>4</th>\n",
       "      <td>S00</td>\n",
       "      <td>D00d0</td>\n",
       "      <td>850</td>\n",
       "      <td>moment1</td>\n",
       "    </tr>\n",
       "  </tbody>\n",
       "</table>\n",
       "</div>"
      ],
      "text/plain": [
       "  sender receiver wave_length   moment\n",
       "0    S00    D00d0         690  moment0\n",
       "1    S00    D00d0         690  moment1\n",
       "2    S00    D00d0         690  moment2\n",
       "3    S00    D00d0         850  moment0\n",
       "4    S00    D00d0         850  moment1"
      ]
     },
     "execution_count": 11,
     "metadata": {},
     "output_type": "execute_result"
    }
   ],
   "source": [
    "channels_df.head()"
   ]
  },
  {
   "cell_type": "code",
   "execution_count": null,
   "id": "50f60de6-d2d7-4536-9204-2a9e6088bedc",
   "metadata": {},
   "outputs": [],
   "source": [
    "plt.hist(channels_df.groupby('sender')['receiver'].count())\n",
    "plt.show()"
   ]
  },
  {
   "cell_type": "code",
   "execution_count": null,
   "id": "0f5e4425-2241-47cf-9a49-723ec76cba31",
   "metadata": {},
   "outputs": [],
   "source": [
    "plt.hist([len(x) for x in (channels_df.groupby('sender')['wave_length'].unique())])\n",
    "plt.show()"
   ]
  },
  {
   "cell_type": "code",
   "execution_count": null,
   "id": "75b7969b-83d4-4402-9a34-2041e6e13132",
   "metadata": {},
   "outputs": [],
   "source": [
    "plt.hist([len(x) for x in (channels_df.groupby('sender')['moment'].unique())])\n",
    "plt.show()"
   ]
  },
  {
   "cell_type": "code",
   "execution_count": null,
   "id": "b73bd372-c8f5-456e-93ee-25eb40badd02",
   "metadata": {},
   "outputs": [],
   "source": []
  }
 ],
 "metadata": {
  "kernelspec": {
   "display_name": "Python 3 (ipykernel)",
   "language": "python",
   "name": "python3"
  },
  "language_info": {
   "codemirror_mode": {
    "name": "ipython",
    "version": 3
   },
   "file_extension": ".py",
   "mimetype": "text/x-python",
   "name": "python",
   "nbconvert_exporter": "python",
   "pygments_lexer": "ipython3",
   "version": "3.8.10"
  }
 },
 "nbformat": 4,
 "nbformat_minor": 5
}
