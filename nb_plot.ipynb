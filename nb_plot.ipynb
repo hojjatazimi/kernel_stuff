{
 "cells": [
  {
   "cell_type": "markdown",
   "id": "5f55d46a-3f7a-4994-a5c1-477f542bfda8",
   "metadata": {},
   "source": [
    "# Import"
   ]
  },
  {
   "cell_type": "code",
   "execution_count": 1,
   "id": "f40ff57e-b613-462e-8cb2-a6e439f6ba27",
   "metadata": {},
   "outputs": [],
   "source": [
    "from mne.io.snirf import read_raw_snirf\n",
    "from get_events_from_snirf import get_events_from_snirf\n",
    "from matplotlib import pyplot as plt\n",
    "import numpy as np\n",
    "from scipy.ndimage import gaussian_filter1d\n",
    "\n",
    "from sklearn.linear_model import SGDClassifier\n",
    "from sklearn.preprocessing import StandardScaler\n",
    "from sklearn.pipeline import make_pipeline\n",
    "from sklearn.svm import SVC\n",
    "from sklearn.model_selection import cross_val_score\n",
    "from sklearn.neural_network import MLPClassifier\n",
    "from sklearn.multiclass import OneVsRestClassifier"
   ]
  },
  {
   "cell_type": "code",
   "execution_count": 2,
   "id": "aaf2e4b5-9c4d-42e8-9c6f-180040e4cbd8",
   "metadata": {},
   "outputs": [],
   "source": [
    "from give_channels import give_channels"
   ]
  },
  {
   "cell_type": "code",
   "execution_count": 3,
   "id": "99548072-97e5-45e5-b581-35cd84cf41a1",
   "metadata": {},
   "outputs": [],
   "source": [
    "import mne_nirs"
   ]
  },
  {
   "cell_type": "markdown",
   "id": "9a3c0509-49f7-4a52-8c5c-a3fc9f11367b",
   "metadata": {},
   "source": [
    "# Class"
   ]
  },
  {
   "cell_type": "code",
   "execution_count": 4,
   "id": "d9978fef-6176-4e83-8f15-c8cd8809f2de",
   "metadata": {},
   "outputs": [],
   "source": [
    "class SNRF:\n",
    "    def __init__(self, path, hojjat = False):\n",
    "        self.path = path\n",
    "        self.snirf = read_raw_snirf(path)\n",
    "        self.sfreq = self.snirf.info['sfreq']\n",
    "        self.events = get_events_from_snirf(path, hojjat)\n",
    "        self.data = self.snirf.get_data()\n",
    "        self.clean()\n",
    "        self.filt()\n",
    "        # self.data_right, self.data_avg_right = self.plot(self.filtered_data, self.events, 'Right')\n",
    "        # self.data_left, self.data_avg_left = self.plot(self.filtered_data, self.events, 'Left')\n",
    "        # self.data_rest, self.data_avg_rest = self.plot(self.filtered_data, self.events, 'Rest')\n",
    "    \n",
    "    def drop_channels(self, good_channels):\n",
    "        new_data_clean = np.zeros((len(good_channels), self.clean_data.shape[1]))\n",
    "        new_data_filtered = np.zeros((len(good_channels), self.clean_data.shape[1]))\n",
    "        for i, channel in enumerate(good_channels):\n",
    "            index = np.where(self.clean_channels == channel)\n",
    "            new_data_clean[i] = self.clean_data[index]\n",
    "            new_data_filtered[i] = self.clean_data[index]\n",
    "        \n",
    "        self.clean_channels = good_channels\n",
    "        self.clean_data = new_data_clean\n",
    "        self.filtered_data = new_data_filtered\n",
    "    \n",
    "    def clean(self):\n",
    "        nans = np.isnan(self.data)\n",
    "        nans_sum = np.sum(nans, axis=1)\n",
    "        nans_ids = nans_sum > 0\n",
    "        self.clean_data = self.data[~nans_ids, :]\n",
    "        self.clean_channels = np.array(self.snirf.ch_names)[~nans_ids]\n",
    "        \n",
    "    def get_duration(self, events):\n",
    "        duration = events[events['Duration'].round() >0].Duration.min().round().astype(int)\n",
    "        return duration\n",
    "    \n",
    "    def get_block_start_indexes (self):\n",
    "        return (self.events.Timestamp[self.events.Block] * self.sfreq).astype(int).values\n",
    "    \n",
    "    def get_block_labels(self):\n",
    "        return self.events[self.events['Block']]['Label'].values\n",
    "    \n",
    "    def get_start_indexes(self, events):\n",
    "        start_indexes = ((events.Timestamp.values - 5) * self.sfreq).round().astype(int)\n",
    "        return start_indexes\n",
    "    \n",
    "    def get_events_start_block(self, events, label):\n",
    "        if label == 'Rest':\n",
    "            events = events[(events.Duration > 2) & (events.Event == 'StartRest')]\n",
    "        else:\n",
    "            events = events[(events.BlockType == label) & (events.Event == 'StartBlock')]\n",
    "        return events\n",
    "    \n",
    "    def get_window(self, index, start, end):\n",
    "        start = index + int(self.sfreq * start)\n",
    "        end = index + int(self.sfreq * end)\n",
    "        return self.filtered_data[:, start:end]\n",
    "    \n",
    "    def get_block_windows(self, start, end):\n",
    "        return np.array([self.get_window(index, start, end) for index in self.get_block_start_indexes()])\n",
    "    \n",
    "    def get_normalized_block_windows(self, baseline_start, baseline_end, window_start, window_end):\n",
    "        baselines = self.get_block_windows(baseline_start, baseline_end)\n",
    "        windows = self.get_block_windows(window_start, window_end)\n",
    "        \n",
    "        baseline_avg = np.mean(baselines, axis=2)\n",
    "        baseline_std = np.std(baselines, axis=2)\n",
    "        \n",
    "        baseline_avg_rep = np.repeat(baseline_avg[:, :, np.newaxis], windows.shape[2], axis=2)\n",
    "        baseline_std_rep = np.repeat(baseline_std[:, :, np.newaxis], windows.shape[2], axis=2)\n",
    "        \n",
    "        windows = (windows - baseline_avg_rep) / baseline_std_rep\n",
    "        \n",
    "        return windows\n",
    "    \n",
    "    def get_data(self, all_data, start_indexes, duration):\n",
    "        tmp = [all_data[:, start_index:start_index + int(duration*self.sfreq)] for start_index in start_indexes]\n",
    "        # print([np.shape(t) for t in tmp])\n",
    "        data = np.array(tmp)\n",
    "        return data\n",
    "    \n",
    "    def get_data_avg(self, data):\n",
    "        data_avg = np.mean(data, axis=0)\n",
    "        return data_avg\n",
    "    \n",
    "    def plot(self,all_data, all_events, label):\n",
    "        events = self.get_events_start_block(all_events, label)\n",
    "        duration = self.get_duration(events) + (0 if label == 'Rest' else 20 )\n",
    "        start_indexes = self.get_start_indexes(events)\n",
    "        data = self.get_data(all_data, start_indexes, duration)\n",
    "        data_avg = self.get_data_avg(data)\n",
    "        # plt.pcolor( data_avg, shading='auto', cmap='binary')\n",
    "        # _plot(snirf, data_avg, duration)\n",
    "        return data, data_avg\n",
    "    \n",
    "    def filt(self):\n",
    "        self.filtered_data = gaussian_filter1d(self.clean_data, 5, axis=1)\n",
    "        \n",
    "    def find_channels(self, start, channels, o2):\n",
    "        out = [ch for ch in channels if ch.startswith(start) and ch.endswith(o2) ]\n",
    "        out = np.array(out)\n",
    "        return out\n",
    "\n",
    "    def find_channel_indexes(self, channels, filt):\n",
    "        out = [i for i, ch in enumerate(channels) if ch in filt]\n",
    "        out = np.array(out)\n",
    "        return out\n",
    "    \n",
    "    def pick(self, start, o2):\n",
    "        tmp = self.find_channels(start,self.clean_channels, o2)\n",
    "        indexes = self.find_channel_indexes(self.clean_channels, tmp)\n",
    "        return indexes    "
   ]
  },
  {
   "cell_type": "code",
   "execution_count": 5,
   "id": "e83e6839-95a1-4279-81c0-dfc93a28ab23",
   "metadata": {},
   "outputs": [],
   "source": [
    "def plot_signal(signal, label, sigma = 5):\n",
    "    signal_filtered = gaussian_filter1d(signal, sigma)\n",
    "    plt.plot(signal_filtered, label=label)\n",
    "    plt.xticks(np.linspace(0, len(signal), 10), (np.linspace(0, len(signal), 10)/7.14).round().astype(int) - 5)\n",
    "    plt.axvline(x=int(5*7.14))\n",
    "    plt.axhline(y=0)\n",
    "    # plt.fill_betweenx(y=np.linspace(np.min(signal), np.max(signal), 100), x1=int(5*7.14), x2=int(20*7.14), alpha=.5, color='skyblue')\n",
    "    plt.legend()"
   ]
  },
  {
   "cell_type": "code",
   "execution_count": 6,
   "id": "04885bc5-3cc4-4c1d-8707-c8afddc3b2da",
   "metadata": {},
   "outputs": [],
   "source": [
    "def plot_base(signal, sfreq, label):\n",
    "    tmp = np.mean(signal, axis=0)\n",
    "    base_time = int(5*sfreq)\n",
    "    tmp_base = tmp[: base_time]\n",
    "    # tmp_avg = np.mean(tmp [: int(5*snirf_1.sfreq)])\n",
    "    base_avg = np.mean(tmp_base) \n",
    "    base_std = np.std(tmp_base)\n",
    "    # tmp = (tmp - base_avg) / base_std\n",
    "    plot_signal(tmp, label, 5)"
   ]
  },
  {
   "cell_type": "markdown",
   "id": "9b6fe02c-5625-4abd-ac18-15265201c0d4",
   "metadata": {},
   "source": [
    "# Load File"
   ]
  },
  {
   "cell_type": "code",
   "execution_count": 7,
   "id": "f269770e-a2e7-40dd-911f-3d8eea020750",
   "metadata": {},
   "outputs": [],
   "source": [
    "path_1 = '../data_hojjat/dec_nef/1_new_full_2/test_001_S001_c7bcdc0_5.snirf'\n",
    "path_2 = '../data_hojjat/dec_nef/2/test_001_S001_7d1123e_5.snirf'\n",
    "path_3 = '../data_hojjat/dec_nef/3/test_001_S001_7d1123e_5.snirf'"
   ]
  },
  {
   "cell_type": "code",
   "execution_count": 8,
   "id": "c3471ce2-35e9-45fe-ac81-5935abf9b31d",
   "metadata": {},
   "outputs": [
    {
     "name": "stdout",
     "output_type": "stream",
     "text": [
      "Loading /home/kernel/Desktop/py_test/project/kernel_stuff/../data_hojjat/dec_nef/1_new_full_2/test_001_S001_c7bcdc0_5.snirf\n",
      "Loading /home/kernel/Desktop/py_test/project/kernel_stuff/../data_hojjat/dec_nef/2/test_001_S001_7d1123e_5.snirf\n",
      "Loading /home/kernel/Desktop/py_test/project/kernel_stuff/../data_hojjat/dec_nef/3/test_001_S001_7d1123e_5.snirf\n"
     ]
    }
   ],
   "source": [
    "snirf_1 = SNRF(path_1, True)\n",
    "snirf_2 = SNRF(path_2, True)\n",
    "snirf_3 = SNRF(path_3, True)"
   ]
  },
  {
   "cell_type": "code",
   "execution_count": 9,
   "id": "e8ecf89a-890e-4dda-ad01-646dc2654162",
   "metadata": {},
   "outputs": [],
   "source": [
    "def get_channels_in_common(snirfs):\n",
    "    base = snirfs[0]\n",
    "    base_clean_channels = base.clean_channels\n",
    "    l = len(snirfs)\n",
    "    for i in np.arange(1, l):\n",
    "        snirf = snirfs[i]\n",
    "        clean_channels = snirf.clean_channels\n",
    "        base_clean_channels = np.intersect1d(base_clean_channels, clean_channels)\n",
    "    return base_clean_channels"
   ]
  },
  {
   "cell_type": "code",
   "execution_count": 10,
   "id": "fa90505a-78b3-4fcd-bb41-dc2600acf8fd",
   "metadata": {},
   "outputs": [],
   "source": [
    "common_channels = get_channels_in_common([snirf_1, snirf_2, snirf_3])"
   ]
  },
  {
   "cell_type": "code",
   "execution_count": 11,
   "id": "faa218b0-cb98-4212-9544-0450ddaa4092",
   "metadata": {},
   "outputs": [],
   "source": [
    "snirf_1.drop_channels(common_channels)\n",
    "snirf_2.drop_channels(common_channels)\n",
    "snirf_3.drop_channels(common_channels)"
   ]
  },
  {
   "cell_type": "code",
   "execution_count": 12,
   "id": "8e7f032c-092f-4b21-935c-b2397056134d",
   "metadata": {},
   "outputs": [
    {
     "data": {
      "text/plain": [
       "(1270, 4414)"
      ]
     },
     "execution_count": 12,
     "metadata": {},
     "output_type": "execute_result"
    }
   ],
   "source": [
    "snirf_3.clean_data.shape"
   ]
  },
  {
   "cell_type": "code",
   "execution_count": 13,
   "id": "334df645-d93d-4ae6-be77-40f8bc9a76cf",
   "metadata": {},
   "outputs": [],
   "source": [
    "viz_blocks_1 = snirf_1.get_normalized_block_windows(-5, 0, -5, 10)\n",
    "viz_blocks_2 = snirf_2.get_normalized_block_windows(-5, 0, -5, 10)\n",
    "viz_blocks_3 = snirf_3.get_normalized_block_windows(-5, 0, -5, 10)"
   ]
  },
  {
   "cell_type": "code",
   "execution_count": 14,
   "id": "3e2becb8-371a-4a56-8669-647ba4d92235",
   "metadata": {},
   "outputs": [],
   "source": [
    "viz_blocks = np.vstack([viz_blocks_1, viz_blocks_2, viz_blocks_3])"
   ]
  },
  {
   "cell_type": "code",
   "execution_count": 15,
   "id": "ee329d88-660a-4621-ab75-b4a3831b99e1",
   "metadata": {},
   "outputs": [],
   "source": [
    "viz_blocks = viz_blocks_1.copy()"
   ]
  },
  {
   "cell_type": "code",
   "execution_count": 16,
   "id": "acc47eda-26a8-4d33-b361-d9823d652f5b",
   "metadata": {},
   "outputs": [
    {
     "data": {
      "text/plain": [
       "(160, 1270, 106)"
      ]
     },
     "execution_count": 16,
     "metadata": {},
     "output_type": "execute_result"
    }
   ],
   "source": [
    "viz_blocks.shape"
   ]
  },
  {
   "cell_type": "code",
   "execution_count": 17,
   "id": "c8fed417-3e95-49b2-a83b-167af701dd99",
   "metadata": {},
   "outputs": [],
   "source": [
    "from scipy.signal import find_peaks\n",
    "from scipy.stats import skew\n",
    "from scipy.stats import kurtosis"
   ]
  },
  {
   "cell_type": "code",
   "execution_count": 18,
   "id": "f36b9492-3a4c-4467-9e52-e431d865e15f",
   "metadata": {},
   "outputs": [],
   "source": [
    "animate = [ 'Ants', 'Bat', 'Beatle', 'Bee', 'Bird', 'Butterfly', 'Cat', 'Catterpilar', 'Chicken', 'Cockroach', ...\n",
    "          , 'Dog', 'Dolphin', 'Fish', 'Fly', 'Frog','Gecko', 'Giraffe', 'Grasshoper', 'GuineaPig', 'Horse', ...\n",
    "          , 'Mouse', 'Peacock', 'Rabbit', 'Shark', 'Sheep', 'Snake', 'Spider', 'Turtle', 'Whale', 'Worm']\n",
    "inanimate = [ 'Airplane', 'Bicycle', 'Car', 'Cellphone', 'Chair', 'Guitar', 'Hammer','Key', 'Scissor', ...\n",
    "            , 'Umbrella']"
   ]
  },
  {
   "cell_type": "code",
   "execution_count": 19,
   "id": "e50ab814-66c9-4ed3-a4a6-20b3c369a69a",
   "metadata": {},
   "outputs": [],
   "source": [
    "animate_indexes = [label in animate for label in snirf_1.get_block_labels()]"
   ]
  },
  {
   "cell_type": "code",
   "execution_count": 20,
   "id": "1e18287b-a93f-4fc9-9a6b-85e4ed0ef8e1",
   "metadata": {},
   "outputs": [],
   "source": [
    "inanimate_indexes = [label in inanimate for label in snirf_1.get_block_labels()]"
   ]
  },
  {
   "cell_type": "code",
   "execution_count": 21,
   "id": "0811d82b-a964-49a8-a444-9ee33b8c3d77",
   "metadata": {},
   "outputs": [
    {
     "data": {
      "text/plain": [
       "(160, 1270, 106)"
      ]
     },
     "execution_count": 21,
     "metadata": {},
     "output_type": "execute_result"
    }
   ],
   "source": [
    "viz_blocks.shape"
   ]
  },
  {
   "cell_type": "code",
   "execution_count": 22,
   "id": "bbbe6e8d-faba-4d3a-b16d-8f4457cf73b2",
   "metadata": {},
   "outputs": [],
   "source": [
    "animate_blocks = viz_blocks[animate_indexes]"
   ]
  },
  {
   "cell_type": "code",
   "execution_count": 23,
   "id": "5872428c-69ae-48e6-b32c-6fc7581f2430",
   "metadata": {},
   "outputs": [],
   "source": [
    "inanimate_blocks = viz_blocks[inanimate_indexes]"
   ]
  },
  {
   "cell_type": "code",
   "execution_count": 24,
   "id": "4e7012a1-f1b4-41e9-80df-a7fff2bda541",
   "metadata": {},
   "outputs": [
    {
     "data": {
      "text/plain": [
       "(120, 1270, 106)"
      ]
     },
     "execution_count": 24,
     "metadata": {},
     "output_type": "execute_result"
    }
   ],
   "source": [
    "animate_blocks.shape"
   ]
  },
  {
   "cell_type": "code",
   "execution_count": 25,
   "id": "43846c9e-8abf-4388-b7dc-113987b78921",
   "metadata": {},
   "outputs": [
    {
     "data": {
      "image/png": "[encoded data removed]",
      "text/plain": [
       "<Figure size 432x288 with 1 Axes>"
      ]
     },
     "metadata": {
      "needs_background": "light"
     },
     "output_type": "display_data"
    }
   ],
   "source": [
    "plot_base(animate_blocks[:, 1], sfreq=snirf_1.sfreq, label= 'animate')\n",
    "plot_base(inanimate_blocks[:, 1], sfreq=snirf_1.sfreq, label= 'inanimate')"
   ]
  },
  {
   "cell_type": "code",
   "execution_count": 26,
   "id": "fd54b285-a830-4b79-9b5e-2811242531ae",
   "metadata": {},
   "outputs": [
    {
     "data": {
      "image/png": "[encoded data removed]",
      "text/plain": [
       "<Figure size 432x288 with 1 Axes>"
      ]
     },
     "metadata": {
      "needs_background": "light"
     },
     "output_type": "display_data"
    }
   ],
   "source": [
    "plot_base(animate_blocks[:, 2], sfreq=snirf_1.sfreq, label= 'animate')\n",
    "plot_base(inanimate_blocks[:, 2], sfreq=snirf_1.sfreq, label= 'inanimate')"
   ]
  },
  {
   "cell_type": "code",
   "execution_count": 27,
   "id": "3740d98e-bb09-4f81-999a-bb0e3ec5637f",
   "metadata": {},
   "outputs": [
    {
     "data": {
      "image/png": "[encoded data removed]",
      "text/plain": [
       "<Figure size 432x288 with 1 Axes>"
      ]
     },
     "metadata": {
      "needs_background": "light"
     },
     "output_type": "display_data"
    }
   ],
   "source": [
    "plot_base(animate_blocks[:, 3], sfreq=snirf_1.sfreq, label= 'animate')\n",
    "plot_base(inanimate_blocks[:, 3], sfreq=snirf_1.sfreq, label= 'inanimate')"
   ]
  },
  {
   "cell_type": "code",
   "execution_count": 28,
   "id": "b8a78146-5be2-4cb9-97d8-69ad2019d730",
   "metadata": {},
   "outputs": [
    {
     "data": {
      "image/png": "[encoded data removed]",
      "text/plain": [
       "<Figure size 432x288 with 1 Axes>"
      ]
     },
     "metadata": {
      "needs_background": "light"
     },
     "output_type": "display_data"
    }
   ],
   "source": [
    "plot_base(animate_blocks[:, 4], sfreq=snirf_1.sfreq, label= 'animate')\n",
    "plot_base(inanimate_blocks[:, 4], sfreq=snirf_1.sfreq, label= 'inanimate')"
   ]
  },
  {
   "cell_type": "code",
   "execution_count": 29,
   "id": "48602916-0ea3-4dc2-9c11-4bc13a6cb44c",
   "metadata": {},
   "outputs": [
    {
     "data": {
      "image/png": "[encoded data removed]",
      "text/plain": [
       "<Figure size 432x288 with 1 Axes>"
      ]
     },
     "metadata": {
      "needs_background": "light"
     },
     "output_type": "display_data"
    }
   ],
   "source": [
    "plot_base(np.mean(animate_blocks, axis=1), sfreq=snirf_1.sfreq, label='animate')\n",
    "plot_base(np.mean(inanimate_blocks, axis=1), sfreq=snirf_1.sfreq, label='inanimate')"
   ]
  },
  {
   "cell_type": "code",
   "execution_count": 44,
   "id": "1b6b8270-4090-4d60-97ef-9b7e50e73420",
   "metadata": {},
   "outputs": [],
   "source": [
    "def extract_features(blocks):\n",
    "    means = np.mean(blocks, axis=2)\n",
    "    slope = blocks[:, :, -1] - blocks[:, :, 0]\n",
    "    mins = np.min(blocks, axis=2)\n",
    "    maxs = np.max(blocks, axis = 2)\n",
    "    # peaks, _ = find_peaks(blocks[0, 0])\n",
    "    # len(peaks)\n",
    "    # np.sum(hojjat[0, 0][peaks])\n",
    "    skews = skew(blocks, axis=2)\n",
    "    kurtosi = kurtosis(blocks, axis=2)\n",
    "    features = np.stack((means, slope, mins, maxs, skews, kurtosi), axis=2)\n",
    "    # print([np.shape(tmp) for tmp in [means, slope, mins, maxs, skews, kurtosi]])\n",
    "    return means"
   ]
  },
  {
   "cell_type": "code",
   "execution_count": 31,
   "id": "c2b93fee-e510-40bf-a203-677411ca1d26",
   "metadata": {},
   "outputs": [
    {
     "data": {
      "text/plain": [
       "(120, 1270, 6)"
      ]
     },
     "execution_count": 31,
     "metadata": {},
     "output_type": "execute_result"
    }
   ],
   "source": [
    "extract_features(animate_blocks).shape"
   ]
  },
  {
   "cell_type": "markdown",
   "id": "141545d0-a688-4ea4-9976-fd47d5c201e4",
   "metadata": {
    "tags": []
   },
   "source": [
    "# Classify"
   ]
  },
  {
   "cell_type": "code",
   "execution_count": 32,
   "id": "c41492b2-3725-4a24-875c-874f36732f38",
   "metadata": {},
   "outputs": [],
   "source": [
    "clf_blocks = snirf_1.get_normalized_block_windows(-5, 0, 2, 7)"
   ]
  },
  {
   "cell_type": "code",
   "execution_count": 33,
   "id": "b6106af4-23e5-4cfa-8f49-26de7528ed48",
   "metadata": {},
   "outputs": [],
   "source": [
    "animate_clf_blocks = viz_blocks[animate_indexes]\n",
    "inanimate_clf_blocks = viz_blocks[inanimate_indexes]"
   ]
  },
  {
   "cell_type": "code",
   "execution_count": 45,
   "id": "330c77dc-b86a-4ed2-a0e3-39b1bfe4077e",
   "metadata": {},
   "outputs": [],
   "source": [
    "animate_features = extract_features(animate_clf_blocks)\n",
    "inanimate_features = extract_features(inanimate_clf_blocks)"
   ]
  },
  {
   "cell_type": "code",
   "execution_count": 46,
   "id": "b2241036-dd5d-4d7d-893e-2f473d86e526",
   "metadata": {},
   "outputs": [
    {
     "data": {
      "text/plain": [
       "(120, 1270)"
      ]
     },
     "execution_count": 46,
     "metadata": {},
     "output_type": "execute_result"
    }
   ],
   "source": [
    "animate_features.shape"
   ]
  },
  {
   "cell_type": "code",
   "execution_count": 47,
   "id": "8f86ae98-d3da-48af-9bcc-03fd3bc12112",
   "metadata": {},
   "outputs": [],
   "source": [
    "# clf = tree.DecisionTreeClassifier()\n",
    "\n",
    "X = np.vstack((animate_features, inanimate_features))\n",
    "y = np.hstack((np.ones(len(animate_features)), 2*np.ones(len(inanimate_features))))\n",
    "\n",
    "# scores = cross_val_score(clf, X[80:], y[80:], cv=5)"
   ]
  },
  {
   "cell_type": "code",
   "execution_count": 85,
   "id": "a0db6a21-dffd-4cd2-8867-03d4964c7079",
   "metadata": {},
   "outputs": [
    {
     "name": "stdout",
     "output_type": "stream",
     "text": [
      "X (160, 100)\n",
      "y (160,)\n"
     ]
    }
   ],
   "source": [
    "print('X', X[:, :100].shape)\n",
    "print('y', y.shape)"
   ]
  },
  {
   "cell_type": "code",
   "execution_count": 86,
   "id": "f03ec98e-23c9-452b-a148-e0f9f9a66ff5",
   "metadata": {},
   "outputs": [
    {
     "name": "stderr",
     "output_type": "stream",
     "text": [
      "/home/kernel/Desktop/py_test/project/venv/lib/python3.8/site-packages/sklearn/linear_model/_coordinate_descent.py:633: ConvergenceWarning: Objective did not converge. You might want to increase the number of iterations. Duality gap: 0.0, tolerance: 0.0\n",
      "  model = cd_fast.enet_coordinate_descent_gram(\n",
      "/home/kernel/Desktop/py_test/project/venv/lib/python3.8/site-packages/sklearn/linear_model/_coordinate_descent.py:633: ConvergenceWarning: Objective did not converge. You might want to increase the number of iterations. Duality gap: 0.0, tolerance: 0.0\n",
      "  model = cd_fast.enet_coordinate_descent_gram(\n",
      "/home/kernel/Desktop/py_test/project/venv/lib/python3.8/site-packages/sklearn/linear_model/_coordinate_descent.py:633: ConvergenceWarning: Objective did not converge. You might want to increase the number of iterations. Duality gap: 0.0, tolerance: 0.0\n",
      "  model = cd_fast.enet_coordinate_descent_gram(\n",
      "/home/kernel/Desktop/py_test/project/venv/lib/python3.8/site-packages/sklearn/linear_model/_coordinate_descent.py:633: ConvergenceWarning: Objective did not converge. You might want to increase the number of iterations. Duality gap: 0.0, tolerance: 0.0\n",
      "  model = cd_fast.enet_coordinate_descent_gram(\n",
      "/home/kernel/Desktop/py_test/project/venv/lib/python3.8/site-packages/sklearn/linear_model/_coordinate_descent.py:633: ConvergenceWarning: Objective did not converge. You might want to increase the number of iterations. Duality gap: 0.0, tolerance: 0.0\n",
      "  model = cd_fast.enet_coordinate_descent_gram(\n",
      "/home/kernel/Desktop/py_test/project/venv/lib/python3.8/site-packages/sklearn/linear_model/_coordinate_descent.py:633: ConvergenceWarning: Objective did not converge. You might want to increase the number of iterations. Duality gap: 0.0, tolerance: 0.0\n",
      "  model = cd_fast.enet_coordinate_descent_gram(\n",
      "/home/kernel/Desktop/py_test/project/venv/lib/python3.8/site-packages/sklearn/linear_model/_coordinate_descent.py:633: ConvergenceWarning: Objective did not converge. You might want to increase the number of iterations. Duality gap: 0.0, tolerance: 0.0\n",
      "  model = cd_fast.enet_coordinate_descent_gram(\n",
      "/home/kernel/Desktop/py_test/project/venv/lib/python3.8/site-packages/sklearn/linear_model/_coordinate_descent.py:633: ConvergenceWarning: Objective did not converge. You might want to increase the number of iterations. Duality gap: 0.0, tolerance: 0.0\n",
      "  model = cd_fast.enet_coordinate_descent_gram(\n",
      "/home/kernel/Desktop/py_test/project/venv/lib/python3.8/site-packages/sklearn/linear_model/_coordinate_descent.py:633: ConvergenceWarning: Objective did not converge. You might want to increase the number of iterations. Duality gap: 0.0, tolerance: 0.0\n",
      "  model = cd_fast.enet_coordinate_descent_gram(\n",
      "/home/kernel/Desktop/py_test/project/venv/lib/python3.8/site-packages/sklearn/linear_model/_coordinate_descent.py:633: ConvergenceWarning: Objective did not converge. You might want to increase the number of iterations. Duality gap: 0.0, tolerance: 0.0\n",
      "  model = cd_fast.enet_coordinate_descent_gram(\n",
      "/home/kernel/Desktop/py_test/project/venv/lib/python3.8/site-packages/sklearn/linear_model/_coordinate_descent.py:633: ConvergenceWarning: Objective did not converge. You might want to increase the number of iterations. Duality gap: 0.0, tolerance: 0.0\n",
      "  model = cd_fast.enet_coordinate_descent_gram(\n",
      "/home/kernel/Desktop/py_test/project/venv/lib/python3.8/site-packages/sklearn/linear_model/_coordinate_descent.py:633: ConvergenceWarning: Objective did not converge. You might want to increase the number of iterations. Duality gap: 0.0, tolerance: 0.0\n",
      "  model = cd_fast.enet_coordinate_descent_gram(\n",
      "/home/kernel/Desktop/py_test/project/venv/lib/python3.8/site-packages/sklearn/linear_model/_coordinate_descent.py:633: ConvergenceWarning: Objective did not converge. You might want to increase the number of iterations. Duality gap: 0.0, tolerance: 0.0\n",
      "  model = cd_fast.enet_coordinate_descent_gram(\n",
      "/home/kernel/Desktop/py_test/project/venv/lib/python3.8/site-packages/sklearn/linear_model/_coordinate_descent.py:633: ConvergenceWarning: Objective did not converge. You might want to increase the number of iterations. Duality gap: 0.0, tolerance: 0.0\n",
      "  model = cd_fast.enet_coordinate_descent_gram(\n",
      "/home/kernel/Desktop/py_test/project/venv/lib/python3.8/site-packages/sklearn/linear_model/_coordinate_descent.py:633: ConvergenceWarning: Objective did not converge. You might want to increase the number of iterations. Duality gap: 0.0, tolerance: 0.0\n",
      "  model = cd_fast.enet_coordinate_descent_gram(\n",
      "/home/kernel/Desktop/py_test/project/venv/lib/python3.8/site-packages/sklearn/linear_model/_coordinate_descent.py:633: ConvergenceWarning: Objective did not converge. You might want to increase the number of iterations. Duality gap: 0.0, tolerance: 0.0\n",
      "  model = cd_fast.enet_coordinate_descent_gram(\n",
      "/home/kernel/Desktop/py_test/project/venv/lib/python3.8/site-packages/sklearn/linear_model/_coordinate_descent.py:633: ConvergenceWarning: Objective did not converge. You might want to increase the number of iterations. Duality gap: 0.0, tolerance: 0.0\n",
      "  model = cd_fast.enet_coordinate_descent_gram(\n",
      "/home/kernel/Desktop/py_test/project/venv/lib/python3.8/site-packages/sklearn/linear_model/_coordinate_descent.py:633: ConvergenceWarning: Objective did not converge. You might want to increase the number of iterations. Duality gap: 0.0, tolerance: 0.0\n",
      "  model = cd_fast.enet_coordinate_descent_gram(\n",
      "/home/kernel/Desktop/py_test/project/venv/lib/python3.8/site-packages/sklearn/linear_model/_coordinate_descent.py:633: ConvergenceWarning: Objective did not converge. You might want to increase the number of iterations. Duality gap: 0.0, tolerance: 0.0\n",
      "  model = cd_fast.enet_coordinate_descent_gram(\n",
      "/home/kernel/Desktop/py_test/project/venv/lib/python3.8/site-packages/sklearn/linear_model/_coordinate_descent.py:633: ConvergenceWarning: Objective did not converge. You might want to increase the number of iterations. Duality gap: 0.0, tolerance: 0.0\n",
      "  model = cd_fast.enet_coordinate_descent_gram(\n",
      "/home/kernel/Desktop/py_test/project/venv/lib/python3.8/site-packages/sklearn/linear_model/_coordinate_descent.py:633: ConvergenceWarning: Objective did not converge. You might want to increase the number of iterations. Duality gap: 0.0, tolerance: 0.0\n",
      "  model = cd_fast.enet_coordinate_descent_gram(\n",
      "/home/kernel/Desktop/py_test/project/venv/lib/python3.8/site-packages/sklearn/linear_model/_coordinate_descent.py:633: ConvergenceWarning: Objective did not converge. You might want to increase the number of iterations. Duality gap: 0.0, tolerance: 0.0\n",
      "  model = cd_fast.enet_coordinate_descent_gram(\n",
      "/home/kernel/Desktop/py_test/project/venv/lib/python3.8/site-packages/sklearn/linear_model/_coordinate_descent.py:633: ConvergenceWarning: Objective did not converge. You might want to increase the number of iterations. Duality gap: 0.0, tolerance: 0.0\n",
      "  model = cd_fast.enet_coordinate_descent_gram(\n",
      "/home/kernel/Desktop/py_test/project/venv/lib/python3.8/site-packages/sklearn/linear_model/_coordinate_descent.py:633: ConvergenceWarning: Objective did not converge. You might want to increase the number of iterations. Duality gap: 0.0, tolerance: 0.0\n",
      "  model = cd_fast.enet_coordinate_descent_gram(\n",
      "/home/kernel/Desktop/py_test/project/venv/lib/python3.8/site-packages/sklearn/linear_model/_coordinate_descent.py:633: ConvergenceWarning: Objective did not converge. You might want to increase the number of iterations. Duality gap: 0.0, tolerance: 0.0\n",
      "  model = cd_fast.enet_coordinate_descent_gram(\n",
      "/home/kernel/Desktop/py_test/project/venv/lib/python3.8/site-packages/sklearn/linear_model/_coordinate_descent.py:633: ConvergenceWarning: Objective did not converge. You might want to increase the number of iterations. Duality gap: 0.0, tolerance: 0.0\n",
      "  model = cd_fast.enet_coordinate_descent_gram(\n",
      "/home/kernel/Desktop/py_test/project/venv/lib/python3.8/site-packages/sklearn/linear_model/_coordinate_descent.py:633: ConvergenceWarning: Objective did not converge. You might want to increase the number of iterations. Duality gap: 0.0, tolerance: 0.0\n",
      "  model = cd_fast.enet_coordinate_descent_gram(\n",
      "/home/kernel/Desktop/py_test/project/venv/lib/python3.8/site-packages/sklearn/linear_model/_coordinate_descent.py:633: ConvergenceWarning: Objective did not converge. You might want to increase the number of iterations. Duality gap: 0.0, tolerance: 0.0\n",
      "  model = cd_fast.enet_coordinate_descent_gram(\n",
      "/home/kernel/Desktop/py_test/project/venv/lib/python3.8/site-packages/sklearn/linear_model/_coordinate_descent.py:633: ConvergenceWarning: Objective did not converge. You might want to increase the number of iterations. Duality gap: 0.0, tolerance: 0.0\n",
      "  model = cd_fast.enet_coordinate_descent_gram(\n",
      "/home/kernel/Desktop/py_test/project/venv/lib/python3.8/site-packages/sklearn/linear_model/_coordinate_descent.py:633: ConvergenceWarning: Objective did not converge. You might want to increase the number of iterations. Duality gap: 0.0, tolerance: 0.0\n",
      "  model = cd_fast.enet_coordinate_descent_gram(\n",
      "/home/kernel/Desktop/py_test/project/venv/lib/python3.8/site-packages/sklearn/linear_model/_coordinate_descent.py:633: ConvergenceWarning: Objective did not converge. You might want to increase the number of iterations. Duality gap: 0.0, tolerance: 0.0\n",
      "  model = cd_fast.enet_coordinate_descent_gram(\n",
      "/home/kernel/Desktop/py_test/project/venv/lib/python3.8/site-packages/sklearn/linear_model/_coordinate_descent.py:633: ConvergenceWarning: Objective did not converge. You might want to increase the number of iterations. Duality gap: 0.0, tolerance: 0.0\n",
      "  model = cd_fast.enet_coordinate_descent_gram(\n",
      "/home/kernel/Desktop/py_test/project/venv/lib/python3.8/site-packages/sklearn/linear_model/_coordinate_descent.py:633: ConvergenceWarning: Objective did not converge. You might want to increase the number of iterations. Duality gap: 0.0, tolerance: 0.0\n",
      "  model = cd_fast.enet_coordinate_descent_gram(\n",
      "/home/kernel/Desktop/py_test/project/venv/lib/python3.8/site-packages/sklearn/linear_model/_coordinate_descent.py:633: ConvergenceWarning: Objective did not converge. You might want to increase the number of iterations. Duality gap: 0.0, tolerance: 0.0\n",
      "  model = cd_fast.enet_coordinate_descent_gram(\n",
      "/home/kernel/Desktop/py_test/project/venv/lib/python3.8/site-packages/sklearn/linear_model/_coordinate_descent.py:633: ConvergenceWarning: Objective did not converge. You might want to increase the number of iterations. Duality gap: 0.0, tolerance: 0.0\n",
      "  model = cd_fast.enet_coordinate_descent_gram(\n",
      "/home/kernel/Desktop/py_test/project/venv/lib/python3.8/site-packages/sklearn/linear_model/_coordinate_descent.py:633: ConvergenceWarning: Objective did not converge. You might want to increase the number of iterations. Duality gap: 0.0, tolerance: 0.0\n",
      "  model = cd_fast.enet_coordinate_descent_gram(\n",
      "/home/kernel/Desktop/py_test/project/venv/lib/python3.8/site-packages/sklearn/linear_model/_coordinate_descent.py:633: ConvergenceWarning: Objective did not converge. You might want to increase the number of iterations. Duality gap: 0.0, tolerance: 0.0\n",
      "  model = cd_fast.enet_coordinate_descent_gram(\n",
      "/home/kernel/Desktop/py_test/project/venv/lib/python3.8/site-packages/sklearn/linear_model/_coordinate_descent.py:633: ConvergenceWarning: Objective did not converge. You might want to increase the number of iterations. Duality gap: 0.0, tolerance: 0.0\n",
      "  model = cd_fast.enet_coordinate_descent_gram(\n",
      "/home/kernel/Desktop/py_test/project/venv/lib/python3.8/site-packages/sklearn/linear_model/_coordinate_descent.py:633: ConvergenceWarning: Objective did not converge. You might want to increase the number of iterations. Duality gap: 0.0, tolerance: 0.0\n",
      "  model = cd_fast.enet_coordinate_descent_gram(\n",
      "/home/kernel/Desktop/py_test/project/venv/lib/python3.8/site-packages/sklearn/linear_model/_coordinate_descent.py:633: ConvergenceWarning: Objective did not converge. You might want to increase the number of iterations. Duality gap: 0.0, tolerance: 0.0\n",
      "  model = cd_fast.enet_coordinate_descent_gram(\n",
      "/home/kernel/Desktop/py_test/project/venv/lib/python3.8/site-packages/sklearn/linear_model/_coordinate_descent.py:633: ConvergenceWarning: Objective did not converge. You might want to increase the number of iterations. Duality gap: 0.0, tolerance: 0.0\n",
      "  model = cd_fast.enet_coordinate_descent_gram(\n",
      "/home/kernel/Desktop/py_test/project/venv/lib/python3.8/site-packages/sklearn/linear_model/_coordinate_descent.py:633: ConvergenceWarning: Objective did not converge. You might want to increase the number of iterations. Duality gap: 0.0, tolerance: 0.0\n",
      "  model = cd_fast.enet_coordinate_descent_gram(\n",
      "/home/kernel/Desktop/py_test/project/venv/lib/python3.8/site-packages/sklearn/linear_model/_coordinate_descent.py:633: ConvergenceWarning: Objective did not converge. You might want to increase the number of iterations. Duality gap: 0.0, tolerance: 0.0\n",
      "  model = cd_fast.enet_coordinate_descent_gram(\n",
      "/home/kernel/Desktop/py_test/project/venv/lib/python3.8/site-packages/sklearn/linear_model/_coordinate_descent.py:633: ConvergenceWarning: Objective did not converge. You might want to increase the number of iterations. Duality gap: 0.0, tolerance: 0.0\n",
      "  model = cd_fast.enet_coordinate_descent_gram(\n",
      "/home/kernel/Desktop/py_test/project/venv/lib/python3.8/site-packages/sklearn/linear_model/_coordinate_descent.py:633: ConvergenceWarning: Objective did not converge. You might want to increase the number of iterations. Duality gap: 0.0, tolerance: 0.0\n",
      "  model = cd_fast.enet_coordinate_descent_gram(\n",
      "/home/kernel/Desktop/py_test/project/venv/lib/python3.8/site-packages/sklearn/linear_model/_coordinate_descent.py:633: ConvergenceWarning: Objective did not converge. You might want to increase the number of iterations. Duality gap: 0.0, tolerance: 0.0\n",
      "  model = cd_fast.enet_coordinate_descent_gram(\n",
      "/home/kernel/Desktop/py_test/project/venv/lib/python3.8/site-packages/sklearn/linear_model/_coordinate_descent.py:633: ConvergenceWarning: Objective did not converge. You might want to increase the number of iterations. Duality gap: 0.0, tolerance: 0.0\n",
      "  model = cd_fast.enet_coordinate_descent_gram(\n",
      "/home/kernel/Desktop/py_test/project/venv/lib/python3.8/site-packages/sklearn/linear_model/_coordinate_descent.py:633: ConvergenceWarning: Objective did not converge. You might want to increase the number of iterations. Duality gap: 0.0, tolerance: 0.0\n",
      "  model = cd_fast.enet_coordinate_descent_gram(\n",
      "/home/kernel/Desktop/py_test/project/venv/lib/python3.8/site-packages/sklearn/linear_model/_coordinate_descent.py:633: ConvergenceWarning: Objective did not converge. You might want to increase the number of iterations. Duality gap: 0.0, tolerance: 0.0\n",
      "  model = cd_fast.enet_coordinate_descent_gram(\n",
      "/home/kernel/Desktop/py_test/project/venv/lib/python3.8/site-packages/sklearn/linear_model/_coordinate_descent.py:633: ConvergenceWarning: Objective did not converge. You might want to increase the number of iterations. Duality gap: 0.0, tolerance: 0.0\n",
      "  model = cd_fast.enet_coordinate_descent_gram(\n",
      "/home/kernel/Desktop/py_test/project/venv/lib/python3.8/site-packages/sklearn/linear_model/_coordinate_descent.py:633: ConvergenceWarning: Objective did not converge. You might want to increase the number of iterations. Duality gap: 0.0, tolerance: 0.0\n",
      "  model = cd_fast.enet_coordinate_descent_gram(\n",
      "/home/kernel/Desktop/py_test/project/venv/lib/python3.8/site-packages/sklearn/linear_model/_coordinate_descent.py:633: ConvergenceWarning: Objective did not converge. You might want to increase the number of iterations. Duality gap: 0.0, tolerance: 0.0\n",
      "  model = cd_fast.enet_coordinate_descent_gram(\n",
      "/home/kernel/Desktop/py_test/project/venv/lib/python3.8/site-packages/sklearn/linear_model/_coordinate_descent.py:633: ConvergenceWarning: Objective did not converge. You might want to increase the number of iterations. Duality gap: 0.0, tolerance: 0.0\n",
      "  model = cd_fast.enet_coordinate_descent_gram(\n",
      "/home/kernel/Desktop/py_test/project/venv/lib/python3.8/site-packages/sklearn/linear_model/_coordinate_descent.py:633: ConvergenceWarning: Objective did not converge. You might want to increase the number of iterations. Duality gap: 0.0, tolerance: 0.0\n",
      "  model = cd_fast.enet_coordinate_descent_gram(\n",
      "/home/kernel/Desktop/py_test/project/venv/lib/python3.8/site-packages/sklearn/linear_model/_coordinate_descent.py:633: ConvergenceWarning: Objective did not converge. You might want to increase the number of iterations. Duality gap: 0.0, tolerance: 0.0\n",
      "  model = cd_fast.enet_coordinate_descent_gram(\n",
      "/home/kernel/Desktop/py_test/project/venv/lib/python3.8/site-packages/sklearn/linear_model/_coordinate_descent.py:633: ConvergenceWarning: Objective did not converge. You might want to increase the number of iterations. Duality gap: 0.0, tolerance: 0.0\n",
      "  model = cd_fast.enet_coordinate_descent_gram(\n",
      "/home/kernel/Desktop/py_test/project/venv/lib/python3.8/site-packages/sklearn/linear_model/_coordinate_descent.py:633: ConvergenceWarning: Objective did not converge. You might want to increase the number of iterations. Duality gap: 0.0, tolerance: 0.0\n",
      "  model = cd_fast.enet_coordinate_descent_gram(\n",
      "/home/kernel/Desktop/py_test/project/venv/lib/python3.8/site-packages/sklearn/linear_model/_coordinate_descent.py:633: ConvergenceWarning: Objective did not converge. You might want to increase the number of iterations. Duality gap: 0.0, tolerance: 0.0\n",
      "  model = cd_fast.enet_coordinate_descent_gram(\n",
      "/home/kernel/Desktop/py_test/project/venv/lib/python3.8/site-packages/sklearn/linear_model/_coordinate_descent.py:633: ConvergenceWarning: Objective did not converge. You might want to increase the number of iterations. Duality gap: 0.0, tolerance: 0.0\n",
      "  model = cd_fast.enet_coordinate_descent_gram(\n",
      "/home/kernel/Desktop/py_test/project/venv/lib/python3.8/site-packages/sklearn/linear_model/_coordinate_descent.py:633: ConvergenceWarning: Objective did not converge. You might want to increase the number of iterations. Duality gap: 0.0, tolerance: 0.0\n",
      "  model = cd_fast.enet_coordinate_descent_gram(\n",
      "/home/kernel/Desktop/py_test/project/venv/lib/python3.8/site-packages/sklearn/linear_model/_coordinate_descent.py:633: ConvergenceWarning: Objective did not converge. You might want to increase the number of iterations. Duality gap: 0.0, tolerance: 0.0\n",
      "  model = cd_fast.enet_coordinate_descent_gram(\n",
      "/home/kernel/Desktop/py_test/project/venv/lib/python3.8/site-packages/sklearn/linear_model/_coordinate_descent.py:633: ConvergenceWarning: Objective did not converge. You might want to increase the number of iterations. Duality gap: 0.0, tolerance: 0.0\n",
      "  model = cd_fast.enet_coordinate_descent_gram(\n",
      "/home/kernel/Desktop/py_test/project/venv/lib/python3.8/site-packages/sklearn/linear_model/_coordinate_descent.py:633: ConvergenceWarning: Objective did not converge. You might want to increase the number of iterations. Duality gap: 0.0, tolerance: 0.0\n",
      "  model = cd_fast.enet_coordinate_descent_gram(\n",
      "/home/kernel/Desktop/py_test/project/venv/lib/python3.8/site-packages/sklearn/linear_model/_coordinate_descent.py:633: ConvergenceWarning: Objective did not converge. You might want to increase the number of iterations. Duality gap: 0.0, tolerance: 0.0\n",
      "  model = cd_fast.enet_coordinate_descent_gram(\n",
      "/home/kernel/Desktop/py_test/project/venv/lib/python3.8/site-packages/sklearn/linear_model/_coordinate_descent.py:633: ConvergenceWarning: Objective did not converge. You might want to increase the number of iterations. Duality gap: 0.0, tolerance: 0.0\n",
      "  model = cd_fast.enet_coordinate_descent_gram(\n",
      "/home/kernel/Desktop/py_test/project/venv/lib/python3.8/site-packages/sklearn/linear_model/_coordinate_descent.py:633: ConvergenceWarning: Objective did not converge. You might want to increase the number of iterations. Duality gap: 0.0, tolerance: 0.0\n",
      "  model = cd_fast.enet_coordinate_descent_gram(\n",
      "/home/kernel/Desktop/py_test/project/venv/lib/python3.8/site-packages/sklearn/linear_model/_coordinate_descent.py:633: ConvergenceWarning: Objective did not converge. You might want to increase the number of iterations. Duality gap: 0.0, tolerance: 0.0\n",
      "  model = cd_fast.enet_coordinate_descent_gram(\n",
      "/home/kernel/Desktop/py_test/project/venv/lib/python3.8/site-packages/sklearn/linear_model/_coordinate_descent.py:633: ConvergenceWarning: Objective did not converge. You might want to increase the number of iterations. Duality gap: 0.0, tolerance: 0.0\n",
      "  model = cd_fast.enet_coordinate_descent_gram(\n",
      "/home/kernel/Desktop/py_test/project/venv/lib/python3.8/site-packages/sklearn/linear_model/_coordinate_descent.py:633: ConvergenceWarning: Objective did not converge. You might want to increase the number of iterations. Duality gap: 0.0, tolerance: 0.0\n",
      "  model = cd_fast.enet_coordinate_descent_gram(\n",
      "/home/kernel/Desktop/py_test/project/venv/lib/python3.8/site-packages/sklearn/linear_model/_coordinate_descent.py:633: ConvergenceWarning: Objective did not converge. You might want to increase the number of iterations. Duality gap: 0.0, tolerance: 0.0\n",
      "  model = cd_fast.enet_coordinate_descent_gram(\n",
      "/home/kernel/Desktop/py_test/project/venv/lib/python3.8/site-packages/sklearn/linear_model/_coordinate_descent.py:633: ConvergenceWarning: Objective did not converge. You might want to increase the number of iterations. Duality gap: 0.0, tolerance: 0.0\n",
      "  model = cd_fast.enet_coordinate_descent_gram(\n",
      "/home/kernel/Desktop/py_test/project/venv/lib/python3.8/site-packages/sklearn/linear_model/_coordinate_descent.py:633: ConvergenceWarning: Objective did not converge. You might want to increase the number of iterations. Duality gap: 0.0, tolerance: 0.0\n",
      "  model = cd_fast.enet_coordinate_descent_gram(\n",
      "/home/kernel/Desktop/py_test/project/venv/lib/python3.8/site-packages/sklearn/linear_model/_coordinate_descent.py:633: ConvergenceWarning: Objective did not converge. You might want to increase the number of iterations. Duality gap: 0.0, tolerance: 0.0\n",
      "  model = cd_fast.enet_coordinate_descent_gram(\n",
      "/home/kernel/Desktop/py_test/project/venv/lib/python3.8/site-packages/sklearn/linear_model/_coordinate_descent.py:633: ConvergenceWarning: Objective did not converge. You might want to increase the number of iterations. Duality gap: 0.0, tolerance: 0.0\n",
      "  model = cd_fast.enet_coordinate_descent_gram(\n",
      "/home/kernel/Desktop/py_test/project/venv/lib/python3.8/site-packages/sklearn/linear_model/_coordinate_descent.py:633: ConvergenceWarning: Objective did not converge. You might want to increase the number of iterations. Duality gap: 0.0, tolerance: 0.0\n",
      "  model = cd_fast.enet_coordinate_descent_gram(\n",
      "/home/kernel/Desktop/py_test/project/venv/lib/python3.8/site-packages/sklearn/linear_model/_coordinate_descent.py:633: ConvergenceWarning: Objective did not converge. You might want to increase the number of iterations. Duality gap: 0.0, tolerance: 0.0\n",
      "  model = cd_fast.enet_coordinate_descent_gram(\n",
      "/home/kernel/Desktop/py_test/project/venv/lib/python3.8/site-packages/sklearn/linear_model/_coordinate_descent.py:633: ConvergenceWarning: Objective did not converge. You might want to increase the number of iterations. Duality gap: 0.0, tolerance: 0.0\n",
      "  model = cd_fast.enet_coordinate_descent_gram(\n",
      "/home/kernel/Desktop/py_test/project/venv/lib/python3.8/site-packages/sklearn/linear_model/_coordinate_descent.py:633: ConvergenceWarning: Objective did not converge. You might want to increase the number of iterations. Duality gap: 0.0, tolerance: 0.0\n",
      "  model = cd_fast.enet_coordinate_descent_gram(\n",
      "/home/kernel/Desktop/py_test/project/venv/lib/python3.8/site-packages/sklearn/linear_model/_coordinate_descent.py:633: ConvergenceWarning: Objective did not converge. You might want to increase the number of iterations. Duality gap: 0.0, tolerance: 0.0\n",
      "  model = cd_fast.enet_coordinate_descent_gram(\n",
      "/home/kernel/Desktop/py_test/project/venv/lib/python3.8/site-packages/sklearn/linear_model/_coordinate_descent.py:633: ConvergenceWarning: Objective did not converge. You might want to increase the number of iterations. Duality gap: 0.0, tolerance: 0.0\n",
      "  model = cd_fast.enet_coordinate_descent_gram(\n",
      "/home/kernel/Desktop/py_test/project/venv/lib/python3.8/site-packages/sklearn/linear_model/_coordinate_descent.py:633: ConvergenceWarning: Objective did not converge. You might want to increase the number of iterations. Duality gap: 0.0, tolerance: 0.0\n",
      "  model = cd_fast.enet_coordinate_descent_gram(\n",
      "/home/kernel/Desktop/py_test/project/venv/lib/python3.8/site-packages/sklearn/linear_model/_coordinate_descent.py:633: ConvergenceWarning: Objective did not converge. You might want to increase the number of iterations. Duality gap: 0.0, tolerance: 0.0\n",
      "  model = cd_fast.enet_coordinate_descent_gram(\n",
      "/home/kernel/Desktop/py_test/project/venv/lib/python3.8/site-packages/sklearn/linear_model/_coordinate_descent.py:633: ConvergenceWarning: Objective did not converge. You might want to increase the number of iterations. Duality gap: 0.0, tolerance: 0.0\n",
      "  model = cd_fast.enet_coordinate_descent_gram(\n",
      "/home/kernel/Desktop/py_test/project/venv/lib/python3.8/site-packages/sklearn/linear_model/_coordinate_descent.py:633: ConvergenceWarning: Objective did not converge. You might want to increase the number of iterations. Duality gap: 0.0, tolerance: 0.0\n",
      "  model = cd_fast.enet_coordinate_descent_gram(\n",
      "/home/kernel/Desktop/py_test/project/venv/lib/python3.8/site-packages/sklearn/linear_model/_coordinate_descent.py:633: ConvergenceWarning: Objective did not converge. You might want to increase the number of iterations. Duality gap: 0.0, tolerance: 0.0\n",
      "  model = cd_fast.enet_coordinate_descent_gram(\n",
      "/home/kernel/Desktop/py_test/project/venv/lib/python3.8/site-packages/sklearn/linear_model/_coordinate_descent.py:633: ConvergenceWarning: Objective did not converge. You might want to increase the number of iterations. Duality gap: 0.0, tolerance: 0.0\n",
      "  model = cd_fast.enet_coordinate_descent_gram(\n",
      "/home/kernel/Desktop/py_test/project/venv/lib/python3.8/site-packages/sklearn/linear_model/_coordinate_descent.py:633: ConvergenceWarning: Objective did not converge. You might want to increase the number of iterations. Duality gap: 0.0, tolerance: 0.0\n",
      "  model = cd_fast.enet_coordinate_descent_gram(\n",
      "/home/kernel/Desktop/py_test/project/venv/lib/python3.8/site-packages/sklearn/linear_model/_coordinate_descent.py:633: ConvergenceWarning: Objective did not converge. You might want to increase the number of iterations. Duality gap: 0.0, tolerance: 0.0\n",
      "  model = cd_fast.enet_coordinate_descent_gram(\n",
      "/home/kernel/Desktop/py_test/project/venv/lib/python3.8/site-packages/sklearn/linear_model/_coordinate_descent.py:633: ConvergenceWarning: Objective did not converge. You might want to increase the number of iterations. Duality gap: 0.0, tolerance: 0.0\n",
      "  model = cd_fast.enet_coordinate_descent_gram(\n",
      "/home/kernel/Desktop/py_test/project/venv/lib/python3.8/site-packages/sklearn/linear_model/_coordinate_descent.py:633: ConvergenceWarning: Objective did not converge. You might want to increase the number of iterations. Duality gap: 0.0, tolerance: 0.0\n",
      "  model = cd_fast.enet_coordinate_descent_gram(\n",
      "/home/kernel/Desktop/py_test/project/venv/lib/python3.8/site-packages/sklearn/linear_model/_coordinate_descent.py:633: ConvergenceWarning: Objective did not converge. You might want to increase the number of iterations. Duality gap: 0.0, tolerance: 0.0\n",
      "  model = cd_fast.enet_coordinate_descent_gram(\n",
      "/home/kernel/Desktop/py_test/project/venv/lib/python3.8/site-packages/sklearn/linear_model/_coordinate_descent.py:633: ConvergenceWarning: Objective did not converge. You might want to increase the number of iterations. Duality gap: 0.0, tolerance: 0.0\n",
      "  model = cd_fast.enet_coordinate_descent_gram(\n",
      "/home/kernel/Desktop/py_test/project/venv/lib/python3.8/site-packages/sklearn/linear_model/_coordinate_descent.py:633: ConvergenceWarning: Objective did not converge. You might want to increase the number of iterations. Duality gap: 0.0, tolerance: 0.0\n",
      "  model = cd_fast.enet_coordinate_descent_gram(\n",
      "/home/kernel/Desktop/py_test/project/venv/lib/python3.8/site-packages/sklearn/linear_model/_coordinate_descent.py:633: ConvergenceWarning: Objective did not converge. You might want to increase the number of iterations. Duality gap: 0.0, tolerance: 0.0\n",
      "  model = cd_fast.enet_coordinate_descent_gram(\n",
      "/home/kernel/Desktop/py_test/project/venv/lib/python3.8/site-packages/sklearn/linear_model/_coordinate_descent.py:633: ConvergenceWarning: Objective did not converge. You might want to increase the number of iterations. Duality gap: 0.0, tolerance: 0.0\n",
      "  model = cd_fast.enet_coordinate_descent_gram(\n",
      "/home/kernel/Desktop/py_test/project/venv/lib/python3.8/site-packages/sklearn/linear_model/_coordinate_descent.py:633: ConvergenceWarning: Objective did not converge. You might want to increase the number of iterations. Duality gap: 0.0, tolerance: 0.0\n",
      "  model = cd_fast.enet_coordinate_descent_gram(\n",
      "/home/kernel/Desktop/py_test/project/venv/lib/python3.8/site-packages/sklearn/linear_model/_coordinate_descent.py:633: ConvergenceWarning: Objective did not converge. You might want to increase the number of iterations. Duality gap: 0.0, tolerance: 0.0\n",
      "  model = cd_fast.enet_coordinate_descent_gram(\n",
      "/home/kernel/Desktop/py_test/project/venv/lib/python3.8/site-packages/sklearn/linear_model/_coordinate_descent.py:633: ConvergenceWarning: Objective did not converge. You might want to increase the number of iterations. Duality gap: 0.0, tolerance: 0.0\n",
      "  model = cd_fast.enet_coordinate_descent_gram(\n",
      "/home/kernel/Desktop/py_test/project/venv/lib/python3.8/site-packages/sklearn/linear_model/_coordinate_descent.py:633: ConvergenceWarning: Objective did not converge. You might want to increase the number of iterations. Duality gap: 0.0, tolerance: 0.0\n",
      "  model = cd_fast.enet_coordinate_descent_gram(\n",
      "/home/kernel/Desktop/py_test/project/venv/lib/python3.8/site-packages/sklearn/linear_model/_coordinate_descent.py:633: ConvergenceWarning: Objective did not converge. You might want to increase the number of iterations. Duality gap: 0.0, tolerance: 0.0\n",
      "  model = cd_fast.enet_coordinate_descent_gram(\n",
      "/home/kernel/Desktop/py_test/project/venv/lib/python3.8/site-packages/sklearn/linear_model/_coordinate_descent.py:633: ConvergenceWarning: Objective did not converge. You might want to increase the number of iterations. Duality gap: 0.0, tolerance: 0.0\n",
      "  model = cd_fast.enet_coordinate_descent_gram(\n",
      "/home/kernel/Desktop/py_test/project/venv/lib/python3.8/site-packages/sklearn/linear_model/_coordinate_descent.py:633: ConvergenceWarning: Objective did not converge. You might want to increase the number of iterations. Duality gap: 0.0, tolerance: 0.0\n",
      "  model = cd_fast.enet_coordinate_descent_gram(\n",
      "/home/kernel/Desktop/py_test/project/venv/lib/python3.8/site-packages/sklearn/linear_model/_coordinate_descent.py:633: ConvergenceWarning: Objective did not converge. You might want to increase the number of iterations. Duality gap: 0.0, tolerance: 0.0\n",
      "  model = cd_fast.enet_coordinate_descent_gram(\n",
      "/home/kernel/Desktop/py_test/project/venv/lib/python3.8/site-packages/sklearn/linear_model/_coordinate_descent.py:633: ConvergenceWarning: Objective did not converge. You might want to increase the number of iterations. Duality gap: 0.0, tolerance: 0.0\n",
      "  model = cd_fast.enet_coordinate_descent_gram(\n",
      "/home/kernel/Desktop/py_test/project/venv/lib/python3.8/site-packages/sklearn/linear_model/_coordinate_descent.py:633: ConvergenceWarning: Objective did not converge. You might want to increase the number of iterations. Duality gap: 0.0, tolerance: 0.0\n",
      "  model = cd_fast.enet_coordinate_descent_gram(\n",
      "/home/kernel/Desktop/py_test/project/venv/lib/python3.8/site-packages/sklearn/linear_model/_coordinate_descent.py:633: ConvergenceWarning: Objective did not converge. You might want to increase the number of iterations. Duality gap: 0.0, tolerance: 0.0\n",
      "  model = cd_fast.enet_coordinate_descent_gram(\n",
      "/home/kernel/Desktop/py_test/project/venv/lib/python3.8/site-packages/sklearn/linear_model/_coordinate_descent.py:633: ConvergenceWarning: Objective did not converge. You might want to increase the number of iterations. Duality gap: 0.0, tolerance: 0.0\n",
      "  model = cd_fast.enet_coordinate_descent_gram(\n",
      "/home/kernel/Desktop/py_test/project/venv/lib/python3.8/site-packages/sklearn/linear_model/_coordinate_descent.py:633: ConvergenceWarning: Objective did not converge. You might want to increase the number of iterations. Duality gap: 0.0, tolerance: 0.0\n",
      "  model = cd_fast.enet_coordinate_descent_gram(\n",
      "/home/kernel/Desktop/py_test/project/venv/lib/python3.8/site-packages/sklearn/linear_model/_coordinate_descent.py:633: ConvergenceWarning: Objective did not converge. You might want to increase the number of iterations. Duality gap: 0.0, tolerance: 0.0\n",
      "  model = cd_fast.enet_coordinate_descent_gram(\n",
      "/home/kernel/Desktop/py_test/project/venv/lib/python3.8/site-packages/sklearn/linear_model/_coordinate_descent.py:633: ConvergenceWarning: Objective did not converge. You might want to increase the number of iterations. Duality gap: 0.0, tolerance: 0.0\n",
      "  model = cd_fast.enet_coordinate_descent_gram(\n",
      "/home/kernel/Desktop/py_test/project/venv/lib/python3.8/site-packages/sklearn/linear_model/_coordinate_descent.py:633: ConvergenceWarning: Objective did not converge. You might want to increase the number of iterations. Duality gap: 0.0, tolerance: 0.0\n",
      "  model = cd_fast.enet_coordinate_descent_gram(\n",
      "/home/kernel/Desktop/py_test/project/venv/lib/python3.8/site-packages/sklearn/linear_model/_coordinate_descent.py:633: ConvergenceWarning: Objective did not converge. You might want to increase the number of iterations. Duality gap: 0.0, tolerance: 0.0\n",
      "  model = cd_fast.enet_coordinate_descent_gram(\n",
      "/home/kernel/Desktop/py_test/project/venv/lib/python3.8/site-packages/sklearn/linear_model/_coordinate_descent.py:633: ConvergenceWarning: Objective did not converge. You might want to increase the number of iterations. Duality gap: 0.0, tolerance: 0.0\n",
      "  model = cd_fast.enet_coordinate_descent_gram(\n",
      "/home/kernel/Desktop/py_test/project/venv/lib/python3.8/site-packages/sklearn/linear_model/_coordinate_descent.py:633: ConvergenceWarning: Objective did not converge. You might want to increase the number of iterations. Duality gap: 0.0, tolerance: 0.0\n",
      "  model = cd_fast.enet_coordinate_descent_gram(\n",
      "/home/kernel/Desktop/py_test/project/venv/lib/python3.8/site-packages/sklearn/linear_model/_coordinate_descent.py:633: ConvergenceWarning: Objective did not converge. You might want to increase the number of iterations. Duality gap: 0.0, tolerance: 0.0\n",
      "  model = cd_fast.enet_coordinate_descent_gram(\n",
      "/home/kernel/Desktop/py_test/project/venv/lib/python3.8/site-packages/sklearn/linear_model/_coordinate_descent.py:633: ConvergenceWarning: Objective did not converge. You might want to increase the number of iterations. Duality gap: 0.0, tolerance: 0.0\n",
      "  model = cd_fast.enet_coordinate_descent_gram(\n",
      "/home/kernel/Desktop/py_test/project/venv/lib/python3.8/site-packages/sklearn/linear_model/_coordinate_descent.py:633: ConvergenceWarning: Objective did not converge. You might want to increase the number of iterations. Duality gap: 0.0, tolerance: 0.0\n",
      "  model = cd_fast.enet_coordinate_descent_gram(\n",
      "/home/kernel/Desktop/py_test/project/venv/lib/python3.8/site-packages/sklearn/linear_model/_coordinate_descent.py:633: ConvergenceWarning: Objective did not converge. You might want to increase the number of iterations. Duality gap: 0.0, tolerance: 0.0\n",
      "  model = cd_fast.enet_coordinate_descent_gram(\n",
      "/home/kernel/Desktop/py_test/project/venv/lib/python3.8/site-packages/sklearn/linear_model/_coordinate_descent.py:633: ConvergenceWarning: Objective did not converge. You might want to increase the number of iterations. Duality gap: 0.0, tolerance: 0.0\n",
      "  model = cd_fast.enet_coordinate_descent_gram(\n",
      "/home/kernel/Desktop/py_test/project/venv/lib/python3.8/site-packages/sklearn/linear_model/_coordinate_descent.py:633: ConvergenceWarning: Objective did not converge. You might want to increase the number of iterations. Duality gap: 0.0, tolerance: 0.0\n",
      "  model = cd_fast.enet_coordinate_descent_gram(\n",
      "/home/kernel/Desktop/py_test/project/venv/lib/python3.8/site-packages/sklearn/linear_model/_coordinate_descent.py:633: ConvergenceWarning: Objective did not converge. You might want to increase the number of iterations. Duality gap: 0.0, tolerance: 0.0\n",
      "  model = cd_fast.enet_coordinate_descent_gram(\n",
      "/home/kernel/Desktop/py_test/project/venv/lib/python3.8/site-packages/sklearn/linear_model/_coordinate_descent.py:633: ConvergenceWarning: Objective did not converge. You might want to increase the number of iterations. Duality gap: 0.0, tolerance: 0.0\n",
      "  model = cd_fast.enet_coordinate_descent_gram(\n",
      "/home/kernel/Desktop/py_test/project/venv/lib/python3.8/site-packages/sklearn/linear_model/_coordinate_descent.py:633: ConvergenceWarning: Objective did not converge. You might want to increase the number of iterations. Duality gap: 0.0, tolerance: 0.0\n",
      "  model = cd_fast.enet_coordinate_descent_gram(\n",
      "/home/kernel/Desktop/py_test/project/venv/lib/python3.8/site-packages/sklearn/linear_model/_coordinate_descent.py:633: ConvergenceWarning: Objective did not converge. You might want to increase the number of iterations. Duality gap: 0.0, tolerance: 0.0\n",
      "  model = cd_fast.enet_coordinate_descent_gram(\n",
      "/home/kernel/Desktop/py_test/project/venv/lib/python3.8/site-packages/sklearn/linear_model/_coordinate_descent.py:633: ConvergenceWarning: Objective did not converge. You might want to increase the number of iterations. Duality gap: 0.0, tolerance: 0.0\n",
      "  model = cd_fast.enet_coordinate_descent_gram(\n",
      "/home/kernel/Desktop/py_test/project/venv/lib/python3.8/site-packages/sklearn/linear_model/_coordinate_descent.py:633: ConvergenceWarning: Objective did not converge. You might want to increase the number of iterations. Duality gap: 0.0, tolerance: 0.0\n",
      "  model = cd_fast.enet_coordinate_descent_gram(\n",
      "/home/kernel/Desktop/py_test/project/venv/lib/python3.8/site-packages/sklearn/linear_model/_coordinate_descent.py:633: ConvergenceWarning: Objective did not converge. You might want to increase the number of iterations. Duality gap: 0.0, tolerance: 0.0\n",
      "  model = cd_fast.enet_coordinate_descent_gram(\n",
      "/home/kernel/Desktop/py_test/project/venv/lib/python3.8/site-packages/sklearn/linear_model/_coordinate_descent.py:633: ConvergenceWarning: Objective did not converge. You might want to increase the number of iterations. Duality gap: 0.0, tolerance: 0.0\n",
      "  model = cd_fast.enet_coordinate_descent_gram(\n",
      "/home/kernel/Desktop/py_test/project/venv/lib/python3.8/site-packages/sklearn/linear_model/_coordinate_descent.py:633: ConvergenceWarning: Objective did not converge. You might want to increase the number of iterations. Duality gap: 0.0, tolerance: 0.0\n",
      "  model = cd_fast.enet_coordinate_descent_gram(\n",
      "/home/kernel/Desktop/py_test/project/venv/lib/python3.8/site-packages/sklearn/linear_model/_coordinate_descent.py:633: ConvergenceWarning: Objective did not converge. You might want to increase the number of iterations. Duality gap: 0.0, tolerance: 0.0\n",
      "  model = cd_fast.enet_coordinate_descent_gram(\n",
      "/home/kernel/Desktop/py_test/project/venv/lib/python3.8/site-packages/sklearn/linear_model/_coordinate_descent.py:633: ConvergenceWarning: Objective did not converge. You might want to increase the number of iterations. Duality gap: 0.0, tolerance: 0.0\n",
      "  model = cd_fast.enet_coordinate_descent_gram(\n",
      "/home/kernel/Desktop/py_test/project/venv/lib/python3.8/site-packages/sklearn/linear_model/_coordinate_descent.py:633: ConvergenceWarning: Objective did not converge. You might want to increase the number of iterations. Duality gap: 0.0, tolerance: 0.0\n",
      "  model = cd_fast.enet_coordinate_descent_gram(\n",
      "/home/kernel/Desktop/py_test/project/venv/lib/python3.8/site-packages/sklearn/linear_model/_coordinate_descent.py:633: ConvergenceWarning: Objective did not converge. You might want to increase the number of iterations. Duality gap: 0.0, tolerance: 0.0\n",
      "  model = cd_fast.enet_coordinate_descent_gram(\n",
      "/home/kernel/Desktop/py_test/project/venv/lib/python3.8/site-packages/sklearn/linear_model/_coordinate_descent.py:633: ConvergenceWarning: Objective did not converge. You might want to increase the number of iterations. Duality gap: 0.0, tolerance: 0.0\n",
      "  model = cd_fast.enet_coordinate_descent_gram(\n",
      "/home/kernel/Desktop/py_test/project/venv/lib/python3.8/site-packages/sklearn/linear_model/_coordinate_descent.py:633: ConvergenceWarning: Objective did not converge. You might want to increase the number of iterations. Duality gap: 0.0, tolerance: 0.0\n",
      "  model = cd_fast.enet_coordinate_descent_gram(\n",
      "/home/kernel/Desktop/py_test/project/venv/lib/python3.8/site-packages/sklearn/linear_model/_coordinate_descent.py:633: ConvergenceWarning: Objective did not converge. You might want to increase the number of iterations. Duality gap: 0.0, tolerance: 0.0\n",
      "  model = cd_fast.enet_coordinate_descent_gram(\n",
      "/home/kernel/Desktop/py_test/project/venv/lib/python3.8/site-packages/sklearn/linear_model/_coordinate_descent.py:633: ConvergenceWarning: Objective did not converge. You might want to increase the number of iterations. Duality gap: 0.0, tolerance: 0.0\n",
      "  model = cd_fast.enet_coordinate_descent_gram(\n",
      "/home/kernel/Desktop/py_test/project/venv/lib/python3.8/site-packages/sklearn/linear_model/_coordinate_descent.py:633: ConvergenceWarning: Objective did not converge. You might want to increase the number of iterations. Duality gap: 0.0, tolerance: 0.0\n",
      "  model = cd_fast.enet_coordinate_descent_gram(\n",
      "/home/kernel/Desktop/py_test/project/venv/lib/python3.8/site-packages/sklearn/linear_model/_coordinate_descent.py:633: ConvergenceWarning: Objective did not converge. You might want to increase the number of iterations. Duality gap: 0.0, tolerance: 0.0\n",
      "  model = cd_fast.enet_coordinate_descent_gram(\n",
      "/home/kernel/Desktop/py_test/project/venv/lib/python3.8/site-packages/sklearn/linear_model/_coordinate_descent.py:633: ConvergenceWarning: Objective did not converge. You might want to increase the number of iterations. Duality gap: 0.0, tolerance: 0.0\n",
      "  model = cd_fast.enet_coordinate_descent_gram(\n",
      "/home/kernel/Desktop/py_test/project/venv/lib/python3.8/site-packages/sklearn/linear_model/_coordinate_descent.py:633: ConvergenceWarning: Objective did not converge. You might want to increase the number of iterations. Duality gap: 0.0, tolerance: 0.0\n",
      "  model = cd_fast.enet_coordinate_descent_gram(\n",
      "/home/kernel/Desktop/py_test/project/venv/lib/python3.8/site-packages/sklearn/linear_model/_coordinate_descent.py:633: ConvergenceWarning: Objective did not converge. You might want to increase the number of iterations. Duality gap: 0.0, tolerance: 0.0\n",
      "  model = cd_fast.enet_coordinate_descent_gram(\n",
      "/home/kernel/Desktop/py_test/project/venv/lib/python3.8/site-packages/sklearn/linear_model/_coordinate_descent.py:633: ConvergenceWarning: Objective did not converge. You might want to increase the number of iterations. Duality gap: 0.0, tolerance: 0.0\n",
      "  model = cd_fast.enet_coordinate_descent_gram(\n",
      "/home/kernel/Desktop/py_test/project/venv/lib/python3.8/site-packages/sklearn/linear_model/_coordinate_descent.py:633: ConvergenceWarning: Objective did not converge. You might want to increase the number of iterations. Duality gap: 0.0, tolerance: 0.0\n",
      "  model = cd_fast.enet_coordinate_descent_gram(\n",
      "/home/kernel/Desktop/py_test/project/venv/lib/python3.8/site-packages/sklearn/linear_model/_coordinate_descent.py:633: ConvergenceWarning: Objective did not converge. You might want to increase the number of iterations. Duality gap: 0.0, tolerance: 0.0\n",
      "  model = cd_fast.enet_coordinate_descent_gram(\n",
      "/home/kernel/Desktop/py_test/project/venv/lib/python3.8/site-packages/sklearn/linear_model/_coordinate_descent.py:633: ConvergenceWarning: Objective did not converge. You might want to increase the number of iterations. Duality gap: 0.0, tolerance: 0.0\n",
      "  model = cd_fast.enet_coordinate_descent_gram(\n",
      "/home/kernel/Desktop/py_test/project/venv/lib/python3.8/site-packages/sklearn/linear_model/_coordinate_descent.py:633: ConvergenceWarning: Objective did not converge. You might want to increase the number of iterations. Duality gap: 0.0, tolerance: 0.0\n",
      "  model = cd_fast.enet_coordinate_descent_gram(\n",
      "/home/kernel/Desktop/py_test/project/venv/lib/python3.8/site-packages/sklearn/linear_model/_coordinate_descent.py:633: ConvergenceWarning: Objective did not converge. You might want to increase the number of iterations. Duality gap: 0.0, tolerance: 0.0\n",
      "  model = cd_fast.enet_coordinate_descent_gram(\n",
      "/home/kernel/Desktop/py_test/project/venv/lib/python3.8/site-packages/sklearn/linear_model/_coordinate_descent.py:633: ConvergenceWarning: Objective did not converge. You might want to increase the number of iterations. Duality gap: 0.0, tolerance: 0.0\n",
      "  model = cd_fast.enet_coordinate_descent_gram(\n",
      "/home/kernel/Desktop/py_test/project/venv/lib/python3.8/site-packages/sklearn/linear_model/_coordinate_descent.py:633: ConvergenceWarning: Objective did not converge. You might want to increase the number of iterations. Duality gap: 0.0, tolerance: 0.0\n",
      "  model = cd_fast.enet_coordinate_descent_gram(\n",
      "/home/kernel/Desktop/py_test/project/venv/lib/python3.8/site-packages/sklearn/linear_model/_coordinate_descent.py:633: ConvergenceWarning: Objective did not converge. You might want to increase the number of iterations. Duality gap: 0.0, tolerance: 0.0\n",
      "  model = cd_fast.enet_coordinate_descent_gram(\n",
      "/home/kernel/Desktop/py_test/project/venv/lib/python3.8/site-packages/sklearn/linear_model/_coordinate_descent.py:633: ConvergenceWarning: Objective did not converge. You might want to increase the number of iterations. Duality gap: 0.0, tolerance: 0.0\n",
      "  model = cd_fast.enet_coordinate_descent_gram(\n",
      "/home/kernel/Desktop/py_test/project/venv/lib/python3.8/site-packages/sklearn/linear_model/_coordinate_descent.py:633: ConvergenceWarning: Objective did not converge. You might want to increase the number of iterations. Duality gap: 0.0, tolerance: 0.0\n",
      "  model = cd_fast.enet_coordinate_descent_gram(\n",
      "/home/kernel/Desktop/py_test/project/venv/lib/python3.8/site-packages/sklearn/linear_model/_coordinate_descent.py:633: ConvergenceWarning: Objective did not converge. You might want to increase the number of iterations. Duality gap: 0.0, tolerance: 0.0\n",
      "  model = cd_fast.enet_coordinate_descent_gram(\n",
      "/home/kernel/Desktop/py_test/project/venv/lib/python3.8/site-packages/sklearn/linear_model/_coordinate_descent.py:633: ConvergenceWarning: Objective did not converge. You might want to increase the number of iterations. Duality gap: 0.0, tolerance: 0.0\n",
      "  model = cd_fast.enet_coordinate_descent_gram(\n",
      "/home/kernel/Desktop/py_test/project/venv/lib/python3.8/site-packages/sklearn/linear_model/_coordinate_descent.py:633: ConvergenceWarning: Objective did not converge. You might want to increase the number of iterations. Duality gap: 0.0, tolerance: 0.0\n",
      "  model = cd_fast.enet_coordinate_descent_gram(\n",
      "/home/kernel/Desktop/py_test/project/venv/lib/python3.8/site-packages/sklearn/linear_model/_coordinate_descent.py:633: ConvergenceWarning: Objective did not converge. You might want to increase the number of iterations. Duality gap: 0.0, tolerance: 0.0\n",
      "  model = cd_fast.enet_coordinate_descent_gram(\n",
      "/home/kernel/Desktop/py_test/project/venv/lib/python3.8/site-packages/sklearn/linear_model/_coordinate_descent.py:633: ConvergenceWarning: Objective did not converge. You might want to increase the number of iterations. Duality gap: 0.0, tolerance: 0.0\n",
      "  model = cd_fast.enet_coordinate_descent_gram(\n",
      "/home/kernel/Desktop/py_test/project/venv/lib/python3.8/site-packages/sklearn/linear_model/_coordinate_descent.py:633: ConvergenceWarning: Objective did not converge. You might want to increase the number of iterations. Duality gap: 0.0, tolerance: 0.0\n",
      "  model = cd_fast.enet_coordinate_descent_gram(\n",
      "/home/kernel/Desktop/py_test/project/venv/lib/python3.8/site-packages/sklearn/linear_model/_coordinate_descent.py:633: ConvergenceWarning: Objective did not converge. You might want to increase the number of iterations. Duality gap: 0.0, tolerance: 0.0\n",
      "  model = cd_fast.enet_coordinate_descent_gram(\n",
      "/home/kernel/Desktop/py_test/project/venv/lib/python3.8/site-packages/sklearn/linear_model/_coordinate_descent.py:633: ConvergenceWarning: Objective did not converge. You might want to increase the number of iterations. Duality gap: 0.0, tolerance: 0.0\n",
      "  model = cd_fast.enet_coordinate_descent_gram(\n",
      "/home/kernel/Desktop/py_test/project/venv/lib/python3.8/site-packages/sklearn/linear_model/_coordinate_descent.py:633: ConvergenceWarning: Objective did not converge. You might want to increase the number of iterations. Duality gap: 0.0, tolerance: 0.0\n",
      "  model = cd_fast.enet_coordinate_descent_gram(\n",
      "/home/kernel/Desktop/py_test/project/venv/lib/python3.8/site-packages/sklearn/linear_model/_coordinate_descent.py:633: ConvergenceWarning: Objective did not converge. You might want to increase the number of iterations. Duality gap: 0.0, tolerance: 0.0\n",
      "  model = cd_fast.enet_coordinate_descent_gram(\n",
      "/home/kernel/Desktop/py_test/project/venv/lib/python3.8/site-packages/sklearn/linear_model/_coordinate_descent.py:633: ConvergenceWarning: Objective did not converge. You might want to increase the number of iterations. Duality gap: 0.0, tolerance: 0.0\n",
      "  model = cd_fast.enet_coordinate_descent_gram(\n",
      "/home/kernel/Desktop/py_test/project/venv/lib/python3.8/site-packages/sklearn/linear_model/_coordinate_descent.py:633: ConvergenceWarning: Objective did not converge. You might want to increase the number of iterations. Duality gap: 0.0, tolerance: 0.0\n",
      "  model = cd_fast.enet_coordinate_descent_gram(\n",
      "/home/kernel/Desktop/py_test/project/venv/lib/python3.8/site-packages/sklearn/linear_model/_coordinate_descent.py:633: ConvergenceWarning: Objective did not converge. You might want to increase the number of iterations. Duality gap: 0.0, tolerance: 0.0\n",
      "  model = cd_fast.enet_coordinate_descent_gram(\n",
      "/home/kernel/Desktop/py_test/project/venv/lib/python3.8/site-packages/sklearn/linear_model/_coordinate_descent.py:633: ConvergenceWarning: Objective did not converge. You might want to increase the number of iterations. Duality gap: 0.0, tolerance: 0.0\n",
      "  model = cd_fast.enet_coordinate_descent_gram(\n",
      "/home/kernel/Desktop/py_test/project/venv/lib/python3.8/site-packages/sklearn/linear_model/_coordinate_descent.py:633: ConvergenceWarning: Objective did not converge. You might want to increase the number of iterations. Duality gap: 0.0, tolerance: 0.0\n",
      "  model = cd_fast.enet_coordinate_descent_gram(\n",
      "/home/kernel/Desktop/py_test/project/venv/lib/python3.8/site-packages/sklearn/linear_model/_coordinate_descent.py:633: ConvergenceWarning: Objective did not converge. You might want to increase the number of iterations. Duality gap: 0.0, tolerance: 0.0\n",
      "  model = cd_fast.enet_coordinate_descent_gram(\n",
      "/home/kernel/Desktop/py_test/project/venv/lib/python3.8/site-packages/sklearn/linear_model/_coordinate_descent.py:633: ConvergenceWarning: Objective did not converge. You might want to increase the number of iterations. Duality gap: 0.0, tolerance: 0.0\n",
      "  model = cd_fast.enet_coordinate_descent_gram(\n",
      "/home/kernel/Desktop/py_test/project/venv/lib/python3.8/site-packages/sklearn/linear_model/_coordinate_descent.py:633: ConvergenceWarning: Objective did not converge. You might want to increase the number of iterations. Duality gap: 0.0, tolerance: 0.0\n",
      "  model = cd_fast.enet_coordinate_descent_gram(\n",
      "/home/kernel/Desktop/py_test/project/venv/lib/python3.8/site-packages/sklearn/linear_model/_coordinate_descent.py:633: ConvergenceWarning: Objective did not converge. You might want to increase the number of iterations. Duality gap: 0.0, tolerance: 0.0\n",
      "  model = cd_fast.enet_coordinate_descent_gram(\n",
      "/home/kernel/Desktop/py_test/project/venv/lib/python3.8/site-packages/sklearn/linear_model/_coordinate_descent.py:633: ConvergenceWarning: Objective did not converge. You might want to increase the number of iterations. Duality gap: 0.0, tolerance: 0.0\n",
      "  model = cd_fast.enet_coordinate_descent_gram(\n",
      "/home/kernel/Desktop/py_test/project/venv/lib/python3.8/site-packages/sklearn/linear_model/_coordinate_descent.py:633: ConvergenceWarning: Objective did not converge. You might want to increase the number of iterations. Duality gap: 0.0, tolerance: 0.0\n",
      "  model = cd_fast.enet_coordinate_descent_gram(\n",
      "/home/kernel/Desktop/py_test/project/venv/lib/python3.8/site-packages/sklearn/linear_model/_coordinate_descent.py:633: ConvergenceWarning: Objective did not converge. You might want to increase the number of iterations. Duality gap: 0.0, tolerance: 0.0\n",
      "  model = cd_fast.enet_coordinate_descent_gram(\n",
      "/home/kernel/Desktop/py_test/project/venv/lib/python3.8/site-packages/sklearn/linear_model/_coordinate_descent.py:633: ConvergenceWarning: Objective did not converge. You might want to increase the number of iterations. Duality gap: 0.0, tolerance: 0.0\n",
      "  model = cd_fast.enet_coordinate_descent_gram(\n",
      "/home/kernel/Desktop/py_test/project/venv/lib/python3.8/site-packages/sklearn/linear_model/_coordinate_descent.py:633: ConvergenceWarning: Objective did not converge. You might want to increase the number of iterations. Duality gap: 0.0, tolerance: 0.0\n",
      "  model = cd_fast.enet_coordinate_descent_gram(\n",
      "/home/kernel/Desktop/py_test/project/venv/lib/python3.8/site-packages/sklearn/linear_model/_coordinate_descent.py:633: ConvergenceWarning: Objective did not converge. You might want to increase the number of iterations. Duality gap: 0.0, tolerance: 0.0\n",
      "  model = cd_fast.enet_coordinate_descent_gram(\n",
      "/home/kernel/Desktop/py_test/project/venv/lib/python3.8/site-packages/sklearn/linear_model/_coordinate_descent.py:633: ConvergenceWarning: Objective did not converge. You might want to increase the number of iterations. Duality gap: 0.0, tolerance: 0.0\n",
      "  model = cd_fast.enet_coordinate_descent_gram(\n",
      "/home/kernel/Desktop/py_test/project/venv/lib/python3.8/site-packages/sklearn/linear_model/_coordinate_descent.py:633: ConvergenceWarning: Objective did not converge. You might want to increase the number of iterations. Duality gap: 0.0, tolerance: 0.0\n",
      "  model = cd_fast.enet_coordinate_descent_gram(\n",
      "/home/kernel/Desktop/py_test/project/venv/lib/python3.8/site-packages/sklearn/linear_model/_coordinate_descent.py:633: ConvergenceWarning: Objective did not converge. You might want to increase the number of iterations. Duality gap: 0.0, tolerance: 0.0\n",
      "  model = cd_fast.enet_coordinate_descent_gram(\n",
      "/home/kernel/Desktop/py_test/project/venv/lib/python3.8/site-packages/sklearn/linear_model/_coordinate_descent.py:633: ConvergenceWarning: Objective did not converge. You might want to increase the number of iterations. Duality gap: 0.0, tolerance: 0.0\n",
      "  model = cd_fast.enet_coordinate_descent_gram(\n",
      "/home/kernel/Desktop/py_test/project/venv/lib/python3.8/site-packages/sklearn/linear_model/_coordinate_descent.py:633: ConvergenceWarning: Objective did not converge. You might want to increase the number of iterations. Duality gap: 0.0, tolerance: 0.0\n",
      "  model = cd_fast.enet_coordinate_descent_gram(\n",
      "/home/kernel/Desktop/py_test/project/venv/lib/python3.8/site-packages/sklearn/linear_model/_coordinate_descent.py:633: ConvergenceWarning: Objective did not converge. You might want to increase the number of iterations. Duality gap: 0.0, tolerance: 0.0\n",
      "  model = cd_fast.enet_coordinate_descent_gram(\n",
      "/home/kernel/Desktop/py_test/project/venv/lib/python3.8/site-packages/sklearn/linear_model/_coordinate_descent.py:633: ConvergenceWarning: Objective did not converge. You might want to increase the number of iterations. Duality gap: 0.0, tolerance: 0.0\n",
      "  model = cd_fast.enet_coordinate_descent_gram(\n",
      "/home/kernel/Desktop/py_test/project/venv/lib/python3.8/site-packages/sklearn/linear_model/_coordinate_descent.py:633: ConvergenceWarning: Objective did not converge. You might want to increase the number of iterations. Duality gap: 0.0, tolerance: 0.0\n",
      "  model = cd_fast.enet_coordinate_descent_gram(\n",
      "/home/kernel/Desktop/py_test/project/venv/lib/python3.8/site-packages/sklearn/linear_model/_coordinate_descent.py:633: ConvergenceWarning: Objective did not converge. You might want to increase the number of iterations. Duality gap: 0.0, tolerance: 0.0\n",
      "  model = cd_fast.enet_coordinate_descent_gram(\n",
      "/home/kernel/Desktop/py_test/project/venv/lib/python3.8/site-packages/sklearn/linear_model/_coordinate_descent.py:633: ConvergenceWarning: Objective did not converge. You might want to increase the number of iterations. Duality gap: 0.0, tolerance: 0.0\n",
      "  model = cd_fast.enet_coordinate_descent_gram(\n",
      "/home/kernel/Desktop/py_test/project/venv/lib/python3.8/site-packages/sklearn/linear_model/_coordinate_descent.py:633: ConvergenceWarning: Objective did not converge. You might want to increase the number of iterations. Duality gap: 0.0, tolerance: 0.0\n",
      "  model = cd_fast.enet_coordinate_descent_gram(\n",
      "/home/kernel/Desktop/py_test/project/venv/lib/python3.8/site-packages/sklearn/linear_model/_coordinate_descent.py:633: ConvergenceWarning: Objective did not converge. You might want to increase the number of iterations. Duality gap: 0.0, tolerance: 0.0\n",
      "  model = cd_fast.enet_coordinate_descent_gram(\n",
      "/home/kernel/Desktop/py_test/project/venv/lib/python3.8/site-packages/sklearn/linear_model/_coordinate_descent.py:633: ConvergenceWarning: Objective did not converge. You might want to increase the number of iterations. Duality gap: 0.0, tolerance: 0.0\n",
      "  model = cd_fast.enet_coordinate_descent_gram(\n",
      "/home/kernel/Desktop/py_test/project/venv/lib/python3.8/site-packages/sklearn/linear_model/_coordinate_descent.py:633: ConvergenceWarning: Objective did not converge. You might want to increase the number of iterations. Duality gap: 0.0, tolerance: 0.0\n",
      "  model = cd_fast.enet_coordinate_descent_gram(\n",
      "/home/kernel/Desktop/py_test/project/venv/lib/python3.8/site-packages/sklearn/linear_model/_coordinate_descent.py:633: ConvergenceWarning: Objective did not converge. You might want to increase the number of iterations. Duality gap: 0.0, tolerance: 0.0\n",
      "  model = cd_fast.enet_coordinate_descent_gram(\n",
      "/home/kernel/Desktop/py_test/project/venv/lib/python3.8/site-packages/sklearn/linear_model/_coordinate_descent.py:633: ConvergenceWarning: Objective did not converge. You might want to increase the number of iterations. Duality gap: 0.0, tolerance: 0.0\n",
      "  model = cd_fast.enet_coordinate_descent_gram(\n",
      "/home/kernel/Desktop/py_test/project/venv/lib/python3.8/site-packages/sklearn/linear_model/_coordinate_descent.py:633: ConvergenceWarning: Objective did not converge. You might want to increase the number of iterations. Duality gap: 0.0, tolerance: 0.0\n",
      "  model = cd_fast.enet_coordinate_descent_gram(\n",
      "/home/kernel/Desktop/py_test/project/venv/lib/python3.8/site-packages/sklearn/linear_model/_coordinate_descent.py:633: ConvergenceWarning: Objective did not converge. You might want to increase the number of iterations. Duality gap: 0.0, tolerance: 0.0\n",
      "  model = cd_fast.enet_coordinate_descent_gram(\n",
      "/home/kernel/Desktop/py_test/project/venv/lib/python3.8/site-packages/sklearn/linear_model/_coordinate_descent.py:633: ConvergenceWarning: Objective did not converge. You might want to increase the number of iterations. Duality gap: 0.0, tolerance: 0.0\n",
      "  model = cd_fast.enet_coordinate_descent_gram(\n",
      "/home/kernel/Desktop/py_test/project/venv/lib/python3.8/site-packages/sklearn/linear_model/_coordinate_descent.py:633: ConvergenceWarning: Objective did not converge. You might want to increase the number of iterations. Duality gap: 0.0, tolerance: 0.0\n",
      "  model = cd_fast.enet_coordinate_descent_gram(\n",
      "/home/kernel/Desktop/py_test/project/venv/lib/python3.8/site-packages/sklearn/linear_model/_coordinate_descent.py:633: ConvergenceWarning: Objective did not converge. You might want to increase the number of iterations. Duality gap: 0.0, tolerance: 0.0\n",
      "  model = cd_fast.enet_coordinate_descent_gram(\n",
      "/home/kernel/Desktop/py_test/project/venv/lib/python3.8/site-packages/sklearn/linear_model/_coordinate_descent.py:633: ConvergenceWarning: Objective did not converge. You might want to increase the number of iterations. Duality gap: 0.0, tolerance: 0.0\n",
      "  model = cd_fast.enet_coordinate_descent_gram(\n",
      "/home/kernel/Desktop/py_test/project/venv/lib/python3.8/site-packages/sklearn/linear_model/_coordinate_descent.py:633: ConvergenceWarning: Objective did not converge. You might want to increase the number of iterations. Duality gap: 0.0, tolerance: 0.0\n",
      "  model = cd_fast.enet_coordinate_descent_gram(\n",
      "/home/kernel/Desktop/py_test/project/venv/lib/python3.8/site-packages/sklearn/linear_model/_coordinate_descent.py:633: ConvergenceWarning: Objective did not converge. You might want to increase the number of iterations. Duality gap: 0.0, tolerance: 0.0\n",
      "  model = cd_fast.enet_coordinate_descent_gram(\n",
      "/home/kernel/Desktop/py_test/project/venv/lib/python3.8/site-packages/sklearn/linear_model/_coordinate_descent.py:633: ConvergenceWarning: Objective did not converge. You might want to increase the number of iterations. Duality gap: 0.0, tolerance: 0.0\n",
      "  model = cd_fast.enet_coordinate_descent_gram(\n",
      "/home/kernel/Desktop/py_test/project/venv/lib/python3.8/site-packages/sklearn/linear_model/_coordinate_descent.py:633: ConvergenceWarning: Objective did not converge. You might want to increase the number of iterations. Duality gap: 0.0, tolerance: 0.0\n",
      "  model = cd_fast.enet_coordinate_descent_gram(\n",
      "/home/kernel/Desktop/py_test/project/venv/lib/python3.8/site-packages/sklearn/linear_model/_coordinate_descent.py:633: ConvergenceWarning: Objective did not converge. You might want to increase the number of iterations. Duality gap: 0.0, tolerance: 0.0\n",
      "  model = cd_fast.enet_coordinate_descent_gram(\n",
      "/home/kernel/Desktop/py_test/project/venv/lib/python3.8/site-packages/sklearn/linear_model/_coordinate_descent.py:633: ConvergenceWarning: Objective did not converge. You might want to increase the number of iterations. Duality gap: 0.0, tolerance: 0.0\n",
      "  model = cd_fast.enet_coordinate_descent_gram(\n",
      "/home/kernel/Desktop/py_test/project/venv/lib/python3.8/site-packages/sklearn/linear_model/_coordinate_descent.py:633: ConvergenceWarning: Objective did not converge. You might want to increase the number of iterations. Duality gap: 0.0, tolerance: 0.0\n",
      "  model = cd_fast.enet_coordinate_descent_gram(\n",
      "/home/kernel/Desktop/py_test/project/venv/lib/python3.8/site-packages/sklearn/linear_model/_coordinate_descent.py:633: ConvergenceWarning: Objective did not converge. You might want to increase the number of iterations. Duality gap: 0.0, tolerance: 0.0\n",
      "  model = cd_fast.enet_coordinate_descent_gram(\n",
      "/home/kernel/Desktop/py_test/project/venv/lib/python3.8/site-packages/sklearn/linear_model/_coordinate_descent.py:633: ConvergenceWarning: Objective did not converge. You might want to increase the number of iterations. Duality gap: 0.0, tolerance: 0.0\n",
      "  model = cd_fast.enet_coordinate_descent_gram(\n",
      "/home/kernel/Desktop/py_test/project/venv/lib/python3.8/site-packages/sklearn/linear_model/_coordinate_descent.py:633: ConvergenceWarning: Objective did not converge. You might want to increase the number of iterations. Duality gap: 0.0, tolerance: 0.0\n",
      "  model = cd_fast.enet_coordinate_descent_gram(\n",
      "/home/kernel/Desktop/py_test/project/venv/lib/python3.8/site-packages/sklearn/linear_model/_coordinate_descent.py:633: ConvergenceWarning: Objective did not converge. You might want to increase the number of iterations. Duality gap: 0.0, tolerance: 0.0\n",
      "  model = cd_fast.enet_coordinate_descent_gram(\n",
      "/home/kernel/Desktop/py_test/project/venv/lib/python3.8/site-packages/sklearn/linear_model/_coordinate_descent.py:633: ConvergenceWarning: Objective did not converge. You might want to increase the number of iterations. Duality gap: 0.0, tolerance: 0.0\n",
      "  model = cd_fast.enet_coordinate_descent_gram(\n",
      "/home/kernel/Desktop/py_test/project/venv/lib/python3.8/site-packages/sklearn/linear_model/_coordinate_descent.py:633: ConvergenceWarning: Objective did not converge. You might want to increase the number of iterations. Duality gap: 0.0, tolerance: 0.0\n",
      "  model = cd_fast.enet_coordinate_descent_gram(\n",
      "/home/kernel/Desktop/py_test/project/venv/lib/python3.8/site-packages/sklearn/linear_model/_coordinate_descent.py:633: ConvergenceWarning: Objective did not converge. You might want to increase the number of iterations. Duality gap: 0.0, tolerance: 0.0\n",
      "  model = cd_fast.enet_coordinate_descent_gram(\n",
      "/home/kernel/Desktop/py_test/project/venv/lib/python3.8/site-packages/sklearn/linear_model/_coordinate_descent.py:633: ConvergenceWarning: Objective did not converge. You might want to increase the number of iterations. Duality gap: 0.0, tolerance: 0.0\n",
      "  model = cd_fast.enet_coordinate_descent_gram(\n",
      "/home/kernel/Desktop/py_test/project/venv/lib/python3.8/site-packages/sklearn/linear_model/_coordinate_descent.py:633: ConvergenceWarning: Objective did not converge. You might want to increase the number of iterations. Duality gap: 0.0, tolerance: 0.0\n",
      "  model = cd_fast.enet_coordinate_descent_gram(\n",
      "/home/kernel/Desktop/py_test/project/venv/lib/python3.8/site-packages/sklearn/linear_model/_coordinate_descent.py:633: ConvergenceWarning: Objective did not converge. You might want to increase the number of iterations. Duality gap: 0.0, tolerance: 0.0\n",
      "  model = cd_fast.enet_coordinate_descent_gram(\n",
      "/home/kernel/Desktop/py_test/project/venv/lib/python3.8/site-packages/sklearn/linear_model/_coordinate_descent.py:633: ConvergenceWarning: Objective did not converge. You might want to increase the number of iterations. Duality gap: 0.0, tolerance: 0.0\n",
      "  model = cd_fast.enet_coordinate_descent_gram(\n",
      "/home/kernel/Desktop/py_test/project/venv/lib/python3.8/site-packages/sklearn/linear_model/_coordinate_descent.py:633: ConvergenceWarning: Objective did not converge. You might want to increase the number of iterations. Duality gap: 0.0, tolerance: 0.0\n",
      "  model = cd_fast.enet_coordinate_descent_gram(\n",
      "/home/kernel/Desktop/py_test/project/venv/lib/python3.8/site-packages/sklearn/linear_model/_coordinate_descent.py:633: ConvergenceWarning: Objective did not converge. You might want to increase the number of iterations. Duality gap: 0.0, tolerance: 0.0\n",
      "  model = cd_fast.enet_coordinate_descent_gram(\n",
      "/home/kernel/Desktop/py_test/project/venv/lib/python3.8/site-packages/sklearn/linear_model/_coordinate_descent.py:633: ConvergenceWarning: Objective did not converge. You might want to increase the number of iterations. Duality gap: 0.0, tolerance: 0.0\n",
      "  model = cd_fast.enet_coordinate_descent_gram(\n",
      "/home/kernel/Desktop/py_test/project/venv/lib/python3.8/site-packages/sklearn/linear_model/_coordinate_descent.py:633: ConvergenceWarning: Objective did not converge. You might want to increase the number of iterations. Duality gap: 0.0, tolerance: 0.0\n",
      "  model = cd_fast.enet_coordinate_descent_gram(\n",
      "/home/kernel/Desktop/py_test/project/venv/lib/python3.8/site-packages/sklearn/linear_model/_coordinate_descent.py:633: ConvergenceWarning: Objective did not converge. You might want to increase the number of iterations. Duality gap: 0.0, tolerance: 0.0\n",
      "  model = cd_fast.enet_coordinate_descent_gram(\n",
      "/home/kernel/Desktop/py_test/project/venv/lib/python3.8/site-packages/sklearn/linear_model/_coordinate_descent.py:633: ConvergenceWarning: Objective did not converge. You might want to increase the number of iterations. Duality gap: 0.0, tolerance: 0.0\n",
      "  model = cd_fast.enet_coordinate_descent_gram(\n",
      "/home/kernel/Desktop/py_test/project/venv/lib/python3.8/site-packages/sklearn/linear_model/_coordinate_descent.py:633: ConvergenceWarning: Objective did not converge. You might want to increase the number of iterations. Duality gap: 0.0, tolerance: 0.0\n",
      "  model = cd_fast.enet_coordinate_descent_gram(\n",
      "/home/kernel/Desktop/py_test/project/venv/lib/python3.8/site-packages/sklearn/linear_model/_coordinate_descent.py:633: ConvergenceWarning: Objective did not converge. You might want to increase the number of iterations. Duality gap: 0.0, tolerance: 0.0\n",
      "  model = cd_fast.enet_coordinate_descent_gram(\n",
      "/home/kernel/Desktop/py_test/project/venv/lib/python3.8/site-packages/sklearn/linear_model/_coordinate_descent.py:633: ConvergenceWarning: Objective did not converge. You might want to increase the number of iterations. Duality gap: 0.0, tolerance: 0.0\n",
      "  model = cd_fast.enet_coordinate_descent_gram(\n",
      "/home/kernel/Desktop/py_test/project/venv/lib/python3.8/site-packages/sklearn/linear_model/_coordinate_descent.py:633: ConvergenceWarning: Objective did not converge. You might want to increase the number of iterations. Duality gap: 0.0, tolerance: 0.0\n",
      "  model = cd_fast.enet_coordinate_descent_gram(\n",
      "/home/kernel/Desktop/py_test/project/venv/lib/python3.8/site-packages/sklearn/linear_model/_coordinate_descent.py:633: ConvergenceWarning: Objective did not converge. You might want to increase the number of iterations. Duality gap: 0.0, tolerance: 0.0\n",
      "  model = cd_fast.enet_coordinate_descent_gram(\n",
      "/home/kernel/Desktop/py_test/project/venv/lib/python3.8/site-packages/sklearn/linear_model/_coordinate_descent.py:633: ConvergenceWarning: Objective did not converge. You might want to increase the number of iterations. Duality gap: 0.0, tolerance: 0.0\n",
      "  model = cd_fast.enet_coordinate_descent_gram(\n",
      "/home/kernel/Desktop/py_test/project/venv/lib/python3.8/site-packages/sklearn/linear_model/_coordinate_descent.py:633: ConvergenceWarning: Objective did not converge. You might want to increase the number of iterations. Duality gap: 0.0, tolerance: 0.0\n",
      "  model = cd_fast.enet_coordinate_descent_gram(\n",
      "/home/kernel/Desktop/py_test/project/venv/lib/python3.8/site-packages/sklearn/linear_model/_coordinate_descent.py:633: ConvergenceWarning: Objective did not converge. You might want to increase the number of iterations. Duality gap: 0.0, tolerance: 0.0\n",
      "  model = cd_fast.enet_coordinate_descent_gram(\n",
      "/home/kernel/Desktop/py_test/project/venv/lib/python3.8/site-packages/sklearn/linear_model/_coordinate_descent.py:633: ConvergenceWarning: Objective did not converge. You might want to increase the number of iterations. Duality gap: 0.0, tolerance: 0.0\n",
      "  model = cd_fast.enet_coordinate_descent_gram(\n",
      "/home/kernel/Desktop/py_test/project/venv/lib/python3.8/site-packages/sklearn/linear_model/_coordinate_descent.py:633: ConvergenceWarning: Objective did not converge. You might want to increase the number of iterations. Duality gap: 0.0, tolerance: 0.0\n",
      "  model = cd_fast.enet_coordinate_descent_gram(\n",
      "/home/kernel/Desktop/py_test/project/venv/lib/python3.8/site-packages/sklearn/linear_model/_coordinate_descent.py:633: ConvergenceWarning: Objective did not converge. You might want to increase the number of iterations. Duality gap: 0.0, tolerance: 0.0\n",
      "  model = cd_fast.enet_coordinate_descent_gram(\n",
      "/home/kernel/Desktop/py_test/project/venv/lib/python3.8/site-packages/sklearn/linear_model/_coordinate_descent.py:633: ConvergenceWarning: Objective did not converge. You might want to increase the number of iterations. Duality gap: 0.0, tolerance: 0.0\n",
      "  model = cd_fast.enet_coordinate_descent_gram(\n",
      "/home/kernel/Desktop/py_test/project/venv/lib/python3.8/site-packages/sklearn/linear_model/_coordinate_descent.py:633: ConvergenceWarning: Objective did not converge. You might want to increase the number of iterations. Duality gap: 0.0, tolerance: 0.0\n",
      "  model = cd_fast.enet_coordinate_descent_gram(\n",
      "/home/kernel/Desktop/py_test/project/venv/lib/python3.8/site-packages/sklearn/linear_model/_coordinate_descent.py:633: ConvergenceWarning: Objective did not converge. You might want to increase the number of iterations. Duality gap: 0.0, tolerance: 0.0\n",
      "  model = cd_fast.enet_coordinate_descent_gram(\n",
      "/home/kernel/Desktop/py_test/project/venv/lib/python3.8/site-packages/sklearn/linear_model/_coordinate_descent.py:633: ConvergenceWarning: Objective did not converge. You might want to increase the number of iterations. Duality gap: 0.0, tolerance: 0.0\n",
      "  model = cd_fast.enet_coordinate_descent_gram(\n",
      "/home/kernel/Desktop/py_test/project/venv/lib/python3.8/site-packages/sklearn/linear_model/_coordinate_descent.py:633: ConvergenceWarning: Objective did not converge. You might want to increase the number of iterations. Duality gap: 0.0, tolerance: 0.0\n",
      "  model = cd_fast.enet_coordinate_descent_gram(\n",
      "/home/kernel/Desktop/py_test/project/venv/lib/python3.8/site-packages/sklearn/linear_model/_coordinate_descent.py:633: ConvergenceWarning: Objective did not converge. You might want to increase the number of iterations. Duality gap: 0.0, tolerance: 0.0\n",
      "  model = cd_fast.enet_coordinate_descent_gram(\n",
      "/home/kernel/Desktop/py_test/project/venv/lib/python3.8/site-packages/sklearn/linear_model/_coordinate_descent.py:633: ConvergenceWarning: Objective did not converge. You might want to increase the number of iterations. Duality gap: 0.0, tolerance: 0.0\n",
      "  model = cd_fast.enet_coordinate_descent_gram(\n",
      "/home/kernel/Desktop/py_test/project/venv/lib/python3.8/site-packages/sklearn/linear_model/_coordinate_descent.py:633: ConvergenceWarning: Objective did not converge. You might want to increase the number of iterations. Duality gap: 0.0, tolerance: 0.0\n",
      "  model = cd_fast.enet_coordinate_descent_gram(\n",
      "/home/kernel/Desktop/py_test/project/venv/lib/python3.8/site-packages/sklearn/linear_model/_coordinate_descent.py:633: ConvergenceWarning: Objective did not converge. You might want to increase the number of iterations. Duality gap: 0.0, tolerance: 0.0\n",
      "  model = cd_fast.enet_coordinate_descent_gram(\n",
      "/home/kernel/Desktop/py_test/project/venv/lib/python3.8/site-packages/sklearn/linear_model/_coordinate_descent.py:633: ConvergenceWarning: Objective did not converge. You might want to increase the number of iterations. Duality gap: 0.0, tolerance: 0.0\n",
      "  model = cd_fast.enet_coordinate_descent_gram(\n",
      "/home/kernel/Desktop/py_test/project/venv/lib/python3.8/site-packages/sklearn/linear_model/_coordinate_descent.py:633: ConvergenceWarning: Objective did not converge. You might want to increase the number of iterations. Duality gap: 0.0, tolerance: 0.0\n",
      "  model = cd_fast.enet_coordinate_descent_gram(\n",
      "/home/kernel/Desktop/py_test/project/venv/lib/python3.8/site-packages/sklearn/linear_model/_coordinate_descent.py:633: ConvergenceWarning: Objective did not converge. You might want to increase the number of iterations. Duality gap: 0.0, tolerance: 0.0\n",
      "  model = cd_fast.enet_coordinate_descent_gram(\n",
      "/home/kernel/Desktop/py_test/project/venv/lib/python3.8/site-packages/sklearn/linear_model/_coordinate_descent.py:633: ConvergenceWarning: Objective did not converge. You might want to increase the number of iterations. Duality gap: 0.0, tolerance: 0.0\n",
      "  model = cd_fast.enet_coordinate_descent_gram(\n",
      "/home/kernel/Desktop/py_test/project/venv/lib/python3.8/site-packages/sklearn/linear_model/_coordinate_descent.py:633: ConvergenceWarning: Objective did not converge. You might want to increase the number of iterations. Duality gap: 0.0, tolerance: 0.0\n",
      "  model = cd_fast.enet_coordinate_descent_gram(\n",
      "/home/kernel/Desktop/py_test/project/venv/lib/python3.8/site-packages/sklearn/linear_model/_coordinate_descent.py:633: ConvergenceWarning: Objective did not converge. You might want to increase the number of iterations. Duality gap: 0.0, tolerance: 0.0\n",
      "  model = cd_fast.enet_coordinate_descent_gram(\n",
      "/home/kernel/Desktop/py_test/project/venv/lib/python3.8/site-packages/sklearn/linear_model/_coordinate_descent.py:633: ConvergenceWarning: Objective did not converge. You might want to increase the number of iterations. Duality gap: 0.0, tolerance: 0.0\n",
      "  model = cd_fast.enet_coordinate_descent_gram(\n",
      "/home/kernel/Desktop/py_test/project/venv/lib/python3.8/site-packages/sklearn/linear_model/_coordinate_descent.py:633: ConvergenceWarning: Objective did not converge. You might want to increase the number of iterations. Duality gap: 0.0, tolerance: 0.0\n",
      "  model = cd_fast.enet_coordinate_descent_gram(\n",
      "/home/kernel/Desktop/py_test/project/venv/lib/python3.8/site-packages/sklearn/linear_model/_coordinate_descent.py:633: ConvergenceWarning: Objective did not converge. You might want to increase the number of iterations. Duality gap: 0.0, tolerance: 0.0\n",
      "  model = cd_fast.enet_coordinate_descent_gram(\n",
      "/home/kernel/Desktop/py_test/project/venv/lib/python3.8/site-packages/sklearn/linear_model/_coordinate_descent.py:633: ConvergenceWarning: Objective did not converge. You might want to increase the number of iterations. Duality gap: 0.0, tolerance: 0.0\n",
      "  model = cd_fast.enet_coordinate_descent_gram(\n",
      "/home/kernel/Desktop/py_test/project/venv/lib/python3.8/site-packages/sklearn/linear_model/_coordinate_descent.py:633: ConvergenceWarning: Objective did not converge. You might want to increase the number of iterations. Duality gap: 0.0, tolerance: 0.0\n",
      "  model = cd_fast.enet_coordinate_descent_gram(\n",
      "/home/kernel/Desktop/py_test/project/venv/lib/python3.8/site-packages/sklearn/linear_model/_coordinate_descent.py:633: ConvergenceWarning: Objective did not converge. You might want to increase the number of iterations. Duality gap: 0.0, tolerance: 0.0\n",
      "  model = cd_fast.enet_coordinate_descent_gram(\n",
      "/home/kernel/Desktop/py_test/project/venv/lib/python3.8/site-packages/sklearn/linear_model/_coordinate_descent.py:633: ConvergenceWarning: Objective did not converge. You might want to increase the number of iterations. Duality gap: 0.0, tolerance: 0.0\n",
      "  model = cd_fast.enet_coordinate_descent_gram(\n",
      "/home/kernel/Desktop/py_test/project/venv/lib/python3.8/site-packages/sklearn/linear_model/_coordinate_descent.py:633: ConvergenceWarning: Objective did not converge. You might want to increase the number of iterations. Duality gap: 0.0, tolerance: 0.0\n",
      "  model = cd_fast.enet_coordinate_descent_gram(\n",
      "/home/kernel/Desktop/py_test/project/venv/lib/python3.8/site-packages/sklearn/linear_model/_coordinate_descent.py:633: ConvergenceWarning: Objective did not converge. You might want to increase the number of iterations. Duality gap: 0.0, tolerance: 0.0\n",
      "  model = cd_fast.enet_coordinate_descent_gram(\n",
      "/home/kernel/Desktop/py_test/project/venv/lib/python3.8/site-packages/sklearn/linear_model/_coordinate_descent.py:633: ConvergenceWarning: Objective did not converge. You might want to increase the number of iterations. Duality gap: 0.0, tolerance: 0.0\n",
      "  model = cd_fast.enet_coordinate_descent_gram(\n",
      "/home/kernel/Desktop/py_test/project/venv/lib/python3.8/site-packages/sklearn/linear_model/_coordinate_descent.py:633: ConvergenceWarning: Objective did not converge. You might want to increase the number of iterations. Duality gap: 0.0, tolerance: 0.0\n",
      "  model = cd_fast.enet_coordinate_descent_gram(\n",
      "/home/kernel/Desktop/py_test/project/venv/lib/python3.8/site-packages/sklearn/linear_model/_coordinate_descent.py:633: ConvergenceWarning: Objective did not converge. You might want to increase the number of iterations. Duality gap: 0.0, tolerance: 0.0\n",
      "  model = cd_fast.enet_coordinate_descent_gram(\n",
      "/home/kernel/Desktop/py_test/project/venv/lib/python3.8/site-packages/sklearn/linear_model/_coordinate_descent.py:633: ConvergenceWarning: Objective did not converge. You might want to increase the number of iterations. Duality gap: 0.0, tolerance: 0.0\n",
      "  model = cd_fast.enet_coordinate_descent_gram(\n",
      "/home/kernel/Desktop/py_test/project/venv/lib/python3.8/site-packages/sklearn/linear_model/_coordinate_descent.py:633: ConvergenceWarning: Objective did not converge. You might want to increase the number of iterations. Duality gap: 0.0, tolerance: 0.0\n",
      "  model = cd_fast.enet_coordinate_descent_gram(\n",
      "/home/kernel/Desktop/py_test/project/venv/lib/python3.8/site-packages/sklearn/linear_model/_coordinate_descent.py:633: ConvergenceWarning: Objective did not converge. You might want to increase the number of iterations. Duality gap: 0.0, tolerance: 0.0\n",
      "  model = cd_fast.enet_coordinate_descent_gram(\n",
      "/home/kernel/Desktop/py_test/project/venv/lib/python3.8/site-packages/sklearn/linear_model/_coordinate_descent.py:633: ConvergenceWarning: Objective did not converge. You might want to increase the number of iterations. Duality gap: 0.0, tolerance: 0.0\n",
      "  model = cd_fast.enet_coordinate_descent_gram(\n",
      "/home/kernel/Desktop/py_test/project/venv/lib/python3.8/site-packages/sklearn/linear_model/_coordinate_descent.py:633: ConvergenceWarning: Objective did not converge. You might want to increase the number of iterations. Duality gap: 0.0, tolerance: 0.0\n",
      "  model = cd_fast.enet_coordinate_descent_gram(\n",
      "/home/kernel/Desktop/py_test/project/venv/lib/python3.8/site-packages/sklearn/linear_model/_coordinate_descent.py:633: ConvergenceWarning: Objective did not converge. You might want to increase the number of iterations. Duality gap: 0.0, tolerance: 0.0\n",
      "  model = cd_fast.enet_coordinate_descent_gram(\n",
      "/home/kernel/Desktop/py_test/project/venv/lib/python3.8/site-packages/sklearn/linear_model/_coordinate_descent.py:633: ConvergenceWarning: Objective did not converge. You might want to increase the number of iterations. Duality gap: 0.0, tolerance: 0.0\n",
      "  model = cd_fast.enet_coordinate_descent_gram(\n",
      "/home/kernel/Desktop/py_test/project/venv/lib/python3.8/site-packages/sklearn/linear_model/_coordinate_descent.py:633: ConvergenceWarning: Objective did not converge. You might want to increase the number of iterations. Duality gap: 0.0, tolerance: 0.0\n",
      "  model = cd_fast.enet_coordinate_descent_gram(\n",
      "/home/kernel/Desktop/py_test/project/venv/lib/python3.8/site-packages/sklearn/linear_model/_coordinate_descent.py:633: ConvergenceWarning: Objective did not converge. You might want to increase the number of iterations. Duality gap: 0.0, tolerance: 0.0\n",
      "  model = cd_fast.enet_coordinate_descent_gram(\n",
      "/home/kernel/Desktop/py_test/project/venv/lib/python3.8/site-packages/sklearn/linear_model/_coordinate_descent.py:633: ConvergenceWarning: Objective did not converge. You might want to increase the number of iterations. Duality gap: 0.0, tolerance: 0.0\n",
      "  model = cd_fast.enet_coordinate_descent_gram(\n",
      "/home/kernel/Desktop/py_test/project/venv/lib/python3.8/site-packages/sklearn/linear_model/_coordinate_descent.py:633: ConvergenceWarning: Objective did not converge. You might want to increase the number of iterations. Duality gap: 0.0, tolerance: 0.0\n",
      "  model = cd_fast.enet_coordinate_descent_gram(\n",
      "/home/kernel/Desktop/py_test/project/venv/lib/python3.8/site-packages/sklearn/linear_model/_coordinate_descent.py:633: ConvergenceWarning: Objective did not converge. You might want to increase the number of iterations. Duality gap: 0.0, tolerance: 0.0\n",
      "  model = cd_fast.enet_coordinate_descent_gram(\n",
      "/home/kernel/Desktop/py_test/project/venv/lib/python3.8/site-packages/sklearn/linear_model/_coordinate_descent.py:633: ConvergenceWarning: Objective did not converge. You might want to increase the number of iterations. Duality gap: 0.0, tolerance: 0.0\n",
      "  model = cd_fast.enet_coordinate_descent_gram(\n",
      "/home/kernel/Desktop/py_test/project/venv/lib/python3.8/site-packages/sklearn/linear_model/_coordinate_descent.py:633: ConvergenceWarning: Objective did not converge. You might want to increase the number of iterations. Duality gap: 0.0, tolerance: 0.0\n",
      "  model = cd_fast.enet_coordinate_descent_gram(\n",
      "/home/kernel/Desktop/py_test/project/venv/lib/python3.8/site-packages/sklearn/linear_model/_coordinate_descent.py:633: ConvergenceWarning: Objective did not converge. You might want to increase the number of iterations. Duality gap: 0.0, tolerance: 0.0\n",
      "  model = cd_fast.enet_coordinate_descent_gram(\n",
      "/home/kernel/Desktop/py_test/project/venv/lib/python3.8/site-packages/sklearn/linear_model/_coordinate_descent.py:633: ConvergenceWarning: Objective did not converge. You might want to increase the number of iterations. Duality gap: 0.0, tolerance: 0.0\n",
      "  model = cd_fast.enet_coordinate_descent_gram(\n",
      "/home/kernel/Desktop/py_test/project/venv/lib/python3.8/site-packages/sklearn/linear_model/_coordinate_descent.py:633: ConvergenceWarning: Objective did not converge. You might want to increase the number of iterations. Duality gap: 0.0, tolerance: 0.0\n",
      "  model = cd_fast.enet_coordinate_descent_gram(\n",
      "/home/kernel/Desktop/py_test/project/venv/lib/python3.8/site-packages/sklearn/linear_model/_coordinate_descent.py:633: ConvergenceWarning: Objective did not converge. You might want to increase the number of iterations. Duality gap: 0.0, tolerance: 0.0\n",
      "  model = cd_fast.enet_coordinate_descent_gram(\n",
      "/home/kernel/Desktop/py_test/project/venv/lib/python3.8/site-packages/sklearn/linear_model/_coordinate_descent.py:633: ConvergenceWarning: Objective did not converge. You might want to increase the number of iterations. Duality gap: 0.0, tolerance: 0.0\n",
      "  model = cd_fast.enet_coordinate_descent_gram(\n",
      "/home/kernel/Desktop/py_test/project/venv/lib/python3.8/site-packages/sklearn/linear_model/_coordinate_descent.py:633: ConvergenceWarning: Objective did not converge. You might want to increase the number of iterations. Duality gap: 0.0, tolerance: 0.0\n",
      "  model = cd_fast.enet_coordinate_descent_gram(\n",
      "/home/kernel/Desktop/py_test/project/venv/lib/python3.8/site-packages/sklearn/linear_model/_coordinate_descent.py:633: ConvergenceWarning: Objective did not converge. You might want to increase the number of iterations. Duality gap: 0.0, tolerance: 0.0\n",
      "  model = cd_fast.enet_coordinate_descent_gram(\n",
      "/home/kernel/Desktop/py_test/project/venv/lib/python3.8/site-packages/sklearn/linear_model/_coordinate_descent.py:633: ConvergenceWarning: Objective did not converge. You might want to increase the number of iterations. Duality gap: 0.0, tolerance: 0.0\n",
      "  model = cd_fast.enet_coordinate_descent_gram(\n",
      "/home/kernel/Desktop/py_test/project/venv/lib/python3.8/site-packages/sklearn/linear_model/_coordinate_descent.py:633: ConvergenceWarning: Objective did not converge. You might want to increase the number of iterations. Duality gap: 0.0, tolerance: 0.0\n",
      "  model = cd_fast.enet_coordinate_descent_gram(\n",
      "/home/kernel/Desktop/py_test/project/venv/lib/python3.8/site-packages/sklearn/linear_model/_coordinate_descent.py:633: ConvergenceWarning: Objective did not converge. You might want to increase the number of iterations. Duality gap: 0.0, tolerance: 0.0\n",
      "  model = cd_fast.enet_coordinate_descent_gram(\n",
      "/home/kernel/Desktop/py_test/project/venv/lib/python3.8/site-packages/sklearn/linear_model/_coordinate_descent.py:633: ConvergenceWarning: Objective did not converge. You might want to increase the number of iterations. Duality gap: 0.0, tolerance: 0.0\n",
      "  model = cd_fast.enet_coordinate_descent_gram(\n",
      "/home/kernel/Desktop/py_test/project/venv/lib/python3.8/site-packages/sklearn/linear_model/_coordinate_descent.py:633: ConvergenceWarning: Objective did not converge. You might want to increase the number of iterations. Duality gap: 0.0, tolerance: 0.0\n",
      "  model = cd_fast.enet_coordinate_descent_gram(\n",
      "/home/kernel/Desktop/py_test/project/venv/lib/python3.8/site-packages/sklearn/linear_model/_coordinate_descent.py:633: ConvergenceWarning: Objective did not converge. You might want to increase the number of iterations. Duality gap: 0.0, tolerance: 0.0\n",
      "  model = cd_fast.enet_coordinate_descent_gram(\n",
      "/home/kernel/Desktop/py_test/project/venv/lib/python3.8/site-packages/sklearn/linear_model/_coordinate_descent.py:633: ConvergenceWarning: Objective did not converge. You might want to increase the number of iterations. Duality gap: 0.0, tolerance: 0.0\n",
      "  model = cd_fast.enet_coordinate_descent_gram(\n",
      "/home/kernel/Desktop/py_test/project/venv/lib/python3.8/site-packages/sklearn/linear_model/_coordinate_descent.py:633: ConvergenceWarning: Objective did not converge. You might want to increase the number of iterations. Duality gap: 0.0, tolerance: 0.0\n",
      "  model = cd_fast.enet_coordinate_descent_gram(\n",
      "/home/kernel/Desktop/py_test/project/venv/lib/python3.8/site-packages/sklearn/linear_model/_coordinate_descent.py:633: ConvergenceWarning: Objective did not converge. You might want to increase the number of iterations. Duality gap: 0.0, tolerance: 0.0\n",
      "  model = cd_fast.enet_coordinate_descent_gram(\n",
      "/home/kernel/Desktop/py_test/project/venv/lib/python3.8/site-packages/sklearn/linear_model/_coordinate_descent.py:633: ConvergenceWarning: Objective did not converge. You might want to increase the number of iterations. Duality gap: 0.0, tolerance: 0.0\n",
      "  model = cd_fast.enet_coordinate_descent_gram(\n",
      "/home/kernel/Desktop/py_test/project/venv/lib/python3.8/site-packages/sklearn/linear_model/_coordinate_descent.py:633: ConvergenceWarning: Objective did not converge. You might want to increase the number of iterations. Duality gap: 0.0, tolerance: 0.0\n",
      "  model = cd_fast.enet_coordinate_descent_gram(\n",
      "/home/kernel/Desktop/py_test/project/venv/lib/python3.8/site-packages/sklearn/linear_model/_coordinate_descent.py:633: ConvergenceWarning: Objective did not converge. You might want to increase the number of iterations. Duality gap: 0.0, tolerance: 0.0\n",
      "  model = cd_fast.enet_coordinate_descent_gram(\n",
      "/home/kernel/Desktop/py_test/project/venv/lib/python3.8/site-packages/sklearn/linear_model/_coordinate_descent.py:633: ConvergenceWarning: Objective did not converge. You might want to increase the number of iterations. Duality gap: 0.0, tolerance: 0.0\n",
      "  model = cd_fast.enet_coordinate_descent_gram(\n",
      "/home/kernel/Desktop/py_test/project/venv/lib/python3.8/site-packages/sklearn/linear_model/_coordinate_descent.py:633: ConvergenceWarning: Objective did not converge. You might want to increase the number of iterations. Duality gap: 0.0, tolerance: 0.0\n",
      "  model = cd_fast.enet_coordinate_descent_gram(\n",
      "/home/kernel/Desktop/py_test/project/venv/lib/python3.8/site-packages/sklearn/linear_model/_coordinate_descent.py:633: ConvergenceWarning: Objective did not converge. You might want to increase the number of iterations. Duality gap: 0.0, tolerance: 0.0\n",
      "  model = cd_fast.enet_coordinate_descent_gram(\n",
      "/home/kernel/Desktop/py_test/project/venv/lib/python3.8/site-packages/sklearn/linear_model/_coordinate_descent.py:633: ConvergenceWarning: Objective did not converge. You might want to increase the number of iterations. Duality gap: 0.0, tolerance: 0.0\n",
      "  model = cd_fast.enet_coordinate_descent_gram(\n",
      "/home/kernel/Desktop/py_test/project/venv/lib/python3.8/site-packages/sklearn/linear_model/_coordinate_descent.py:633: ConvergenceWarning: Objective did not converge. You might want to increase the number of iterations. Duality gap: 0.0, tolerance: 0.0\n",
      "  model = cd_fast.enet_coordinate_descent_gram(\n",
      "/home/kernel/Desktop/py_test/project/venv/lib/python3.8/site-packages/sklearn/linear_model/_coordinate_descent.py:633: ConvergenceWarning: Objective did not converge. You might want to increase the number of iterations. Duality gap: 0.0, tolerance: 0.0\n",
      "  model = cd_fast.enet_coordinate_descent_gram(\n",
      "/home/kernel/Desktop/py_test/project/venv/lib/python3.8/site-packages/sklearn/linear_model/_coordinate_descent.py:633: ConvergenceWarning: Objective did not converge. You might want to increase the number of iterations. Duality gap: 0.0, tolerance: 0.0\n",
      "  model = cd_fast.enet_coordinate_descent_gram(\n",
      "/home/kernel/Desktop/py_test/project/venv/lib/python3.8/site-packages/sklearn/linear_model/_coordinate_descent.py:633: ConvergenceWarning: Objective did not converge. You might want to increase the number of iterations. Duality gap: 0.0, tolerance: 0.0\n",
      "  model = cd_fast.enet_coordinate_descent_gram(\n",
      "/home/kernel/Desktop/py_test/project/venv/lib/python3.8/site-packages/sklearn/linear_model/_coordinate_descent.py:633: ConvergenceWarning: Objective did not converge. You might want to increase the number of iterations. Duality gap: 0.0, tolerance: 0.0\n",
      "  model = cd_fast.enet_coordinate_descent_gram(\n",
      "/home/kernel/Desktop/py_test/project/venv/lib/python3.8/site-packages/sklearn/linear_model/_coordinate_descent.py:633: ConvergenceWarning: Objective did not converge. You might want to increase the number of iterations. Duality gap: 0.0, tolerance: 0.0\n",
      "  model = cd_fast.enet_coordinate_descent_gram(\n",
      "/home/kernel/Desktop/py_test/project/venv/lib/python3.8/site-packages/sklearn/linear_model/_coordinate_descent.py:633: ConvergenceWarning: Objective did not converge. You might want to increase the number of iterations. Duality gap: 0.0, tolerance: 0.0\n",
      "  model = cd_fast.enet_coordinate_descent_gram(\n",
      "/home/kernel/Desktop/py_test/project/venv/lib/python3.8/site-packages/sklearn/linear_model/_coordinate_descent.py:633: ConvergenceWarning: Objective did not converge. You might want to increase the number of iterations. Duality gap: 0.0, tolerance: 0.0\n",
      "  model = cd_fast.enet_coordinate_descent_gram(\n",
      "/home/kernel/Desktop/py_test/project/venv/lib/python3.8/site-packages/sklearn/linear_model/_coordinate_descent.py:633: ConvergenceWarning: Objective did not converge. You might want to increase the number of iterations. Duality gap: 0.0, tolerance: 0.0\n",
      "  model = cd_fast.enet_coordinate_descent_gram(\n",
      "/home/kernel/Desktop/py_test/project/venv/lib/python3.8/site-packages/sklearn/linear_model/_coordinate_descent.py:633: ConvergenceWarning: Objective did not converge. You might want to increase the number of iterations. Duality gap: 0.0, tolerance: 0.0\n",
      "  model = cd_fast.enet_coordinate_descent_gram(\n",
      "/home/kernel/Desktop/py_test/project/venv/lib/python3.8/site-packages/sklearn/linear_model/_coordinate_descent.py:633: ConvergenceWarning: Objective did not converge. You might want to increase the number of iterations. Duality gap: 0.0, tolerance: 0.0\n",
      "  model = cd_fast.enet_coordinate_descent_gram(\n",
      "/home/kernel/Desktop/py_test/project/venv/lib/python3.8/site-packages/sklearn/linear_model/_coordinate_descent.py:633: ConvergenceWarning: Objective did not converge. You might want to increase the number of iterations. Duality gap: 0.0, tolerance: 0.0\n",
      "  model = cd_fast.enet_coordinate_descent_gram(\n",
      "/home/kernel/Desktop/py_test/project/venv/lib/python3.8/site-packages/sklearn/linear_model/_coordinate_descent.py:633: ConvergenceWarning: Objective did not converge. You might want to increase the number of iterations. Duality gap: 0.0, tolerance: 0.0\n",
      "  model = cd_fast.enet_coordinate_descent_gram(\n",
      "/home/kernel/Desktop/py_test/project/venv/lib/python3.8/site-packages/sklearn/linear_model/_coordinate_descent.py:633: ConvergenceWarning: Objective did not converge. You might want to increase the number of iterations. Duality gap: 0.0, tolerance: 0.0\n",
      "  model = cd_fast.enet_coordinate_descent_gram(\n",
      "/home/kernel/Desktop/py_test/project/venv/lib/python3.8/site-packages/sklearn/linear_model/_coordinate_descent.py:633: ConvergenceWarning: Objective did not converge. You might want to increase the number of iterations. Duality gap: 0.0, tolerance: 0.0\n",
      "  model = cd_fast.enet_coordinate_descent_gram(\n",
      "/home/kernel/Desktop/py_test/project/venv/lib/python3.8/site-packages/sklearn/linear_model/_coordinate_descent.py:633: ConvergenceWarning: Objective did not converge. You might want to increase the number of iterations. Duality gap: 0.0, tolerance: 0.0\n",
      "  model = cd_fast.enet_coordinate_descent_gram(\n",
      "/home/kernel/Desktop/py_test/project/venv/lib/python3.8/site-packages/sklearn/linear_model/_coordinate_descent.py:633: ConvergenceWarning: Objective did not converge. You might want to increase the number of iterations. Duality gap: 0.0, tolerance: 0.0\n",
      "  model = cd_fast.enet_coordinate_descent_gram(\n",
      "/home/kernel/Desktop/py_test/project/venv/lib/python3.8/site-packages/sklearn/linear_model/_coordinate_descent.py:633: ConvergenceWarning: Objective did not converge. You might want to increase the number of iterations. Duality gap: 0.0, tolerance: 0.0\n",
      "  model = cd_fast.enet_coordinate_descent_gram(\n",
      "/home/kernel/Desktop/py_test/project/venv/lib/python3.8/site-packages/sklearn/linear_model/_coordinate_descent.py:633: ConvergenceWarning: Objective did not converge. You might want to increase the number of iterations. Duality gap: 0.0, tolerance: 0.0\n",
      "  model = cd_fast.enet_coordinate_descent_gram(\n",
      "/home/kernel/Desktop/py_test/project/venv/lib/python3.8/site-packages/sklearn/linear_model/_coordinate_descent.py:633: ConvergenceWarning: Objective did not converge. You might want to increase the number of iterations. Duality gap: 0.0, tolerance: 0.0\n",
      "  model = cd_fast.enet_coordinate_descent_gram(\n",
      "/home/kernel/Desktop/py_test/project/venv/lib/python3.8/site-packages/sklearn/linear_model/_coordinate_descent.py:633: ConvergenceWarning: Objective did not converge. You might want to increase the number of iterations. Duality gap: 0.0, tolerance: 0.0\n",
      "  model = cd_fast.enet_coordinate_descent_gram(\n",
      "/home/kernel/Desktop/py_test/project/venv/lib/python3.8/site-packages/sklearn/linear_model/_coordinate_descent.py:633: ConvergenceWarning: Objective did not converge. You might want to increase the number of iterations. Duality gap: 0.0, tolerance: 0.0\n",
      "  model = cd_fast.enet_coordinate_descent_gram(\n",
      "/home/kernel/Desktop/py_test/project/venv/lib/python3.8/site-packages/sklearn/linear_model/_coordinate_descent.py:633: ConvergenceWarning: Objective did not converge. You might want to increase the number of iterations. Duality gap: 0.0, tolerance: 0.0\n",
      "  model = cd_fast.enet_coordinate_descent_gram(\n",
      "/home/kernel/Desktop/py_test/project/venv/lib/python3.8/site-packages/sklearn/linear_model/_coordinate_descent.py:633: ConvergenceWarning: Objective did not converge. You might want to increase the number of iterations. Duality gap: 0.0, tolerance: 0.0\n",
      "  model = cd_fast.enet_coordinate_descent_gram(\n",
      "/home/kernel/Desktop/py_test/project/venv/lib/python3.8/site-packages/sklearn/linear_model/_coordinate_descent.py:633: ConvergenceWarning: Objective did not converge. You might want to increase the number of iterations. Duality gap: 0.0, tolerance: 0.0\n",
      "  model = cd_fast.enet_coordinate_descent_gram(\n",
      "/home/kernel/Desktop/py_test/project/venv/lib/python3.8/site-packages/sklearn/linear_model/_coordinate_descent.py:633: ConvergenceWarning: Objective did not converge. You might want to increase the number of iterations. Duality gap: 0.0, tolerance: 0.0\n",
      "  model = cd_fast.enet_coordinate_descent_gram(\n",
      "/home/kernel/Desktop/py_test/project/venv/lib/python3.8/site-packages/sklearn/linear_model/_coordinate_descent.py:633: ConvergenceWarning: Objective did not converge. You might want to increase the number of iterations. Duality gap: 0.0, tolerance: 0.0\n",
      "  model = cd_fast.enet_coordinate_descent_gram(\n",
      "/home/kernel/Desktop/py_test/project/venv/lib/python3.8/site-packages/sklearn/linear_model/_coordinate_descent.py:633: ConvergenceWarning: Objective did not converge. You might want to increase the number of iterations. Duality gap: 0.0, tolerance: 0.0\n",
      "  model = cd_fast.enet_coordinate_descent_gram(\n",
      "/home/kernel/Desktop/py_test/project/venv/lib/python3.8/site-packages/sklearn/linear_model/_coordinate_descent.py:633: ConvergenceWarning: Objective did not converge. You might want to increase the number of iterations. Duality gap: 0.0, tolerance: 0.0\n",
      "  model = cd_fast.enet_coordinate_descent_gram(\n",
      "/home/kernel/Desktop/py_test/project/venv/lib/python3.8/site-packages/sklearn/linear_model/_coordinate_descent.py:633: ConvergenceWarning: Objective did not converge. You might want to increase the number of iterations. Duality gap: 0.0, tolerance: 0.0\n",
      "  model = cd_fast.enet_coordinate_descent_gram(\n",
      "/home/kernel/Desktop/py_test/project/venv/lib/python3.8/site-packages/sklearn/linear_model/_coordinate_descent.py:633: ConvergenceWarning: Objective did not converge. You might want to increase the number of iterations. Duality gap: 0.0, tolerance: 0.0\n",
      "  model = cd_fast.enet_coordinate_descent_gram(\n",
      "/home/kernel/Desktop/py_test/project/venv/lib/python3.8/site-packages/sklearn/linear_model/_coordinate_descent.py:633: ConvergenceWarning: Objective did not converge. You might want to increase the number of iterations. Duality gap: 0.0, tolerance: 0.0\n",
      "  model = cd_fast.enet_coordinate_descent_gram(\n",
      "/home/kernel/Desktop/py_test/project/venv/lib/python3.8/site-packages/sklearn/linear_model/_coordinate_descent.py:633: ConvergenceWarning: Objective did not converge. You might want to increase the number of iterations. Duality gap: 0.0, tolerance: 0.0\n",
      "  model = cd_fast.enet_coordinate_descent_gram(\n",
      "/home/kernel/Desktop/py_test/project/venv/lib/python3.8/site-packages/sklearn/linear_model/_coordinate_descent.py:633: ConvergenceWarning: Objective did not converge. You might want to increase the number of iterations. Duality gap: 0.0, tolerance: 0.0\n",
      "  model = cd_fast.enet_coordinate_descent_gram(\n",
      "/home/kernel/Desktop/py_test/project/venv/lib/python3.8/site-packages/sklearn/linear_model/_coordinate_descent.py:633: ConvergenceWarning: Objective did not converge. You might want to increase the number of iterations. Duality gap: 0.0, tolerance: 0.0\n",
      "  model = cd_fast.enet_coordinate_descent_gram(\n",
      "/home/kernel/Desktop/py_test/project/venv/lib/python3.8/site-packages/sklearn/linear_model/_coordinate_descent.py:633: ConvergenceWarning: Objective did not converge. You might want to increase the number of iterations. Duality gap: 0.0, tolerance: 0.0\n",
      "  model = cd_fast.enet_coordinate_descent_gram(\n",
      "/home/kernel/Desktop/py_test/project/venv/lib/python3.8/site-packages/sklearn/linear_model/_coordinate_descent.py:633: ConvergenceWarning: Objective did not converge. You might want to increase the number of iterations. Duality gap: 0.0, tolerance: 0.0\n",
      "  model = cd_fast.enet_coordinate_descent_gram(\n",
      "/home/kernel/Desktop/py_test/project/venv/lib/python3.8/site-packages/sklearn/linear_model/_coordinate_descent.py:633: ConvergenceWarning: Objective did not converge. You might want to increase the number of iterations. Duality gap: 0.0, tolerance: 0.0\n",
      "  model = cd_fast.enet_coordinate_descent_gram(\n",
      "/home/kernel/Desktop/py_test/project/venv/lib/python3.8/site-packages/sklearn/linear_model/_coordinate_descent.py:633: ConvergenceWarning: Objective did not converge. You might want to increase the number of iterations. Duality gap: 0.0, tolerance: 0.0\n",
      "  model = cd_fast.enet_coordinate_descent_gram(\n",
      "/home/kernel/Desktop/py_test/project/venv/lib/python3.8/site-packages/sklearn/linear_model/_coordinate_descent.py:633: ConvergenceWarning: Objective did not converge. You might want to increase the number of iterations. Duality gap: 0.0, tolerance: 0.0\n",
      "  model = cd_fast.enet_coordinate_descent_gram(\n",
      "/home/kernel/Desktop/py_test/project/venv/lib/python3.8/site-packages/sklearn/linear_model/_coordinate_descent.py:633: ConvergenceWarning: Objective did not converge. You might want to increase the number of iterations. Duality gap: 0.0, tolerance: 0.0\n",
      "  model = cd_fast.enet_coordinate_descent_gram(\n",
      "/home/kernel/Desktop/py_test/project/venv/lib/python3.8/site-packages/sklearn/linear_model/_coordinate_descent.py:633: ConvergenceWarning: Objective did not converge. You might want to increase the number of iterations. Duality gap: 0.0, tolerance: 0.0\n",
      "  model = cd_fast.enet_coordinate_descent_gram(\n",
      "/home/kernel/Desktop/py_test/project/venv/lib/python3.8/site-packages/sklearn/linear_model/_coordinate_descent.py:633: ConvergenceWarning: Objective did not converge. You might want to increase the number of iterations. Duality gap: 0.0, tolerance: 0.0\n",
      "  model = cd_fast.enet_coordinate_descent_gram(\n",
      "/home/kernel/Desktop/py_test/project/venv/lib/python3.8/site-packages/sklearn/linear_model/_coordinate_descent.py:633: ConvergenceWarning: Objective did not converge. You might want to increase the number of iterations. Duality gap: 0.0, tolerance: 0.0\n",
      "  model = cd_fast.enet_coordinate_descent_gram(\n",
      "/home/kernel/Desktop/py_test/project/venv/lib/python3.8/site-packages/sklearn/linear_model/_coordinate_descent.py:633: ConvergenceWarning: Objective did not converge. You might want to increase the number of iterations. Duality gap: 0.0, tolerance: 0.0\n",
      "  model = cd_fast.enet_coordinate_descent_gram(\n",
      "/home/kernel/Desktop/py_test/project/venv/lib/python3.8/site-packages/sklearn/linear_model/_coordinate_descent.py:633: ConvergenceWarning: Objective did not converge. You might want to increase the number of iterations. Duality gap: 0.0, tolerance: 0.0\n",
      "  model = cd_fast.enet_coordinate_descent_gram(\n",
      "/home/kernel/Desktop/py_test/project/venv/lib/python3.8/site-packages/sklearn/linear_model/_coordinate_descent.py:633: ConvergenceWarning: Objective did not converge. You might want to increase the number of iterations. Duality gap: 0.0, tolerance: 0.0\n",
      "  model = cd_fast.enet_coordinate_descent_gram(\n",
      "/home/kernel/Desktop/py_test/project/venv/lib/python3.8/site-packages/sklearn/linear_model/_coordinate_descent.py:633: ConvergenceWarning: Objective did not converge. You might want to increase the number of iterations. Duality gap: 0.0, tolerance: 0.0\n",
      "  model = cd_fast.enet_coordinate_descent_gram(\n",
      "/home/kernel/Desktop/py_test/project/venv/lib/python3.8/site-packages/sklearn/linear_model/_coordinate_descent.py:633: ConvergenceWarning: Objective did not converge. You might want to increase the number of iterations. Duality gap: 0.0, tolerance: 0.0\n",
      "  model = cd_fast.enet_coordinate_descent_gram(\n",
      "/home/kernel/Desktop/py_test/project/venv/lib/python3.8/site-packages/sklearn/linear_model/_coordinate_descent.py:633: ConvergenceWarning: Objective did not converge. You might want to increase the number of iterations. Duality gap: 0.0, tolerance: 0.0\n",
      "  model = cd_fast.enet_coordinate_descent_gram(\n",
      "/home/kernel/Desktop/py_test/project/venv/lib/python3.8/site-packages/sklearn/linear_model/_coordinate_descent.py:633: ConvergenceWarning: Objective did not converge. You might want to increase the number of iterations. Duality gap: 0.0, tolerance: 0.0\n",
      "  model = cd_fast.enet_coordinate_descent_gram(\n",
      "/home/kernel/Desktop/py_test/project/venv/lib/python3.8/site-packages/sklearn/linear_model/_coordinate_descent.py:633: ConvergenceWarning: Objective did not converge. You might want to increase the number of iterations. Duality gap: 0.0, tolerance: 0.0\n",
      "  model = cd_fast.enet_coordinate_descent_gram(\n",
      "/home/kernel/Desktop/py_test/project/venv/lib/python3.8/site-packages/sklearn/linear_model/_coordinate_descent.py:633: ConvergenceWarning: Objective did not converge. You might want to increase the number of iterations. Duality gap: 0.0, tolerance: 0.0\n",
      "  model = cd_fast.enet_coordinate_descent_gram(\n",
      "/home/kernel/Desktop/py_test/project/venv/lib/python3.8/site-packages/sklearn/linear_model/_coordinate_descent.py:633: ConvergenceWarning: Objective did not converge. You might want to increase the number of iterations. Duality gap: 0.0, tolerance: 0.0\n",
      "  model = cd_fast.enet_coordinate_descent_gram(\n",
      "/home/kernel/Desktop/py_test/project/venv/lib/python3.8/site-packages/sklearn/linear_model/_coordinate_descent.py:633: ConvergenceWarning: Objective did not converge. You might want to increase the number of iterations. Duality gap: 0.0, tolerance: 0.0\n",
      "  model = cd_fast.enet_coordinate_descent_gram(\n",
      "/home/kernel/Desktop/py_test/project/venv/lib/python3.8/site-packages/sklearn/linear_model/_coordinate_descent.py:633: ConvergenceWarning: Objective did not converge. You might want to increase the number of iterations. Duality gap: 0.0, tolerance: 0.0\n",
      "  model = cd_fast.enet_coordinate_descent_gram(\n",
      "/home/kernel/Desktop/py_test/project/venv/lib/python3.8/site-packages/sklearn/linear_model/_coordinate_descent.py:633: ConvergenceWarning: Objective did not converge. You might want to increase the number of iterations. Duality gap: 0.0, tolerance: 0.0\n",
      "  model = cd_fast.enet_coordinate_descent_gram(\n",
      "/home/kernel/Desktop/py_test/project/venv/lib/python3.8/site-packages/sklearn/linear_model/_coordinate_descent.py:633: ConvergenceWarning: Objective did not converge. You might want to increase the number of iterations. Duality gap: 0.0, tolerance: 0.0\n",
      "  model = cd_fast.enet_coordinate_descent_gram(\n",
      "/home/kernel/Desktop/py_test/project/venv/lib/python3.8/site-packages/sklearn/linear_model/_coordinate_descent.py:633: ConvergenceWarning: Objective did not converge. You might want to increase the number of iterations. Duality gap: 0.0, tolerance: 0.0\n",
      "  model = cd_fast.enet_coordinate_descent_gram(\n",
      "/home/kernel/Desktop/py_test/project/venv/lib/python3.8/site-packages/sklearn/linear_model/_coordinate_descent.py:633: ConvergenceWarning: Objective did not converge. You might want to increase the number of iterations. Duality gap: 0.0, tolerance: 0.0\n",
      "  model = cd_fast.enet_coordinate_descent_gram(\n",
      "/home/kernel/Desktop/py_test/project/venv/lib/python3.8/site-packages/sklearn/linear_model/_coordinate_descent.py:633: ConvergenceWarning: Objective did not converge. You might want to increase the number of iterations. Duality gap: 0.0, tolerance: 0.0\n",
      "  model = cd_fast.enet_coordinate_descent_gram(\n",
      "/home/kernel/Desktop/py_test/project/venv/lib/python3.8/site-packages/sklearn/linear_model/_coordinate_descent.py:633: ConvergenceWarning: Objective did not converge. You might want to increase the number of iterations. Duality gap: 0.0, tolerance: 0.0\n",
      "  model = cd_fast.enet_coordinate_descent_gram(\n",
      "/home/kernel/Desktop/py_test/project/venv/lib/python3.8/site-packages/sklearn/linear_model/_coordinate_descent.py:633: ConvergenceWarning: Objective did not converge. You might want to increase the number of iterations. Duality gap: 0.0, tolerance: 0.0\n",
      "  model = cd_fast.enet_coordinate_descent_gram(\n",
      "/home/kernel/Desktop/py_test/project/venv/lib/python3.8/site-packages/sklearn/linear_model/_coordinate_descent.py:633: ConvergenceWarning: Objective did not converge. You might want to increase the number of iterations. Duality gap: 0.0, tolerance: 0.0\n",
      "  model = cd_fast.enet_coordinate_descent_gram(\n",
      "/home/kernel/Desktop/py_test/project/venv/lib/python3.8/site-packages/sklearn/linear_model/_coordinate_descent.py:633: ConvergenceWarning: Objective did not converge. You might want to increase the number of iterations. Duality gap: 0.0, tolerance: 0.0\n",
      "  model = cd_fast.enet_coordinate_descent_gram(\n",
      "/home/kernel/Desktop/py_test/project/venv/lib/python3.8/site-packages/sklearn/linear_model/_coordinate_descent.py:633: ConvergenceWarning: Objective did not converge. You might want to increase the number of iterations. Duality gap: 0.0, tolerance: 0.0\n",
      "  model = cd_fast.enet_coordinate_descent_gram(\n",
      "/home/kernel/Desktop/py_test/project/venv/lib/python3.8/site-packages/sklearn/linear_model/_coordinate_descent.py:633: ConvergenceWarning: Objective did not converge. You might want to increase the number of iterations. Duality gap: 0.0, tolerance: 0.0\n",
      "  model = cd_fast.enet_coordinate_descent_gram(\n",
      "/home/kernel/Desktop/py_test/project/venv/lib/python3.8/site-packages/sklearn/linear_model/_coordinate_descent.py:633: ConvergenceWarning: Objective did not converge. You might want to increase the number of iterations. Duality gap: 0.0, tolerance: 0.0\n",
      "  model = cd_fast.enet_coordinate_descent_gram(\n",
      "/home/kernel/Desktop/py_test/project/venv/lib/python3.8/site-packages/sklearn/linear_model/_coordinate_descent.py:633: ConvergenceWarning: Objective did not converge. You might want to increase the number of iterations. Duality gap: 0.0, tolerance: 0.0\n",
      "  model = cd_fast.enet_coordinate_descent_gram(\n",
      "/home/kernel/Desktop/py_test/project/venv/lib/python3.8/site-packages/sklearn/linear_model/_coordinate_descent.py:633: ConvergenceWarning: Objective did not converge. You might want to increase the number of iterations. Duality gap: 0.0, tolerance: 0.0\n",
      "  model = cd_fast.enet_coordinate_descent_gram(\n",
      "/home/kernel/Desktop/py_test/project/venv/lib/python3.8/site-packages/sklearn/linear_model/_coordinate_descent.py:633: ConvergenceWarning: Objective did not converge. You might want to increase the number of iterations. Duality gap: 0.0, tolerance: 0.0\n",
      "  model = cd_fast.enet_coordinate_descent_gram(\n",
      "/home/kernel/Desktop/py_test/project/venv/lib/python3.8/site-packages/sklearn/linear_model/_coordinate_descent.py:633: ConvergenceWarning: Objective did not converge. You might want to increase the number of iterations. Duality gap: 0.0, tolerance: 0.0\n",
      "  model = cd_fast.enet_coordinate_descent_gram(\n",
      "/home/kernel/Desktop/py_test/project/venv/lib/python3.8/site-packages/sklearn/linear_model/_coordinate_descent.py:633: ConvergenceWarning: Objective did not converge. You might want to increase the number of iterations. Duality gap: 0.0, tolerance: 0.0\n",
      "  model = cd_fast.enet_coordinate_descent_gram(\n",
      "/home/kernel/Desktop/py_test/project/venv/lib/python3.8/site-packages/sklearn/linear_model/_coordinate_descent.py:633: ConvergenceWarning: Objective did not converge. You might want to increase the number of iterations. Duality gap: 0.0, tolerance: 0.0\n",
      "  model = cd_fast.enet_coordinate_descent_gram(\n",
      "/home/kernel/Desktop/py_test/project/venv/lib/python3.8/site-packages/sklearn/linear_model/_coordinate_descent.py:633: ConvergenceWarning: Objective did not converge. You might want to increase the number of iterations. Duality gap: 0.0, tolerance: 0.0\n",
      "  model = cd_fast.enet_coordinate_descent_gram(\n",
      "/home/kernel/Desktop/py_test/project/venv/lib/python3.8/site-packages/sklearn/linear_model/_coordinate_descent.py:633: ConvergenceWarning: Objective did not converge. You might want to increase the number of iterations. Duality gap: 0.0, tolerance: 0.0\n",
      "  model = cd_fast.enet_coordinate_descent_gram(\n",
      "/home/kernel/Desktop/py_test/project/venv/lib/python3.8/site-packages/sklearn/linear_model/_coordinate_descent.py:633: ConvergenceWarning: Objective did not converge. You might want to increase the number of iterations. Duality gap: 0.0, tolerance: 0.0\n",
      "  model = cd_fast.enet_coordinate_descent_gram(\n",
      "/home/kernel/Desktop/py_test/project/venv/lib/python3.8/site-packages/sklearn/linear_model/_coordinate_descent.py:633: ConvergenceWarning: Objective did not converge. You might want to increase the number of iterations. Duality gap: 0.0, tolerance: 0.0\n",
      "  model = cd_fast.enet_coordinate_descent_gram(\n",
      "/home/kernel/Desktop/py_test/project/venv/lib/python3.8/site-packages/sklearn/linear_model/_coordinate_descent.py:633: ConvergenceWarning: Objective did not converge. You might want to increase the number of iterations. Duality gap: 0.0, tolerance: 0.0\n",
      "  model = cd_fast.enet_coordinate_descent_gram(\n",
      "/home/kernel/Desktop/py_test/project/venv/lib/python3.8/site-packages/sklearn/linear_model/_coordinate_descent.py:633: ConvergenceWarning: Objective did not converge. You might want to increase the number of iterations. Duality gap: 0.0, tolerance: 0.0\n",
      "  model = cd_fast.enet_coordinate_descent_gram(\n",
      "/home/kernel/Desktop/py_test/project/venv/lib/python3.8/site-packages/sklearn/linear_model/_coordinate_descent.py:633: ConvergenceWarning: Objective did not converge. You might want to increase the number of iterations. Duality gap: 0.0, tolerance: 0.0\n",
      "  model = cd_fast.enet_coordinate_descent_gram(\n",
      "/home/kernel/Desktop/py_test/project/venv/lib/python3.8/site-packages/sklearn/linear_model/_coordinate_descent.py:633: ConvergenceWarning: Objective did not converge. You might want to increase the number of iterations. Duality gap: 0.0, tolerance: 0.0\n",
      "  model = cd_fast.enet_coordinate_descent_gram(\n",
      "/home/kernel/Desktop/py_test/project/venv/lib/python3.8/site-packages/sklearn/linear_model/_coordinate_descent.py:633: ConvergenceWarning: Objective did not converge. You might want to increase the number of iterations. Duality gap: 0.0, tolerance: 0.0\n",
      "  model = cd_fast.enet_coordinate_descent_gram(\n",
      "/home/kernel/Desktop/py_test/project/venv/lib/python3.8/site-packages/sklearn/linear_model/_coordinate_descent.py:633: ConvergenceWarning: Objective did not converge. You might want to increase the number of iterations. Duality gap: 0.0, tolerance: 0.0\n",
      "  model = cd_fast.enet_coordinate_descent_gram(\n",
      "/home/kernel/Desktop/py_test/project/venv/lib/python3.8/site-packages/sklearn/linear_model/_coordinate_descent.py:633: ConvergenceWarning: Objective did not converge. You might want to increase the number of iterations. Duality gap: 0.0, tolerance: 0.0\n",
      "  model = cd_fast.enet_coordinate_descent_gram(\n",
      "/home/kernel/Desktop/py_test/project/venv/lib/python3.8/site-packages/sklearn/linear_model/_coordinate_descent.py:633: ConvergenceWarning: Objective did not converge. You might want to increase the number of iterations. Duality gap: 0.0, tolerance: 0.0\n",
      "  model = cd_fast.enet_coordinate_descent_gram(\n",
      "/home/kernel/Desktop/py_test/project/venv/lib/python3.8/site-packages/sklearn/linear_model/_coordinate_descent.py:633: ConvergenceWarning: Objective did not converge. You might want to increase the number of iterations. Duality gap: 0.0, tolerance: 0.0\n",
      "  model = cd_fast.enet_coordinate_descent_gram(\n",
      "/home/kernel/Desktop/py_test/project/venv/lib/python3.8/site-packages/sklearn/linear_model/_coordinate_descent.py:633: ConvergenceWarning: Objective did not converge. You might want to increase the number of iterations. Duality gap: 0.0, tolerance: 0.0\n",
      "  model = cd_fast.enet_coordinate_descent_gram(\n",
      "/home/kernel/Desktop/py_test/project/venv/lib/python3.8/site-packages/sklearn/linear_model/_coordinate_descent.py:633: ConvergenceWarning: Objective did not converge. You might want to increase the number of iterations. Duality gap: 0.0, tolerance: 0.0\n",
      "  model = cd_fast.enet_coordinate_descent_gram(\n",
      "/home/kernel/Desktop/py_test/project/venv/lib/python3.8/site-packages/sklearn/linear_model/_coordinate_descent.py:633: ConvergenceWarning: Objective did not converge. You might want to increase the number of iterations. Duality gap: 0.0, tolerance: 0.0\n",
      "  model = cd_fast.enet_coordinate_descent_gram(\n",
      "/home/kernel/Desktop/py_test/project/venv/lib/python3.8/site-packages/sklearn/linear_model/_coordinate_descent.py:633: ConvergenceWarning: Objective did not converge. You might want to increase the number of iterations. Duality gap: 0.0, tolerance: 0.0\n",
      "  model = cd_fast.enet_coordinate_descent_gram(\n",
      "/home/kernel/Desktop/py_test/project/venv/lib/python3.8/site-packages/sklearn/linear_model/_coordinate_descent.py:633: ConvergenceWarning: Objective did not converge. You might want to increase the number of iterations. Duality gap: 0.0, tolerance: 0.0\n",
      "  model = cd_fast.enet_coordinate_descent_gram(\n",
      "/home/kernel/Desktop/py_test/project/venv/lib/python3.8/site-packages/sklearn/linear_model/_coordinate_descent.py:633: ConvergenceWarning: Objective did not converge. You might want to increase the number of iterations. Duality gap: 0.0, tolerance: 0.0\n",
      "  model = cd_fast.enet_coordinate_descent_gram(\n",
      "/home/kernel/Desktop/py_test/project/venv/lib/python3.8/site-packages/sklearn/linear_model/_coordinate_descent.py:633: ConvergenceWarning: Objective did not converge. You might want to increase the number of iterations. Duality gap: 0.0, tolerance: 0.0\n",
      "  model = cd_fast.enet_coordinate_descent_gram(\n",
      "/home/kernel/Desktop/py_test/project/venv/lib/python3.8/site-packages/sklearn/linear_model/_coordinate_descent.py:633: ConvergenceWarning: Objective did not converge. You might want to increase the number of iterations. Duality gap: 0.0, tolerance: 0.0\n",
      "  model = cd_fast.enet_coordinate_descent_gram(\n",
      "/home/kernel/Desktop/py_test/project/venv/lib/python3.8/site-packages/sklearn/linear_model/_coordinate_descent.py:633: ConvergenceWarning: Objective did not converge. You might want to increase the number of iterations. Duality gap: 0.0, tolerance: 0.0\n",
      "  model = cd_fast.enet_coordinate_descent_gram(\n",
      "/home/kernel/Desktop/py_test/project/venv/lib/python3.8/site-packages/sklearn/linear_model/_coordinate_descent.py:633: ConvergenceWarning: Objective did not converge. You might want to increase the number of iterations. Duality gap: 0.0, tolerance: 0.0\n",
      "  model = cd_fast.enet_coordinate_descent_gram(\n",
      "/home/kernel/Desktop/py_test/project/venv/lib/python3.8/site-packages/sklearn/linear_model/_coordinate_descent.py:633: ConvergenceWarning: Objective did not converge. You might want to increase the number of iterations. Duality gap: 0.0, tolerance: 0.0\n",
      "  model = cd_fast.enet_coordinate_descent_gram(\n",
      "/home/kernel/Desktop/py_test/project/venv/lib/python3.8/site-packages/sklearn/linear_model/_coordinate_descent.py:633: ConvergenceWarning: Objective did not converge. You might want to increase the number of iterations. Duality gap: 0.0, tolerance: 0.0\n",
      "  model = cd_fast.enet_coordinate_descent_gram(\n",
      "/home/kernel/Desktop/py_test/project/venv/lib/python3.8/site-packages/sklearn/linear_model/_coordinate_descent.py:633: ConvergenceWarning: Objective did not converge. You might want to increase the number of iterations. Duality gap: 0.0, tolerance: 0.0\n",
      "  model = cd_fast.enet_coordinate_descent_gram(\n",
      "/home/kernel/Desktop/py_test/project/venv/lib/python3.8/site-packages/sklearn/linear_model/_coordinate_descent.py:633: ConvergenceWarning: Objective did not converge. You might want to increase the number of iterations. Duality gap: 0.0, tolerance: 0.0\n",
      "  model = cd_fast.enet_coordinate_descent_gram(\n",
      "/home/kernel/Desktop/py_test/project/venv/lib/python3.8/site-packages/sklearn/linear_model/_coordinate_descent.py:633: ConvergenceWarning: Objective did not converge. You might want to increase the number of iterations. Duality gap: 0.0, tolerance: 0.0\n",
      "  model = cd_fast.enet_coordinate_descent_gram(\n",
      "/home/kernel/Desktop/py_test/project/venv/lib/python3.8/site-packages/sklearn/linear_model/_coordinate_descent.py:633: ConvergenceWarning: Objective did not converge. You might want to increase the number of iterations. Duality gap: 0.0, tolerance: 0.0\n",
      "  model = cd_fast.enet_coordinate_descent_gram(\n",
      "/home/kernel/Desktop/py_test/project/venv/lib/python3.8/site-packages/sklearn/linear_model/_coordinate_descent.py:633: ConvergenceWarning: Objective did not converge. You might want to increase the number of iterations. Duality gap: 0.0, tolerance: 0.0\n",
      "  model = cd_fast.enet_coordinate_descent_gram(\n",
      "/home/kernel/Desktop/py_test/project/venv/lib/python3.8/site-packages/sklearn/linear_model/_coordinate_descent.py:633: ConvergenceWarning: Objective did not converge. You might want to increase the number of iterations. Duality gap: 0.0, tolerance: 0.0\n",
      "  model = cd_fast.enet_coordinate_descent_gram(\n",
      "/home/kernel/Desktop/py_test/project/venv/lib/python3.8/site-packages/sklearn/linear_model/_coordinate_descent.py:633: ConvergenceWarning: Objective did not converge. You might want to increase the number of iterations. Duality gap: 0.0, tolerance: 0.0\n",
      "  model = cd_fast.enet_coordinate_descent_gram(\n",
      "/home/kernel/Desktop/py_test/project/venv/lib/python3.8/site-packages/sklearn/linear_model/_coordinate_descent.py:633: ConvergenceWarning: Objective did not converge. You might want to increase the number of iterations. Duality gap: 0.0, tolerance: 0.0\n",
      "  model = cd_fast.enet_coordinate_descent_gram(\n",
      "/home/kernel/Desktop/py_test/project/venv/lib/python3.8/site-packages/sklearn/linear_model/_coordinate_descent.py:633: ConvergenceWarning: Objective did not converge. You might want to increase the number of iterations. Duality gap: 0.0, tolerance: 0.0\n",
      "  model = cd_fast.enet_coordinate_descent_gram(\n",
      "/home/kernel/Desktop/py_test/project/venv/lib/python3.8/site-packages/sklearn/linear_model/_coordinate_descent.py:633: ConvergenceWarning: Objective did not converge. You might want to increase the number of iterations. Duality gap: 0.0, tolerance: 0.0\n",
      "  model = cd_fast.enet_coordinate_descent_gram(\n",
      "/home/kernel/Desktop/py_test/project/venv/lib/python3.8/site-packages/sklearn/linear_model/_coordinate_descent.py:633: ConvergenceWarning: Objective did not converge. You might want to increase the number of iterations. Duality gap: 0.0, tolerance: 0.0\n",
      "  model = cd_fast.enet_coordinate_descent_gram(\n",
      "/home/kernel/Desktop/py_test/project/venv/lib/python3.8/site-packages/sklearn/linear_model/_coordinate_descent.py:633: ConvergenceWarning: Objective did not converge. You might want to increase the number of iterations. Duality gap: 0.0, tolerance: 0.0\n",
      "  model = cd_fast.enet_coordinate_descent_gram(\n",
      "/home/kernel/Desktop/py_test/project/venv/lib/python3.8/site-packages/sklearn/linear_model/_coordinate_descent.py:633: ConvergenceWarning: Objective did not converge. You might want to increase the number of iterations. Duality gap: 0.0, tolerance: 0.0\n",
      "  model = cd_fast.enet_coordinate_descent_gram(\n",
      "/home/kernel/Desktop/py_test/project/venv/lib/python3.8/site-packages/sklearn/linear_model/_coordinate_descent.py:633: ConvergenceWarning: Objective did not converge. You might want to increase the number of iterations. Duality gap: 0.0, tolerance: 0.0\n",
      "  model = cd_fast.enet_coordinate_descent_gram(\n",
      "/home/kernel/Desktop/py_test/project/venv/lib/python3.8/site-packages/sklearn/linear_model/_coordinate_descent.py:633: ConvergenceWarning: Objective did not converge. You might want to increase the number of iterations. Duality gap: 0.0, tolerance: 0.0\n",
      "  model = cd_fast.enet_coordinate_descent_gram(\n",
      "/home/kernel/Desktop/py_test/project/venv/lib/python3.8/site-packages/sklearn/linear_model/_coordinate_descent.py:633: ConvergenceWarning: Objective did not converge. You might want to increase the number of iterations. Duality gap: 0.0, tolerance: 0.0\n",
      "  model = cd_fast.enet_coordinate_descent_gram(\n",
      "/home/kernel/Desktop/py_test/project/venv/lib/python3.8/site-packages/sklearn/linear_model/_coordinate_descent.py:633: ConvergenceWarning: Objective did not converge. You might want to increase the number of iterations. Duality gap: 0.0, tolerance: 0.0\n",
      "  model = cd_fast.enet_coordinate_descent_gram(\n",
      "/home/kernel/Desktop/py_test/project/venv/lib/python3.8/site-packages/sklearn/linear_model/_coordinate_descent.py:633: ConvergenceWarning: Objective did not converge. You might want to increase the number of iterations. Duality gap: 0.0, tolerance: 0.0\n",
      "  model = cd_fast.enet_coordinate_descent_gram(\n",
      "/home/kernel/Desktop/py_test/project/venv/lib/python3.8/site-packages/sklearn/linear_model/_coordinate_descent.py:633: ConvergenceWarning: Objective did not converge. You might want to increase the number of iterations. Duality gap: 0.0, tolerance: 0.0\n",
      "  model = cd_fast.enet_coordinate_descent_gram(\n",
      "/home/kernel/Desktop/py_test/project/venv/lib/python3.8/site-packages/sklearn/linear_model/_coordinate_descent.py:633: ConvergenceWarning: Objective did not converge. You might want to increase the number of iterations. Duality gap: 0.0, tolerance: 0.0\n",
      "  model = cd_fast.enet_coordinate_descent_gram(\n",
      "/home/kernel/Desktop/py_test/project/venv/lib/python3.8/site-packages/sklearn/linear_model/_coordinate_descent.py:633: ConvergenceWarning: Objective did not converge. You might want to increase the number of iterations. Duality gap: 0.0, tolerance: 0.0\n",
      "  model = cd_fast.enet_coordinate_descent_gram(\n",
      "/home/kernel/Desktop/py_test/project/venv/lib/python3.8/site-packages/sklearn/linear_model/_coordinate_descent.py:633: ConvergenceWarning: Objective did not converge. You might want to increase the number of iterations. Duality gap: 0.0, tolerance: 0.0\n",
      "  model = cd_fast.enet_coordinate_descent_gram(\n",
      "/home/kernel/Desktop/py_test/project/venv/lib/python3.8/site-packages/sklearn/linear_model/_coordinate_descent.py:633: ConvergenceWarning: Objective did not converge. You might want to increase the number of iterations. Duality gap: 0.0, tolerance: 0.0\n",
      "  model = cd_fast.enet_coordinate_descent_gram(\n",
      "/home/kernel/Desktop/py_test/project/venv/lib/python3.8/site-packages/sklearn/linear_model/_coordinate_descent.py:633: ConvergenceWarning: Objective did not converge. You might want to increase the number of iterations. Duality gap: 0.0, tolerance: 0.0\n",
      "  model = cd_fast.enet_coordinate_descent_gram(\n",
      "/home/kernel/Desktop/py_test/project/venv/lib/python3.8/site-packages/sklearn/linear_model/_coordinate_descent.py:633: ConvergenceWarning: Objective did not converge. You might want to increase the number of iterations. Duality gap: 0.0, tolerance: 0.0\n",
      "  model = cd_fast.enet_coordinate_descent_gram(\n",
      "/home/kernel/Desktop/py_test/project/venv/lib/python3.8/site-packages/sklearn/linear_model/_coordinate_descent.py:633: ConvergenceWarning: Objective did not converge. You might want to increase the number of iterations. Duality gap: 0.0, tolerance: 0.0\n",
      "  model = cd_fast.enet_coordinate_descent_gram(\n",
      "/home/kernel/Desktop/py_test/project/venv/lib/python3.8/site-packages/sklearn/linear_model/_coordinate_descent.py:633: ConvergenceWarning: Objective did not converge. You might want to increase the number of iterations. Duality gap: 0.0, tolerance: 0.0\n",
      "  model = cd_fast.enet_coordinate_descent_gram(\n",
      "/home/kernel/Desktop/py_test/project/venv/lib/python3.8/site-packages/sklearn/linear_model/_coordinate_descent.py:633: ConvergenceWarning: Objective did not converge. You might want to increase the number of iterations. Duality gap: 0.0, tolerance: 0.0\n",
      "  model = cd_fast.enet_coordinate_descent_gram(\n",
      "/home/kernel/Desktop/py_test/project/venv/lib/python3.8/site-packages/sklearn/linear_model/_coordinate_descent.py:633: ConvergenceWarning: Objective did not converge. You might want to increase the number of iterations. Duality gap: 0.0, tolerance: 0.0\n",
      "  model = cd_fast.enet_coordinate_descent_gram(\n",
      "/home/kernel/Desktop/py_test/project/venv/lib/python3.8/site-packages/sklearn/linear_model/_coordinate_descent.py:633: ConvergenceWarning: Objective did not converge. You might want to increase the number of iterations. Duality gap: 0.0, tolerance: 0.0\n",
      "  model = cd_fast.enet_coordinate_descent_gram(\n",
      "/home/kernel/Desktop/py_test/project/venv/lib/python3.8/site-packages/sklearn/linear_model/_coordinate_descent.py:633: ConvergenceWarning: Objective did not converge. You might want to increase the number of iterations. Duality gap: 0.0, tolerance: 0.0\n",
      "  model = cd_fast.enet_coordinate_descent_gram(\n",
      "/home/kernel/Desktop/py_test/project/venv/lib/python3.8/site-packages/sklearn/linear_model/_coordinate_descent.py:633: ConvergenceWarning: Objective did not converge. You might want to increase the number of iterations. Duality gap: 0.0, tolerance: 0.0\n",
      "  model = cd_fast.enet_coordinate_descent_gram(\n",
      "/home/kernel/Desktop/py_test/project/venv/lib/python3.8/site-packages/sklearn/linear_model/_coordinate_descent.py:633: ConvergenceWarning: Objective did not converge. You might want to increase the number of iterations. Duality gap: 0.0, tolerance: 0.0\n",
      "  model = cd_fast.enet_coordinate_descent_gram(\n",
      "/home/kernel/Desktop/py_test/project/venv/lib/python3.8/site-packages/sklearn/linear_model/_coordinate_descent.py:633: ConvergenceWarning: Objective did not converge. You might want to increase the number of iterations. Duality gap: 0.0, tolerance: 0.0\n",
      "  model = cd_fast.enet_coordinate_descent_gram(\n",
      "/home/kernel/Desktop/py_test/project/venv/lib/python3.8/site-packages/sklearn/linear_model/_coordinate_descent.py:633: ConvergenceWarning: Objective did not converge. You might want to increase the number of iterations. Duality gap: 0.0, tolerance: 0.0\n",
      "  model = cd_fast.enet_coordinate_descent_gram(\n",
      "/home/kernel/Desktop/py_test/project/venv/lib/python3.8/site-packages/sklearn/linear_model/_coordinate_descent.py:633: ConvergenceWarning: Objective did not converge. You might want to increase the number of iterations. Duality gap: 0.0, tolerance: 0.0\n",
      "  model = cd_fast.enet_coordinate_descent_gram(\n",
      "/home/kernel/Desktop/py_test/project/venv/lib/python3.8/site-packages/sklearn/linear_model/_coordinate_descent.py:633: ConvergenceWarning: Objective did not converge. You might want to increase the number of iterations. Duality gap: 0.0, tolerance: 0.0\n",
      "  model = cd_fast.enet_coordinate_descent_gram(\n",
      "/home/kernel/Desktop/py_test/project/venv/lib/python3.8/site-packages/sklearn/linear_model/_coordinate_descent.py:633: ConvergenceWarning: Objective did not converge. You might want to increase the number of iterations. Duality gap: 0.0, tolerance: 0.0\n",
      "  model = cd_fast.enet_coordinate_descent_gram(\n",
      "/home/kernel/Desktop/py_test/project/venv/lib/python3.8/site-packages/sklearn/linear_model/_coordinate_descent.py:633: ConvergenceWarning: Objective did not converge. You might want to increase the number of iterations. Duality gap: 0.0, tolerance: 0.0\n",
      "  model = cd_fast.enet_coordinate_descent_gram(\n",
      "/home/kernel/Desktop/py_test/project/venv/lib/python3.8/site-packages/sklearn/linear_model/_coordinate_descent.py:633: ConvergenceWarning: Objective did not converge. You might want to increase the number of iterations. Duality gap: 0.0, tolerance: 0.0\n",
      "  model = cd_fast.enet_coordinate_descent_gram(\n",
      "/home/kernel/Desktop/py_test/project/venv/lib/python3.8/site-packages/sklearn/linear_model/_coordinate_descent.py:633: ConvergenceWarning: Objective did not converge. You might want to increase the number of iterations. Duality gap: 0.0, tolerance: 0.0\n",
      "  model = cd_fast.enet_coordinate_descent_gram(\n",
      "/home/kernel/Desktop/py_test/project/venv/lib/python3.8/site-packages/sklearn/linear_model/_coordinate_descent.py:633: ConvergenceWarning: Objective did not converge. You might want to increase the number of iterations. Duality gap: 0.0, tolerance: 0.0\n",
      "  model = cd_fast.enet_coordinate_descent_gram(\n",
      "/home/kernel/Desktop/py_test/project/venv/lib/python3.8/site-packages/sklearn/linear_model/_coordinate_descent.py:633: ConvergenceWarning: Objective did not converge. You might want to increase the number of iterations. Duality gap: 0.0, tolerance: 0.0\n",
      "  model = cd_fast.enet_coordinate_descent_gram(\n",
      "/home/kernel/Desktop/py_test/project/venv/lib/python3.8/site-packages/sklearn/linear_model/_coordinate_descent.py:633: ConvergenceWarning: Objective did not converge. You might want to increase the number of iterations. Duality gap: 0.0, tolerance: 0.0\n",
      "  model = cd_fast.enet_coordinate_descent_gram(\n",
      "/home/kernel/Desktop/py_test/project/venv/lib/python3.8/site-packages/sklearn/linear_model/_coordinate_descent.py:633: ConvergenceWarning: Objective did not converge. You might want to increase the number of iterations. Duality gap: 0.0, tolerance: 0.0\n",
      "  model = cd_fast.enet_coordinate_descent_gram(\n",
      "/home/kernel/Desktop/py_test/project/venv/lib/python3.8/site-packages/sklearn/linear_model/_coordinate_descent.py:633: ConvergenceWarning: Objective did not converge. You might want to increase the number of iterations. Duality gap: 0.0, tolerance: 0.0\n",
      "  model = cd_fast.enet_coordinate_descent_gram(\n",
      "/home/kernel/Desktop/py_test/project/venv/lib/python3.8/site-packages/sklearn/linear_model/_coordinate_descent.py:633: ConvergenceWarning: Objective did not converge. You might want to increase the number of iterations. Duality gap: 0.0, tolerance: 0.0\n",
      "  model = cd_fast.enet_coordinate_descent_gram(\n",
      "/home/kernel/Desktop/py_test/project/venv/lib/python3.8/site-packages/sklearn/linear_model/_coordinate_descent.py:633: ConvergenceWarning: Objective did not converge. You might want to increase the number of iterations. Duality gap: 0.0, tolerance: 0.0\n",
      "  model = cd_fast.enet_coordinate_descent_gram(\n",
      "/home/kernel/Desktop/py_test/project/venv/lib/python3.8/site-packages/sklearn/linear_model/_coordinate_descent.py:633: ConvergenceWarning: Objective did not converge. You might want to increase the number of iterations. Duality gap: 0.0, tolerance: 0.0\n",
      "  model = cd_fast.enet_coordinate_descent_gram(\n",
      "/home/kernel/Desktop/py_test/project/venv/lib/python3.8/site-packages/sklearn/linear_model/_coordinate_descent.py:633: ConvergenceWarning: Objective did not converge. You might want to increase the number of iterations. Duality gap: 0.0, tolerance: 0.0\n",
      "  model = cd_fast.enet_coordinate_descent_gram(\n",
      "/home/kernel/Desktop/py_test/project/venv/lib/python3.8/site-packages/sklearn/linear_model/_coordinate_descent.py:633: ConvergenceWarning: Objective did not converge. You might want to increase the number of iterations. Duality gap: 0.0, tolerance: 0.0\n",
      "  model = cd_fast.enet_coordinate_descent_gram(\n",
      "/home/kernel/Desktop/py_test/project/venv/lib/python3.8/site-packages/sklearn/linear_model/_coordinate_descent.py:633: ConvergenceWarning: Objective did not converge. You might want to increase the number of iterations. Duality gap: 0.0, tolerance: 0.0\n",
      "  model = cd_fast.enet_coordinate_descent_gram(\n",
      "/home/kernel/Desktop/py_test/project/venv/lib/python3.8/site-packages/sklearn/linear_model/_coordinate_descent.py:633: ConvergenceWarning: Objective did not converge. You might want to increase the number of iterations. Duality gap: 0.0, tolerance: 0.0\n",
      "  model = cd_fast.enet_coordinate_descent_gram(\n",
      "/home/kernel/Desktop/py_test/project/venv/lib/python3.8/site-packages/sklearn/linear_model/_coordinate_descent.py:633: ConvergenceWarning: Objective did not converge. You might want to increase the number of iterations. Duality gap: 0.0, tolerance: 0.0\n",
      "  model = cd_fast.enet_coordinate_descent_gram(\n",
      "/home/kernel/Desktop/py_test/project/venv/lib/python3.8/site-packages/sklearn/linear_model/_coordinate_descent.py:633: ConvergenceWarning: Objective did not converge. You might want to increase the number of iterations. Duality gap: 0.0, tolerance: 0.0\n",
      "  model = cd_fast.enet_coordinate_descent_gram(\n",
      "/home/kernel/Desktop/py_test/project/venv/lib/python3.8/site-packages/sklearn/linear_model/_coordinate_descent.py:633: ConvergenceWarning: Objective did not converge. You might want to increase the number of iterations. Duality gap: 0.0, tolerance: 0.0\n",
      "  model = cd_fast.enet_coordinate_descent_gram(\n",
      "/home/kernel/Desktop/py_test/project/venv/lib/python3.8/site-packages/sklearn/linear_model/_coordinate_descent.py:633: ConvergenceWarning: Objective did not converge. You might want to increase the number of iterations. Duality gap: 0.0, tolerance: 0.0\n",
      "  model = cd_fast.enet_coordinate_descent_gram(\n",
      "/home/kernel/Desktop/py_test/project/venv/lib/python3.8/site-packages/sklearn/linear_model/_coordinate_descent.py:633: ConvergenceWarning: Objective did not converge. You might want to increase the number of iterations. Duality gap: 0.0, tolerance: 0.0\n",
      "  model = cd_fast.enet_coordinate_descent_gram(\n",
      "/home/kernel/Desktop/py_test/project/venv/lib/python3.8/site-packages/sklearn/linear_model/_coordinate_descent.py:633: ConvergenceWarning: Objective did not converge. You might want to increase the number of iterations. Duality gap: 0.0, tolerance: 0.0\n",
      "  model = cd_fast.enet_coordinate_descent_gram(\n",
      "/home/kernel/Desktop/py_test/project/venv/lib/python3.8/site-packages/sklearn/linear_model/_coordinate_descent.py:633: ConvergenceWarning: Objective did not converge. You might want to increase the number of iterations. Duality gap: 0.0, tolerance: 0.0\n",
      "  model = cd_fast.enet_coordinate_descent_gram(\n",
      "/home/kernel/Desktop/py_test/project/venv/lib/python3.8/site-packages/sklearn/linear_model/_coordinate_descent.py:633: ConvergenceWarning: Objective did not converge. You might want to increase the number of iterations. Duality gap: 0.0, tolerance: 0.0\n",
      "  model = cd_fast.enet_coordinate_descent_gram(\n",
      "/home/kernel/Desktop/py_test/project/venv/lib/python3.8/site-packages/sklearn/linear_model/_coordinate_descent.py:633: ConvergenceWarning: Objective did not converge. You might want to increase the number of iterations. Duality gap: 0.0, tolerance: 0.0\n",
      "  model = cd_fast.enet_coordinate_descent_gram(\n",
      "/home/kernel/Desktop/py_test/project/venv/lib/python3.8/site-packages/sklearn/linear_model/_coordinate_descent.py:633: ConvergenceWarning: Objective did not converge. You might want to increase the number of iterations. Duality gap: 0.0, tolerance: 0.0\n",
      "  model = cd_fast.enet_coordinate_descent_gram(\n",
      "/home/kernel/Desktop/py_test/project/venv/lib/python3.8/site-packages/sklearn/linear_model/_coordinate_descent.py:633: ConvergenceWarning: Objective did not converge. You might want to increase the number of iterations. Duality gap: 0.0, tolerance: 0.0\n",
      "  model = cd_fast.enet_coordinate_descent_gram(\n",
      "/home/kernel/Desktop/py_test/project/venv/lib/python3.8/site-packages/sklearn/linear_model/_coordinate_descent.py:633: ConvergenceWarning: Objective did not converge. You might want to increase the number of iterations. Duality gap: 0.0, tolerance: 0.0\n",
      "  model = cd_fast.enet_coordinate_descent_gram(\n",
      "/home/kernel/Desktop/py_test/project/venv/lib/python3.8/site-packages/sklearn/linear_model/_coordinate_descent.py:633: ConvergenceWarning: Objective did not converge. You might want to increase the number of iterations. Duality gap: 0.0, tolerance: 0.0\n",
      "  model = cd_fast.enet_coordinate_descent_gram(\n",
      "/home/kernel/Desktop/py_test/project/venv/lib/python3.8/site-packages/sklearn/linear_model/_coordinate_descent.py:633: ConvergenceWarning: Objective did not converge. You might want to increase the number of iterations. Duality gap: 0.0, tolerance: 0.0\n",
      "  model = cd_fast.enet_coordinate_descent_gram(\n",
      "/home/kernel/Desktop/py_test/project/venv/lib/python3.8/site-packages/sklearn/linear_model/_coordinate_descent.py:633: ConvergenceWarning: Objective did not converge. You might want to increase the number of iterations. Duality gap: 0.0, tolerance: 0.0\n",
      "  model = cd_fast.enet_coordinate_descent_gram(\n",
      "/home/kernel/Desktop/py_test/project/venv/lib/python3.8/site-packages/sklearn/linear_model/_coordinate_descent.py:633: ConvergenceWarning: Objective did not converge. You might want to increase the number of iterations. Duality gap: 0.0, tolerance: 0.0\n",
      "  model = cd_fast.enet_coordinate_descent_gram(\n",
      "/home/kernel/Desktop/py_test/project/venv/lib/python3.8/site-packages/sklearn/linear_model/_coordinate_descent.py:633: ConvergenceWarning: Objective did not converge. You might want to increase the number of iterations. Duality gap: 0.0, tolerance: 0.0\n",
      "  model = cd_fast.enet_coordinate_descent_gram(\n",
      "/home/kernel/Desktop/py_test/project/venv/lib/python3.8/site-packages/sklearn/linear_model/_coordinate_descent.py:633: ConvergenceWarning: Objective did not converge. You might want to increase the number of iterations. Duality gap: 0.0, tolerance: 0.0\n",
      "  model = cd_fast.enet_coordinate_descent_gram(\n",
      "/home/kernel/Desktop/py_test/project/venv/lib/python3.8/site-packages/sklearn/linear_model/_coordinate_descent.py:633: ConvergenceWarning: Objective did not converge. You might want to increase the number of iterations. Duality gap: 0.0, tolerance: 0.0\n",
      "  model = cd_fast.enet_coordinate_descent_gram(\n",
      "/home/kernel/Desktop/py_test/project/venv/lib/python3.8/site-packages/sklearn/linear_model/_coordinate_descent.py:633: ConvergenceWarning: Objective did not converge. You might want to increase the number of iterations. Duality gap: 0.0, tolerance: 0.0\n",
      "  model = cd_fast.enet_coordinate_descent_gram(\n",
      "/home/kernel/Desktop/py_test/project/venv/lib/python3.8/site-packages/sklearn/linear_model/_coordinate_descent.py:633: ConvergenceWarning: Objective did not converge. You might want to increase the number of iterations. Duality gap: 0.0, tolerance: 0.0\n",
      "  model = cd_fast.enet_coordinate_descent_gram(\n",
      "/home/kernel/Desktop/py_test/project/venv/lib/python3.8/site-packages/sklearn/linear_model/_coordinate_descent.py:633: ConvergenceWarning: Objective did not converge. You might want to increase the number of iterations. Duality gap: 0.0, tolerance: 0.0\n",
      "  model = cd_fast.enet_coordinate_descent_gram(\n",
      "/home/kernel/Desktop/py_test/project/venv/lib/python3.8/site-packages/sklearn/linear_model/_coordinate_descent.py:633: ConvergenceWarning: Objective did not converge. You might want to increase the number of iterations. Duality gap: 0.0, tolerance: 0.0\n",
      "  model = cd_fast.enet_coordinate_descent_gram(\n",
      "/home/kernel/Desktop/py_test/project/venv/lib/python3.8/site-packages/sklearn/linear_model/_coordinate_descent.py:633: ConvergenceWarning: Objective did not converge. You might want to increase the number of iterations. Duality gap: 0.0, tolerance: 0.0\n",
      "  model = cd_fast.enet_coordinate_descent_gram(\n",
      "/home/kernel/Desktop/py_test/project/venv/lib/python3.8/site-packages/sklearn/linear_model/_coordinate_descent.py:633: ConvergenceWarning: Objective did not converge. You might want to increase the number of iterations. Duality gap: 0.0, tolerance: 0.0\n",
      "  model = cd_fast.enet_coordinate_descent_gram(\n",
      "/home/kernel/Desktop/py_test/project/venv/lib/python3.8/site-packages/sklearn/linear_model/_coordinate_descent.py:633: ConvergenceWarning: Objective did not converge. You might want to increase the number of iterations. Duality gap: 0.0, tolerance: 0.0\n",
      "  model = cd_fast.enet_coordinate_descent_gram(\n",
      "/home/kernel/Desktop/py_test/project/venv/lib/python3.8/site-packages/sklearn/linear_model/_coordinate_descent.py:633: ConvergenceWarning: Objective did not converge. You might want to increase the number of iterations. Duality gap: 0.0, tolerance: 0.0\n",
      "  model = cd_fast.enet_coordinate_descent_gram(\n",
      "/home/kernel/Desktop/py_test/project/venv/lib/python3.8/site-packages/sklearn/linear_model/_coordinate_descent.py:633: ConvergenceWarning: Objective did not converge. You might want to increase the number of iterations. Duality gap: 0.0, tolerance: 0.0\n",
      "  model = cd_fast.enet_coordinate_descent_gram(\n",
      "/home/kernel/Desktop/py_test/project/venv/lib/python3.8/site-packages/sklearn/linear_model/_coordinate_descent.py:633: ConvergenceWarning: Objective did not converge. You might want to increase the number of iterations. Duality gap: 0.0, tolerance: 0.0\n",
      "  model = cd_fast.enet_coordinate_descent_gram(\n",
      "/home/kernel/Desktop/py_test/project/venv/lib/python3.8/site-packages/sklearn/linear_model/_coordinate_descent.py:633: ConvergenceWarning: Objective did not converge. You might want to increase the number of iterations. Duality gap: 0.0, tolerance: 0.0\n",
      "  model = cd_fast.enet_coordinate_descent_gram(\n",
      "/home/kernel/Desktop/py_test/project/venv/lib/python3.8/site-packages/sklearn/linear_model/_coordinate_descent.py:633: ConvergenceWarning: Objective did not converge. You might want to increase the number of iterations. Duality gap: 0.0, tolerance: 0.0\n",
      "  model = cd_fast.enet_coordinate_descent_gram(\n",
      "/home/kernel/Desktop/py_test/project/venv/lib/python3.8/site-packages/sklearn/linear_model/_coordinate_descent.py:633: ConvergenceWarning: Objective did not converge. You might want to increase the number of iterations. Duality gap: 0.0, tolerance: 0.0\n",
      "  model = cd_fast.enet_coordinate_descent_gram(\n",
      "/home/kernel/Desktop/py_test/project/venv/lib/python3.8/site-packages/sklearn/linear_model/_coordinate_descent.py:633: ConvergenceWarning: Objective did not converge. You might want to increase the number of iterations. Duality gap: 0.0, tolerance: 0.0\n",
      "  model = cd_fast.enet_coordinate_descent_gram(\n",
      "/home/kernel/Desktop/py_test/project/venv/lib/python3.8/site-packages/sklearn/linear_model/_coordinate_descent.py:633: ConvergenceWarning: Objective did not converge. You might want to increase the number of iterations. Duality gap: 0.0, tolerance: 0.0\n",
      "  model = cd_fast.enet_coordinate_descent_gram(\n",
      "/home/kernel/Desktop/py_test/project/venv/lib/python3.8/site-packages/sklearn/linear_model/_coordinate_descent.py:633: ConvergenceWarning: Objective did not converge. You might want to increase the number of iterations. Duality gap: 0.0, tolerance: 0.0\n",
      "  model = cd_fast.enet_coordinate_descent_gram(\n",
      "/home/kernel/Desktop/py_test/project/venv/lib/python3.8/site-packages/sklearn/linear_model/_coordinate_descent.py:633: ConvergenceWarning: Objective did not converge. You might want to increase the number of iterations. Duality gap: 0.0, tolerance: 0.0\n",
      "  model = cd_fast.enet_coordinate_descent_gram(\n",
      "/home/kernel/Desktop/py_test/project/venv/lib/python3.8/site-packages/sklearn/linear_model/_coordinate_descent.py:633: ConvergenceWarning: Objective did not converge. You might want to increase the number of iterations. Duality gap: 0.0, tolerance: 0.0\n",
      "  model = cd_fast.enet_coordinate_descent_gram(\n",
      "/home/kernel/Desktop/py_test/project/venv/lib/python3.8/site-packages/sklearn/linear_model/_coordinate_descent.py:633: ConvergenceWarning: Objective did not converge. You might want to increase the number of iterations. Duality gap: 0.0, tolerance: 0.0\n",
      "  model = cd_fast.enet_coordinate_descent_gram(\n",
      "/home/kernel/Desktop/py_test/project/venv/lib/python3.8/site-packages/sklearn/linear_model/_coordinate_descent.py:633: ConvergenceWarning: Objective did not converge. You might want to increase the number of iterations. Duality gap: 0.0, tolerance: 0.0\n",
      "  model = cd_fast.enet_coordinate_descent_gram(\n",
      "/home/kernel/Desktop/py_test/project/venv/lib/python3.8/site-packages/sklearn/linear_model/_coordinate_descent.py:633: ConvergenceWarning: Objective did not converge. You might want to increase the number of iterations. Duality gap: 0.0, tolerance: 0.0\n",
      "  model = cd_fast.enet_coordinate_descent_gram(\n",
      "/home/kernel/Desktop/py_test/project/venv/lib/python3.8/site-packages/sklearn/linear_model/_coordinate_descent.py:633: ConvergenceWarning: Objective did not converge. You might want to increase the number of iterations. Duality gap: 0.0, tolerance: 0.0\n",
      "  model = cd_fast.enet_coordinate_descent_gram(\n",
      "/home/kernel/Desktop/py_test/project/venv/lib/python3.8/site-packages/sklearn/linear_model/_coordinate_descent.py:633: ConvergenceWarning: Objective did not converge. You might want to increase the number of iterations. Duality gap: 0.0, tolerance: 0.0\n",
      "  model = cd_fast.enet_coordinate_descent_gram(\n",
      "/home/kernel/Desktop/py_test/project/venv/lib/python3.8/site-packages/sklearn/linear_model/_coordinate_descent.py:633: ConvergenceWarning: Objective did not converge. You might want to increase the number of iterations. Duality gap: 0.0, tolerance: 0.0\n",
      "  model = cd_fast.enet_coordinate_descent_gram(\n",
      "/home/kernel/Desktop/py_test/project/venv/lib/python3.8/site-packages/sklearn/linear_model/_coordinate_descent.py:633: ConvergenceWarning: Objective did not converge. You might want to increase the number of iterations. Duality gap: 0.0, tolerance: 0.0\n",
      "  model = cd_fast.enet_coordinate_descent_gram(\n",
      "/home/kernel/Desktop/py_test/project/venv/lib/python3.8/site-packages/sklearn/linear_model/_coordinate_descent.py:633: ConvergenceWarning: Objective did not converge. You might want to increase the number of iterations. Duality gap: 0.0, tolerance: 0.0\n",
      "  model = cd_fast.enet_coordinate_descent_gram(\n",
      "/home/kernel/Desktop/py_test/project/venv/lib/python3.8/site-packages/sklearn/linear_model/_coordinate_descent.py:633: ConvergenceWarning: Objective did not converge. You might want to increase the number of iterations. Duality gap: 0.0, tolerance: 0.0\n",
      "  model = cd_fast.enet_coordinate_descent_gram(\n",
      "/home/kernel/Desktop/py_test/project/venv/lib/python3.8/site-packages/sklearn/linear_model/_coordinate_descent.py:633: ConvergenceWarning: Objective did not converge. You might want to increase the number of iterations. Duality gap: 0.0, tolerance: 0.0\n",
      "  model = cd_fast.enet_coordinate_descent_gram(\n",
      "/home/kernel/Desktop/py_test/project/venv/lib/python3.8/site-packages/sklearn/linear_model/_coordinate_descent.py:633: ConvergenceWarning: Objective did not converge. You might want to increase the number of iterations. Duality gap: 0.0, tolerance: 0.0\n",
      "  model = cd_fast.enet_coordinate_descent_gram(\n",
      "/home/kernel/Desktop/py_test/project/venv/lib/python3.8/site-packages/sklearn/linear_model/_coordinate_descent.py:633: ConvergenceWarning: Objective did not converge. You might want to increase the number of iterations. Duality gap: 0.0, tolerance: 0.0\n",
      "  model = cd_fast.enet_coordinate_descent_gram(\n",
      "/home/kernel/Desktop/py_test/project/venv/lib/python3.8/site-packages/sklearn/linear_model/_coordinate_descent.py:647: ConvergenceWarning: Objective did not converge. You might want to increase the number of iterations, check the scale of the features or consider increasing regularisation. Duality gap: 0.000e+00, tolerance: 0.000e+00\n",
      "  model = cd_fast.enet_coordinate_descent(\n"
     ]
    },
    {
     "data": {
      "text/plain": [
       "LassoCV(max_iter=10000)"
      ]
     },
     "execution_count": 86,
     "metadata": {},
     "output_type": "execute_result"
    }
   ],
   "source": [
    "from sklearn import linear_model\n",
    "# from sklearn.linear_model.LassoCV\n",
    "clf = linear_model.LassoCV(max_iter=10000)\n",
    "clf.fit(X[:80, :50], y[:80])"
   ]
  },
  {
   "cell_type": "code",
   "execution_count": 87,
   "id": "e6edecbf-8f37-4acb-8d74-508ad10cd088",
   "metadata": {},
   "outputs": [
    {
     "name": "stdout",
     "output_type": "stream",
     "text": [
      "[0. 0. 0. 0. 0. 0. 0. 0. 0. 0. 0. 0. 0. 0. 0. 0. 0. 0. 0. 0. 0. 0. 0. 0.\n",
      " 0. 0. 0. 0. 0. 0. 0. 0. 0. 0. 0. 0. 0. 0. 0. 0. 0. 0. 0. 0. 0. 0. 0. 0.\n",
      " 0. 0.]\n"
     ]
    }
   ],
   "source": [
    "print(clf.coef_)"
   ]
  },
  {
   "cell_type": "code",
   "execution_count": 88,
   "id": "00d28b1c-8177-4660-9123-057b2a9e76ab",
   "metadata": {},
   "outputs": [
    {
     "data": {
      "text/plain": [
       "0.0"
      ]
     },
     "execution_count": 88,
     "metadata": {},
     "output_type": "execute_result"
    }
   ],
   "source": [
    "np.sum(clf.coef_)"
   ]
  },
  {
   "cell_type": "code",
   "execution_count": 89,
   "id": "23222285-4c83-4c8f-a07f-f2cc7a62bb03",
   "metadata": {},
   "outputs": [
    {
     "data": {
      "image/png": "[encoded data removed]",
      "text/plain": [
       "<Figure size 432x288 with 1 Axes>"
      ]
     },
     "metadata": {
      "needs_background": "light"
     },
     "output_type": "display_data"
    }
   ],
   "source": [
    "plt.hist(clf.coef_, bins=50);"
   ]
  },
  {
   "cell_type": "code",
   "execution_count": 102,
   "id": "86a0825f-30c9-4165-90ea-a485639acc8a",
   "metadata": {},
   "outputs": [],
   "source": [
    "from sklearn.neural_network import MLPClassifier"
   ]
  },
  {
   "cell_type": "code",
   "execution_count": 105,
   "id": "93703820-57d1-4bc6-a4ed-40c9ae9bfae8",
   "metadata": {},
   "outputs": [],
   "source": [
    "net = MLPClassifier(random_state=1, max_iter=300).fit(X[:80], y[:80])"
   ]
  },
  {
   "cell_type": "code",
   "execution_count": 107,
   "id": "62a8dedb-5f70-481a-842b-56a9e886ee0b",
   "metadata": {},
   "outputs": [
    {
     "data": {
      "text/plain": [
       "1.0"
      ]
     },
     "execution_count": 107,
     "metadata": {},
     "output_type": "execute_result"
    }
   ],
   "source": [
    "net.score(X[:80], y[:80])"
   ]
  },
  {
   "cell_type": "code",
   "execution_count": 108,
   "id": "306fa098-bd48-428b-9534-ef407359c5be",
   "metadata": {},
   "outputs": [],
   "source": [
    "from sklearn.linear_model import Ridge"
   ]
  },
  {
   "cell_type": "code",
   "execution_count": 109,
   "id": "010014b6-edf4-4c73-b1c2-585718020d0f",
   "metadata": {},
   "outputs": [],
   "source": [
    "clf = Ridge(alpha=1.0)"
   ]
  },
  {
   "cell_type": "code",
   "execution_count": 110,
   "id": "65bdf486-a5c8-4758-a942-6cd9ce1c8c4c",
   "metadata": {},
   "outputs": [
    {
     "data": {
      "text/plain": [
       "Ridge()"
      ]
     },
     "execution_count": 110,
     "metadata": {},
     "output_type": "execute_result"
    }
   ],
   "source": [
    "clf.fit(X[:80], y[:80])"
   ]
  },
  {
   "cell_type": "code",
   "execution_count": 112,
   "id": "05f8404a-8708-4953-909c-959765fa2f74",
   "metadata": {},
   "outputs": [
    {
     "data": {
      "text/plain": [
       "-1.0"
      ]
     },
     "execution_count": 112,
     "metadata": {},
     "output_type": "execute_result"
    }
   ],
   "source": [
    "clf.score(X[80:], y[80:])"
   ]
  },
  {
   "cell_type": "code",
   "execution_count": 116,
   "id": "8b5a9bcd-1ba8-4944-b979-c57152685368",
   "metadata": {},
   "outputs": [
    {
     "data": {
      "text/plain": [
       "array([], dtype=float64)"
      ]
     },
     "execution_count": 116,
     "metadata": {},
     "output_type": "execute_result"
    }
   ],
   "source": [
    "clf.coef_[clf.coef_ != 0]"
   ]
  },
  {
   "cell_type": "code",
   "execution_count": 94,
   "id": "823df971-afca-490b-acc3-6172148bdab2",
   "metadata": {},
   "outputs": [
    {
     "data": {
      "text/plain": [
       "(50,)"
      ]
     },
     "execution_count": 94,
     "metadata": {},
     "output_type": "execute_result"
    }
   ],
   "source": [
    "X[81, :50].shape"
   ]
  },
  {
   "cell_type": "code",
   "execution_count": 101,
   "id": "9708d94f-0675-4d8c-81eb-54807a5b44a4",
   "metadata": {},
   "outputs": [
    {
     "data": {
      "text/plain": [
       "-0.5063291139240507"
      ]
     },
     "execution_count": 101,
     "metadata": {},
     "output_type": "execute_result"
    }
   ],
   "source": [
    "np.sum(clf.predict(X[81: ,:50]) - y[81:])/len(y[81:])"
   ]
  },
  {
   "cell_type": "code",
   "execution_count": null,
   "id": "ab76ff8d-d7f6-44ac-a77d-326e04b0944a",
   "metadata": {},
   "outputs": [],
   "source": [
    "clf."
   ]
  },
  {
   "cell_type": "code",
   "execution_count": 61,
   "id": "3e765d93-b2d8-4165-9b65-91780784328d",
   "metadata": {},
   "outputs": [
    {
     "data": {
      "text/plain": [
       "array([0.])"
      ]
     },
     "execution_count": 61,
     "metadata": {},
     "output_type": "execute_result"
    }
   ],
   "source": [
    "np.unique(clf.coef_)"
   ]
  },
  {
   "cell_type": "code",
   "execution_count": 62,
   "id": "e2aaced5-4d01-4d68-9027-943a8c32aa2a",
   "metadata": {},
   "outputs": [
    {
     "name": "stdout",
     "output_type": "stream",
     "text": [
      "1.0\n"
     ]
    }
   ],
   "source": [
    "print(clf.intercept_)"
   ]
  },
  {
   "cell_type": "code",
   "execution_count": 42,
   "id": "8eef05a3-41f4-4c97-91a7-7dacd1831c5c",
   "metadata": {},
   "outputs": [
    {
     "data": {
      "text/plain": [
       "(120, 1270)"
      ]
     },
     "execution_count": 42,
     "metadata": {},
     "output_type": "execute_result"
    }
   ],
   "source": [
    "animate_features.shape"
   ]
  },
  {
   "cell_type": "code",
   "execution_count": 46,
   "id": "fe829c50-0c4c-43a6-b6dd-2cc0a1217057",
   "metadata": {},
   "outputs": [
    {
     "data": {
      "image/png": "[encoded data removed]",
      "text/plain": [
       "<Figure size 432x288 with 1 Axes>"
      ]
     },
     "metadata": {
      "needs_background": "light"
     },
     "output_type": "display_data"
    },
    {
     "data": {
      "image/png": "[encoded data removed]",
      "text/plain": [
       "<Figure size 432x288 with 1 Axes>"
      ]
     },
     "metadata": {
      "needs_background": "light"
     },
     "output_type": "display_data"
    },
    {
     "data": {
      "image/png": "[encoded data removed]",
      "text/plain": [
       "<Figure size 432x288 with 1 Axes>"
      ]
     },
     "metadata": {
      "needs_background": "light"
     },
     "output_type": "display_data"
    },
    {
     "data": {
      "image/png": "[encoded data removed]",
      "text/plain": [
       "<Figure size 432x288 with 1 Axes>"
      ]
     },
     "metadata": {
      "needs_background": "light"
     },
     "output_type": "display_data"
    }
   ],
   "source": [
    "clfs = [LDA(), KNeighborsClassifier(n_neighbors=3), AdaBoostClassifier(n_estimators=100, random_state=0), make_pipeline(StandardScaler(), SVC(gamma='auto'))]\n",
    "clf_labels = ['LDA', 'Tree', 'Ada', 'SVM']\n",
    "clf_scores = []\n",
    "for i in range(len(clfs)):\n",
    "    clf = clfs[i]\n",
    "    label = clf_labels[i]\n",
    "    all_scores = np.zeros(animate_features.shape[1])\n",
    "    for ch in range(animate_features.shape[1]):\n",
    "        # start = ch\n",
    "        # for end in ['O', 'R']:\n",
    "        #     picks = snirf_1.pick(start, end)\n",
    "        #     if len(picks > 0):\n",
    "        animate_features_picked = animate_features[:, ch, :].reshape(animate_features.shape[0],  animate_features.shape[2])\n",
    "        inanimate_features_picked = inanimate_features[:, ch, :].reshape(inanimate_features.shape[0],  inanimate_features.shape[2])\n",
    "\n",
    "        X = np.vstack((animate_features_picked, inanimate_features_picked))\n",
    "        y = np.hstack((np.ones(len(animate_features_picked)), 2*np.ones(len(inanimate_features_picked))))\n",
    "\n",
    "        clf = tree.DecisionTreeClassifier()\n",
    "        scores = cross_val_score(clf, X[80:], y[80:], cv=5)\n",
    "\n",
    "        all_scores [ch] = np.mean(scores)\n",
    "        # dic[str(snirf_1.clean_channels[ch]) ] = np.mean(scores)\n",
    "    clf_scores.append(all_scores)\n",
    "    plt.hist(all_scores)\n",
    "    plt.title(label)\n",
    "    plt.show();"
   ]
  },
  {
   "cell_type": "code",
   "execution_count": null,
   "id": "2bb02b05-07a4-48bb-a6b6-9d395842944c",
   "metadata": {},
   "outputs": [],
   "source": []
  },
  {
   "cell_type": "code",
   "execution_count": null,
   "id": "c6048564-2167-46b3-a74c-88a29a2df577",
   "metadata": {},
   "outputs": [],
   "source": [
    "plt.hist(all_scores);"
   ]
  },
  {
   "cell_type": "code",
   "execution_count": null,
   "id": "70569110-f892-451c-a942-e1dd27475dfa",
   "metadata": {},
   "outputs": [],
   "source": []
  },
  {
   "cell_type": "code",
   "execution_count": null,
   "id": "8ec93044-b9ee-469b-a325-dec274d7bdba",
   "metadata": {},
   "outputs": [],
   "source": [
    "picks = snirf_1.pick('S17', 'o')"
   ]
  },
  {
   "cell_type": "code",
   "execution_count": null,
   "id": "44d48972-07db-4fed-ab3a-5d0aeed05dc7",
   "metadata": {},
   "outputs": [],
   "source": [
    "animate_features_picked = animate_features[:, picks, :].reshape(animate_features.shape[0], len(picks) * animate_features.shape[2])\n",
    "inanimate_features_picked = inanimate_features[:, picks, :].reshape(inanimate_features.shape[0], len(picks) * inanimate_features.shape[2])"
   ]
  },
  {
   "cell_type": "code",
   "execution_count": 36,
   "id": "1e2a15d6-7152-48fb-9dd6-9c746f223557",
   "metadata": {},
   "outputs": [],
   "source": [
    "from sklearn.discriminant_analysis import LinearDiscriminantAnalysis as LDA\n",
    "from sklearn.model_selection import cross_val_score\n"
   ]
  },
  {
   "cell_type": "code",
   "execution_count": null,
   "id": "f3f0191a-5341-4a19-a8a4-56c33b6f77e6",
   "metadata": {},
   "outputs": [],
   "source": [
    "X = np.vstack((animate_features_picked, inanimate_features_picked))\n",
    "y = np.hstack((np.ones(len(animate_features_picked)), 2*np.ones(len(inanimate_features_picked))))"
   ]
  },
  {
   "cell_type": "code",
   "execution_count": null,
   "id": "4427e8f0-dd3c-4578-9bef-627ca3bd610d",
   "metadata": {},
   "outputs": [],
   "source": [
    "X.shape"
   ]
  },
  {
   "cell_type": "code",
   "execution_count": null,
   "id": "edd73d62-514a-4edd-b5cc-5ca11199771d",
   "metadata": {},
   "outputs": [],
   "source": [
    "y.shape"
   ]
  },
  {
   "cell_type": "code",
   "execution_count": null,
   "id": "cfb59779-b2c8-421f-bf4d-eaebb915fc96",
   "metadata": {},
   "outputs": [],
   "source": [
    "clf = LDA()\n",
    "clf.fit(X, y)"
   ]
  },
  {
   "cell_type": "code",
   "execution_count": null,
   "id": "f0a9eeba-c4db-464f-a235-7093b3253690",
   "metadata": {},
   "outputs": [],
   "source": [
    "clf.score(X, y)"
   ]
  },
  {
   "cell_type": "code",
   "execution_count": null,
   "id": "db18c7e7-4cf1-4ec5-8ae4-bcd48c7871b3",
   "metadata": {},
   "outputs": [],
   "source": [
    "scores = cross_val_score(clf, X[80:], y[80:], cv=5)"
   ]
  },
  {
   "cell_type": "code",
   "execution_count": null,
   "id": "22e4726f-67ac-4bd9-8431-4c3f6d75767f",
   "metadata": {},
   "outputs": [],
   "source": [
    "scores.mean()"
   ]
  },
  {
   "cell_type": "code",
   "execution_count": 37,
   "id": "0a27a422-add8-48d8-8de1-4b7749527059",
   "metadata": {},
   "outputs": [],
   "source": [
    "from sklearn.neighbors import KNeighborsClassifier"
   ]
  },
  {
   "cell_type": "code",
   "execution_count": null,
   "id": "efd45a51-a2f7-45a1-bb5e-27e6bb73a649",
   "metadata": {},
   "outputs": [],
   "source": [
    "neigh = KNeighborsClassifier(n_neighbors=3)\n",
    "scores = cross_val_score(neigh, X[80:], y[80:], cv=5)"
   ]
  },
  {
   "cell_type": "code",
   "execution_count": null,
   "id": "c9099d03-189d-435f-b8b6-6db15e675693",
   "metadata": {},
   "outputs": [],
   "source": [
    "print(scores.mean())\n",
    "scores"
   ]
  },
  {
   "cell_type": "code",
   "execution_count": 38,
   "id": "214117d2-f921-4980-b61a-dbead850974c",
   "metadata": {},
   "outputs": [],
   "source": [
    "from sklearn import tree"
   ]
  },
  {
   "cell_type": "code",
   "execution_count": null,
   "id": "3b62e94e-4ac8-4fc9-949d-f72835676b33",
   "metadata": {},
   "outputs": [],
   "source": [
    "clf = tree.DecisionTreeClassifier()\n",
    "scores = cross_val_score(clf, X[80:], y[80:], cv=5)"
   ]
  },
  {
   "cell_type": "code",
   "execution_count": null,
   "id": "5b03b2e8-826a-41b2-bc8e-7ca6e68720fa",
   "metadata": {},
   "outputs": [],
   "source": [
    "print(scores.mean())\n",
    "scores"
   ]
  },
  {
   "cell_type": "code",
   "execution_count": null,
   "id": "ccd66713-788c-447b-acd8-9757527eb58f",
   "metadata": {},
   "outputs": [],
   "source": [
    "clf.fit(X[80:], y[80:])"
   ]
  },
  {
   "cell_type": "code",
   "execution_count": null,
   "id": "74b6199c-6eb8-437f-9226-f7356be4951e",
   "metadata": {},
   "outputs": [],
   "source": [
    "clf.score(X[:80], y[:80])"
   ]
  },
  {
   "cell_type": "code",
   "execution_count": 39,
   "id": "b74e5b4d-8f9d-486b-a16c-ac9dcf2b0050",
   "metadata": {},
   "outputs": [],
   "source": [
    "from sklearn.ensemble import AdaBoostClassifier"
   ]
  },
  {
   "cell_type": "code",
   "execution_count": null,
   "id": "f7ab758e-228b-4909-8ffa-f33e466396e7",
   "metadata": {},
   "outputs": [],
   "source": [
    "clf = AdaBoostClassifier(n_estimators=100, random_state=0)\n",
    "scores = cross_val_score(clf, X[80:], y[80:], cv=5)"
   ]
  },
  {
   "cell_type": "code",
   "execution_count": null,
   "id": "74189fd5-abb0-45e2-a7a6-4e09cdf3e999",
   "metadata": {},
   "outputs": [],
   "source": [
    "print(scores.mean())\n",
    "scores"
   ]
  },
  {
   "cell_type": "code",
   "execution_count": 40,
   "id": "7b6be732-ec3d-4b51-be1b-b410f920baa6",
   "metadata": {},
   "outputs": [],
   "source": [
    "from sklearn.pipeline import make_pipeline\n",
    "from sklearn.preprocessing import StandardScaler\n",
    "from sklearn.svm import SVC"
   ]
  },
  {
   "cell_type": "code",
   "execution_count": null,
   "id": "df06a637-9f1a-448f-87a0-ec3fd8e03e00",
   "metadata": {},
   "outputs": [],
   "source": [
    "clf = make_pipeline(StandardScaler(), SVC(gamma='auto'))\n",
    "scores = cross_val_score(clf, X[80:], y[80:], cv=5)"
   ]
  },
  {
   "cell_type": "code",
   "execution_count": null,
   "id": "7a189994-2bc2-46bf-93b2-eb77491aee4f",
   "metadata": {},
   "outputs": [],
   "source": [
    "print(scores.mean())\n",
    "scores"
   ]
  },
  {
   "cell_type": "code",
   "execution_count": null,
   "id": "f709f82b-2327-4838-b678-a68f00417171",
   "metadata": {},
   "outputs": [],
   "source": []
  },
  {
   "cell_type": "markdown",
   "id": "73f715e8-73f7-45c0-971e-3b4ec28ea5a1",
   "metadata": {},
   "source": [
    "# GLM?"
   ]
  },
  {
   "cell_type": "code",
   "execution_count": null,
   "id": "b4f833b7-ce85-4f61-90ea-32dd27f0af93",
   "metadata": {},
   "outputs": [],
   "source": [
    "import statsmodels.api as sm"
   ]
  },
  {
   "cell_type": "code",
   "execution_count": null,
   "id": "505a6740-fc61-44f7-814f-3da195ca3410",
   "metadata": {},
   "outputs": [],
   "source": [
    "sm.add_constant(X).shape"
   ]
  },
  {
   "cell_type": "code",
   "execution_count": null,
   "id": "cb643a7c-185c-4ba1-9b9e-d5daa97f8db5",
   "metadata": {},
   "outputs": [],
   "source": [
    "sm.datasets.scotland.load().endog"
   ]
  },
  {
   "cell_type": "code",
   "execution_count": null,
   "id": "d5ea3a7e-4dc8-4195-811f-04c6111ee220",
   "metadata": {},
   "outputs": [],
   "source": [
    "gamma_model = sm.GLM(y, sm.add_constant(X), family=sm.families.Gamma())"
   ]
  },
  {
   "cell_type": "code",
   "execution_count": null,
   "id": "9cd306df-be57-43a5-97c6-4058ccf84200",
   "metadata": {},
   "outputs": [],
   "source": [
    "gamma_results = gamma_model.fit()"
   ]
  },
  {
   "cell_type": "code",
   "execution_count": null,
   "id": "03918fc9-4f5e-469a-af48-0c494e860207",
   "metadata": {},
   "outputs": [],
   "source": [
    "gamma_results.params"
   ]
  },
  {
   "cell_type": "code",
   "execution_count": null,
   "id": "c8c58901-8518-4db1-ace0-cdaac11e2007",
   "metadata": {},
   "outputs": [],
   "source": [
    "print(gamma_results.summary())"
   ]
  },
  {
   "cell_type": "code",
   "execution_count": null,
   "id": "afd03790-9364-45b1-b295-abdc21e7b7b8",
   "metadata": {},
   "outputs": [],
   "source": []
  },
  {
   "cell_type": "code",
   "execution_count": null,
   "id": "6d3fa166-90f1-4e7f-8df8-27497e326c1e",
   "metadata": {},
   "outputs": [],
   "source": []
  },
  {
   "cell_type": "code",
   "execution_count": null,
   "id": "7ef1c7c6-3c4a-4a65-a8cd-cdbcf1a25e9e",
   "metadata": {},
   "outputs": [],
   "source": []
  },
  {
   "cell_type": "code",
   "execution_count": null,
   "id": "6048fda8-e5ef-4525-a017-7d7a82701ab1",
   "metadata": {},
   "outputs": [],
   "source": []
  },
  {
   "cell_type": "code",
   "execution_count": null,
   "id": "b478076f-3430-4ebb-bb1a-dfb20496ffe6",
   "metadata": {},
   "outputs": [],
   "source": []
  },
  {
   "cell_type": "code",
   "execution_count": null,
   "id": "03b3aa7d-6601-4bf9-ab05-5878d52eb53e",
   "metadata": {},
   "outputs": [],
   "source": []
  },
  {
   "cell_type": "code",
   "execution_count": null,
   "id": "74f78f61-bc5c-45bf-9a0d-ebac69d0db24",
   "metadata": {},
   "outputs": [],
   "source": []
  },
  {
   "cell_type": "code",
   "execution_count": null,
   "id": "844e8ab9-7255-429d-9c25-349fc151aeb7",
   "metadata": {},
   "outputs": [],
   "source": []
  },
  {
   "cell_type": "code",
   "execution_count": null,
   "id": "10eeba17-45ab-412d-9e11-546aea7dfd07",
   "metadata": {},
   "outputs": [],
   "source": []
  },
  {
   "cell_type": "code",
   "execution_count": null,
   "id": "1c233bd7-25cb-4c92-94d2-36c7cafa0c3d",
   "metadata": {},
   "outputs": [],
   "source": []
  },
  {
   "cell_type": "code",
   "execution_count": null,
   "id": "59dbb492-f819-4e87-a9d4-47ba791cac15",
   "metadata": {},
   "outputs": [],
   "source": []
  },
  {
   "cell_type": "code",
   "execution_count": null,
   "id": "e513e186-ac01-44b6-9115-aa973ede0bd8",
   "metadata": {},
   "outputs": [],
   "source": []
  },
  {
   "cell_type": "code",
   "execution_count": null,
   "id": "e3f6f7a4-3103-440e-b33d-a1c281fe8679",
   "metadata": {},
   "outputs": [],
   "source": []
  },
  {
   "cell_type": "code",
   "execution_count": null,
   "id": "14a9a6e9-3dd6-4d6a-b1b7-b7bcc42d20c5",
   "metadata": {},
   "outputs": [],
   "source": []
  },
  {
   "cell_type": "code",
   "execution_count": null,
   "id": "79292172-e95d-48ee-b727-5dd1a433f340",
   "metadata": {},
   "outputs": [],
   "source": []
  },
  {
   "cell_type": "code",
   "execution_count": null,
   "id": "002cc3c8-4f9e-469d-9b20-50ccc739c9d2",
   "metadata": {},
   "outputs": [],
   "source": []
  },
  {
   "cell_type": "code",
   "execution_count": null,
   "id": "76e92aa3-d537-424d-848c-cea7b985b823",
   "metadata": {},
   "outputs": [],
   "source": []
  },
  {
   "cell_type": "code",
   "execution_count": null,
   "id": "3520e77a-3758-4359-9d3d-0fe1c3bd700d",
   "metadata": {},
   "outputs": [],
   "source": []
  },
  {
   "cell_type": "code",
   "execution_count": null,
   "id": "3f19d6d6-4a28-45fc-a244-1b101eb9bca2",
   "metadata": {},
   "outputs": [],
   "source": []
  },
  {
   "cell_type": "code",
   "execution_count": null,
   "id": "99696ea1-fee8-451b-8d04-4d595ae3f3a0",
   "metadata": {},
   "outputs": [],
   "source": []
  },
  {
   "cell_type": "code",
   "execution_count": null,
   "id": "f08998fa-ae88-4c2d-9dab-d20959307850",
   "metadata": {},
   "outputs": [],
   "source": []
  },
  {
   "cell_type": "code",
   "execution_count": null,
   "id": "664ce224-3557-49f6-a352-d67588ae190a",
   "metadata": {},
   "outputs": [],
   "source": [
    "np.repeat(np.ones((3, 4))[:, :, np.newaxis], 5, axis=2).shape"
   ]
  },
  {
   "cell_type": "code",
   "execution_count": null,
   "id": "b2ab4a5e-23ec-4316-95e8-2028c33db4a0",
   "metadata": {},
   "outputs": [],
   "source": [
    "snirf_1.get_block_windows(2, 7).shape"
   ]
  },
  {
   "cell_type": "code",
   "execution_count": null,
   "id": "debf7913-56f5-4f34-87b8-9ad317134cce",
   "metadata": {},
   "outputs": [],
   "source": []
  },
  {
   "cell_type": "code",
   "execution_count": null,
   "id": "1ed4b6e3-f67c-4f92-9ed8-a1ea671bafb4",
   "metadata": {},
   "outputs": [],
   "source": [
    "snirf_1.get_block_labels()"
   ]
  },
  {
   "cell_type": "code",
   "execution_count": null,
   "id": "a7229b24-9cd1-441d-87c8-82db3c709c1f",
   "metadata": {},
   "outputs": [],
   "source": [
    "events = snirf_1.events\n",
    "data = snirf_1.filtered_data\n",
    "np.array([data[:, time:time+10] for time in events.Timestamp[events.Block].astype(int)]).shape"
   ]
  },
  {
   "cell_type": "code",
   "execution_count": null,
   "id": "77091f72-73d2-4c63-adb1-51b0d30b0f2f",
   "metadata": {},
   "outputs": [],
   "source": [
    "plot_signal(snirf_1.filtered_data[4], 'asd', 7)"
   ]
  },
  {
   "cell_type": "code",
   "execution_count": null,
   "id": "ce24783d-069c-4e49-9d58-be1cd381a09b",
   "metadata": {},
   "outputs": [],
   "source": [
    "picks_1 = snirf_1.pick('S20', 'O')\n",
    "picks_1_R = snirf_1.pick('S20', 'R')\n",
    "picks_2 = snirf_2.pick('S21', 'O')\n",
    "picks_2_R = snirf_2.pick('S21', 'R')"
   ]
  },
  {
   "cell_type": "code",
   "execution_count": null,
   "id": "680b9f96-39f4-4fbd-b484-7cb240055781",
   "metadata": {},
   "outputs": [],
   "source": [
    "picks_1_00 = snirf_1.pick('S00', 'O')"
   ]
  },
  {
   "cell_type": "code",
   "execution_count": null,
   "id": "1bd06d84-dec1-4184-8b09-73820665da16",
   "metadata": {},
   "outputs": [],
   "source": [
    "picks_1_12 = snirf_1.pick('S12', 'O')\n",
    "picks_1_14 = snirf_1.pick('S14', 'O')\n",
    "picks_1_20 = snirf_1.pick('S20', 'O')\n",
    "picks_1_22 = snirf_1.pick('S22', 'O')\n",
    "picks_1_28 = snirf_1.pick('S28', 'O')\n",
    "picks_1_30 = snirf_1.pick('S30', 'O')\n",
    "picks_1_36 = snirf_1.pick('S36', 'O')"
   ]
  },
  {
   "cell_type": "code",
   "execution_count": null,
   "id": "3b11ea0f-e229-44a0-a81d-9120512f8134",
   "metadata": {},
   "outputs": [],
   "source": [
    "picks_1_13 = snirf_1.pick('S13', 'O')\n",
    "picks_1_15 = snirf_1.pick('S15', 'O')\n",
    "picks_1_21 = snirf_1.pick('S21', 'O')\n",
    "picks_1_23 = snirf_1.pick('S23', 'O')\n",
    "picks_1_29 = snirf_1.pick('S29', 'O')\n",
    "picks_1_31 = snirf_1.pick('S31', 'O')\n",
    "picks_1_37 = snirf_1.pick('S37', 'O')"
   ]
  },
  {
   "cell_type": "code",
   "execution_count": null,
   "id": "12d5481b-4491-4a37-a515-c11e9d4a8b3f",
   "metadata": {},
   "outputs": [],
   "source": [
    "picks_1_37_37d0 = snirf_1.pick('S37_D37d0', 'O')"
   ]
  },
  {
   "cell_type": "code",
   "execution_count": null,
   "id": "3f9c5c71-985b-4bda-83d2-c4e393f4119a",
   "metadata": {},
   "outputs": [],
   "source": [
    "snirf_2.data_avg_left[0].shape"
   ]
  },
  {
   "cell_type": "code",
   "execution_count": null,
   "id": "3953965a-f9f0-4359-93e5-32d2f7326a8d",
   "metadata": {},
   "outputs": [],
   "source": [
    "snirf_1.data_avg_left.shape"
   ]
  },
  {
   "cell_type": "code",
   "execution_count": null,
   "id": "7b681330-f738-4251-a8c7-a1765dfc0e5d",
   "metadata": {},
   "outputs": [],
   "source": [
    "tmp = np.mean(snirf_2.data_avg_left[picks_2], axis=0)\n",
    "base_time = int(5*snirf_1.sfreq)\n",
    "tmp_base = tmp[: base_time]\n",
    "# tmp_avg = np.mean(tmp [: int(5*snirf_1.sfreq)])\n",
    "base_avg = np.mean(tmp_base) \n",
    "base_std = np.std(tmp_base)\n",
    "tmp = (tmp - base_avg) / base_std"
   ]
  },
  {
   "cell_type": "code",
   "execution_count": null,
   "id": "3a64f48d-067b-45a6-9547-17f45bd08658",
   "metadata": {},
   "outputs": [],
   "source": [
    "plt.figure(figsize=(25, 10))\n",
    "plot_base(snirf_1.data_avg_right[picks_1_14], snirf_1.sfreq, snirf_1.clean_channels[pick])"
   ]
  },
  {
   "cell_type": "code",
   "execution_count": null,
   "id": "120847b2-df03-41ae-9d01-8afb19cfcb85",
   "metadata": {},
   "outputs": [],
   "source": [
    "plot_base(snirf_1.data_avg_right[picks_1_00], snirf_1.sfreq, 'Right')\n",
    "plot_base(snirf_1.data_avg_left[picks_1_00], snirf_1.sfreq, 'Left')\n",
    "plot_base(snirf_1.data_avg_rest[picks_1_00], snirf_1.sfreq, 'Left')"
   ]
  },
  {
   "cell_type": "code",
   "execution_count": null,
   "id": "3c79628b-7219-41fb-ac04-708afe7eace4",
   "metadata": {},
   "outputs": [],
   "source": [
    "plot_base(snirf_1.data_avg_right[picks_1_12], snirf_1.sfreq, 'Right')\n",
    "plot_base(snirf_1.data_avg_left[picks_1_12], snirf_1.sfreq, 'Left')"
   ]
  },
  {
   "cell_type": "code",
   "execution_count": null,
   "id": "a0c1bcc5-b737-484c-b8d7-9299017e77c9",
   "metadata": {},
   "outputs": [],
   "source": [
    "plot_base(snirf_1.data_avg_right[picks_1_13], snirf_1.sfreq, 'Right')\n",
    "plot_base(snirf_1.data_avg_left[picks_1_13], snirf_1.sfreq, 'Left')"
   ]
  },
  {
   "cell_type": "code",
   "execution_count": null,
   "id": "dcf9e2a4-0b0a-4256-a1d5-569cfca295e6",
   "metadata": {},
   "outputs": [],
   "source": [
    "plot_base(snirf_1.data_avg_right[picks_1_14], snirf_1.sfreq, 'Right')\n",
    "plot_base(snirf_1.data_avg_left[picks_1_14], snirf_1.sfreq, 'Left')"
   ]
  },
  {
   "cell_type": "code",
   "execution_count": null,
   "id": "9de4041f-73dd-4f59-870a-ec69b32388a8",
   "metadata": {},
   "outputs": [],
   "source": [
    "plot_base(snirf_1.data_avg_right[picks_1_15], snirf_1.sfreq, 'Right')\n",
    "plot_base(snirf_1.data_avg_left[picks_1_15], snirf_1.sfreq, 'Left')"
   ]
  },
  {
   "cell_type": "code",
   "execution_count": null,
   "id": "df1dafe1-7dfe-44ac-93ff-e506a726a614",
   "metadata": {},
   "outputs": [],
   "source": [
    "plot_base(snirf_1.data_avg_right[picks_1_20], snirf_1.sfreq, 'Right')\n",
    "plot_base(snirf_1.data_avg_left[picks_1_20], snirf_1.sfreq, 'Left')"
   ]
  },
  {
   "cell_type": "code",
   "execution_count": null,
   "id": "84467fbb-a79f-4ff1-9e97-cd555d4cfd86",
   "metadata": {},
   "outputs": [],
   "source": [
    "plot_base(snirf_1.data_avg_right[picks_1_21], snirf_1.sfreq, 'Right')\n",
    "plot_base(snirf_1.data_avg_left[picks_1_21], snirf_1.sfreq, 'Left')"
   ]
  },
  {
   "cell_type": "code",
   "execution_count": null,
   "id": "805aa8d0-d915-41d9-b74e-791141015200",
   "metadata": {},
   "outputs": [],
   "source": [
    "plot_base(snirf_1.data_avg_right[picks_1_22], snirf_1.sfreq, 'Right')\n",
    "plot_base(snirf_1.data_avg_left[picks_1_22], snirf_1.sfreq, 'Left')"
   ]
  },
  {
   "cell_type": "code",
   "execution_count": null,
   "id": "b3f8921f-cdaa-4c88-b55a-468f5ca6cc9f",
   "metadata": {},
   "outputs": [],
   "source": [
    "plot_base(snirf_1.data_avg_right[picks_1_23], snirf_1.sfreq, 'Right')\n",
    "plot_base(snirf_1.data_avg_left[picks_1_23], snirf_1.sfreq, 'Left')"
   ]
  },
  {
   "cell_type": "code",
   "execution_count": null,
   "id": "f573727e-df5d-419c-87b9-fbf9cdc264ab",
   "metadata": {},
   "outputs": [],
   "source": [
    "plot_base(snirf_1.data_avg_right[picks_1_28], snirf_1.sfreq, 'Right')\n",
    "plot_base(snirf_1.data_avg_left[picks_1_28], snirf_1.sfreq, 'Left')"
   ]
  },
  {
   "cell_type": "code",
   "execution_count": null,
   "id": "00225067-fb64-4820-a6d4-555ba90e118d",
   "metadata": {},
   "outputs": [],
   "source": [
    "plot_base(snirf_1.data_avg_right[picks_1_29], snirf_1.sfreq, 'Right')\n",
    "plot_base(snirf_1.data_avg_left[picks_1_29], snirf_1.sfreq, 'Left')"
   ]
  },
  {
   "cell_type": "code",
   "execution_count": null,
   "id": "fc6b1677-8aed-4695-beb0-133820a883dd",
   "metadata": {},
   "outputs": [],
   "source": [
    "plot_base(snirf_1.data_avg_right[picks_1_30], snirf_1.sfreq, 'Right')\n",
    "plot_base(snirf_1.data_avg_left[picks_1_30], snirf_1.sfreq, 'Left')"
   ]
  },
  {
   "cell_type": "code",
   "execution_count": null,
   "id": "c7d64b9e-dc4f-478c-b1a8-da6f5272f151",
   "metadata": {},
   "outputs": [],
   "source": [
    "plot_base(snirf_1.data_avg_right[picks_1_31], snirf_1.sfreq, 'Right')\n",
    "plot_base(snirf_1.data_avg_left[picks_1_31], snirf_1.sfreq, 'Left')"
   ]
  },
  {
   "cell_type": "code",
   "execution_count": null,
   "id": "b7c7dc90-1842-412a-b3cc-d3e00931a2e7",
   "metadata": {},
   "outputs": [],
   "source": [
    "plot_base(snirf_1.data_avg_right[picks_1_36], snirf_1.sfreq, 'Right')\n",
    "plot_base(snirf_1.data_avg_left[picks_1_36], snirf_1.sfreq, 'Left')"
   ]
  },
  {
   "cell_type": "code",
   "execution_count": null,
   "id": "2e32b8a4-7805-4eef-ac60-6562e15ed98e",
   "metadata": {},
   "outputs": [],
   "source": [
    "plot_base(snirf_1.data_avg_right[picks_1_37], snirf_1.sfreq, 'Right')\n",
    "plot_base(snirf_1.data_avg_left[picks_1_37], snirf_1.sfreq, 'Left')"
   ]
  },
  {
   "cell_type": "code",
   "execution_count": null,
   "id": "2dd2862e-3e91-4626-8ff6-e327a3a2c463",
   "metadata": {},
   "outputs": [],
   "source": [
    "plot_base(snirf_1.data_avg_right[picks_1_12], snirf_1.sfreq, '12')\n",
    "plot_base(snirf_1.data_avg_right[picks_1_14], snirf_1.sfreq, '14')\n",
    "plot_base(snirf_1.data_avg_right[picks_1_20], snirf_1.sfreq, '20')\n",
    "plot_base(snirf_1.data_avg_right[picks_1_22], snirf_1.sfreq, '22')\n",
    "plot_base(snirf_1.data_avg_right[picks_1_28], snirf_1.sfreq, '28')\n",
    "plot_base(snirf_1.data_avg_right[picks_1_30], snirf_1.sfreq, '30')\n",
    "plot_base(snirf_1.data_avg_right[picks_1_36], snirf_1.sfreq, '36')"
   ]
  },
  {
   "cell_type": "code",
   "execution_count": null,
   "id": "f66aa713-78fa-49e6-a30c-9ee38032340d",
   "metadata": {},
   "outputs": [],
   "source": [
    "plot_base(snirf_1.data_avg_left[picks_1_12], snirf_1.sfreq, '12')\n",
    "plot_base(snirf_1.data_avg_left[picks_1_14], snirf_1.sfreq, '14')\n",
    "plot_base(snirf_1.data_avg_left[picks_1_20], snirf_1.sfreq, '20')\n",
    "plot_base(snirf_1.data_avg_left[picks_1_22], snirf_1.sfreq, '22')\n",
    "plot_base(snirf_1.data_avg_left[picks_1_28], snirf_1.sfreq, '28')\n",
    "plot_base(snirf_1.data_avg_left[picks_1_30], snirf_1.sfreq, '30')\n",
    "plot_base(snirf_1.data_avg_left[picks_1_36], snirf_1.sfreq, '36')"
   ]
  },
  {
   "cell_type": "code",
   "execution_count": null,
   "id": "a57ab5f3-3ed0-4df6-b756-40e614915ef4",
   "metadata": {},
   "outputs": [],
   "source": [
    "plot_base(snirf_1.data_avg_rest[picks_1_12], snirf_1.sfreq, '12')\n",
    "plot_base(snirf_1.data_avg_rest[picks_1_14], snirf_1.sfreq, '14')\n",
    "plot_base(snirf_1.data_avg_rest[picks_1_20], snirf_1.sfreq, '20')\n",
    "plot_base(snirf_1.data_avg_rest[picks_1_22], snirf_1.sfreq, '22')\n",
    "plot_base(snirf_1.data_avg_rest[picks_1_28], snirf_1.sfreq, '28')\n",
    "plot_base(snirf_1.data_avg_rest[picks_1_30], snirf_1.sfreq, '30')\n",
    "plot_base(snirf_1.data_avg_rest[picks_1_36], snirf_1.sfreq, '36')"
   ]
  },
  {
   "cell_type": "code",
   "execution_count": null,
   "id": "997287ea-f22b-4883-b312-3c5d62397872",
   "metadata": {},
   "outputs": [],
   "source": [
    "plot_base(snirf_1.data_avg_right[picks_1], snirf_1.sfreq, 'O')\n",
    "plot_base(snirf_1.data_avg_right[picks_1_R], snirf_1.sfreq, 'R')"
   ]
  },
  {
   "cell_type": "code",
   "execution_count": null,
   "id": "1eb6e798-9e60-4506-977e-3ea839902629",
   "metadata": {},
   "outputs": [],
   "source": [
    "plot_base(snirf_1.data_avg_left[picks_1], snirf_1.sfreq, 'O')\n",
    "plot_base(snirf_1.data_avg_left[picks_1_R], snirf_1.sfreq, 'R')"
   ]
  },
  {
   "cell_type": "code",
   "execution_count": null,
   "id": "81472c00-7501-49b7-9261-997d865fe685",
   "metadata": {},
   "outputs": [],
   "source": [
    "plot_base(snirf_1.data_avg_right[picks_2], snirf_1.sfreq, 'O')\n",
    "plot_base(snirf_1.data_avg_right[picks_2_R], snirf_1.sfreq, 'R')"
   ]
  },
  {
   "cell_type": "code",
   "execution_count": null,
   "id": "0cea2f73-e834-49e0-9980-517798a81a85",
   "metadata": {},
   "outputs": [],
   "source": [
    "plot_base(snirf_1.data_avg_left[picks_2], snirf_1.sfreq, 'O')\n",
    "plot_base(snirf_1.data_avg_left[picks_2_R], snirf_1.sfreq, 'R')"
   ]
  },
  {
   "cell_type": "code",
   "execution_count": null,
   "id": "9a1adf03-d6ca-4931-a5ee-06d50f9391dc",
   "metadata": {},
   "outputs": [],
   "source": [
    "plt.plot(tmp)"
   ]
  },
  {
   "cell_type": "code",
   "execution_count": null,
   "id": "278818a2-f78d-4155-b8bd-6bf8ee7e3e49",
   "metadata": {},
   "outputs": [],
   "source": [
    "plot_signal(np.mean(snirf_1.data_avg_left[picks_1], axis=0), 'O')\n",
    "plot_signal(np.mean(snirf_1.data_avg_left[picks_1_R], axis=0), 'R')"
   ]
  },
  {
   "cell_type": "code",
   "execution_count": null,
   "id": "f938cfa7-d32b-43f6-bdd8-0c07c997a7ee",
   "metadata": {},
   "outputs": [],
   "source": [
    "plot_signal(tmp, 'mammad', 7)"
   ]
  },
  {
   "cell_type": "code",
   "execution_count": null,
   "id": "dcae3dd9-c731-436a-a771-64c7a125de82",
   "metadata": {},
   "outputs": [],
   "source": [
    "snirf_1.data_avg_rest.shape"
   ]
  },
  {
   "cell_type": "code",
   "execution_count": null,
   "id": "3d250dac-3df3-478b-bbe0-be9a153545a6",
   "metadata": {},
   "outputs": [],
   "source": [
    "print((picks_1))\n",
    "print((picks_2))"
   ]
  },
  {
   "cell_type": "code",
   "execution_count": null,
   "id": "10812ce9-bea8-438d-a319-5843929e4095",
   "metadata": {},
   "outputs": [],
   "source": [
    "print(snirf_1.clean_channels[picks_1])\n",
    "print(snirf_2.clean_channels[picks_2])"
   ]
  },
  {
   "cell_type": "code",
   "execution_count": null,
   "id": "3e56d496-e0b1-4023-a303-45c0f78337d5",
   "metadata": {},
   "outputs": [],
   "source": [
    "tog = np.vstack((snirf_1.data_left[:,picks_1,:], snirf_2.data_left[:,picks_2,:]))"
   ]
  },
  {
   "cell_type": "code",
   "execution_count": null,
   "id": "f182809e-40bf-4dc8-8f85-b4d3746ee55a",
   "metadata": {},
   "outputs": [],
   "source": [
    "plot_signal(signal=np.mean(np.mean(tog, axis= 0), axis=0), label='asd')"
   ]
  },
  {
   "cell_type": "code",
   "execution_count": null,
   "id": "c96799e9-f834-425e-93de-744860caad09",
   "metadata": {},
   "outputs": [],
   "source": [
    "plt.plot(np.mean(np.mean(tog, axis= 0), axis=0))"
   ]
  },
  {
   "cell_type": "code",
   "execution_count": null,
   "id": "f1d636a0-cf13-4adf-a28a-e7ca778bb892",
   "metadata": {},
   "outputs": [],
   "source": [
    "snirf_2.data_right.shape"
   ]
  },
  {
   "cell_type": "code",
   "execution_count": null,
   "id": "0d130d2d-c564-43c5-aa17-5771f5119f4e",
   "metadata": {},
   "outputs": [],
   "source": [
    "snirf_1.data_right.shape"
   ]
  },
  {
   "cell_type": "markdown",
   "id": "b96f0540-285a-472b-99cc-6b506c7340b7",
   "metadata": {},
   "source": [
    "# Events"
   ]
  },
  {
   "cell_type": "code",
   "execution_count": null,
   "id": "a64169a5-6b52-4a2e-90cf-b470debe426d",
   "metadata": {},
   "outputs": [],
   "source": [
    "events = get_events_from_snirf(path, False)"
   ]
  },
  {
   "cell_type": "code",
   "execution_count": null,
   "id": "32b20bd0-9fda-483b-a2ae-06d3ff8efabe",
   "metadata": {},
   "outputs": [],
   "source": [
    "events"
   ]
  },
  {
   "cell_type": "markdown",
   "id": "0e4d2ceb-3e15-4125-9ec1-29d6ef1632da",
   "metadata": {},
   "source": [
    "# Data"
   ]
  },
  {
   "cell_type": "code",
   "execution_count": null,
   "id": "9f6f5a36-be2f-4a67-8502-07751aa41e8f",
   "metadata": {},
   "outputs": [],
   "source": [
    "data = snirf.get_data()"
   ]
  },
  {
   "cell_type": "code",
   "execution_count": null,
   "id": "3209fe6a-987e-454b-b2dd-461429c03185",
   "metadata": {},
   "outputs": [],
   "source": [
    "nans = np.isnan(data)\n",
    "nans_sum = np.sum(nans, axis=1)\n",
    "nans_ids = nans_sum > 0"
   ]
  },
  {
   "cell_type": "code",
   "execution_count": null,
   "id": "eb1ed03d-4544-44c8-aac2-c06788de9ed5",
   "metadata": {},
   "outputs": [],
   "source": [
    "print(nans_ids.shape)\n",
    "print(data.shape)\n",
    "len(snirf.ch_names)"
   ]
  },
  {
   "cell_type": "code",
   "execution_count": null,
   "id": "fe657222-9e8d-4187-be52-4ae2958a5b64",
   "metadata": {},
   "outputs": [],
   "source": [
    "clean_data = data[~nans_ids, :]\n",
    "clean_channels = np.array(snirf.ch_names)[~nans_ids]"
   ]
  },
  {
   "cell_type": "code",
   "execution_count": null,
   "id": "9cd2c4d0-30ea-4a2a-af4a-99d19f2275fb",
   "metadata": {},
   "outputs": [],
   "source": [
    "print(clean_data.shape)\n",
    "clean_channels.shape"
   ]
  },
  {
   "cell_type": "markdown",
   "id": "5965347f-2873-44a7-a456-558d0644be34",
   "metadata": {},
   "source": [
    "# Channels\n"
   ]
  },
  {
   "cell_type": "raw",
   "id": "6b5aac7d-30c7-4e7b-b0d6-0c66753b0f52",
   "metadata": {},
   "source": [
    "def select_channels(snirf, good_channels, hbo = 'HbO'):\n",
    "    channel_names = [x['ch_name'] for x in snirf.info['chs']]\n",
    "    out = []\n",
    "    for i, name in enumerate(channel_names):\n",
    "        if name[:9] in good_channels and hbo in name:\n",
    "            out.append(i)\n",
    "    out = np.array(out)\n",
    "    return out"
   ]
  },
  {
   "cell_type": "raw",
   "id": "de4ed2a8-d9d6-4cb0-ba0a-4eea0eae3e7d",
   "metadata": {},
   "source": [
    "motor_nodes_right = give_channels()\n",
    "motor_channels_right = select_channels(snirf, motor_nodes_right)"
   ]
  },
  {
   "cell_type": "raw",
   "id": "534da71b-7778-4a64-a1f8-1d4a0ac9d7a0",
   "metadata": {},
   "source": [
    "motor_channels_right.shape"
   ]
  },
  {
   "cell_type": "raw",
   "id": "9e7932a2-fc73-421c-906d-8a9068466b03",
   "metadata": {},
   "source": [
    "data = data[motor_channels_right]"
   ]
  },
  {
   "cell_type": "raw",
   "id": "4923aad9-848f-4b4b-abcb-56a3e0f2f872",
   "metadata": {},
   "source": [
    "data.shape"
   ]
  },
  {
   "attachments": {
    "72a7e821-2fb5-4a74-b226-cef95ad651c9.png": {
     "image/png": "[encoded data removed]"
    }
   },
   "cell_type": "raw",
   "id": "ece505c0-43f6-425d-b5d7-e933d32e3d5f",
   "metadata": {},
   "source": [
    "![download.png](attachment:72a7e821-2fb5-4a74-b226-cef95ad651c9.png)# Butterfly"
   ]
  },
  {
   "cell_type": "raw",
   "id": "44f22ae6-a81a-4705-8342-72fa77bbd164",
   "metadata": {},
   "source": [
    "plt.plot(data[:]);"
   ]
  },
  {
   "cell_type": "raw",
   "id": "cd55b94e-8746-4421-9fe9-da41acf2b178",
   "metadata": {},
   "source": [
    "clean_data = data[np.sum(np.isnan(data), axis=1) == 0]"
   ]
  },
  {
   "cell_type": "raw",
   "id": "111c6a5a-5e3e-43f3-81ca-3b2f2f5cbc7e",
   "metadata": {},
   "source": [
    "clean_data.shape"
   ]
  },
  {
   "cell_type": "markdown",
   "id": "e010a202-e2ad-4488-86cc-6b2aa9c13296",
   "metadata": {},
   "source": [
    "# Plot"
   ]
  },
  {
   "cell_type": "code",
   "execution_count": null,
   "id": "8e207962-172d-4389-b26a-43f22336bb86",
   "metadata": {},
   "outputs": [],
   "source": []
  },
  {
   "cell_type": "code",
   "execution_count": null,
   "id": "55feffe8-67ee-4a21-9e75-2fbbdba2ecd0",
   "metadata": {},
   "outputs": [],
   "source": [
    "def get_duration(events):\n",
    "    duration = events[events['Duration'].round() >0].Duration.min().round().astype(int)\n",
    "    return duration"
   ]
  },
  {
   "cell_type": "code",
   "execution_count": null,
   "id": "7be392d1-9886-4a2a-853a-a3cf9eb3da91",
   "metadata": {},
   "outputs": [],
   "source": [
    "def get_start_indexes(events, sampling_rate):\n",
    "    start_indexes = (events.Timestamp.values*sampling_rate).round().astype(int)\n",
    "    return start_indexes"
   ]
  },
  {
   "cell_type": "code",
   "execution_count": null,
   "id": "1d2b385a-225b-4972-ac91-d56bd6fa9511",
   "metadata": {},
   "outputs": [],
   "source": [
    "def get_events_start_block(events, label):\n",
    "    if label == 'Rest':\n",
    "        events = events[(events.Duration > 2) & (events.Event == 'StartRest')]\n",
    "    else:\n",
    "        events = events[(events.BlockType == label) & (events.Event == 'StartBlock')]\n",
    "    return events"
   ]
  },
  {
   "cell_type": "code",
   "execution_count": null,
   "id": "4c180b5f-711e-4ef4-abd2-d25ff66fdb14",
   "metadata": {},
   "outputs": [],
   "source": [
    "def get_data(all_data, start_indexes, duration):\n",
    "    tmp = [all_data[:, start_index:start_index + (duration*sampling_rate).round().astype(int)] for start_index in start_indexes]\n",
    "    # print([np.shape(t) for t in tmp])\n",
    "    data = np.array(tmp)\n",
    "    return data"
   ]
  },
  {
   "cell_type": "code",
   "execution_count": null,
   "id": "236f15e4-9aaa-4590-8317-ce5be46f94c9",
   "metadata": {},
   "outputs": [],
   "source": [
    "def get_data_avg(data):\n",
    "    data_avg = np.mean(data, axis=0)\n",
    "    return data_avg"
   ]
  },
  {
   "cell_type": "code",
   "execution_count": null,
   "id": "bd9afd28-a000-486c-9e34-2f46edc05d0f",
   "metadata": {},
   "outputs": [],
   "source": [
    "def _plot(snirf, data, duration):\n",
    "    times = range(duration)\n",
    "    channel_names = [x['ch_name'] for x in snirf.info['chs']]\n",
    "    is_hbo = np.array([1 if channel_name.endswith(\n",
    "       'HbO') else 0 for channel_name in channel_names], dtype=bool)\n",
    "    channel_locations_3d = [x['loc'][:3] for x in snirf.info['chs']]\n",
    "\n",
    "    _, ax = plt.subplots(ncols=2, figsize=(10, 5))\n",
    "    ax[0].pcolor(times, np.arange(np.sum(is_hbo)), data[is_hbo, :], shading='nearest')\n",
    "    ax[0].set_title('HbO')\n",
    "    ax[0].set_xlabel('Time [s]')\n",
    "    ax[0].set_ylabel('Channel number')\n",
    "    ax[1].pcolor(times, np.arange(np.sum(~is_hbo)),\n",
    "                data[~is_hbo, :], shading='nearest')\n",
    "    ax[1].set_title('HbR')\n",
    "    ax[1].set_xlabel('Time [s]')\n",
    "    # plt.show() "
   ]
  },
  {
   "cell_type": "code",
   "execution_count": null,
   "id": "d7ce8001-6044-4fc8-a949-95b4f8a66aa1",
   "metadata": {},
   "outputs": [],
   "source": [
    "def plot(snirf, all_data, all_events, sampling_rate, label):\n",
    "    events = get_events_start_block(all_events, label)\n",
    "    duration = get_duration(events) \n",
    "    start_indexes = get_start_indexes(events, sampling_rate)\n",
    "    data = get_data(all_data, start_indexes, duration)\n",
    "    data_avg = get_data_avg(data)\n",
    "    plt.pcolor( data_avg, shading='auto', cmap='binary')\n",
    "    # _plot(snirf, data_avg, duration)\n",
    "    return data, data_avg"
   ]
  },
  {
   "cell_type": "code",
   "execution_count": null,
   "id": "bcc40eb1-caf7-4ed1-9d43-0fb3306bfa4c",
   "metadata": {},
   "outputs": [],
   "source": [
    "np.linspace(0, 10, 20)"
   ]
  },
  {
   "cell_type": "code",
   "execution_count": null,
   "id": "d323cc6d-f68b-44a2-9ab2-e94313d66426",
   "metadata": {},
   "outputs": [],
   "source": [
    "sampling_rate = snirf.info['sfreq']  #7.14 #8.26 #7.14"
   ]
  },
  {
   "cell_type": "code",
   "execution_count": null,
   "id": "4fc8ec66-a770-45bd-8320-fe83e09aba84",
   "metadata": {},
   "outputs": [],
   "source": [
    "data_right, data_avg_right = plot(snirf, clean_data, events, sampling_rate, 'Right')"
   ]
  },
  {
   "cell_type": "code",
   "execution_count": null,
   "id": "977acaea-461e-4d14-b20e-d46383954d3c",
   "metadata": {},
   "outputs": [],
   "source": [
    "data_left, data_avg_left = plot(snirf, clean_data, events, sampling_rate, 'Left')"
   ]
  },
  {
   "cell_type": "code",
   "execution_count": null,
   "id": "caea6cb0-0fe6-42ec-8c23-4fecb06e61cf",
   "metadata": {},
   "outputs": [],
   "source": [
    "data_rest, data_avg_rest = plot(snirf, clean_data, events, sampling_rate, 'Rest')"
   ]
  },
  {
   "cell_type": "code",
   "execution_count": null,
   "id": "1692ff74-e791-4e9a-adb0-931ee7cadd86",
   "metadata": {},
   "outputs": [],
   "source": [
    "clean_channels[:10]"
   ]
  },
  {
   "cell_type": "code",
   "execution_count": null,
   "id": "7cec2177-1c8f-4e79-8e0e-19abfb60cb95",
   "metadata": {},
   "outputs": [],
   "source": [
    "def find_channels(start, channels, o2):\n",
    "    out = [ch for ch in channels if ch.startswith(start) and ch.endswith(o2) ]\n",
    "    out = np.array(out)\n",
    "    return out\n",
    "def find_channel_indexes(channels, filt):\n",
    "    out = [i for i, ch in enumerate(channels) if ch in filt]\n",
    "    out = np.array(out)\n",
    "    return out\n",
    "def pick(start, channels, o2):\n",
    "    tmp = find_channels(start,channels, o2)\n",
    "    indexes = find_channel_indexes(channels, tmp)\n",
    "    return indexes"
   ]
  },
  {
   "cell_type": "code",
   "execution_count": null,
   "id": "397b37f4-0ff0-47ec-81a0-19c90ca47dc1",
   "metadata": {},
   "outputs": [],
   "source": [
    "def find_channels(start, channels, o2):\n",
    "    out = [ch for ch in channels if ch.startswith(start) and ch.endswith(o2) ]\n",
    "    out = np.array(out)\n",
    "    return out"
   ]
  },
  {
   "cell_type": "code",
   "execution_count": null,
   "id": "81c1a325-4317-4304-b35f-c1a2714c3002",
   "metadata": {},
   "outputs": [],
   "source": [
    "def find_channel_indexes(channels, filt):\n",
    "    out = [i for i, ch in enumerate(channels) if ch in filt]\n",
    "    out = np.array(out)\n",
    "    return out"
   ]
  },
  {
   "cell_type": "code",
   "execution_count": null,
   "id": "8227845a-5fca-46a8-bc11-c5987fbf0aee",
   "metadata": {},
   "outputs": [],
   "source": [
    "def pick(start, channels, o2):\n",
    "    tmp = find_channels(start,channels, o2)\n",
    "    indexes = find_channel_indexes(channels, tmp)\n",
    "    return indexes"
   ]
  },
  {
   "cell_type": "code",
   "execution_count": null,
   "id": "ba65f227-d938-4d04-a9b5-76626c0cccda",
   "metadata": {},
   "outputs": [],
   "source": [
    "def pick_data(data, picks):\n",
    "    data_pick = data[picks, :]\n",
    "    return data_pick"
   ]
  },
  {
   "cell_type": "code",
   "execution_count": null,
   "id": "ce2b9b0d-d50e-4c9e-8f7b-31e48df49860",
   "metadata": {},
   "outputs": [],
   "source": [
    "def plot_signal(signal, label, sigma = 5):\n",
    "    signal_filtered = gaussian_filter1d(signal, sigma)\n",
    "    plt.plot(signal_filtered, label=label)\n",
    "    plt.xticks(np.linspace(0, len(signal), 10), (np.linspace(0, len(signal), 10)/7.14).round().astype(int) - 5)\n",
    "    plt.axvline(x=int(5*7.14))\n",
    "    plt.axhline(y=0)\n",
    "    plt.fill_betweenx(y=np.linspace(np.min(signal), np.max(signal), 100), x1=int(5*7.14), x2=int(20*7.14), alpha=.5)\n",
    "    plt.legend()"
   ]
  },
  {
   "cell_type": "code",
   "execution_count": null,
   "id": "07270a94-dd7b-42b4-99b4-ee2720f6c1f7",
   "metadata": {},
   "outputs": [],
   "source": [
    "np.linspace(-1, 1, 10)"
   ]
  },
  {
   "cell_type": "code",
   "execution_count": null,
   "id": "093178a3-aa14-4711-bd2e-ed44f42d2831",
   "metadata": {},
   "outputs": [],
   "source": [
    "def plot_signal_pick(data, picks, label):\n",
    "    data_pick = data[picks, :]\n",
    "    data_avg = np.mean(data_pick, axis=0)\n",
    "    plot_signal(data_avg, label)"
   ]
  },
  {
   "cell_type": "code",
   "execution_count": null,
   "id": "59d56cdb-be4f-4cc3-80aa-dfb9c42135b5",
   "metadata": {},
   "outputs": [],
   "source": [
    "np.vstack((snirf_1.data_avg_right, snirf_2.data_avg_right)).shape"
   ]
  },
  {
   "cell_type": "code",
   "execution_count": null,
   "id": "35a3fc6a-55ed-4a54-a6f3-8e5787770e41",
   "metadata": {},
   "outputs": [],
   "source": [
    "pick_o = pick('S21', clean_channels, 'HbO')\n",
    "pick_r = pick('S21', clean_channels, 'HbR')\n",
    "pick_00 = pick('S00', clean_channels, 'HbO')"
   ]
  },
  {
   "cell_type": "code",
   "execution_count": null,
   "id": "0efd35d1-da51-4bba-9bf0-59091aa9cce5",
   "metadata": {},
   "outputs": [],
   "source": [
    "pick_o_20 = pick('S20', clean_channels, 'HbO')"
   ]
  },
  {
   "cell_type": "code",
   "execution_count": null,
   "id": "cb995e95-8f1f-4d97-a0f1-1c22f5bb1fcc",
   "metadata": {},
   "outputs": [],
   "source": [
    "snirf_1.data"
   ]
  },
  {
   "cell_type": "code",
   "execution_count": null,
   "id": "399c1500-6784-4dc5-9d24-ba6282ad4f06",
   "metadata": {},
   "outputs": [],
   "source": [
    "data_pick_right = pick_data(data_avg_right, pick_o)\n",
    "data_pick_right_r = pick_data(data_avg_right, pick_r)\n",
    "data_pick_left = pick_data(data_avg_left, pick_o)\n",
    "data_pick_left_r = pick_data(data_avg_left, pick_r)\n",
    "data_pick_rest = pick_data(data_avg_rest, pick_o)"
   ]
  },
  {
   "cell_type": "code",
   "execution_count": null,
   "id": "641dbe23-1fbe-484f-b5a3-1a018ae23bab",
   "metadata": {},
   "outputs": [],
   "source": [
    "plot_signal_pick(data_avg_left, pick_00, 'left')\n",
    "plot_signal_pick(data_avg_rest, pick_00, 'rest')\n",
    "plot_signal_pick(data_avg_right, pick_00, 'right')"
   ]
  },
  {
   "cell_type": "code",
   "execution_count": null,
   "id": "c8e7069d-526f-4128-a61c-bf717f27893f",
   "metadata": {},
   "outputs": [],
   "source": [
    "plot_signal_pick(data_avg_left, pick_o, 'left')\n",
    "plot_signal_pick(data_avg_rest, pick_o, 'rest')\n",
    "plot_signal_pick(data_avg_right, pick_o, 'right')"
   ]
  },
  {
   "cell_type": "code",
   "execution_count": null,
   "id": "a638ae7a-2759-49a9-88ab-ba562f5cbefc",
   "metadata": {},
   "outputs": [],
   "source": [
    "plot_signal_pick(data_avg_right, pick_o_20, '20')\n",
    "plot_signal_pick(data_avg_right, pick_o, '21')"
   ]
  },
  {
   "cell_type": "code",
   "execution_count": null,
   "id": "a803b313-388f-4d31-aaa2-57bec171aff6",
   "metadata": {},
   "outputs": [],
   "source": [
    "plot_signal_pick(data_avg_left, pick_o_20, '20')\n",
    "plot_signal_pick(data_avg_left, pick_o, '21')"
   ]
  },
  {
   "cell_type": "code",
   "execution_count": null,
   "id": "4fb0d9bc-2a6f-40ac-95a3-ac017a63965f",
   "metadata": {},
   "outputs": [],
   "source": [
    "plot_signal_pick(data_avg_right, pick_o, 'o')\n",
    "plot_signal_pick(data_avg_right, pick_r, 'r')"
   ]
  },
  {
   "cell_type": "code",
   "execution_count": null,
   "id": "b4a4b787-896d-4ddd-95f6-870063931ce0",
   "metadata": {},
   "outputs": [],
   "source": [
    "plot_signal_pick(data_avg_left, pick_o, 'o')\n",
    "plot_signal_pick(data_avg_left, pick_r, 'r')"
   ]
  },
  {
   "cell_type": "code",
   "execution_count": null,
   "id": "b6fa34ee-2968-4bd1-949c-1815e493c3c8",
   "metadata": {},
   "outputs": [],
   "source": [
    "plot_signal_pick(data_avg_right, pick_o, 'o')\n",
    "plot_signal_pick(data_avg_right, pick_r, 'r')"
   ]
  },
  {
   "cell_type": "code",
   "execution_count": null,
   "id": "b53caa19-4e8d-4549-a6db-01ce14799989",
   "metadata": {},
   "outputs": [],
   "source": [
    "plot_signal_pick(data_avg_right, pick_o, 'right')\n",
    "plot_signal_pick(data_avg_left, pick_o, 'left')"
   ]
  },
  {
   "cell_type": "code",
   "execution_count": null,
   "id": "aaea7771-370a-4a33-baee-10bbd9d45062",
   "metadata": {},
   "outputs": [],
   "source": [
    "plot_signal_pick(data_avg_left - data_avg_rest[:, :107] , pick_o, 'left')\n",
    "plot_signal_pick(data_avg_right - data_avg_rest[:, :np.shape(data_avg_right)[1]], pick_o, 'right')\n",
    "# plot_signal_pick(data_avg_rest[:, :107], pick_o, 'rest')"
   ]
  },
  {
   "cell_type": "code",
   "execution_count": null,
   "id": "1aa117ad-9acc-4256-bb25-affcf844a83a",
   "metadata": {},
   "outputs": [],
   "source": [
    "from scipy.stats import ttest_ind"
   ]
  },
  {
   "cell_type": "code",
   "execution_count": null,
   "id": "31fdaef2-6db0-412a-ae72-daff0607a9f8",
   "metadata": {},
   "outputs": [],
   "source": [
    "np.array([[1, 2, 3], [3, 4, 5]]).shape"
   ]
  },
  {
   "cell_type": "code",
   "execution_count": null,
   "id": "9c8abfde-a571-46a1-af8f-b9f040abac5a",
   "metadata": {},
   "outputs": [],
   "source": [
    "stats, p_values = ttest_ind(data_pick_left[:, :107], data_pick_right[:, :107], axis=1)"
   ]
  },
  {
   "cell_type": "code",
   "execution_count": null,
   "id": "e620450b-aabb-452c-a143-b7dd66885bab",
   "metadata": {},
   "outputs": [],
   "source": [
    "plt.bar(clean_channels[pick_o],  p_values)\n",
    "plt.xticks(rotation = -89)\n",
    "plt.show()"
   ]
  },
  {
   "cell_type": "code",
   "execution_count": null,
   "id": "c156a519-4845-4326-8449-15c5314c993b",
   "metadata": {},
   "outputs": [],
   "source": [
    "# plot_signal(np.mean(data_avg_left[indexes], axis=0), 'meh')"
   ]
  },
  {
   "cell_type": "code",
   "execution_count": null,
   "id": "e4dd6ab8-ad3f-432a-9938-3cf43ff9dfbe",
   "metadata": {},
   "outputs": [],
   "source": [
    "plt.plot(data_avg_right[0, :])\n",
    "plt.plot(data_avg_right[2, :])\n",
    "plt.xticks(np.linspace(0, len(data_avg_right[0, :]), 10), (np.linspace(0, len(data_avg_right[0, :]), 10)/sampling_rate).round().astype(int))\n",
    "plt.show()"
   ]
  },
  {
   "cell_type": "code",
   "execution_count": null,
   "id": "db9b8edd-6fe1-488c-930d-e2c71b65a37e",
   "metadata": {},
   "outputs": [],
   "source": [
    "print(data_right.shape)\n",
    "print(data_avg_right.shape)"
   ]
  },
  {
   "cell_type": "code",
   "execution_count": null,
   "id": "2ce4636f-4eaf-453b-8bf8-59d5dd905fce",
   "metadata": {},
   "outputs": [],
   "source": [
    "print(data_left.shape)\n",
    "print(data_avg_left.shape)"
   ]
  },
  {
   "cell_type": "code",
   "execution_count": null,
   "id": "15ec2dc3-7eca-4ee3-9039-dfcc0b86b872",
   "metadata": {},
   "outputs": [],
   "source": [
    "signal_right = np.mean(data_avg_right, axis = 0)\n",
    "signal_left = np.mean(data_avg_left, axis = 0)\n",
    "# signal_rest = np.mean(data_avg_rest, axis = 0)"
   ]
  },
  {
   "cell_type": "code",
   "execution_count": null,
   "id": "9306ecaf-df08-494b-844d-2c64f891d3b2",
   "metadata": {},
   "outputs": [],
   "source": [
    "plt.figure(figsize=(25, 10))\n",
    "plot_signal(signal_right, 'right')\n",
    "plot_signal(signal_left, 'left')\n",
    "# plot_signal(signal_rest, 'rest')\n",
    "# plt.legend()\n",
    "plt.show()"
   ]
  },
  {
   "cell_type": "code",
   "execution_count": null,
   "id": "974ea240-b035-4a24-bbb9-78b10d1cc331",
   "metadata": {},
   "outputs": [],
   "source": [
    "np.linspace(0, 10, 2)"
   ]
  },
  {
   "cell_type": "markdown",
   "id": "f4e256eb-8c92-44b4-bff3-7162372362bd",
   "metadata": {},
   "source": [
    "# Filter"
   ]
  },
  {
   "cell_type": "code",
   "execution_count": null,
   "id": "92ca9bd8-1483-4407-9299-59034569d105",
   "metadata": {},
   "outputs": [],
   "source": [
    "filtered_data = gaussian_filter1d(clean_data, 5, axis=1)"
   ]
  },
  {
   "cell_type": "code",
   "execution_count": null,
   "id": "bb046aad-7c48-41bb-bfc8-b1c7c12abe9d",
   "metadata": {},
   "outputs": [],
   "source": [
    "filtered_data.shape"
   ]
  },
  {
   "cell_type": "code",
   "execution_count": null,
   "id": "b986c00c-f66f-4a80-9117-51e175ec06f5",
   "metadata": {},
   "outputs": [],
   "source": []
  },
  {
   "cell_type": "code",
   "execution_count": null,
   "id": "edf83d13-535b-4618-9637-4e9042a303ef",
   "metadata": {},
   "outputs": [],
   "source": []
  },
  {
   "cell_type": "code",
   "execution_count": null,
   "id": "a69af66e-548e-4716-a26c-0f1275fe8711",
   "metadata": {},
   "outputs": [],
   "source": []
  },
  {
   "cell_type": "markdown",
   "id": "ed8662fb-519a-44cb-a8a1-b95709c6d5e2",
   "metadata": {},
   "source": [
    "# Classify"
   ]
  },
  {
   "cell_type": "code",
   "execution_count": null,
   "id": "a43e3ccb-a6a7-4d7c-a03a-3deeec08e3ef",
   "metadata": {},
   "outputs": [],
   "source": [
    "data_right_filt, data_avg_right_filt = plot(snirf, filtered_data, events, sampling_rate, 'Right')\n",
    "data_left_filt, data_avg_left_filt = plot(snirf, filtered_data, events, sampling_rate, 'Left')"
   ]
  },
  {
   "cell_type": "code",
   "execution_count": null,
   "id": "24115908-49f6-4f93-8fc7-427995e5438f",
   "metadata": {},
   "outputs": [],
   "source": [
    "data_right_filt.shape"
   ]
  },
  {
   "cell_type": "code",
   "execution_count": null,
   "id": "2446eed0-8551-40d8-a7fa-47bf75d52fa7",
   "metadata": {},
   "outputs": [],
   "source": [
    "def make_window(data, index, window_length):\n",
    "    wind = data[:, :, index: index+window_length]\n",
    "    return wind"
   ]
  },
  {
   "cell_type": "code",
   "execution_count": null,
   "id": "7d8d8e85-bed5-4c51-a1d1-8dd5648b02bf",
   "metadata": {},
   "outputs": [],
   "source": [
    "def window_to_feature(window):\n",
    "    [times, channels, points] = np.shape(window)\n",
    "    # features = np.ones((times, channels * 3))\n",
    "    _mean = np.mean(window, axis = 2)\n",
    "    _min = np.min(window, axis = 2)\n",
    "    _max = np.max(window, axis = 2)\n",
    "    features = np.hstack((_mean, _min, _max))\n",
    "    # features[:, 3:] = data[:]\n",
    "    return features"
   ]
  },
  {
   "cell_type": "code",
   "execution_count": null,
   "id": "ebeb276c-0766-4c52-8d9d-7fdfb8a54ba0",
   "metadata": {},
   "outputs": [],
   "source": [
    "def make_x_y(features):\n",
    "    shape = np.shape(features)\n",
    "    X = np.vstack(features)\n",
    "    y = np.hstack([(i+1) * np.ones(shape[1]) for i in range(len(features))])\n",
    "    return X, y"
   ]
  },
  {
   "cell_type": "code",
   "execution_count": null,
   "id": "d6054d7a-4760-4971-bc0a-121f7254fd4a",
   "metadata": {},
   "outputs": [],
   "source": [
    "def classify(X, y):\n",
    "    # clf = SVC(kernel='linear', C=1, random_state=42)\n",
    "    clf = MLPClassifier(random_state=1, max_iter=10000)\n",
    "    # clf = OneVsRestClassifier(SVC())#.fit(X, y)\n",
    "    scores = cross_val_score(clf, X, y, cv=5)\n",
    "    return scores"
   ]
  },
  {
   "cell_type": "code",
   "execution_count": null,
   "id": "dc14bfa9-79fa-4a71-a184-a65fef2f005a",
   "metadata": {},
   "outputs": [],
   "source": [
    "s_freq = snirf.info['sfreq']\n",
    "window_length = int(1 * s_freq)\n",
    "max_index = int(10 * s_freq)\n",
    "scores_all = np.zeros((max_index))\n",
    "picks_21 = pick('S21', clean_channels, 'HbO')\n",
    "picks_20 = pick('S20', clean_channels, 'HbO')\n",
    "picks_22 = pick('S22', clean_channels, 'HbO')\n",
    "picks = np.hstack(( picks_22))\n",
    "for i in range(max_index):\n",
    "    window_left = make_window(data_left_filt[:, picks, :], i, window_length)\n",
    "    window_right = make_window(data_right_filt[:, picks, :], i, window_length)\n",
    "    feature_left = window_to_feature(window_left)\n",
    "    feature_right = window_to_feature(window_right)\n",
    "    X, y = make_x_y([feature_left, feature_right])\n",
    "    scores = classify(X, y)\n",
    "    scores_all [i] = scores.mean()"
   ]
  },
  {
   "cell_type": "code",
   "execution_count": null,
   "id": "7ad0b27b-fd32-4cf8-b028-f123c6cc0574",
   "metadata": {},
   "outputs": [],
   "source": [
    "plot_signal(scores_all, 'accuracy')"
   ]
  },
  {
   "cell_type": "code",
   "execution_count": null,
   "id": "f02375af-41f4-4be4-b7d2-3b9afe4d0fa1",
   "metadata": {},
   "outputs": [],
   "source": [
    "y"
   ]
  },
  {
   "cell_type": "code",
   "execution_count": null,
   "id": "195f19fb-a021-42f4-b9b9-44287e6c4bb6",
   "metadata": {},
   "outputs": [],
   "source": []
  },
  {
   "cell_type": "markdown",
   "id": "d07e9241-b0c5-4e4e-aa43-f359999c0018",
   "metadata": {},
   "source": [
    "# T Test"
   ]
  },
  {
   "cell_type": "code",
   "execution_count": null,
   "id": "036eb6ae-4eaa-4dcb-9755-19a3e1f1a219",
   "metadata": {},
   "outputs": [],
   "source": [
    "np.nanmean(data_right, axis= 2)"
   ]
  },
  {
   "cell_type": "code",
   "execution_count": null,
   "id": "eaf1b67b-00a9-479f-95cf-a41283f63273",
   "metadata": {},
   "outputs": [],
   "source": [
    "mean_time_right = np.nanmean(( data_right), axis = 2)\n",
    "mean_time_left = np.nanmean((data_left), axis = 2)"
   ]
  },
  {
   "cell_type": "code",
   "execution_count": null,
   "id": "75e854ad-a01d-4b87-99ce-87e2413b143b",
   "metadata": {},
   "outputs": [],
   "source": [
    "mean_time_right"
   ]
  },
  {
   "cell_type": "code",
   "execution_count": null,
   "id": "3ee0ed14-b030-487a-b312-f81d60ee530d",
   "metadata": {},
   "outputs": [],
   "source": [
    "mean_time_right = drop_nan(mean_time_right)\n",
    "mean_time_left = drop_nan(mean_time_left)"
   ]
  },
  {
   "cell_type": "code",
   "execution_count": null,
   "id": "7bb64b38-1d0a-4cc7-ba90-1d22b0af4554",
   "metadata": {},
   "outputs": [],
   "source": [
    "mean_time_left"
   ]
  },
  {
   "cell_type": "code",
   "execution_count": null,
   "id": "03f0a74f-b87c-4fe2-b81b-43e9fef8b138",
   "metadata": {},
   "outputs": [],
   "source": [
    "mean_chan_right = np.mean(mean_time_right, axis= 1)\n",
    "mean_chan_left = np.mean(mean_time_left, axis= 1)"
   ]
  },
  {
   "cell_type": "code",
   "execution_count": null,
   "id": "61af80a0-05f8-4bfa-863f-b2db4747d3df",
   "metadata": {},
   "outputs": [],
   "source": [
    "mean_chan_left"
   ]
  },
  {
   "cell_type": "code",
   "execution_count": null,
   "id": "5694b921-f49c-4275-82f1-d986b6da4960",
   "metadata": {},
   "outputs": [],
   "source": [
    "from scipy.stats import ttest_ind"
   ]
  },
  {
   "cell_type": "code",
   "execution_count": null,
   "id": "83a8849b-52f3-4bff-90cb-48db25ceca23",
   "metadata": {},
   "outputs": [],
   "source": [
    "ttest_ind(mean_chan_right, mean_chan_left)"
   ]
  },
  {
   "cell_type": "code",
   "execution_count": null,
   "id": "25a5aa47-97f6-4646-80c9-50fed2b1c615",
   "metadata": {},
   "outputs": [],
   "source": [
    "mean_chan_left.shape"
   ]
  },
  {
   "cell_type": "code",
   "execution_count": null,
   "id": "487d64c6-112e-4063-b4db-33838a014b2f",
   "metadata": {},
   "outputs": [],
   "source": [
    "def drop_nan(data):\n",
    "    clean = data[np.sum(np.isnan(data), axis=1) == 0]\n",
    "    return clean"
   ]
  },
  {
   "cell_type": "code",
   "execution_count": null,
   "id": "9d75f166-bbef-4db0-b062-84ab5722b54f",
   "metadata": {},
   "outputs": [],
   "source": [
    "tmp = np.mean(drop_nan(data_avg_rest), axis = 0)"
   ]
  },
  {
   "cell_type": "code",
   "execution_count": null,
   "id": "43cb3688-fb83-4f2f-b6e4-6c6576f1eaf9",
   "metadata": {},
   "outputs": [],
   "source": [
    "plt.plot((np.mean(drop_nan(data_avg_left), axis=0) ), label='Left')\n",
    "plt.plot((np.mean(drop_nan(data_avg_right), axis= 0)), label='Right')\n",
    "plt.plot(np.mean(drop_nan(data_avg_rest), axis = 0) , label='Rest')\n",
    "plt.legend()\n",
    "plt.title('Both')\n",
    "plt.show()"
   ]
  },
  {
   "cell_type": "code",
   "execution_count": null,
   "id": "9b9efe82-fb92-4600-8b43-7b1b5550c702",
   "metadata": {},
   "outputs": [],
   "source": [
    "channel_names = [x['ch_name'] for x in snirf.info['chs']]\n",
    "is_hbo = np.array([1 if channel_name.endswith(\n",
    "       'HbO') else 0 for channel_name in channel_names], dtype=bool)"
   ]
  },
  {
   "cell_type": "code",
   "execution_count": null,
   "id": "4acbb846-a38d-4c47-80db-0a69fbe46d75",
   "metadata": {},
   "outputs": [],
   "source": [
    "plt.plot(np.mean(drop_nan(data_avg_left[is_hbo]), axis=0), label='Left')\n",
    "plt.plot(np.mean(drop_nan(data_avg_right[is_hbo]), axis= 0), label='Right')\n",
    "plt.plot(np.mean(drop_nan(data_avg_rest[is_hbo]), axis = 0), label='Rest')\n",
    "plt.legend()\n",
    "plt.title('HBO')\n",
    "plt.show()"
   ]
  },
  {
   "cell_type": "code",
   "execution_count": null,
   "id": "0d911419-810d-4308-96a5-11f5eae910ef",
   "metadata": {},
   "outputs": [],
   "source": [
    "plt.plot(np.mean(drop_nan(data_avg_left[~is_hbo]), axis=0), label='Left')\n",
    "plt.plot(np.mean(drop_nan(data_avg_right[~is_hbo]), axis= 0), label='Right')\n",
    "plt.plot(np.mean(drop_nan(data_avg_rest[~is_hbo]), axis = 0), label='Rest')\n",
    "plt.legend()\n",
    "plt.title('HBR')\n",
    "plt.show()"
   ]
  },
  {
   "cell_type": "code",
   "execution_count": null,
   "id": "fe4e331d-b9f1-49c1-b1f1-1b8be2778cc2",
   "metadata": {},
   "outputs": [],
   "source": [
    "np.mean(data_avg_left, axis=0)"
   ]
  },
  {
   "cell_type": "code",
   "execution_count": null,
   "id": "6566dbcd-1c46-4327-ada1-6ae15e02c382",
   "metadata": {},
   "outputs": [],
   "source": [
    "duration_right = get_duration(events_right)\n",
    "start_index_right = get_start_indexes(events_right, 8.26)"
   ]
  },
  {
   "cell_type": "code",
   "execution_count": null,
   "id": "21e5e567-656f-41d6-b707-78867dba64e1",
   "metadata": {},
   "outputs": [],
   "source": [
    "data_right = np.array([data[:, start_index:start_index + duration_right] for start_index in start_index_right])"
   ]
  },
  {
   "cell_type": "code",
   "execution_count": null,
   "id": "c3cbb430-f50c-4456-8f9f-54f36949c8fd",
   "metadata": {},
   "outputs": [],
   "source": [
    "data_right_avg = np.mean(data_right, axis=0)"
   ]
  },
  {
   "cell_type": "code",
   "execution_count": null,
   "id": "0d0384fc-ecab-44b0-8d6c-c7e459c3d324",
   "metadata": {},
   "outputs": [],
   "source": [
    "plot(snirf, data_right_avg, duration_right)"
   ]
  },
  {
   "cell_type": "code",
   "execution_count": null,
   "id": "71c729c2-28a1-4906-bfc6-80d087153ee2",
   "metadata": {},
   "outputs": [],
   "source": []
  }
 ],
 "metadata": {
  "kernelspec": {
   "display_name": "Python 3 (ipykernel)",
   "language": "python",
   "name": "python3"
  },
  "language_info": {
   "codemirror_mode": {
    "name": "ipython",
    "version": 3
   },
   "file_extension": ".py",
   "mimetype": "text/x-python",
   "name": "python",
   "nbconvert_exporter": "python",
   "pygments_lexer": "ipython3",
   "version": "3.8.10"
  }
 },
 "nbformat": 4,
 "nbformat_minor": 5
}
